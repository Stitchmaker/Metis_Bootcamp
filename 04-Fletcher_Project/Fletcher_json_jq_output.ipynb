{
 "cells": [
  {
   "cell_type": "markdown",
   "metadata": {},
   "source": [
    "## Fletcher Collect Data\n",
    "\n",
    "Data was pulled from the NY Times API using requests.\n",
    "\n",
    "The data came down as json files.\n",
    "\n",
    "The json was parsed using jq to pull the relevent data from the json file."
   ]
  },
  {
   "cell_type": "code",
   "execution_count": 2,
   "metadata": {
    "ExecuteTime": {
     "end_time": "2018-11-16T23:17:52.416584Z",
     "start_time": "2018-11-16T23:17:52.165337Z"
    }
   },
   "outputs": [],
   "source": [
    "import requests\n",
    "import pyjq\n",
    "import datetime\n",
    "from dateutil.rrule import rrule, MONTHLY\n",
    "import pickle"
   ]
  },
  {
   "cell_type": "code",
   "execution_count": 11,
   "metadata": {
    "ExecuteTime": {
     "end_time": "2018-11-16T23:37:19.586814Z",
     "start_time": "2018-11-16T23:37:19.583479Z"
    }
   },
   "outputs": [],
   "source": [
    "# create a list of (year,month) pairs for the data\n",
    "\n",
    "start_dt = datetime.date(2015,1,1)\n",
    "end_dt = datetime.date(2018,11,16)\n",
    "#start_dt = datetime.date(2018,1,1)\n",
    "#end_dt = datetime.date(2018,1,1)\n",
    "\n",
    "dates = [(dt.year,dt.month) for dt in rrule(MONTHLY, dtstart=start_dt, until=end_dt)]\n"
   ]
  },
  {
   "cell_type": "code",
   "execution_count": 12,
   "metadata": {
    "ExecuteTime": {
     "end_time": "2018-11-16T23:43:29.505773Z",
     "start_time": "2018-11-16T23:37:20.907565Z"
    }
   },
   "outputs": [
    {
     "name": "stdout",
     "output_type": "stream",
     "text": [
      "For month 1 in 2015 there were 8252 articles\n",
      "For month 2 in 2015 there were 7561 articles\n",
      "For month 3 in 2015 there were 8397 articles\n",
      "For month 4 in 2015 there were 7768 articles\n",
      "For month 5 in 2015 there were 7973 articles\n",
      "For month 6 in 2015 there were 7888 articles\n",
      "For month 7 in 2015 there were 7893 articles\n",
      "For month 8 in 2015 there were 7435 articles\n",
      "For month 9 in 2015 there were 8273 articles\n",
      "For month 10 in 2015 there were 8499 articles\n",
      "For month 11 in 2015 there were 7777 articles\n",
      "For month 12 in 2015 there were 7582 articles\n",
      "For month 1 in 2016 there were 7644 articles\n",
      "For month 2 in 2016 there were 7297 articles\n",
      "For month 3 in 2016 there were 7502 articles\n",
      "For month 4 in 2016 there were 6699 articles\n",
      "For month 5 in 2016 there were 6802 articles\n",
      "For month 6 in 2016 there were 6640 articles\n",
      "For month 7 in 2016 there were 6120 articles\n",
      "For month 8 in 2016 there were 5268 articles\n",
      "For month 9 in 2016 there were 5904 articles\n",
      "For month 10 in 2016 there were 5792 articles\n",
      "For month 11 in 2016 there were 5418 articles\n",
      "For month 12 in 2016 there were 5073 articles\n",
      "For month 1 in 2017 there were 5205 articles\n",
      "For month 2 in 2017 there were 5024 articles\n",
      "For month 3 in 2017 there were 5650 articles\n",
      "For month 4 in 2017 there were 4979 articles\n",
      "For month 5 in 2017 there were 5337 articles\n",
      "For month 6 in 2017 there were 5356 articles\n",
      "For month 7 in 2017 there were 4828 articles\n",
      "For month 8 in 2017 there were 4935 articles\n",
      "For month 9 in 2017 there were 5094 articles\n",
      "For month 10 in 2017 there were 5248 articles\n",
      "For month 11 in 2017 there were 4895 articles\n",
      "For month 12 in 2017 there were 2791 articles\n",
      "For month 1 in 2018 there were 4808 articles\n",
      "For month 2 in 2018 there were 4577 articles\n",
      "For month 3 in 2018 there were 5053 articles\n",
      "For month 4 in 2018 there were 4671 articles\n",
      "For month 5 in 2018 there were 5132 articles\n",
      "For month 6 in 2018 there were 5045 articles\n",
      "For month 7 in 2018 there were 4535 articles\n",
      "For month 8 in 2018 there were 4609 articles\n",
      "For month 9 in 2018 there were 4923 articles\n",
      "For month 10 in 2018 there were 5168 articles\n",
      "For month 11 in 2018 there were 2670 articles\n"
     ]
    }
   ],
   "source": [
    "# loop through the (year,month) pairs, pull the json file from NY Times, extract the desired data\n",
    "all_output = []\n",
    "for year,month in dates:\n",
    "    this_url = f'https://api.nytimes.com/svc/archive/v1/{year}/{month}.json?&api-key=6a6c043c723548a98eafc5b624317cac'\n",
    "    r = requests.get(this_url)\n",
    "    summary_data = r.json()\n",
    "    \n",
    "    length = pyjq.all('.response .docs | length',summary_data)[0]\n",
    "    print(f'For month {month} in {year} there were {length} articles')\n",
    "\n",
    "#    jq_query = f'.response .docs [] | {{snippet: .snippet, headline: .headline .main, date: .pub_date}}'\n",
    "    jq_query = f'.response .docs [] | {{snippet: .snippet, headline: .headline .main, news_desk: .news_desk, news_desk: .new_desk, date: .pub_date}}'\n",
    "    output = pyjq.all(jq_query,summary_data)\n",
    "    all_output.append([f'{year}{month:02}',output])"
   ]
  },
  {
   "cell_type": "code",
   "execution_count": 13,
   "metadata": {
    "ExecuteTime": {
     "end_time": "2018-11-16T23:44:37.153531Z",
     "start_time": "2018-11-16T23:44:35.890836Z"
    }
   },
   "outputs": [],
   "source": [
    "# write data to pickle file\n",
    "with open('data/all_output_newsdesk1.pkl', 'wb') as fp:\n",
    "    pickle.dump(all_output, fp)"
   ]
  }
 ],
 "metadata": {
  "kernelspec": {
   "display_name": "Python 3",
   "language": "python",
   "name": "python3"
  },
  "language_info": {
   "codemirror_mode": {
    "name": "ipython",
    "version": 3
   },
   "file_extension": ".py",
   "mimetype": "text/x-python",
   "name": "python",
   "nbconvert_exporter": "python",
   "pygments_lexer": "ipython3",
   "version": "3.6.5"
  }
 },
 "nbformat": 4,
 "nbformat_minor": 2
}
