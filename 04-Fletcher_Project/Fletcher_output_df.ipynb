{
 "cells": [
  {
   "cell_type": "markdown",
   "metadata": {},
   "source": [
    "## Output to DataFrame   \n",
    "\n",
    "Take the data pulled from the NY Times web site and put in dataframe for analysis"
   ]
  },
  {
   "cell_type": "code",
   "execution_count": 1,
   "metadata": {
    "ExecuteTime": {
     "end_time": "2018-11-16T23:47:10.259338Z",
     "start_time": "2018-11-16T23:47:09.690144Z"
    }
   },
   "outputs": [],
   "source": [
    "import pickle\n",
    "import datetime\n",
    "from dateutil.parser import parse\n",
    "\n",
    "import pandas as pd"
   ]
  },
  {
   "cell_type": "code",
   "execution_count": 2,
   "metadata": {
    "ExecuteTime": {
     "end_time": "2018-11-16T23:47:17.636360Z",
     "start_time": "2018-11-16T23:47:16.717405Z"
    }
   },
   "outputs": [],
   "source": [
    "# read data from pickle file\n",
    "#with open ('all_output.pkl', 'rb') as fp:\n",
    "with open ('data/all_output_newsdesk1.pkl', 'rb') as fp:\n",
    "    all_output = pickle.load(fp)"
   ]
  },
  {
   "cell_type": "markdown",
   "metadata": {},
   "source": [
    "## Create initial DataFrame"
   ]
  },
  {
   "cell_type": "code",
   "execution_count": 5,
   "metadata": {
    "ExecuteTime": {
     "end_time": "2018-11-17T05:33:26.706374Z",
     "start_time": "2018-11-16T23:48:12.885572Z"
    }
   },
   "outputs": [
    {
     "name": "stdout",
     "output_type": "stream",
     "text": [
      "For month 01 in 2015 there were 8252 articles\n"
     ]
    },
    {
     "name": "stderr",
     "output_type": "stream",
     "text": [
      "/anaconda3/lib/python3.6/site-packages/ipykernel_launcher.py:18: FutureWarning: Sorting because non-concatenation axis is not aligned. A future version\n",
      "of pandas will change to not sort by default.\n",
      "\n",
      "To accept the future behavior, pass 'sort=True'.\n",
      "\n",
      "To retain the current behavior and silence the warning, pass sort=False\n",
      "\n"
     ]
    },
    {
     "name": "stdout",
     "output_type": "stream",
     "text": [
      "For month 02 in 2015 there were 7561 articles\n",
      "For month 03 in 2015 there were 8397 articles\n",
      "For month 04 in 2015 there were 7768 articles\n",
      "For month 05 in 2015 there were 7973 articles\n",
      "For month 06 in 2015 there were 7888 articles\n",
      "For month 07 in 2015 there were 7893 articles\n",
      "For month 08 in 2015 there were 7435 articles\n",
      "For month 09 in 2015 there were 8273 articles\n",
      "For month 10 in 2015 there were 8499 articles\n",
      "For month 11 in 2015 there were 7777 articles\n",
      "For month 12 in 2015 there were 7582 articles\n",
      "For month 01 in 2016 there were 7644 articles\n",
      "For month 02 in 2016 there were 7297 articles\n",
      "For month 03 in 2016 there were 7502 articles\n",
      "For month 04 in 2016 there were 6699 articles\n",
      "For month 05 in 2016 there were 6802 articles\n",
      "For month 06 in 2016 there were 6640 articles\n",
      "For month 07 in 2016 there were 6120 articles\n",
      "For month 08 in 2016 there were 5268 articles\n",
      "For month 09 in 2016 there were 5904 articles\n",
      "For month 10 in 2016 there were 5792 articles\n",
      "For month 11 in 2016 there were 5418 articles\n",
      "For month 12 in 2016 there were 5073 articles\n",
      "For month 01 in 2017 there were 5205 articles\n",
      "For month 02 in 2017 there were 5024 articles\n",
      "For month 03 in 2017 there were 5650 articles\n",
      "For month 04 in 2017 there were 4979 articles\n",
      "For month 05 in 2017 there were 5337 articles\n",
      "For month 06 in 2017 there were 5356 articles\n",
      "For month 07 in 2017 there were 4828 articles\n",
      "For month 08 in 2017 there were 4935 articles\n",
      "For month 09 in 2017 there were 5094 articles\n",
      "For month 10 in 2017 there were 5248 articles\n",
      "For month 11 in 2017 there were 4895 articles\n",
      "For month 12 in 2017 there were 2791 articles\n",
      "For month 01 in 2018 there were 4808 articles\n",
      "For month 02 in 2018 there were 4577 articles\n",
      "For month 03 in 2018 there were 5053 articles\n",
      "For month 04 in 2018 there were 4671 articles\n",
      "For month 05 in 2018 there were 5132 articles\n",
      "For month 06 in 2018 there were 5045 articles\n",
      "For month 07 in 2018 there were 4535 articles\n",
      "For month 08 in 2018 there were 4609 articles\n",
      "For month 09 in 2018 there were 4923 articles\n",
      "For month 10 in 2018 there were 5168 articles\n",
      "For month 11 in 2018 there were 2670 articles\n"
     ]
    }
   ],
   "source": [
    "# create a DataFrame \n",
    "\n",
    "df = pd.DataFrame(columns=['date','headline','snippet','news_desk'])\n",
    "\n",
    "for x in all_output:\n",
    "    print(f'For month {x[0][4:]} in {x[0][:4]} there were {len(x[1])} articles')\n",
    "    for i in range(len(x[1])):\n",
    "        row = x[1][i]\n",
    "        df1  = pd.DataFrame(data=row, index=[0])\n",
    "        df1.drop(columns=['date'],inplace=True)\n",
    "        date = parse(row['date'])\n",
    "        df1['date'] = date.date()\n",
    "        df = pd.concat([df, df1],ignore_index=True)\n",
    "\n",
    "#print(df)  "
   ]
  },
  {
   "cell_type": "code",
   "execution_count": 6,
   "metadata": {
    "ExecuteTime": {
     "end_time": "2018-11-17T05:33:26.743179Z",
     "start_time": "2018-11-17T05:33:26.708223Z"
    }
   },
   "outputs": [
    {
     "data": {
      "text/plain": [
       "array([None, 'Weekend', 'Science', 'Business', 'OpEd', 'Metro', 'NYTNow',\n",
       "       'BookReview', 'Movies', 'National', 'Sports', 'Arts&Leisure',\n",
       "       'U.S. / Politics', 'Editorial', 'Watching', 'Insider',\n",
       "       'Business Day / DealBook', 'Fashion & Style', 'Culture', 'TStyle',\n",
       "       'Styles', 'Fashion & Style / Men’s Style', 'T Magazine / Art',\n",
       "       \"Fashion & Style / Men's Runway\", 'Opinion', 'Foreign',\n",
       "       'Business Day', 'Dining', 'Food', 'T Magazine / Fashion & Beauty',\n",
       "       'Letters', 'Sports / Pro Football', 'Metropolitan',\n",
       "       'World / Australia', 'RealEstate', 'SundayBusiness',\n",
       "       'T Magazine / Entertainment', 'Times Insider',\n",
       "       'Fashion & Style / Weddings', 'Podcasts', 'Travel', 'Arts / Music',\n",
       "       'EdLife', 'Magazine', 'Learning', 'Corrections', 'Games',\n",
       "       'Summary', 'U.S.', 'Obituaries', 'Well', 'Blogs',\n",
       "       'World / Middle East', 'World / Europe', 'Real Estate', 'Upshot',\n",
       "       'Multimedia/Photos', 'Education / Education Life',\n",
       "       'World / Asia Pacific', 'World', 'Society', 'Investigative',\n",
       "       'N.Y. / Region', 'Style', 'Job Market', 'Technology', 'T Magazine',\n",
       "       'Well / Live', 'The Upshot', 'Health', 'World / Americas',\n",
       "       'The Learning Network', 'Science / Environment', 'Automobiles',\n",
       "       'Education', 'Books', 'Automobiles / New Cars', 'Universal',\n",
       "       'Arts', 'Crosswords & Games', 'Arts / Art & Design', 'Washington',\n",
       "       'Politics', 'World / Africa', 'Your Money', 'Climate',\n",
       "       'Science / Space & Cosmos', 'SpecialSections', 'Express',\n",
       "       'NewsDesk', 'SundayReview', 'Sunday Review', 'Obits',\n",
       "       'Sports / Golf', 'Business Day / Media', 'International Home',\n",
       "       'Arts / Dance', 'Slideshows', 'T Magazine / Travel',\n",
       "       \"Fashion & Style / Women's Runway\", 'Real Estate / Real Estate',\n",
       "       'Arts / Television', 'Smarter Living', 'Reader Center',\n",
       "       'Opinion / Contributors', 'Health / Money & Policy', 'Admin',\n",
       "       'NYTI', 'Theater', 'Business Day / Energy & Environment ',\n",
       "       'Opinion / Columnists', 'Test', 'Briefing', 'Video',\n",
       "       'U.S. / Elections', 'Well / Family', 'Photo', 'Guides',\n",
       "       'Sports / Baseball', 'Sports / Olympics', 'Homepage',\n",
       "       'N.Y. / Region / New York Today', 'New York'], dtype=object)"
      ]
     },
     "execution_count": 6,
     "metadata": {},
     "output_type": "execute_result"
    }
   ],
   "source": [
    "df.news_desk.unique()"
   ]
  },
  {
   "cell_type": "code",
   "execution_count": 7,
   "metadata": {
    "ExecuteTime": {
     "end_time": "2018-11-17T05:33:26.874619Z",
     "start_time": "2018-11-17T05:33:26.745381Z"
    }
   },
   "outputs": [
    {
     "data": {
      "text/html": [
       "<div>\n",
       "<style scoped>\n",
       "    .dataframe tbody tr th:only-of-type {\n",
       "        vertical-align: middle;\n",
       "    }\n",
       "\n",
       "    .dataframe tbody tr th {\n",
       "        vertical-align: top;\n",
       "    }\n",
       "\n",
       "    .dataframe thead th {\n",
       "        text-align: right;\n",
       "    }\n",
       "</style>\n",
       "<table border=\"1\" class=\"dataframe\">\n",
       "  <thead>\n",
       "    <tr style=\"text-align: right;\">\n",
       "      <th></th>\n",
       "      <th>date</th>\n",
       "      <th>headline</th>\n",
       "      <th>snippet</th>\n",
       "    </tr>\n",
       "    <tr>\n",
       "      <th>news_desk</th>\n",
       "      <th></th>\n",
       "      <th></th>\n",
       "      <th></th>\n",
       "    </tr>\n",
       "  </thead>\n",
       "  <tbody>\n",
       "    <tr>\n",
       "      <th>Admin</th>\n",
       "      <td>11</td>\n",
       "      <td>11</td>\n",
       "      <td>11</td>\n",
       "    </tr>\n",
       "    <tr>\n",
       "      <th>Arts</th>\n",
       "      <td>68</td>\n",
       "      <td>68</td>\n",
       "      <td>68</td>\n",
       "    </tr>\n",
       "    <tr>\n",
       "      <th>Arts / Art &amp; Design</th>\n",
       "      <td>4</td>\n",
       "      <td>4</td>\n",
       "      <td>4</td>\n",
       "    </tr>\n",
       "    <tr>\n",
       "      <th>Arts / Dance</th>\n",
       "      <td>1</td>\n",
       "      <td>1</td>\n",
       "      <td>1</td>\n",
       "    </tr>\n",
       "    <tr>\n",
       "      <th>Arts / Music</th>\n",
       "      <td>57</td>\n",
       "      <td>57</td>\n",
       "      <td>57</td>\n",
       "    </tr>\n",
       "    <tr>\n",
       "      <th>Arts / Television</th>\n",
       "      <td>8</td>\n",
       "      <td>8</td>\n",
       "      <td>8</td>\n",
       "    </tr>\n",
       "    <tr>\n",
       "      <th>Arts&amp;Leisure</th>\n",
       "      <td>734</td>\n",
       "      <td>734</td>\n",
       "      <td>734</td>\n",
       "    </tr>\n",
       "    <tr>\n",
       "      <th>Automobiles</th>\n",
       "      <td>4</td>\n",
       "      <td>4</td>\n",
       "      <td>4</td>\n",
       "    </tr>\n",
       "    <tr>\n",
       "      <th>Automobiles / New Cars</th>\n",
       "      <td>3</td>\n",
       "      <td>3</td>\n",
       "      <td>3</td>\n",
       "    </tr>\n",
       "    <tr>\n",
       "      <th>Blogs</th>\n",
       "      <td>119</td>\n",
       "      <td>119</td>\n",
       "      <td>119</td>\n",
       "    </tr>\n",
       "    <tr>\n",
       "      <th>BookReview</th>\n",
       "      <td>1390</td>\n",
       "      <td>1390</td>\n",
       "      <td>1390</td>\n",
       "    </tr>\n",
       "    <tr>\n",
       "      <th>Books</th>\n",
       "      <td>7</td>\n",
       "      <td>7</td>\n",
       "      <td>7</td>\n",
       "    </tr>\n",
       "    <tr>\n",
       "      <th>Briefing</th>\n",
       "      <td>25</td>\n",
       "      <td>25</td>\n",
       "      <td>25</td>\n",
       "    </tr>\n",
       "    <tr>\n",
       "      <th>Business</th>\n",
       "      <td>4253</td>\n",
       "      <td>4253</td>\n",
       "      <td>4253</td>\n",
       "    </tr>\n",
       "    <tr>\n",
       "      <th>Business Day</th>\n",
       "      <td>68</td>\n",
       "      <td>68</td>\n",
       "      <td>68</td>\n",
       "    </tr>\n",
       "    <tr>\n",
       "      <th>Business Day / DealBook</th>\n",
       "      <td>9</td>\n",
       "      <td>9</td>\n",
       "      <td>9</td>\n",
       "    </tr>\n",
       "    <tr>\n",
       "      <th>Business Day / Energy &amp; Environment</th>\n",
       "      <td>1</td>\n",
       "      <td>1</td>\n",
       "      <td>1</td>\n",
       "    </tr>\n",
       "    <tr>\n",
       "      <th>Business Day / Media</th>\n",
       "      <td>4</td>\n",
       "      <td>4</td>\n",
       "      <td>4</td>\n",
       "    </tr>\n",
       "    <tr>\n",
       "      <th>Climate</th>\n",
       "      <td>282</td>\n",
       "      <td>282</td>\n",
       "      <td>282</td>\n",
       "    </tr>\n",
       "    <tr>\n",
       "      <th>Corrections</th>\n",
       "      <td>310</td>\n",
       "      <td>310</td>\n",
       "      <td>310</td>\n",
       "    </tr>\n",
       "    <tr>\n",
       "      <th>Crosswords &amp; Games</th>\n",
       "      <td>5</td>\n",
       "      <td>5</td>\n",
       "      <td>5</td>\n",
       "    </tr>\n",
       "    <tr>\n",
       "      <th>Culture</th>\n",
       "      <td>4069</td>\n",
       "      <td>4069</td>\n",
       "      <td>4069</td>\n",
       "    </tr>\n",
       "    <tr>\n",
       "      <th>Dining</th>\n",
       "      <td>933</td>\n",
       "      <td>933</td>\n",
       "      <td>933</td>\n",
       "    </tr>\n",
       "    <tr>\n",
       "      <th>EdLife</th>\n",
       "      <td>38</td>\n",
       "      <td>38</td>\n",
       "      <td>38</td>\n",
       "    </tr>\n",
       "    <tr>\n",
       "      <th>Editorial</th>\n",
       "      <td>720</td>\n",
       "      <td>720</td>\n",
       "      <td>720</td>\n",
       "    </tr>\n",
       "    <tr>\n",
       "      <th>Education</th>\n",
       "      <td>4</td>\n",
       "      <td>4</td>\n",
       "      <td>4</td>\n",
       "    </tr>\n",
       "    <tr>\n",
       "      <th>Education / Education Life</th>\n",
       "      <td>3</td>\n",
       "      <td>3</td>\n",
       "      <td>3</td>\n",
       "    </tr>\n",
       "    <tr>\n",
       "      <th>Express</th>\n",
       "      <td>502</td>\n",
       "      <td>502</td>\n",
       "      <td>502</td>\n",
       "    </tr>\n",
       "    <tr>\n",
       "      <th>Fashion &amp; Style</th>\n",
       "      <td>607</td>\n",
       "      <td>607</td>\n",
       "      <td>607</td>\n",
       "    </tr>\n",
       "    <tr>\n",
       "      <th>Fashion &amp; Style / Men's Runway</th>\n",
       "      <td>17</td>\n",
       "      <td>17</td>\n",
       "      <td>17</td>\n",
       "    </tr>\n",
       "    <tr>\n",
       "      <th>...</th>\n",
       "      <td>...</td>\n",
       "      <td>...</td>\n",
       "      <td>...</td>\n",
       "    </tr>\n",
       "    <tr>\n",
       "      <th>T Magazine / Fashion &amp; Beauty</th>\n",
       "      <td>8</td>\n",
       "      <td>8</td>\n",
       "      <td>8</td>\n",
       "    </tr>\n",
       "    <tr>\n",
       "      <th>T Magazine / Travel</th>\n",
       "      <td>1</td>\n",
       "      <td>1</td>\n",
       "      <td>1</td>\n",
       "    </tr>\n",
       "    <tr>\n",
       "      <th>TStyle</th>\n",
       "      <td>590</td>\n",
       "      <td>590</td>\n",
       "      <td>590</td>\n",
       "    </tr>\n",
       "    <tr>\n",
       "      <th>Technology</th>\n",
       "      <td>38</td>\n",
       "      <td>38</td>\n",
       "      <td>38</td>\n",
       "    </tr>\n",
       "    <tr>\n",
       "      <th>Test</th>\n",
       "      <td>1</td>\n",
       "      <td>1</td>\n",
       "      <td>1</td>\n",
       "    </tr>\n",
       "    <tr>\n",
       "      <th>The Learning Network</th>\n",
       "      <td>65</td>\n",
       "      <td>65</td>\n",
       "      <td>65</td>\n",
       "    </tr>\n",
       "    <tr>\n",
       "      <th>The Upshot</th>\n",
       "      <td>91</td>\n",
       "      <td>91</td>\n",
       "      <td>91</td>\n",
       "    </tr>\n",
       "    <tr>\n",
       "      <th>Theater</th>\n",
       "      <td>3</td>\n",
       "      <td>3</td>\n",
       "      <td>3</td>\n",
       "    </tr>\n",
       "    <tr>\n",
       "      <th>Times Insider</th>\n",
       "      <td>13</td>\n",
       "      <td>13</td>\n",
       "      <td>13</td>\n",
       "    </tr>\n",
       "    <tr>\n",
       "      <th>Travel</th>\n",
       "      <td>728</td>\n",
       "      <td>728</td>\n",
       "      <td>728</td>\n",
       "    </tr>\n",
       "    <tr>\n",
       "      <th>U.S.</th>\n",
       "      <td>295</td>\n",
       "      <td>295</td>\n",
       "      <td>295</td>\n",
       "    </tr>\n",
       "    <tr>\n",
       "      <th>U.S. / Elections</th>\n",
       "      <td>6</td>\n",
       "      <td>6</td>\n",
       "      <td>6</td>\n",
       "    </tr>\n",
       "    <tr>\n",
       "      <th>U.S. / Politics</th>\n",
       "      <td>168</td>\n",
       "      <td>168</td>\n",
       "      <td>168</td>\n",
       "    </tr>\n",
       "    <tr>\n",
       "      <th>Universal</th>\n",
       "      <td>16</td>\n",
       "      <td>16</td>\n",
       "      <td>16</td>\n",
       "    </tr>\n",
       "    <tr>\n",
       "      <th>Upshot</th>\n",
       "      <td>255</td>\n",
       "      <td>255</td>\n",
       "      <td>255</td>\n",
       "    </tr>\n",
       "    <tr>\n",
       "      <th>Video</th>\n",
       "      <td>6</td>\n",
       "      <td>6</td>\n",
       "      <td>6</td>\n",
       "    </tr>\n",
       "    <tr>\n",
       "      <th>Washington</th>\n",
       "      <td>2306</td>\n",
       "      <td>2306</td>\n",
       "      <td>2306</td>\n",
       "    </tr>\n",
       "    <tr>\n",
       "      <th>Watching</th>\n",
       "      <td>276</td>\n",
       "      <td>276</td>\n",
       "      <td>276</td>\n",
       "    </tr>\n",
       "    <tr>\n",
       "      <th>Weekend</th>\n",
       "      <td>1627</td>\n",
       "      <td>1627</td>\n",
       "      <td>1627</td>\n",
       "    </tr>\n",
       "    <tr>\n",
       "      <th>Well</th>\n",
       "      <td>559</td>\n",
       "      <td>559</td>\n",
       "      <td>559</td>\n",
       "    </tr>\n",
       "    <tr>\n",
       "      <th>Well / Family</th>\n",
       "      <td>7</td>\n",
       "      <td>7</td>\n",
       "      <td>7</td>\n",
       "    </tr>\n",
       "    <tr>\n",
       "      <th>Well / Live</th>\n",
       "      <td>1</td>\n",
       "      <td>1</td>\n",
       "      <td>1</td>\n",
       "    </tr>\n",
       "    <tr>\n",
       "      <th>World</th>\n",
       "      <td>95</td>\n",
       "      <td>95</td>\n",
       "      <td>95</td>\n",
       "    </tr>\n",
       "    <tr>\n",
       "      <th>World / Africa</th>\n",
       "      <td>18</td>\n",
       "      <td>18</td>\n",
       "      <td>18</td>\n",
       "    </tr>\n",
       "    <tr>\n",
       "      <th>World / Americas</th>\n",
       "      <td>45</td>\n",
       "      <td>45</td>\n",
       "      <td>45</td>\n",
       "    </tr>\n",
       "    <tr>\n",
       "      <th>World / Asia Pacific</th>\n",
       "      <td>47</td>\n",
       "      <td>47</td>\n",
       "      <td>47</td>\n",
       "    </tr>\n",
       "    <tr>\n",
       "      <th>World / Australia</th>\n",
       "      <td>3</td>\n",
       "      <td>3</td>\n",
       "      <td>3</td>\n",
       "    </tr>\n",
       "    <tr>\n",
       "      <th>World / Europe</th>\n",
       "      <td>42</td>\n",
       "      <td>42</td>\n",
       "      <td>42</td>\n",
       "    </tr>\n",
       "    <tr>\n",
       "      <th>World / Middle East</th>\n",
       "      <td>42</td>\n",
       "      <td>42</td>\n",
       "      <td>42</td>\n",
       "    </tr>\n",
       "    <tr>\n",
       "      <th>Your Money</th>\n",
       "      <td>11</td>\n",
       "      <td>11</td>\n",
       "      <td>11</td>\n",
       "    </tr>\n",
       "  </tbody>\n",
       "</table>\n",
       "<p>122 rows × 3 columns</p>\n",
       "</div>"
      ],
      "text/plain": [
       "                                      date  headline  snippet\n",
       "news_desk                                                    \n",
       "Admin                                   11        11       11\n",
       "Arts                                    68        68       68\n",
       "Arts / Art & Design                      4         4        4\n",
       "Arts / Dance                             1         1        1\n",
       "Arts / Music                            57        57       57\n",
       "Arts / Television                        8         8        8\n",
       "Arts&Leisure                           734       734      734\n",
       "Automobiles                              4         4        4\n",
       "Automobiles / New Cars                   3         3        3\n",
       "Blogs                                  119       119      119\n",
       "BookReview                            1390      1390     1390\n",
       "Books                                    7         7        7\n",
       "Briefing                                25        25       25\n",
       "Business                              4253      4253     4253\n",
       "Business Day                            68        68       68\n",
       "Business Day / DealBook                  9         9        9\n",
       "Business Day / Energy & Environment      1         1        1\n",
       "Business Day / Media                     4         4        4\n",
       "Climate                                282       282      282\n",
       "Corrections                            310       310      310\n",
       "Crosswords & Games                       5         5        5\n",
       "Culture                               4069      4069     4069\n",
       "Dining                                 933       933      933\n",
       "EdLife                                  38        38       38\n",
       "Editorial                              720       720      720\n",
       "Education                                4         4        4\n",
       "Education / Education Life               3         3        3\n",
       "Express                                502       502      502\n",
       "Fashion & Style                        607       607      607\n",
       "Fashion & Style / Men's Runway          17        17       17\n",
       "...                                    ...       ...      ...\n",
       "T Magazine / Fashion & Beauty            8         8        8\n",
       "T Magazine / Travel                      1         1        1\n",
       "TStyle                                 590       590      590\n",
       "Technology                              38        38       38\n",
       "Test                                     1         1        1\n",
       "The Learning Network                    65        65       65\n",
       "The Upshot                              91        91       91\n",
       "Theater                                  3         3        3\n",
       "Times Insider                           13        13       13\n",
       "Travel                                 728       728      728\n",
       "U.S.                                   295       295      295\n",
       "U.S. / Elections                         6         6        6\n",
       "U.S. / Politics                        168       168      168\n",
       "Universal                               16        16       16\n",
       "Upshot                                 255       255      255\n",
       "Video                                    6         6        6\n",
       "Washington                            2306      2306     2306\n",
       "Watching                               276       276      276\n",
       "Weekend                               1627      1627     1627\n",
       "Well                                   559       559      559\n",
       "Well / Family                            7         7        7\n",
       "Well / Live                              1         1        1\n",
       "World                                   95        95       95\n",
       "World / Africa                          18        18       18\n",
       "World / Americas                        45        45       45\n",
       "World / Asia Pacific                    47        47       47\n",
       "World / Australia                        3         3        3\n",
       "World / Europe                          42        42       42\n",
       "World / Middle East                     42        42       42\n",
       "Your Money                              11        11       11\n",
       "\n",
       "[122 rows x 3 columns]"
      ]
     },
     "execution_count": 7,
     "metadata": {},
     "output_type": "execute_result"
    }
   ],
   "source": [
    "df.groupby('news_desk').count()\n"
   ]
  },
  {
   "cell_type": "code",
   "execution_count": 24,
   "metadata": {
    "ExecuteTime": {
     "end_time": "2018-11-17T14:44:24.455201Z",
     "start_time": "2018-11-17T14:44:23.690613Z"
    }
   },
   "outputs": [],
   "source": [
    "# write data to pickle file\n",
    "with open('data/all_data_desk_nohole.pkl', 'wb') as fp:\n",
    "    pickle.dump(df3, fp)"
   ]
  },
  {
   "cell_type": "markdown",
   "metadata": {},
   "source": [
    "## Combine new_desk and news_desk \n",
    "For a time the NY Times changed the name of the news_desk to new_desk.  Sigh!!"
   ]
  },
  {
   "cell_type": "code",
   "execution_count": 10,
   "metadata": {
    "ExecuteTime": {
     "end_time": "2018-11-17T14:36:27.118455Z",
     "start_time": "2018-11-17T14:36:26.751416Z"
    }
   },
   "outputs": [
    {
     "data": {
      "text/plain": [
       "(281288, 4)"
      ]
     },
     "execution_count": 10,
     "metadata": {},
     "output_type": "execute_result"
    }
   ],
   "source": [
    "# read data from pickle file\n",
    "with open ('data/all_data_desk.pkl', 'rb') as fp:\n",
    "    df = pickle.load(fp)\n",
    "    \n",
    "df.shape"
   ]
  },
  {
   "cell_type": "code",
   "execution_count": 15,
   "metadata": {
    "ExecuteTime": {
     "end_time": "2018-11-17T14:38:07.286146Z",
     "start_time": "2018-11-17T14:38:07.208838Z"
    }
   },
   "outputs": [
    {
     "data": {
      "text/plain": [
       "array([ 6,  7,  8,  9, 10, 11])"
      ]
     },
     "execution_count": 15,
     "metadata": {},
     "output_type": "execute_result"
    }
   ],
   "source": [
    "# check to see that all months in 2018 are represented\n",
    "df['date'][df['date'].apply(lambda x: x.year) == 2018].apply(lambda x: x.month).unique()"
   ]
  },
  {
   "cell_type": "code",
   "execution_count": 23,
   "metadata": {
    "ExecuteTime": {
     "end_time": "2018-11-17T14:43:17.805991Z",
     "start_time": "2018-11-17T14:43:17.712234Z"
    }
   },
   "outputs": [
    {
     "data": {
      "text/plain": [
       "array([ 2,  8,  9, 10, 11, 12,  1,  3,  4,  5,  6,  7])"
      ]
     },
     "execution_count": 23,
     "metadata": {},
     "output_type": "execute_result"
    }
   ],
   "source": [
    "# check to see that all months in 2018 are represented\n",
    "df3['date'][df3['date'].apply(lambda x: x.year) == 2017].apply(lambda x: x.month).unique()"
   ]
  },
  {
   "cell_type": "code",
   "execution_count": 21,
   "metadata": {
    "ExecuteTime": {
     "end_time": "2018-11-17T14:42:58.360328Z",
     "start_time": "2018-11-17T14:42:58.303611Z"
    }
   },
   "outputs": [],
   "source": [
    "df3.dropna(subset=['news_desk'],inplace=True)\n",
    "\n",
    "#df.dropna(inplace=True)"
   ]
  },
  {
   "cell_type": "code",
   "execution_count": 9,
   "metadata": {
    "ExecuteTime": {
     "end_time": "2018-11-17T14:35:45.468678Z",
     "start_time": "2018-11-17T14:35:45.449144Z"
    }
   },
   "outputs": [],
   "source": [
    "df1 = df.copy()"
   ]
  },
  {
   "cell_type": "code",
   "execution_count": 20,
   "metadata": {
    "ExecuteTime": {
     "end_time": "2018-11-17T14:42:46.340469Z",
     "start_time": "2018-11-17T14:42:46.320233Z"
    }
   },
   "outputs": [],
   "source": [
    "df3 = pd.concat([df1,df])"
   ]
  }
 ],
 "metadata": {
  "kernelspec": {
   "display_name": "Python 3",
   "language": "python",
   "name": "python3"
  },
  "language_info": {
   "codemirror_mode": {
    "name": "ipython",
    "version": 3
   },
   "file_extension": ".py",
   "mimetype": "text/x-python",
   "name": "python",
   "nbconvert_exporter": "python",
   "pygments_lexer": "ipython3",
   "version": "3.6.5"
  }
 },
 "nbformat": 4,
 "nbformat_minor": 2
}
