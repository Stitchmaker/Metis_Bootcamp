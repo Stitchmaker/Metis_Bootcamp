{
 "cells": [
  {
   "cell_type": "code",
   "execution_count": 1,
   "metadata": {
    "ExecuteTime": {
     "end_time": "2018-11-06T00:59:45.623204Z",
     "start_time": "2018-11-06T00:59:45.389539Z"
    }
   },
   "outputs": [],
   "source": [
    "import requests\n",
    "import pyjq\n",
    "import datetime\n"
   ]
  },
  {
   "cell_type": "code",
   "execution_count": 24,
   "metadata": {
    "ExecuteTime": {
     "end_time": "2018-11-06T01:22:41.611958Z",
     "start_time": "2018-11-06T01:22:41.607818Z"
    }
   },
   "outputs": [],
   "source": [
    "# create a list of (year,month) pairs for the data\n",
    "\n",
    "start_dt = datetime.date(2016,10,1)\n",
    "end_dt = datetime.date(2018,10,31)\n",
    "\n",
    "dates = [(dt.year,dt.month) for dt in rrule(MONTHLY, dtstart=strt_dt, until=end_dt)]\n"
   ]
  },
  {
   "cell_type": "code",
   "execution_count": 28,
   "metadata": {
    "ExecuteTime": {
     "end_time": "2018-11-06T01:33:11.228289Z",
     "start_time": "2018-11-06T01:27:40.544365Z"
    }
   },
   "outputs": [
    {
     "name": "stdout",
     "output_type": "stream",
     "text": [
      "2016 10\n",
      "For month 10 in 2016 there were 5168 articles\n",
      ".response .docs [] | {snippet: .snippet, headline: .headline .main, date: .pub_date}\n",
      "2016 11\n",
      "For month 11 in 2016 there were 5168 articles\n",
      ".response .docs [] | {snippet: .snippet, headline: .headline .main, date: .pub_date}\n",
      "2016 12\n",
      "For month 12 in 2016 there were 5168 articles\n",
      ".response .docs [] | {snippet: .snippet, headline: .headline .main, date: .pub_date}\n",
      "2017 1\n",
      "For month 1 in 2017 there were 5168 articles\n",
      ".response .docs [] | {snippet: .snippet, headline: .headline .main, date: .pub_date}\n",
      "2017 2\n",
      "For month 2 in 2017 there were 5168 articles\n",
      ".response .docs [] | {snippet: .snippet, headline: .headline .main, date: .pub_date}\n",
      "2017 3\n",
      "For month 3 in 2017 there were 5168 articles\n",
      ".response .docs [] | {snippet: .snippet, headline: .headline .main, date: .pub_date}\n",
      "2017 4\n",
      "For month 4 in 2017 there were 5168 articles\n",
      ".response .docs [] | {snippet: .snippet, headline: .headline .main, date: .pub_date}\n",
      "2017 5\n",
      "For month 5 in 2017 there were 5168 articles\n",
      ".response .docs [] | {snippet: .snippet, headline: .headline .main, date: .pub_date}\n",
      "2017 6\n",
      "For month 6 in 2017 there were 5168 articles\n",
      ".response .docs [] | {snippet: .snippet, headline: .headline .main, date: .pub_date}\n",
      "2017 7\n",
      "For month 7 in 2017 there were 5168 articles\n",
      ".response .docs [] | {snippet: .snippet, headline: .headline .main, date: .pub_date}\n",
      "2017 8\n",
      "For month 8 in 2017 there were 5168 articles\n",
      ".response .docs [] | {snippet: .snippet, headline: .headline .main, date: .pub_date}\n",
      "2017 9\n",
      "For month 9 in 2017 there were 5168 articles\n",
      ".response .docs [] | {snippet: .snippet, headline: .headline .main, date: .pub_date}\n",
      "2017 10\n",
      "For month 10 in 2017 there were 5168 articles\n",
      ".response .docs [] | {snippet: .snippet, headline: .headline .main, date: .pub_date}\n",
      "2017 11\n",
      "For month 11 in 2017 there were 5168 articles\n",
      ".response .docs [] | {snippet: .snippet, headline: .headline .main, date: .pub_date}\n",
      "2017 12\n",
      "For month 12 in 2017 there were 5168 articles\n",
      ".response .docs [] | {snippet: .snippet, headline: .headline .main, date: .pub_date}\n",
      "2018 1\n",
      "For month 1 in 2018 there were 5168 articles\n",
      ".response .docs [] | {snippet: .snippet, headline: .headline .main, date: .pub_date}\n",
      "2018 2\n",
      "For month 2 in 2018 there were 5168 articles\n",
      ".response .docs [] | {snippet: .snippet, headline: .headline .main, date: .pub_date}\n",
      "2018 3\n",
      "For month 3 in 2018 there were 5168 articles\n",
      ".response .docs [] | {snippet: .snippet, headline: .headline .main, date: .pub_date}\n",
      "2018 4\n",
      "For month 4 in 2018 there were 5168 articles\n",
      ".response .docs [] | {snippet: .snippet, headline: .headline .main, date: .pub_date}\n",
      "2018 5\n",
      "For month 5 in 2018 there were 5168 articles\n",
      ".response .docs [] | {snippet: .snippet, headline: .headline .main, date: .pub_date}\n",
      "2018 6\n",
      "For month 6 in 2018 there were 5168 articles\n",
      ".response .docs [] | {snippet: .snippet, headline: .headline .main, date: .pub_date}\n",
      "2018 7\n",
      "For month 7 in 2018 there were 5168 articles\n",
      ".response .docs [] | {snippet: .snippet, headline: .headline .main, date: .pub_date}\n",
      "2018 8\n",
      "For month 8 in 2018 there were 5168 articles\n",
      ".response .docs [] | {snippet: .snippet, headline: .headline .main, date: .pub_date}\n",
      "2018 9\n",
      "For month 9 in 2018 there were 5168 articles\n",
      ".response .docs [] | {snippet: .snippet, headline: .headline .main, date: .pub_date}\n",
      "2018 10\n",
      "For month 10 in 2018 there were 5168 articles\n",
      ".response .docs [] | {snippet: .snippet, headline: .headline .main, date: .pub_date}\n"
     ]
    }
   ],
   "source": [
    "# loop through the (year,month) pairs, pull the json file from NY Times, extract the desired data\n",
    "all_output = []\n",
    "for year,month in dates:\n",
    "    print(year, month)\n",
    "    this_url = f'https://api.nytimes.com/svc/archive/v1/{year}/{month}.json?&api-key=6a6c043c723548a98eafc5b624317cac'\n",
    "    r = requests.get(request_url)\n",
    "    summary_data = r.json()\n",
    "    \n",
    "    length = pyjq.all('.response .docs | length',summary_data)[0]\n",
    "    print(f'For month {month} in {year} there were {length} articles')\n",
    "\n",
    "    jq_query = f'.response .docs [] | {{snippet: .snippet, headline: .headline .main, date: .pub_date}}'\n",
    "    print(jq_query)\n",
    "    output = pyjq.all(jq_query,summary_data)\n",
    "    all_output.append([str(year)+str(month),output])"
   ]
  },
  {
   "cell_type": "code",
   "execution_count": 31,
   "metadata": {
    "ExecuteTime": {
     "end_time": "2018-11-06T01:34:30.913464Z",
     "start_time": "2018-11-06T01:34:30.910547Z"
    }
   },
   "outputs": [
    {
     "name": "stdout",
     "output_type": "stream",
     "text": [
      "<class 'list'>\n"
     ]
    }
   ],
   "source": [
    "print(type(all_output))"
   ]
  },
  {
   "cell_type": "code",
   "execution_count": 33,
   "metadata": {
    "ExecuteTime": {
     "end_time": "2018-11-06T01:37:27.120072Z",
     "start_time": "2018-11-06T01:37:26.585759Z"
    }
   },
   "outputs": [],
   "source": [
    "import pickle\n",
    "with open('all_output.pkl', 'wb') as fp:\n",
    "    pickle.dump(all_output, fp)"
   ]
  },
  {
   "cell_type": "code",
   "execution_count": null,
   "metadata": {},
   "outputs": [],
   "source": [
    "with open ('outfile.pkl', 'rb') as fp:\n",
    "    all_output = pickle.load(fp)"
   ]
  }
 ],
 "metadata": {
  "kernelspec": {
   "display_name": "Python 3",
   "language": "python",
   "name": "python3"
  },
  "language_info": {
   "codemirror_mode": {
    "name": "ipython",
    "version": 3
   },
   "file_extension": ".py",
   "mimetype": "text/x-python",
   "name": "python",
   "nbconvert_exporter": "python",
   "pygments_lexer": "ipython3",
   "version": "3.6.5"
  }
 },
 "nbformat": 4,
 "nbformat_minor": 2
}
