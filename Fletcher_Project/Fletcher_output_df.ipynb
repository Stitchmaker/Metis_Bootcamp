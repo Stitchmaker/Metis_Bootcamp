{
 "cells": [
  {
   "cell_type": "markdown",
   "metadata": {},
   "source": [
    "## Output to DataFrame   \n",
    "\n",
    "Take the data pulled from the NY Times web site and put in dataframe for analysis"
   ]
  },
  {
   "cell_type": "code",
   "execution_count": 1,
   "metadata": {
    "ExecuteTime": {
     "end_time": "2018-11-10T20:37:56.099074Z",
     "start_time": "2018-11-10T20:37:55.590643Z"
    }
   },
   "outputs": [],
   "source": [
    "import pickle\n",
    "import datetime\n",
    "from dateutil.parser import parse\n",
    "\n",
    "import pandas as pd"
   ]
  },
  {
   "cell_type": "code",
   "execution_count": 2,
   "metadata": {
    "ExecuteTime": {
     "end_time": "2018-11-10T20:37:58.335490Z",
     "start_time": "2018-11-10T20:37:57.568996Z"
    }
   },
   "outputs": [],
   "source": [
    "# read data from pickle fil\n",
    "with open ('all_output.pkl', 'rb') as fp:\n",
    "    all_output = pickle.load(fp)"
   ]
  },
  {
   "cell_type": "markdown",
   "metadata": {},
   "source": [
    "## Create initial DataFrame"
   ]
  },
  {
   "cell_type": "code",
   "execution_count": 3,
   "metadata": {
    "ExecuteTime": {
     "end_time": "2018-11-10T21:23:53.779464Z",
     "start_time": "2018-11-10T20:38:04.582872Z"
    }
   },
   "outputs": [
    {
     "name": "stdout",
     "output_type": "stream",
     "text": [
      "For month 01 in 2015 there were 8252 articles\n"
     ]
    },
    {
     "name": "stderr",
     "output_type": "stream",
     "text": [
      "/anaconda3/lib/python3.6/site-packages/ipykernel_launcher.py:17: FutureWarning: Sorting because non-concatenation axis is not aligned. A future version\n",
      "of pandas will change to not sort by default.\n",
      "\n",
      "To accept the future behavior, pass 'sort=True'.\n",
      "\n",
      "To retain the current behavior and silence the warning, pass sort=False\n",
      "\n"
     ]
    },
    {
     "name": "stdout",
     "output_type": "stream",
     "text": [
      "For month 02 in 2015 there were 7561 articles\n",
      "For month 03 in 2015 there were 8397 articles\n",
      "For month 04 in 2015 there were 7768 articles\n",
      "For month 05 in 2015 there were 7973 articles\n",
      "For month 06 in 2015 there were 7888 articles\n",
      "For month 07 in 2015 there were 7893 articles\n",
      "For month 08 in 2015 there were 7435 articles\n",
      "For month 09 in 2015 there were 8273 articles\n",
      "For month 10 in 2015 there were 8499 articles\n",
      "For month 11 in 2015 there were 7777 articles\n",
      "For month 12 in 2015 there were 7582 articles\n",
      "For month 01 in 2016 there were 7644 articles\n",
      "For month 02 in 2016 there were 7297 articles\n",
      "For month 03 in 2016 there were 7502 articles\n",
      "For month 04 in 2016 there were 6699 articles\n",
      "For month 05 in 2016 there were 6802 articles\n",
      "For month 06 in 2016 there were 6640 articles\n",
      "For month 07 in 2016 there were 6120 articles\n",
      "For month 08 in 2016 there were 5268 articles\n",
      "For month 09 in 2016 there were 5904 articles\n",
      "For month 10 in 2016 there were 5792 articles\n",
      "For month 11 in 2016 there were 5418 articles\n",
      "For month 12 in 2016 there were 5073 articles\n",
      "For month 01 in 2017 there were 5205 articles\n",
      "For month 02 in 2017 there were 5024 articles\n",
      "For month 03 in 2017 there were 5650 articles\n",
      "For month 04 in 2017 there were 4979 articles\n",
      "For month 05 in 2017 there were 5337 articles\n",
      "For month 06 in 2017 there were 5356 articles\n",
      "For month 07 in 2017 there were 4828 articles\n",
      "For month 08 in 2017 there were 4935 articles\n",
      "For month 09 in 2017 there were 5094 articles\n",
      "For month 10 in 2017 there were 5248 articles\n",
      "For month 11 in 2017 there were 4895 articles\n",
      "For month 12 in 2017 there were 2791 articles\n",
      "For month 01 in 2018 there were 4808 articles\n",
      "For month 02 in 2018 there were 4577 articles\n",
      "For month 03 in 2018 there were 5053 articles\n",
      "For month 04 in 2018 there were 4671 articles\n",
      "For month 05 in 2018 there were 5132 articles\n",
      "For month 06 in 2018 there were 5045 articles\n",
      "For month 07 in 2018 there were 4535 articles\n",
      "For month 08 in 2018 there were 4609 articles\n",
      "For month 09 in 2018 there were 4923 articles\n",
      "For month 10 in 2018 there were 5168 articles\n",
      "For month 11 in 2018 there were 1785 articles\n"
     ]
    }
   ],
   "source": [
    "# create a DataFrame \n",
    "\n",
    "df = pd.DataFrame(columns=['date','headline','snippet'])\n",
    "\n",
    "for x in all_output:\n",
    "    print(f'For month {x[0][4:]} in {x[0][:4]} there were {len(x[1])} articles')\n",
    "    for i in range(len(x[1])):\n",
    "        row = x[1][i]\n",
    "        #print('SNIPPET: ',row['snippet'])\n",
    "        #print('HEADLINE: ',row['headline'])\n",
    "        #print('DATE:', row['date'], type(row['date']))\n",
    "        df1  = pd.DataFrame(data=row, index=[0])\n",
    "        df1.drop(columns=['date'],inplace=True)\n",
    "        date = parse(row['date'])\n",
    "        #df1['datetime'] = date\n",
    "        df1['date'] = date.date()\n",
    "        df = pd.concat([df, df1],ignore_index=True)\n",
    "\n",
    "#print(df)  "
   ]
  },
  {
   "cell_type": "code",
   "execution_count": 4,
   "metadata": {
    "ExecuteTime": {
     "end_time": "2018-11-10T21:23:54.475740Z",
     "start_time": "2018-11-10T21:23:53.781827Z"
    }
   },
   "outputs": [],
   "source": [
    "# write data to pickle file\n",
    "with open('all_data.pkl', 'wb') as fp:\n",
    "    pickle.dump(df, fp)"
   ]
  },
  {
   "cell_type": "code",
   "execution_count": 4,
   "metadata": {
    "ExecuteTime": {
     "end_time": "2018-11-11T00:22:41.247817Z",
     "start_time": "2018-11-11T00:22:41.241894Z"
    }
   },
   "outputs": [
    {
     "ename": "ModuleNotFoundError",
     "evalue": "No module named 'AppKit'",
     "output_type": "error",
     "traceback": [
      "\u001b[0;31m---------------------------------------------------------------------------\u001b[0m",
      "\u001b[0;31mModuleNotFoundError\u001b[0m                       Traceback (most recent call last)",
      "\u001b[0;32m<ipython-input-4-71a6d2d069b8>\u001b[0m in \u001b[0;36m<module>\u001b[0;34m()\u001b[0m\n\u001b[1;32m      1\u001b[0m \u001b[0;32mfrom\u001b[0m \u001b[0mplaysound\u001b[0m \u001b[0;32mimport\u001b[0m \u001b[0mplaysound\u001b[0m\u001b[0;34m\u001b[0m\u001b[0m\n\u001b[0;32m----> 2\u001b[0;31m \u001b[0mplaysound\u001b[0m\u001b[0;34m(\u001b[0m\u001b[0;34m'/users/dana/music/john_philip_sousa.mp3'\u001b[0m\u001b[0;34m)\u001b[0m\u001b[0;34m\u001b[0m\u001b[0m\n\u001b[0m",
      "\u001b[0;32m/anaconda3/lib/python3.6/site-packages/playsound.py\u001b[0m in \u001b[0;36m_playsoundOSX\u001b[0;34m(sound, block)\u001b[0m\n\u001b[1;32m     53\u001b[0m     \u001b[0mI\u001b[0m \u001b[0mnever\u001b[0m \u001b[0mwould\u001b[0m \u001b[0mhave\u001b[0m \u001b[0mtried\u001b[0m \u001b[0musing\u001b[0m \u001b[0mAppKit\u001b[0m\u001b[0;34m.\u001b[0m\u001b[0mNSSound\u001b[0m \u001b[0mwithout\u001b[0m \u001b[0mseeing\u001b[0m \u001b[0mhis\u001b[0m \u001b[0mcode\u001b[0m\u001b[0;34m.\u001b[0m\u001b[0;34m\u001b[0m\u001b[0m\n\u001b[1;32m     54\u001b[0m     '''\n\u001b[0;32m---> 55\u001b[0;31m     \u001b[0;32mfrom\u001b[0m \u001b[0mAppKit\u001b[0m     \u001b[0;32mimport\u001b[0m \u001b[0mNSSound\u001b[0m\u001b[0;34m\u001b[0m\u001b[0m\n\u001b[0m\u001b[1;32m     56\u001b[0m     \u001b[0;32mfrom\u001b[0m \u001b[0mFoundation\u001b[0m \u001b[0;32mimport\u001b[0m \u001b[0mNSURL\u001b[0m\u001b[0;34m\u001b[0m\u001b[0m\n\u001b[1;32m     57\u001b[0m     \u001b[0;32mfrom\u001b[0m \u001b[0mtime\u001b[0m       \u001b[0;32mimport\u001b[0m \u001b[0msleep\u001b[0m\u001b[0;34m\u001b[0m\u001b[0m\n",
      "\u001b[0;31mModuleNotFoundError\u001b[0m: No module named 'AppKit'"
     ]
    }
   ],
   "source": [
    "from playsound import playsound\n",
    "playsound('/users/dana/music/john_philip_sousa.mp3')\n"
   ]
  },
  {
   "cell_type": "code",
   "execution_count": null,
   "metadata": {},
   "outputs": [],
   "source": []
  },
  {
   "cell_type": "code",
   "execution_count": null,
   "metadata": {},
   "outputs": [],
   "source": []
  }
 ],
 "metadata": {
  "kernelspec": {
   "display_name": "Python 3",
   "language": "python",
   "name": "python3"
  },
  "language_info": {
   "codemirror_mode": {
    "name": "ipython",
    "version": 3
   },
   "file_extension": ".py",
   "mimetype": "text/x-python",
   "name": "python",
   "nbconvert_exporter": "python",
   "pygments_lexer": "ipython3",
   "version": "3.6.5"
  }
 },
 "nbformat": 4,
 "nbformat_minor": 2
}
