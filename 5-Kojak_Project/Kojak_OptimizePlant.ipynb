{
 "cells": [
  {
   "cell_type": "markdown",
   "metadata": {},
   "source": [
    "# Optimize Plant\n",
    "\n",
    "Once performance curves are available for chillers it is possible to look at how to run a plant (a collection of chillers) at the lowest kW (Cost).  Given a collection of chillers, a given Delta T Lift and total tons, the code provides the Load (which can be converted to tons) for each chiller for optimal performance. \n",
    "\n",
    "Optimization done with scipy optimum.minimum function."
   ]
  },
  {
   "cell_type": "code",
   "execution_count": 1,
   "metadata": {
    "ExecuteTime": {
     "end_time": "2018-12-11T20:45:18.683893Z",
     "start_time": "2018-12-11T20:45:17.790856Z"
    }
   },
   "outputs": [],
   "source": [
    "import pickle\n",
    "\n",
    "from scipy import optimize\n",
    "import numpy as np\n",
    "import pandas as pd"
   ]
  },
  {
   "cell_type": "markdown",
   "metadata": {},
   "source": [
    "## Only B Plant\n",
    "all chillers 900 Tons\n",
    "CH1, 2 & 3 same, Ch4 different"
   ]
  },
  {
   "cell_type": "code",
   "execution_count": 2,
   "metadata": {
    "ExecuteTime": {
     "end_time": "2018-12-11T20:45:29.722126Z",
     "start_time": "2018-12-11T20:45:29.717935Z"
    }
   },
   "outputs": [],
   "source": [
    "def GetkW(Tons, TotalTons, Ch_lift_lines, DesignLift):\n",
    "    Load = Tons/TotalTons\n",
    "    \n",
    "    x_line = Ch_lift_lines[DesignLift][0]\n",
    "    y_line = Ch_lift_lines[DesignLift][1]\n",
    "\n",
    "    kW = np.interp(Load,x_line,y_line)*Tons\n",
    "    \n",
    "    return kW"
   ]
  },
  {
   "cell_type": "code",
   "execution_count": 3,
   "metadata": {
    "ExecuteTime": {
     "end_time": "2018-12-11T20:45:30.632786Z",
     "start_time": "2018-12-11T20:45:30.627807Z"
    }
   },
   "outputs": [],
   "source": [
    "def f(Ton,TotalTons,ChMaxTons,all_lift_lines,DesignLift): \n",
    "    max_Ch = len(Ton)\n",
    "    kW_total = 0\n",
    "    for c in range(max_Ch):\n",
    "        kW = GetkW(Ton[c],ChMaxTons[c],all_lift_lines[c], DesignLift)\n",
    "        kW_total += kW\n",
    "        \n",
    "    return kW_total\n",
    "\n",
    "def fun(x,TotalTons):\n",
    "    return TotalTons-sum(x)\n"
   ]
  },
  {
   "cell_type": "code",
   "execution_count": 8,
   "metadata": {
    "ExecuteTime": {
     "end_time": "2018-12-11T22:06:37.743612Z",
     "start_time": "2018-12-11T22:06:37.736156Z"
    }
   },
   "outputs": [],
   "source": [
    "def Optimum_Chillers(TotalTons, DesignLift, ChList, ChMaxTons):\n",
    "    num_chillers = len(ChList)\n",
    "    Start_Tons = []\n",
    "    lift_lines = []\n",
    "    for Chiller in ChList:\n",
    "        Ch_lift_lines = pickle.load( open('data/'+Chiller+\"lift_lines.pkl\", \"rb\" ) )\n",
    "        lift_lines.append(Ch_lift_lines)        \n",
    "        Start_Tons.append(TotalTons/num_chillers)\n",
    "    cons = ({'type': 'eq', 'fun': fun, 'args': [TotalTons]})\n",
    "    bnds = [(0.15*ChMaxTons[i], ChMaxTons[i]) for i in range(num_chillers)]\n",
    "    \n",
    "    Tons = optimize.minimize(f,Start_Tons,bounds=bnds,constraints=cons,\n",
    "                             args=(TotalTons,ChMaxTons,lift_lines,DesignLift)).x\n",
    "    kW_total = f(Tons,TotalTons,ChMaxTons,lift_lines,DesignLift)\n",
    "\n",
    "    print(Tons,sum(Tons))\n",
    "    print(f'kW={kW_total} for chillers {ChList}:')\n",
    "    for c in range(num_chillers):\n",
    "        kW = GetkW(Tons[c],ChMaxTons[c],lift_lines[c], DesignLift)\n",
    "        print(f'Chiller {ChList[c]} with {Tons[c]/ChMaxTons[c]} Lift and {kW/Tons[c]} kW/Ton')\n",
    "#        print(Tons[c],ChMaxTons[c])\n",
    "    print('')\n",
    "    \n",
    "    return Tons, kW_total\n"
   ]
  },
  {
   "cell_type": "code",
   "execution_count": 127,
   "metadata": {
    "ExecuteTime": {
     "end_time": "2018-12-06T17:36:26.362866Z",
     "start_time": "2018-12-06T17:36:26.355499Z"
    }
   },
   "outputs": [
    {
     "name": "stdout",
     "output_type": "stream",
     "text": [
      "[450. 450.] 900.0\n",
      "kW=408.0391323896223 for chillers ['B1', 'B2']:\n",
      "Chiller B1 with 0.5 Lift and 0.453376813766247 kW/Ton\n",
      "Chiller B2 with 0.5 Lift and 0.453376813766247 kW/Ton\n",
      "\n"
     ]
    }
   ],
   "source": [
    "# print Lift and kW/Ton for best chiller\n",
    "\n",
    "# best chiller combination\n",
    "DesignLift = 30\n",
    "TotalTons = 900\n",
    "\n",
    "ChMaxTons = ([900, 900])\n",
    "ChList = (['B1','B2'])\n",
    "\n",
    "Tons, kW = Optimum_Chillers(TotalTons, DesignLift, ChList, ChMaxTons)"
   ]
  },
  {
   "cell_type": "code",
   "execution_count": 128,
   "metadata": {
    "ExecuteTime": {
     "end_time": "2018-12-06T17:36:27.236721Z",
     "start_time": "2018-12-06T17:36:26.879425Z"
    }
   },
   "outputs": [
    {
     "name": "stdout",
     "output_type": "stream",
     "text": [
      "[519.66667234 519.66665839 519.66667145 440.99999781] 1999.9999999999998\n",
      "kW=864.245077972533 for chillers ['B1', 'B2', 'B3', 'B4']:\n",
      "Chiller B1 with 0.5774074137083962 Lift and 0.4354599708860764 kW/Ton\n",
      "Chiller B2 with 0.5774073982164762 Lift and 0.43545997364856337 kW/Ton\n",
      "Chiller B3 with 0.5774074127256564 Lift and 0.4354599710613165 kW/Ton\n",
      "Chiller B4 with 0.4899999975716934 Lift and 0.4203242217719321 kW/Ton\n",
      "\n",
      "[666.66666667 666.66666667 666.66666667] 2000.0\n",
      "kW=853.0012286179693 for chillers ['B1', 'B2', 'B3']:\n",
      "Chiller B1 with 0.7407407407407407 Lift and 0.42650061430898467 kW/Ton\n",
      "Chiller B2 with 0.7407407407407407 Lift and 0.42650061430898467 kW/Ton\n",
      "Chiller B3 with 0.7407407407407407 Lift and 0.42650061430898467 kW/Ton\n",
      "\n",
      "[707.50001767 707.50001767 584.99996466] 2000.0\n",
      "kW=855.651167694249 for chillers ['B1', 'B2', 'B4']:\n",
      "Chiller B1 with 0.7861111307423448 Lift and 0.4309826679060691 kW/Ton\n",
      "Chiller B2 with 0.7861111307423448 Lift and 0.4309826679060691 kW/Ton\n",
      "Chiller B4 with 0.6499999607375326 Lift and 0.42018921747993415 kW/Ton\n",
      "\n",
      "[707.50001767 707.50001767 584.99996466] 2000.0\n",
      "kW=855.651167694249 for chillers ['B1', 'B3', 'B4']:\n",
      "Chiller B1 with 0.7861111307423448 Lift and 0.4309826679060691 kW/Ton\n",
      "Chiller B3 with 0.7861111307423448 Lift and 0.4309826679060691 kW/Ton\n",
      "Chiller B4 with 0.6499999607375326 Lift and 0.42018921747993415 kW/Ton\n",
      "\n",
      "[707.50001767 707.50001767 584.99996466] 2000.0\n",
      "kW=855.651167694249 for chillers ['B2', 'B3', 'B4']:\n",
      "Chiller B2 with 0.7861111307423448 Lift and 0.4309826679060691 kW/Ton\n",
      "Chiller B3 with 0.7861111307423448 Lift and 0.4309826679060691 kW/Ton\n",
      "Chiller B4 with 0.6499999607375326 Lift and 0.42018921747993415 kW/Ton\n",
      "\n",
      "[nan nan] nan\n",
      "kW=nan for chillers ['B1', 'B2']:\n",
      "Chiller B1 with nan Lift and nan kW/Ton\n",
      "Chiller B2 with nan Lift and nan kW/Ton\n",
      "\n",
      "[nan nan] nan\n",
      "kW=nan for chillers ['B1', 'B3']:\n",
      "Chiller B1 with nan Lift and nan kW/Ton\n",
      "Chiller B3 with nan Lift and nan kW/Ton\n",
      "\n",
      "[nan nan] nan\n",
      "kW=nan for chillers ['B1', 'B4']:\n",
      "Chiller B1 with nan Lift and nan kW/Ton\n",
      "Chiller B4 with nan Lift and nan kW/Ton\n",
      "\n",
      "[nan nan] nan\n",
      "kW=nan for chillers ['B2', 'B3']:\n",
      "Chiller B2 with nan Lift and nan kW/Ton\n",
      "Chiller B3 with nan Lift and nan kW/Ton\n",
      "\n",
      "[nan nan] nan\n",
      "kW=nan for chillers ['B2', 'B4']:\n",
      "Chiller B2 with nan Lift and nan kW/Ton\n",
      "Chiller B4 with nan Lift and nan kW/Ton\n",
      "\n"
     ]
    }
   ],
   "source": [
    "ChMaxTons = ([900,900,900,900])\n",
    "\n",
    "DesignLift = 30\n",
    "TotalTons = 2000\n",
    "\n",
    "ChList = (['B1','B2','B3','B4'])\n",
    "Tons, kW = Optimum_Chillers(TotalTons, DesignLift, ChList, ChMaxTons)\n",
    "\n",
    "ChMaxTons = ([900,900,900])\n",
    "ChList = (['B1','B2','B3'])\n",
    "Tons, kW = Optimum_Chillers(TotalTons, DesignLift, ChList, ChMaxTons)\n",
    "ChList = (['B1','B2','B4'])\n",
    "Tons, kW = Optimum_Chillers(TotalTons, DesignLift, ChList, ChMaxTons)\n",
    "ChList = (['B1','B3','B4'])\n",
    "Tons, kW = Optimum_Chillers(TotalTons, DesignLift, ChList, ChMaxTons)\n",
    "ChList = (['B2','B3','B4'])\n",
    "Tons, kW = Optimum_Chillers(TotalTons, DesignLift, ChList, ChMaxTons)\n",
    "\n",
    "ChMaxTons = ([900,900])\n",
    "ChList = (['B1','B2'])\n",
    "Tons, kW = Optimum_Chillers(TotalTons, DesignLift, ChList, ChMaxTons)\n",
    "ChList = (['B1','B3'])\n",
    "Tons, kW = Optimum_Chillers(TotalTons, DesignLift, ChList, ChMaxTons)\n",
    "ChList = (['B1','B4'])\n",
    "Tons, kW = Optimum_Chillers(TotalTons, DesignLift, ChList, ChMaxTons)\n",
    "ChList = (['B2','B3'])\n",
    "CTons, kW = Optimum_Chillers(TotalTons, DesignLift, ChList, ChMaxTons)\n",
    "ChList = (['B2','B4'])\n",
    "Tons, kW = Optimum_Chillers(TotalTons, DesignLift, ChList, ChMaxTons)\n",
    "ChList = (['B3','B4'])\n"
   ]
  },
  {
   "cell_type": "code",
   "execution_count": 14,
   "metadata": {
    "ExecuteTime": {
     "end_time": "2018-12-11T22:17:34.604773Z",
     "start_time": "2018-12-11T22:17:34.289504Z"
    }
   },
   "outputs": [
    {
     "name": "stdout",
     "output_type": "stream",
     "text": [
      "[ 135.          135.         1064.94649656 1065.05350344] 2400.0\n",
      "kW=915.9129687313118 for chillers ['B1', 'B2', 'C1', 'C2']:\n",
      "Chiller B1 with 0.15000000000000005 Lift and 0.6508316785599737 kW/Ton\n",
      "Chiller B2 with 0.15 Lift and 0.6508316785599737 kW/Ton\n",
      "Chiller C1 with 0.8874554137964431 Lift and 0.3474989435990864 kW/Ton\n",
      "Chiller C2 with 0.8875445862035569 Lift and 0.34751365239447957 kW/Ton\n",
      "\n",
      "[762.00028845 762.00028845 875.99942311] 2400.0\n",
      "kW=879.8746942430889 for chillers ['B1', 'B2', 'C1']:\n",
      "Chiller B1 with 0.8466669871635414 Lift and 0.38092641562487073 kW/Ton\n",
      "Chiller B2 with 0.8466669871635414 Lift and 0.38092641562487073 kW/Ton\n",
      "Chiller C1 with 0.7299995192546881 Lift and 0.34171554133590537 kW/Ton\n",
      "\n",
      "[762.00028845 762.00028845 875.99942311] 2400.0\n",
      "kW=879.8746942430889 for chillers ['B1', 'B2', 'C2']:\n",
      "Chiller B1 with 0.8466669871635414 Lift and 0.38092641562487073 kW/Ton\n",
      "Chiller B2 with 0.8466669871635414 Lift and 0.38092641562487073 kW/Ton\n",
      "Chiller C2 with 0.7299995192546881 Lift and 0.34171554133590537 kW/Ton\n",
      "\n",
      "[719.98975785 840.01025803 839.99998412] 2400.0\n",
      "kW=859.5656573813876 for chillers ['B1', 'C1', 'C2']:\n",
      "Chiller B1 with 0.7999886198318021 Lift and 0.3880331331553151 kW/Ton\n",
      "Chiller C1 with 0.7000085483555616 Lift and 0.34534598032134306 kW/Ton\n",
      "Chiller C2 with 0.699999986770587 Lift and 0.3453471610094434 kW/Ton\n",
      "\n",
      "[719.98975785 840.01025803 839.99998412] 2400.0\n",
      "kW=859.5656573813876 for chillers ['B2', 'C1', 'C2']:\n",
      "Chiller B2 with 0.7999886198318021 Lift and 0.3880331331553151 kW/Ton\n",
      "Chiller C1 with 0.7000085483555616 Lift and 0.34534598032134306 kW/Ton\n",
      "Chiller C2 with 0.699999986770587 Lift and 0.3453471610094434 kW/Ton\n",
      "\n",
      "[nan nan] nan\n",
      "kW=nan for chillers ['B1', 'B2']:\n",
      "Chiller B1 with nan Lift and nan kW/Ton\n",
      "Chiller B2 with nan Lift and nan kW/Ton\n",
      "\n",
      "[nan nan] nan\n",
      "kW=nan for chillers ['B1', 'C1']:\n",
      "Chiller B1 with nan Lift and nan kW/Ton\n",
      "Chiller C1 with nan Lift and nan kW/Ton\n",
      "\n",
      "[nan nan] nan\n",
      "kW=nan for chillers ['B1', 'C2']:\n",
      "Chiller B1 with nan Lift and nan kW/Ton\n",
      "Chiller C2 with nan Lift and nan kW/Ton\n",
      "\n",
      "[nan nan] nan\n",
      "kW=nan for chillers ['B2', 'C1']:\n",
      "Chiller B2 with nan Lift and nan kW/Ton\n",
      "Chiller C1 with nan Lift and nan kW/Ton\n",
      "\n",
      "[nan nan] nan\n",
      "kW=nan for chillers ['B2', 'C2']:\n",
      "Chiller B2 with nan Lift and nan kW/Ton\n",
      "Chiller C2 with nan Lift and nan kW/Ton\n",
      "\n",
      "[1200. 1200.] 2400.0\n",
      "kW=896.7996070897725 for chillers ['C1', 'C2']:\n",
      "Chiller C1 with 1.0 Lift and 0.3736665029540719 kW/Ton\n",
      "Chiller C2 with 1.0 Lift and 0.3736665029540719 kW/Ton\n",
      "\n",
      "For minimum kW (859.5656573813876), run with ['B1', 'C1', 'C2']\n"
     ]
    }
   ],
   "source": [
    "ChMaxTons = ([900,900,1200,1200])\n",
    "\n",
    "DesignLift = 30\n",
    "TotalTons = 2400\n",
    "\n",
    "ChMaxTons = ([900,900,1200,1200])\n",
    "ChList = (['B1','B2','C1','C2'])\n",
    "Tons, kW = Optimum_Chillers(TotalTons, DesignLift, ChList, ChMaxTons)\n",
    "kW_min = kW\n",
    "ChList_min = ChList\n",
    "\n",
    "ChMaxTons = ([900,900,1200])\n",
    "ChList = (['B1','B2','C1'])\n",
    "Tons, kW = Optimum_Chillers(TotalTons, DesignLift, ChList, ChMaxTons)\n",
    "if (kW < kW_min):\n",
    "    kW_min = kW\n",
    "    ChList_min = ChList\n",
    "\n",
    "ChMaxTons = ([900,900,1200])\n",
    "ChList = (['B1','B2','C2'])\n",
    "Tons, kW = Optimum_Chillers(TotalTons, DesignLift, ChList, ChMaxTons)\n",
    "if (kW < kW_min):\n",
    "    kW_min = kW\n",
    "    ChList_min = ChList\n",
    "ChMaxTons = ([900,1200,1200])\n",
    "ChList = (['B1','C1','C2'])\n",
    "Tons, kW = Optimum_Chillers(TotalTons, DesignLift, ChList, ChMaxTons)\n",
    "if (kW < kW_min):\n",
    "    kW_min = kW\n",
    "    ChList_min = ChList\n",
    "ChMaxTons = ([900,1200,1200])\n",
    "ChList = (['B2','C1','C2'])\n",
    "Tons, kW = Optimum_Chillers(TotalTons, DesignLift, ChList, ChMaxTons)\n",
    "if (kW < kW_min):\n",
    "    kW_min = kW\n",
    "    ChList_min = ChList\n",
    "\n",
    "ChMaxTons = ([900,900])\n",
    "ChList = (['B1','B2'])\n",
    "Tons, kW = Optimum_Chillers(TotalTons, DesignLift, ChList, ChMaxTons)\n",
    "if (kW < kW_min):\n",
    "    kW_min = kW\n",
    "    ChList_min = ChList\n",
    "ChMaxTons = ([900,1200])\n",
    "ChList = (['B1','C1'])\n",
    "Tons, kW = Optimum_Chillers(TotalTons, DesignLift, ChList, ChMaxTons)\n",
    "if (kW < kW_min):\n",
    "    kW_min = kW\n",
    "    ChList_min = ChList\n",
    "ChMaxTons = ([900,1200])\n",
    "ChList = (['B1','C2'])\n",
    "Tons, kW = Optimum_Chillers(TotalTons, DesignLift, ChList, ChMaxTons)\n",
    "if (kW < kW_min):\n",
    "    kW_min = kW\n",
    "    ChList_min = ChList\n",
    "ChMaxTons = ([900,1200])\n",
    "ChList = (['B2','C1'])\n",
    "CTons, kW = Optimum_Chillers(TotalTons, DesignLift, ChList, ChMaxTons)\n",
    "if (kW < kW_min):\n",
    "    kW_min = kW\n",
    "    ChList_min = ChList\n",
    "ChMaxTons = ([900,1200])\n",
    "ChList = (['B2','C2'])\n",
    "Tons, kW = Optimum_Chillers(TotalTons, DesignLift, ChList, ChMaxTons)\n",
    "if (kW < kW_min):\n",
    "    kW_min = kW\n",
    "    ChList_min = ChList\n",
    "ChMaxTons = ([1200,1200])\n",
    "ChList = (['C1','C2'])\n",
    "Tons, kW = Optimum_Chillers(TotalTons, DesignLift, ChList, ChMaxTons)\n",
    "if (kW < kW_min):\n",
    "    kW_min = kW\n",
    "    ChList_min = ChList\n",
    "\n",
    "print(f'For minimum kW ({kW_min}), run with',ChList_min)"
   ]
  },
  {
   "cell_type": "code",
   "execution_count": 111,
   "metadata": {
    "ExecuteTime": {
     "end_time": "2018-12-06T05:22:33.805795Z",
     "start_time": "2018-12-06T05:22:33.802133Z"
    }
   },
   "outputs": [
    {
     "data": {
      "text/plain": [
       "1113.9995999999999"
      ]
     },
     "execution_count": 111,
     "metadata": {},
     "output_type": "execute_result"
    }
   ],
   "source": [
    "1200 * .928333"
   ]
  },
  {
   "cell_type": "code",
   "execution_count": 17,
   "metadata": {
    "ExecuteTime": {
     "end_time": "2018-12-11T22:18:53.756422Z",
     "start_time": "2018-12-11T22:18:53.745284Z"
    }
   },
   "outputs": [
    {
     "name": "stdout",
     "output_type": "stream",
     "text": [
      "992.6621940968209\n",
      "cost per day before $2382.3892658323707\n",
      "cost per day after  $2062.9575777153304\n",
      "saving per day      $319.43168811704004 (15.484161747562544%)\n",
      "\n",
      "cost per year before $869572.0820288153\n",
      "cost per year after  $752979.5158660957\n",
      "saving per year      $116592.56616271961 (15.484161747562544%)\n"
     ]
    }
   ],
   "source": [
    "Tons = [600,600,600,600]\n",
    "ChList = (['B1','B2','C1','C2'])\n",
    "ChMaxTons = ([900,900,1200,1200])\n",
    "\n",
    "lift_lines = []\n",
    "for Chiller in ChList:\n",
    "    Ch_lift_lines = pickle.load( open('data/'+Chiller+\"lift_lines.pkl\", \"rb\" ) )\n",
    "    lift_lines.append(Ch_lift_lines)        \n",
    "\n",
    "kW_total = 0\n",
    "for c in range(len(ChList)):\n",
    "    kW = GetkW(Tons[c],ChMaxTons[c],lift_lines[c], DesignLift)\n",
    "    kW_total += kW\n",
    "    \n",
    "print(kW_total)\n",
    "\n",
    "print(f'cost per day before ${(kW_total) * 24 * 0.10}')\n",
    "print(f'cost per day after  ${(kW_min) * 24 * 0.10}')\n",
    "print(f'saving per day      ${(kW_total - kW_min) * 24 * 0.10} ({((kW_total - kW_min)/kW_min)*100}%)\\n')\n",
    "print(f'cost per year before ${(kW_total) * 24 * 0.10* 365}')\n",
    "print(f'cost per year after  ${(kW_min) * 24 * 0.10 * 365}')\n",
    "print(f'saving per year      ${(kW_total - kW_min) * 24 * 0.10 * 365} ({((kW_total - kW_min)/kW_min)*100}%)')"
   ]
  },
  {
   "cell_type": "code",
   "execution_count": 16,
   "metadata": {
    "ExecuteTime": {
     "end_time": "2018-12-11T22:17:57.385642Z",
     "start_time": "2018-12-11T22:17:57.375485Z"
    }
   },
   "outputs": [
    {
     "name": "stdout",
     "output_type": "stream",
     "text": [
      "862.7960863927887\n",
      "cost per day before $2070.7106073426926\n",
      "cost per day after  $2062.9575777153304\n",
      "saving per day      $7.753029627362503 (0.3758210886696358%)\n",
      "\n",
      "cost per year before $755809.3716800828\n",
      "cost per year after  $752979.5158660957\n",
      "saving per year      $2829.8558139873135 (0.3758210886696358%)\n"
     ]
    }
   ],
   "source": [
    "TotalTons = 2400\n",
    "\n",
    "Tons = [2400/3,2400/3,2400/3]\n",
    "ChList = (['B2','C1','C2'])\n",
    "ChMaxTons = ([900,1200,1200])\n",
    "\n",
    "lift_lines = []\n",
    "for Chiller in ChList:\n",
    "    Ch_lift_lines = pickle.load( open('data/'+Chiller+\"lift_lines.pkl\", \"rb\" ) )\n",
    "    lift_lines.append(Ch_lift_lines)        \n",
    "\n",
    "kW_total = 0\n",
    "for c in range(len(ChList)):\n",
    "    kW = GetkW(Tons[c],ChMaxTons[c],lift_lines[c], DesignLift)\n",
    "    kW_total += kW\n",
    "    \n",
    "print(kW_total)\n",
    "\n",
    "print(f'cost per day before ${(kW_total) * 24 * 0.10}')\n",
    "print(f'cost per day after  ${(kW_min) * 24 * 0.10}')\n",
    "print(f'saving per day      ${(kW_total - kW_min) * 24 * 0.10} ({((kW_total - kW_min)/kW_min)*100}%)\\n')\n",
    "print(f'cost per year before ${(kW_total) * 24 * 0.10* 365}')\n",
    "print(f'cost per year after  ${(kW_min) * 24 * 0.10 * 365}')\n",
    "print(f'saving per year      ${(kW_total - kW_min) * 24 * 0.10 * 365} ({((kW_total - kW_min)/kW_min)*100}%)')"
   ]
  },
  {
   "cell_type": "code",
   "execution_count": null,
   "metadata": {},
   "outputs": [],
   "source": []
  }
 ],
 "metadata": {
  "kernelspec": {
   "display_name": "Python 3",
   "language": "python",
   "name": "python3"
  },
  "language_info": {
   "codemirror_mode": {
    "name": "ipython",
    "version": 3
   },
   "file_extension": ".py",
   "mimetype": "text/x-python",
   "name": "python",
   "nbconvert_exporter": "python",
   "pygments_lexer": "ipython3",
   "version": "3.6.6"
  }
 },
 "nbformat": 4,
 "nbformat_minor": 2
}
