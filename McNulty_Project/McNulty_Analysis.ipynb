{
 "cells": [
  {
   "cell_type": "code",
   "execution_count": 13,
   "metadata": {},
   "outputs": [],
   "source": [
    "import pandas as pd\n",
    "import matplotlib\n",
    "import numpy as np\n",
    "import matplotlib.pyplot as plt\n",
    "\n",
    "from datetime import datetime as dt"
   ]
  },
  {
   "cell_type": "code",
   "execution_count": 62,
   "metadata": {},
   "outputs": [],
   "source": [
    "# read data file\n",
    "FlightData = pd.read_csv('data/FlightData.csv')"
   ]
  },
  {
   "cell_type": "code",
   "execution_count": 63,
   "metadata": {},
   "outputs": [],
   "source": [
    "def SetUp_Xy(FlightData):\n",
    "    print(FlightData.shape)\n",
    "    # drop Alaska Airlines flights to shrink dataset\n",
    "    FlightData.drop(FlightData[FlightData.OP_UNIQUE_CARRIER == 'AS'].index,inplace=True)\n",
    "    print(FlightData.shape)\n",
    "    \n",
    "    # take a smaller sample of the data\n",
    "    FlightData = FlightData.sample(n=1000)\n",
    "\n",
    "    SEA_outbound = False  # drop outbound flights if True\n",
    "    SEA_inbound = True    # drop inbound flights if True\n",
    "    if not SEA_inbound:\n",
    "        print('dropping records arriving in SEA')\n",
    "        FlightData.drop(FlightData[FlightData.DEST == 'SEA'].index,inplace=True)\n",
    "\n",
    "    elif not SEA_outbound:\n",
    "        print('dropping flights departing SEA')\n",
    "        FlightData.drop(FlightData[FlightData.ORIGIN == 'SEA'].index,inplace=True)\n",
    "    print(FlightData.shape)\n",
    "\n",
    "    # create one-hot columns for Airline Carrier\n",
    "    X = pd.get_dummies(FlightData[['OP_UNIQUE_CARRIER']])\n",
    "    #X = pd.DataFrame()\n",
    "    \n",
    "    # add datetime for FL_DATE (flight date)\n",
    "    #X['FlightDate'] = pd.to_datetime(FlightData['FL_DATE'])\n",
    "    X['FlightDate'] = pd.to_datetime(FlightData['FL_DATE']).apply(lambda x: x.toordinal())\n",
    "\n",
    "    # add other columns \n",
    "    #X = pd.concat([X, FlightData[['CRS_ARR_TIME','ARR_TIME','DISTANCE']]], \n",
    "    #              axis=1, sort=False)\n",
    "    X = pd.concat([X, FlightData[['CRS_ARR_TIME','DISTANCE']]], \n",
    "                  axis=1, sort=False)\n",
    "        \n",
    "    # set up target\n",
    "    y = FlightData['Delay']\n",
    "\n",
    "    return X,y"
   ]
  },
  {
   "cell_type": "code",
   "execution_count": 64,
   "metadata": {},
   "outputs": [
    {
     "name": "stdout",
     "output_type": "stream",
     "text": [
      "(306810, 16)\n",
      "(184876, 16)\n",
      "dropping flights departing SEA\n",
      "(568, 16)\n"
     ]
    }
   ],
   "source": [
    "X,y = SetUp_Xy(FlightData)"
   ]
  },
  {
   "cell_type": "code",
   "execution_count": 45,
   "metadata": {},
   "outputs": [],
   "source": [
    "# check for NaN\n",
    "for index,row in FlightData.iterrows():\n",
    "    for i in row:\n",
    "        if i == np.nan:\n",
    "            print(row)"
   ]
  },
  {
   "cell_type": "code",
   "execution_count": 46,
   "metadata": {},
   "outputs": [
    {
     "name": "stdout",
     "output_type": "stream",
     "text": [
      "CRS_ARR_TIME    1489.924188\n",
      "dtype: float64\n"
     ]
    }
   ],
   "source": [
    "print(X.mean())"
   ]
  },
  {
   "cell_type": "code",
   "execution_count": 65,
   "metadata": {},
   "outputs": [],
   "source": [
    "X.FlightDate = (X.FlightDate - X.FlightDate.mean())/X.FlightDate.std()\n",
    "X.DISTANCE = (X.DISTANCE - X.DISTANCE.mean())/X.DISTANCE.std()\n",
    "#X.ARR_TIME = (X.ARR_TIME - X.ARR_TIME.mean())/X.ARR_TIME.std()\n",
    "X.CRS_ARR_TIME = (X.CRS_ARR_TIME - X.CRS_ARR_TIME.mean())/X.CRS_ARR_TIME.std()"
   ]
  },
  {
   "cell_type": "markdown",
   "metadata": {},
   "source": [
    "## KNN"
   ]
  },
  {
   "cell_type": "code",
   "execution_count": 67,
   "metadata": {},
   "outputs": [
    {
     "name": "stdout",
     "output_type": "stream",
     "text": [
      "[1 0 0 0 0 0 0 0 1 0 0 0 0 0 0 0 0 0 0 0 0 0 0 0 1 0 0 1 0 0 0 1 0 0 0 0 0\n",
      " 0 0 0 1 0 0 0 0 0 0 0 0 1 1 0 0 0 0 0 0 0 1 0 0 0 0 0 0 0 0 0 1 0 0 1 0 0\n",
      " 0 0 0 0 0 0 0 0 0 0 0 0 0 0 0 0 0 0 0 0 0 0 1 0 0 0 0 0 1 0 0 0 0 0 0 0 1\n",
      " 0 0 0 0 0 0 1 1 0 0 0 0 0 0 0 0 0 0 0 0 0 0 0 0 0 1 0 0 0 0 0 1 0 0 0 1 0\n",
      " 0 0 1 0 0 0 0 1 0 0 0 0 0 0 0 0 1 0 0 0 0 0 0 0 1 0 0 0 0 0 0 0 0 0 0 0 0\n",
      " 0 0 1 0 1 0 0 0 0 0 1 0 1 0 0 0 0 0 0 0 0 1 0 0 0 0 0 0 0 1 0 0 0 0 0 0 0\n",
      " 0 0 0 0 1 1]\n"
     ]
    }
   ],
   "source": [
    "from sklearn.neighbors import KNeighborsClassifier\n",
    "from sklearn import metrics\n",
    "from sklearn.model_selection import train_test_split\n",
    "\n",
    "# STEP 1: split X and y into training and testing sets\n",
    "X_train, X_test, y_train, y_test = train_test_split(X, y, test_size=0.4, random_state=42)\n",
    "\n",
    "knn = KNeighborsClassifier(n_neighbors=3)\n",
    "knn.fit(X_train, y_train)\n",
    "y_pred = knn.predict(X_test)\n",
    "\n",
    "print(y_pred)"
   ]
  },
  {
   "cell_type": "code",
   "execution_count": 68,
   "metadata": {},
   "outputs": [
    {
     "name": "stdout",
     "output_type": "stream",
     "text": [
      "0.701754385965\n"
     ]
    }
   ],
   "source": [
    "y_pred = knn.predict(X_test)\n",
    "print(metrics.accuracy_score(y_test, y_pred))"
   ]
  },
  {
   "cell_type": "code",
   "execution_count": null,
   "metadata": {},
   "outputs": [],
   "source": []
  }
 ],
 "metadata": {
  "kernelspec": {
   "display_name": "Python 3",
   "language": "python",
   "name": "python3"
  },
  "language_info": {
   "codemirror_mode": {
    "name": "ipython",
    "version": 3
   },
   "file_extension": ".py",
   "mimetype": "text/x-python",
   "name": "python",
   "nbconvert_exporter": "python",
   "pygments_lexer": "ipython3",
   "version": "3.6.5"
  }
 },
 "nbformat": 4,
 "nbformat_minor": 2
}
