{
 "cells": [
  {
   "attachments": {},
   "cell_type": "markdown",
   "metadata": {},
   "source": [
    "# Project McNulty Analysis\n",
    "\n",
    "In this file I read the prepared data file (created in McNulty_DataRead.ipynb) and perform analysis on this data.\n",
    "\n",
    "Several supervised learning techniques were used\n",
    "\n",
    "* K Nearest Neighbor (KNN)\n",
    "* Support Vector Machine (SVM)\n",
    "* Logistic Regression\n",
    "* Decision Tree\n",
    "* Random Forest"
   ]
  },
  {
   "cell_type": "code",
   "execution_count": 5,
   "metadata": {
    "ExecuteTime": {
     "end_time": "2018-11-01T13:27:40.085675Z",
     "start_time": "2018-11-01T13:27:40.076378Z"
    }
   },
   "outputs": [],
   "source": [
    "import pandas as pd\n",
    "import matplotlib\n",
    "import numpy as np\n",
    "import matplotlib.pyplot as plt\n",
    "%matplotlib inline\n",
    "from sklearn.utils import shuffle\n",
    "from sklearn.metrics import roc_curve,auc\n",
    "\n",
    "from scipy import interp\n",
    "from sklearn.metrics import make_scorer\n",
    "from random import Random\n",
    "import timeit\n",
    "\n",
    "from IPython.display import Image\n",
    "\n",
    "from sklearn import datasets\n",
    "from sklearn.decomposition import PCA\n",
    "from sklearn.metrics import accuracy_score, confusion_matrix\n",
    "from sklearn.model_selection import train_test_split\n",
    "from sklearn import svm\n",
    "import itertools\n",
    "from sklearn.model_selection import StratifiedKFold\n",
    "\n",
    "\n",
    "from sklearn.model_selection import train_test_split\n",
    "from sklearn.neighbors import KNeighborsClassifier\n",
    "from sklearn import metrics\n",
    "from sklearn.model_selection import cross_val_score\n",
    "from sklearn.model_selection import RandomizedSearchCV\n",
    "\n",
    "from sklearn.linear_model import LogisticRegression\n",
    "from sklearn.preprocessing import StandardScaler\n",
    "from sklearn.pipeline import make_pipeline\n",
    "from sklearn.metrics import accuracy_score\n",
    "from sklearn.metrics import classification_report\n",
    "from sklearn.metrics import confusion_matrix\n",
    "\n",
    "from sklearn.tree import DecisionTreeClassifier\n",
    "from sklearn.svm import LinearSVC\n",
    "from sklearn.svm import SVC\n",
    "from sklearn.ensemble import RandomForestClassifier\n",
    "from sklearn.linear_model import LogisticRegression\n",
    "from sklearn.ensemble import GradientBoostingClassifier\n",
    "\n",
    "from sklearn import tree\n",
    "\n",
    "from sklearn.linear_model import LogisticRegression\n",
    "from sklearn.svm import SVC\n",
    "from sklearn.tree import DecisionTreeClassifier\n",
    "from sklearn.ensemble import RandomForestClassifier\n",
    "\n",
    "from sklearn.model_selection import GridSearchCV\n",
    "\n",
    "from datetime import datetime as dt\n",
    "import datetime\n",
    "\n",
    "import pickle"
   ]
  },
  {
   "cell_type": "code",
   "execution_count": 2,
   "metadata": {
    "ExecuteTime": {
     "end_time": "2018-11-01T13:27:14.035313Z",
     "start_time": "2018-11-01T13:27:12.194091Z"
    }
   },
   "outputs": [],
   "source": [
    "# read data file\n",
    "FlightData1 = pd.read_csv('data/FlightData_2016_2017.csv')\n",
    "FlightData2 = pd.read_csv('data/FlightData_2017_2018.csv')"
   ]
  },
  {
   "cell_type": "code",
   "execution_count": 3,
   "metadata": {
    "ExecuteTime": {
     "end_time": "2018-10-31T02:50:11.512984Z",
     "start_time": "2018-10-31T02:50:11.475068Z"
    }
   },
   "outputs": [
    {
     "data": {
      "text/plain": [
       "(26767, 35)"
      ]
     },
     "execution_count": 3,
     "metadata": {},
     "output_type": "execute_result"
    }
   ],
   "source": [
    "FlightData1[(FlightData1.DEST == 'SEA') & (FlightData1.Delay == 1)].shape"
   ]
  },
  {
   "cell_type": "code",
   "execution_count": 3,
   "metadata": {
    "ExecuteTime": {
     "end_time": "2018-11-01T13:27:20.402906Z",
     "start_time": "2018-11-01T13:27:20.396632Z"
    }
   },
   "outputs": [],
   "source": [
    "def SetUp_Xy(FlightData):\n",
    "    #print(FlightData.shape)\n",
    "    # drop Alaska Airlines flights to shrink dataset\n",
    "    #FlightData.drop(FlightData[FlightData.OP_UNIQUE_CARRIER == 'AS'].index,inplace=True)\n",
    "    #print(FlightData.shape)\n",
    "    \n",
    "    # take a smaller sample of the data\n",
    "    #FlightData = FlightData.sample(n=1000)\n",
    "\n",
    "    SEA_outbound = False  # drop outbound flights if True\n",
    "    SEA_inbound = True    # drop inbound flights if True\n",
    "    if not SEA_inbound:\n",
    "        print('dropping records arriving in SEA')\n",
    "        FlightData.drop(FlightData[FlightData.DEST == 'SEA'].index,inplace=True)\n",
    "\n",
    "    elif not SEA_outbound:\n",
    "        print('dropping flights departing SEA')\n",
    "        FlightData.drop(FlightData[FlightData.ORIGIN == 'SEA'].index,inplace=True)\n",
    "    #print(FlightData.shape)\n",
    "\n",
    "    # create one-hot columns for Airline Carrier\n",
    "    X = pd.get_dummies(FlightData[['OP_UNIQUE_CARRIER']])\n",
    "    \n",
    "    # or don't use the Airline Carrier in the analysis\n",
    "    #X = pd.DataFrame()\n",
    "    \n",
    "    # add datetime for FL_DATE (flight date)\n",
    "    #X['FlightDate'] = pd.to_datetime(FlightData['FL_DATE'])\n",
    "    #X['FlightDate'] = pd.to_datetime(FlightData['FL_DATE']).apply(lambda x: x.toordinal())\n",
    "    #X['Day_of_year'] = (pd.to_datetime(FlightData['FL_DATE'])).dt.dayofyear\n",
    "\n",
    "    # add other columns \n",
    "    #X = pd.concat([X, FlightData[['MONTH','DAY_OF_WEEK','Day_of_year','CRS_ARR_TIME',\n",
    "    #                              'ARR_TIME','DISTANCE']]], axis=1, sort=False)\n",
    "    X = pd.concat([X, FlightData[['MONTH','DAY_OF_WEEK','CRS_ARR_TIME',\n",
    "                                  'CRS_FLIGHT_TIME','DISTANCE',\n",
    "                                  'SEA_SNOW','SEA_TAVG','SEA_AWND',\n",
    "                                  'ORD_SNOW','ORD_TAVG','ORD_AWND',\n",
    "                                  'JFK_SNOW','JFK_TAVG','JFK_AWND'\n",
    "                                ]]], axis=1, sort=False)\n",
    "            \n",
    "    # set up target\n",
    "    y = FlightData['Delay']\n",
    "\n",
    "    return X,y"
   ]
  },
  {
   "cell_type": "code",
   "execution_count": 4,
   "metadata": {
    "ExecuteTime": {
     "end_time": "2018-11-01T13:27:26.546030Z",
     "start_time": "2018-11-01T13:27:26.260551Z"
    }
   },
   "outputs": [
    {
     "name": "stdout",
     "output_type": "stream",
     "text": [
      "dropping flights departing SEA\n",
      "dropping flights departing SEA\n"
     ]
    }
   ],
   "source": [
    "X1,y1 = SetUp_Xy(FlightData1)\n",
    "X2,y2 = SetUp_Xy(FlightData2)"
   ]
  },
  {
   "cell_type": "code",
   "execution_count": 6,
   "metadata": {
    "ExecuteTime": {
     "end_time": "2018-10-31T02:50:19.489591Z",
     "start_time": "2018-10-31T02:50:19.486412Z"
    }
   },
   "outputs": [
    {
     "name": "stdout",
     "output_type": "stream",
     "text": [
      "(166491, 26) (166491,)\n"
     ]
    }
   ],
   "source": [
    "print(X2.shape, y2.shape)"
   ]
  },
  {
   "cell_type": "code",
   "execution_count": 7,
   "metadata": {
    "ExecuteTime": {
     "end_time": "2018-10-31T02:50:23.745516Z",
     "start_time": "2018-10-31T02:50:22.903191Z"
    }
   },
   "outputs": [
    {
     "data": {
      "text/plain": [
       "<matplotlib.axes._subplots.AxesSubplot at 0x107c945c0>"
      ]
     },
     "execution_count": 7,
     "metadata": {},
     "output_type": "execute_result"
    },
    {
     "data": {
      "image/png": "[encoded data removed]",
      "text/plain": [
       "<Figure size 432x288 with 2 Axes>"
      ]
     },
     "metadata": {},
     "output_type": "display_data"
    }
   ],
   "source": [
    "import seaborn as sns\n",
    "corr = pd.concat([X1,y1],axis=1).corr()\n",
    "sns.heatmap(corr, \n",
    "            xticklabels=corr.columns.values,\n",
    "            yticklabels=corr.columns.values, vmin=-1, vmax=1, cmap='RdBu')"
   ]
  },
  {
   "cell_type": "code",
   "execution_count": 9,
   "metadata": {
    "ExecuteTime": {
     "end_time": "2018-10-31T02:50:51.687031Z",
     "start_time": "2018-10-31T02:50:51.682224Z"
    }
   },
   "outputs": [
    {
     "name": "stdout",
     "output_type": "stream",
     "text": [
      "OP_UNIQUE_CARRIER_AA    0.033595\n",
      "OP_UNIQUE_CARRIER_AS   -0.015559\n",
      "OP_UNIQUE_CARRIER_B6    0.019004\n",
      "OP_UNIQUE_CARRIER_DL   -0.037803\n",
      "OP_UNIQUE_CARRIER_F9    0.014733\n",
      "OP_UNIQUE_CARRIER_HA    0.017632\n",
      "OP_UNIQUE_CARRIER_NK    0.007649\n",
      "OP_UNIQUE_CARRIER_OO   -0.015674\n",
      "OP_UNIQUE_CARRIER_UA    0.002516\n",
      "OP_UNIQUE_CARRIER_VX    0.019244\n",
      "OP_UNIQUE_CARRIER_WN    0.030132\n",
      "MONTH                  -0.019423\n",
      "DAY_OF_WEEK            -0.029959\n",
      "CRS_ARR_TIME            0.020027\n",
      "CRS_FLIGHT_TIME        -0.023454\n",
      "DISTANCE                0.002204\n",
      "SEA_SNOW                0.064678\n",
      "SEA_TAVG               -0.061881\n",
      "SEA_AWND                0.054901\n",
      "ORD_SNOW                0.031208\n",
      "ORD_TAVG               -0.057510\n",
      "ORD_AWND                0.028246\n",
      "JFK_SNOW                0.034184\n",
      "JFK_TAVG               -0.042304\n",
      "JFK_AWND                0.012134\n",
      "Delay                   1.000000\n",
      "Name: Delay, dtype: float64\n"
     ]
    }
   ],
   "source": [
    "print(corr['Delay'])"
   ]
  },
  {
   "cell_type": "code",
   "execution_count": 10,
   "metadata": {
    "ExecuteTime": {
     "end_time": "2018-10-31T02:50:52.483656Z",
     "start_time": "2018-10-31T02:50:52.479555Z"
    }
   },
   "outputs": [
    {
     "data": {
      "text/plain": [
       "Index(['OP_UNIQUE_CARRIER_AA', 'OP_UNIQUE_CARRIER_AS', 'OP_UNIQUE_CARRIER_B6',\n",
       "       'OP_UNIQUE_CARRIER_DL', 'OP_UNIQUE_CARRIER_F9', 'OP_UNIQUE_CARRIER_HA',\n",
       "       'OP_UNIQUE_CARRIER_NK', 'OP_UNIQUE_CARRIER_OO', 'OP_UNIQUE_CARRIER_UA',\n",
       "       'OP_UNIQUE_CARRIER_VX', 'OP_UNIQUE_CARRIER_WN', 'MONTH', 'DAY_OF_WEEK',\n",
       "       'CRS_ARR_TIME', 'CRS_FLIGHT_TIME', 'DISTANCE', 'SEA_SNOW', 'SEA_TAVG',\n",
       "       'SEA_AWND', 'ORD_SNOW', 'ORD_TAVG', 'ORD_AWND', 'JFK_SNOW', 'JFK_TAVG',\n",
       "       'JFK_AWND', 'Delay'],\n",
       "      dtype='object')"
      ]
     },
     "execution_count": 10,
     "metadata": {},
     "output_type": "execute_result"
    }
   ],
   "source": [
    "corr.columns"
   ]
  },
  {
   "cell_type": "code",
   "execution_count": 11,
   "metadata": {
    "ExecuteTime": {
     "end_time": "2018-10-31T02:50:53.411684Z",
     "start_time": "2018-10-31T02:50:53.191385Z"
    }
   },
   "outputs": [
    {
     "data": {
      "image/png": "[encoded data removed]",
      "text/plain": [
       "<Figure size 432x288 with 1 Axes>"
      ]
     },
     "metadata": {},
     "output_type": "display_data"
    }
   ],
   "source": [
    "Delay_corr = corr['Delay']\n",
    "Delay_corr.drop(labels=['Delay'],inplace=True)\n",
    "plt.bar(Delay_corr.index,Delay_corr);\n",
    "plt.xticks(rotation=90);\n"
   ]
  },
  {
   "cell_type": "code",
   "execution_count": null,
   "metadata": {
    "ExecuteTime": {
     "end_time": "2018-10-27T15:53:07.762701Z",
     "start_time": "2018-10-27T15:53:07.699815Z"
    }
   },
   "outputs": [],
   "source": [
    "X1.describe()"
   ]
  },
  {
   "cell_type": "code",
   "execution_count": null,
   "metadata": {
    "ExecuteTime": {
     "end_time": "2018-10-27T15:53:08.533320Z",
     "start_time": "2018-10-27T15:53:08.529037Z"
    }
   },
   "outputs": [],
   "source": [
    "X2.columns"
   ]
  },
  {
   "cell_type": "code",
   "execution_count": 6,
   "metadata": {
    "ExecuteTime": {
     "end_time": "2018-11-01T13:28:00.129334Z",
     "start_time": "2018-11-01T13:28:00.110946Z"
    }
   },
   "outputs": [
    {
     "name": "stdout",
     "output_type": "stream",
     "text": [
      "adding OP_UNIQUE_CARRIER_G4 column\n"
     ]
    }
   ],
   "source": [
    "# add G4 airline if not in database\n",
    "if 'OP_UNIQUE_CARRIER_G4' not in X1.columns:\n",
    "    print('adding OP_UNIQUE_CARRIER_G4 column')\n",
    "    X1['OP_UNIQUE_CARRIER_G4'] = 0\n",
    "    # re-order the columns to match X2\n",
    "    X1 = X1[X2.columns]"
   ]
  },
  {
   "cell_type": "markdown",
   "metadata": {},
   "source": [
    "### Train Test Split"
   ]
  },
  {
   "cell_type": "code",
   "execution_count": 7,
   "metadata": {
    "ExecuteTime": {
     "end_time": "2018-11-01T13:28:05.171737Z",
     "start_time": "2018-11-01T13:28:05.034322Z"
    }
   },
   "outputs": [
    {
     "name": "stdout",
     "output_type": "stream",
     "text": [
      "X1\n",
      "balance in base set:      124317 29834\n",
      "(92490, 26) (92490,)\n",
      "(61661, 26) (61661,)\n",
      "balance in training set:  74590 17900\n",
      "balance in test set:      49727 11934\n",
      " \n",
      "X2\n",
      "balance in base set:      136589 29902\n",
      "(99894, 26) (99894,)\n",
      "(66597, 26) (66597,)\n",
      "balance in training set:  81953 17941\n",
      "balance in test set:      54636 11961\n"
     ]
    }
   ],
   "source": [
    "# STEP 1: split X and y into training and testing sets\n",
    "X2_train, X2_test, y2_train, y2_test = train_test_split(X2, y2, test_size=0.4, \n",
    "                                                        random_state=42, stratify = y2.values)\n",
    "X1_train, X1_test, y1_train, y1_test = train_test_split(X1, y1, test_size=0.4, \n",
    "                                                        random_state=42, stratify = y1.values)\n",
    "\n",
    "print('X1')\n",
    "print('balance in base set:     ',y1[y1 == 0].count(), y1[y1 == 1].count())\n",
    "\n",
    "print(X1_train.shape,y1_train.shape)\n",
    "print(X1_test.shape,y1_test.shape)\n",
    "print('balance in training set: ',y1_train[y1_train == 0].count(), y1_train[y1_train == 1].count())\n",
    "print('balance in test set:     ',y1_test[y1_test == 0].count(),   y1_test[y1_test == 1].count())\n",
    "\n",
    "print(' ')\n",
    "print('X2')\n",
    "print('balance in base set:     ',y2[y2 == 0].count(), y2[y2 == 1].count())\n",
    "\n",
    "print(X2_train.shape,y2_train.shape)\n",
    "print(X2_test.shape,y2_test.shape)\n",
    "print('balance in training set: ',y2_train[y2_train == 0].count(), y2_train[y2_train == 1].count())\n",
    "print('balance in test set:     ',y2_test[y2_test == 0].count(),   y2_test[y2_test == 1].count())"
   ]
  },
  {
   "cell_type": "code",
   "execution_count": 8,
   "metadata": {
    "ExecuteTime": {
     "end_time": "2018-11-01T13:28:11.614048Z",
     "start_time": "2018-11-01T13:28:11.591857Z"
    }
   },
   "outputs": [],
   "source": [
    "# create a dataset combining X2 and X1\n",
    "X3_train = pd.concat([X2_train,X1_train])\n",
    "y3_train = pd.concat([y2_train,y1_train])\n",
    "\n",
    "# reduce training set\n",
    "#X3_train = X3_train.sample(frac=0.25, random_state=1)\n",
    "#y3_train = y3_train.sample(frac=0.25, random_state=1)"
   ]
  },
  {
   "cell_type": "code",
   "execution_count": 9,
   "metadata": {
    "ExecuteTime": {
     "end_time": "2018-11-01T13:28:14.023362Z",
     "start_time": "2018-11-01T13:28:13.813229Z"
    }
   },
   "outputs": [
    {
     "name": "stderr",
     "output_type": "stream",
     "text": [
      "/anaconda3/lib/python3.6/site-packages/sklearn/preprocessing/data.py:617: DataConversionWarning: Data with input dtype uint8, int64, float64 were all converted to float64 by StandardScaler.\n",
      "  return self.partial_fit(X, y)\n",
      "/anaconda3/lib/python3.6/site-packages/sklearn/base.py:462: DataConversionWarning: Data with input dtype uint8, int64, float64 were all converted to float64 by StandardScaler.\n",
      "  return self.fit(X, **fit_params).transform(X)\n",
      "/anaconda3/lib/python3.6/site-packages/sklearn/preprocessing/data.py:617: DataConversionWarning: Data with input dtype uint8, int64, float64 were all converted to float64 by StandardScaler.\n",
      "  return self.partial_fit(X, y)\n",
      "/anaconda3/lib/python3.6/site-packages/sklearn/base.py:462: DataConversionWarning: Data with input dtype uint8, int64, float64 were all converted to float64 by StandardScaler.\n",
      "  return self.fit(X, **fit_params).transform(X)\n",
      "/anaconda3/lib/python3.6/site-packages/sklearn/preprocessing/data.py:617: DataConversionWarning: Data with input dtype uint8, int64, float64 were all converted to float64 by StandardScaler.\n",
      "  return self.partial_fit(X, y)\n",
      "/anaconda3/lib/python3.6/site-packages/sklearn/base.py:462: DataConversionWarning: Data with input dtype uint8, int64, float64 were all converted to float64 by StandardScaler.\n",
      "  return self.fit(X, **fit_params).transform(X)\n"
     ]
    }
   ],
   "source": [
    "X_train = X3_train.copy()\n",
    "y_train = y3_train.copy()\n",
    "\n",
    "DownSample = True\n",
    "if DownSample:\n",
    "    # remove enough rows where Delay=0 to make classes even\n",
    "    df2_D1 = X_train[y_train == 1]\n",
    "\n",
    "    df2_D0 = X_train[y_train == 0]\n",
    "    df2_D0 = df2_D0.sample(n=df2_D1.shape[0], random_state=1)  # even Delay=1 & 0\n",
    "    X_train = pd.concat([df2_D1,df2_D0])\n",
    "\n",
    "    y_D1 = y_train[y_train == 1]\n",
    "    y_D0 = y_train[y_train == 0]\n",
    "    y_D0 = y_D0.sample(n=df2_D1.shape[0], random_state=1)\n",
    "    y_train = pd.concat([y_D1,y_D0])\n",
    " \n",
    "\n",
    "X_test = X1_test.sample(frac=1.0, random_state=1).copy()\n",
    "y_test = y1_test.sample(frac=1.0, random_state=1).copy()\n",
    "\n",
    "X2_test = X2_test.sample(frac=1.0, random_state=1).copy()\n",
    "y2_test = y2_test.sample(frac=1.0, random_state=1).copy()\n",
    "\n",
    "# normalize the data\n",
    "ssX = StandardScaler()\n",
    "X_train = pd.DataFrame(ssX.fit_transform(X_train), index=X_train.index, columns=X_train.columns)\n",
    "#X_test_scaled = ssX.transform(X_test)\n",
    "X_test = pd.DataFrame(ssX.fit_transform(X_test), index=X_test.index, columns=X_test.columns)\n",
    "X2_test = pd.DataFrame(ssX.fit_transform(X2_test), index=X2_test.index, columns=X2_test.columns)\n"
   ]
  },
  {
   "cell_type": "code",
   "execution_count": 10,
   "metadata": {
    "ExecuteTime": {
     "end_time": "2018-11-01T13:28:20.480325Z",
     "start_time": "2018-11-01T13:28:20.410112Z"
    }
   },
   "outputs": [
    {
     "name": "stderr",
     "output_type": "stream",
     "text": [
      "/anaconda3/lib/python3.6/site-packages/sklearn/preprocessing/data.py:617: DataConversionWarning: Data with input dtype uint8, int64, float64 were all converted to float64 by StandardScaler.\n",
      "  return self.partial_fit(X, y)\n",
      "/anaconda3/lib/python3.6/site-packages/sklearn/base.py:462: DataConversionWarning: Data with input dtype uint8, int64, float64 were all converted to float64 by StandardScaler.\n",
      "  return self.fit(X, **fit_params).transform(X)\n"
     ]
    }
   ],
   "source": [
    "X_test = X1_test.copy()\n",
    "y_test = y1_test.copy()\n",
    "X_test = pd.DataFrame(ssX.fit_transform(X_test), index=X_test.index, columns=X_test.columns)\n",
    "\n",
    "X2_test = X2_test.copy()\n",
    "y2_test = y2_test.copy()\n",
    "X2_test = pd.DataFrame(ssX.fit_transform(X2_test), index=X2_test.index, columns=X2_test.columns)\n"
   ]
  },
  {
   "cell_type": "code",
   "execution_count": 16,
   "metadata": {
    "ExecuteTime": {
     "end_time": "2018-10-31T02:51:31.401343Z",
     "start_time": "2018-10-31T02:51:31.015631Z"
    }
   },
   "outputs": [
    {
     "data": {
      "image/png": "[encoded data removed]",
      "text/plain": [
       "<Figure size 432x288 with 1 Axes>"
      ]
     },
     "metadata": {},
     "output_type": "display_data"
    }
   ],
   "source": [
    "corr = pd.concat([X1,y1],axis=1).corr()\n",
    "Delay_corr = corr['Delay']\n",
    "Delay_corr.drop(labels=['Delay'],inplace=True)\n",
    "plt.bar(Delay_corr.index,Delay_corr);\n",
    "plt.xticks(rotation=90);\n"
   ]
  },
  {
   "cell_type": "code",
   "execution_count": 17,
   "metadata": {
    "ExecuteTime": {
     "end_time": "2018-10-31T02:51:38.729272Z",
     "start_time": "2018-10-31T02:51:38.713412Z"
    }
   },
   "outputs": [
    {
     "name": "stdout",
     "output_type": "stream",
     "text": [
      "(71682, 26) (71682,)\n",
      "(61661, 26) (61661,)\n",
      "balance in training set:  35841 35841\n",
      "balance in test set:      49727 11934\n",
      "balance in test2 set:     54636 11961\n"
     ]
    }
   ],
   "source": [
    "print(X_train.shape,y_train.shape)\n",
    "print(X_test.shape,y_test.shape)\n",
    "print('balance in training set: ',y_train[y_train == 0].count(), y_train[y_train == 1].count())\n",
    "print('balance in test set:     ',y_test[y_test == 0].count(),   y_test[y_test == 1].count())\n",
    "print('balance in test2 set:    ',y2_test[y2_test == 0].count(), y2_test[y2_test == 1].count())"
   ]
  },
  {
   "cell_type": "markdown",
   "metadata": {},
   "source": [
    "## KNN"
   ]
  },
  {
   "cell_type": "code",
   "execution_count": 18,
   "metadata": {
    "ExecuteTime": {
     "end_time": "2018-10-31T02:51:48.666574Z",
     "start_time": "2018-10-31T02:51:45.567754Z"
    }
   },
   "outputs": [
    {
     "data": {
      "text/plain": [
       "KNeighborsClassifier(algorithm='auto', leaf_size=30, metric='minkowski',\n",
       "           metric_params=None, n_jobs=-1, n_neighbors=10, p=2,\n",
       "           weights='uniform')"
      ]
     },
     "execution_count": 18,
     "metadata": {},
     "output_type": "execute_result"
    }
   ],
   "source": [
    "model_knn = KNeighborsClassifier(n_neighbors=10, n_jobs=-1)\n",
    "model_knn.fit(X_train, y_train)"
   ]
  },
  {
   "cell_type": "code",
   "execution_count": 19,
   "metadata": {
    "ExecuteTime": {
     "end_time": "2018-10-31T02:51:49.589668Z",
     "start_time": "2018-10-31T02:51:49.586461Z"
    }
   },
   "outputs": [
    {
     "name": "stdout",
     "output_type": "stream",
     "text": [
      "(71682, 26) (71682,)\n"
     ]
    }
   ],
   "source": [
    "print(X_train.shape, y_train.shape)"
   ]
  },
  {
   "cell_type": "code",
   "execution_count": 20,
   "metadata": {
    "ExecuteTime": {
     "end_time": "2018-10-31T02:52:48.198018Z",
     "start_time": "2018-10-31T02:51:51.379482Z"
    }
   },
   "outputs": [
    {
     "data": {
      "text/plain": [
       "array([1, 0, 0, ..., 0, 0, 0])"
      ]
     },
     "execution_count": 20,
     "metadata": {},
     "output_type": "execute_result"
    }
   ],
   "source": [
    "model_knn.predict(X_test)"
   ]
  },
  {
   "cell_type": "code",
   "execution_count": 26,
   "metadata": {
    "ExecuteTime": {
     "end_time": "2018-10-31T02:55:14.735731Z",
     "start_time": "2018-10-31T02:55:14.447246Z"
    }
   },
   "outputs": [
    {
     "name": "stdout",
     "output_type": "stream",
     "text": [
      "              precision    recall  f1-score   support\n",
      "\n",
      "           0       0.86      0.65      0.74     49727\n",
      "           1       0.28      0.56      0.37     11934\n",
      "\n",
      "   micro avg       0.64      0.64      0.64     61661\n",
      "   macro avg       0.57      0.61      0.56     61661\n",
      "weighted avg       0.75      0.64      0.67     61661\n",
      "\n",
      "Accuracy Score:  0.635036733105\n",
      " \n",
      "Confusion matrix, without normalization\n",
      "[[32496 17231]\n",
      " [ 5273  6661]]\n"
     ]
    },
    {
     "data": {
      "image/png": "[encoded data removed]",
      "text/plain": [
       "<Figure size 432x288 with 2 Axes>"
      ]
     },
     "metadata": {},
     "output_type": "display_data"
    },
    {
     "data": {
      "image/png": "[encoded data removed]",
      "text/plain": [
       "<Figure size 360x360 with 1 Axes>"
      ]
     },
     "metadata": {},
     "output_type": "display_data"
    }
   ],
   "source": [
    "y_pred       = model_knn.predict(X_test)\n",
    "y_pred_proba = model_knn.predict_proba(X_test)[:,1]\n",
    "results_analysis(y_test,y_pred,y_pred_proba)"
   ]
  },
  {
   "cell_type": "code",
   "execution_count": 27,
   "metadata": {
    "ExecuteTime": {
     "end_time": "2018-10-31T02:57:29.103717Z",
     "start_time": "2018-10-31T02:55:32.563656Z"
    }
   },
   "outputs": [
    {
     "name": "stdout",
     "output_type": "stream",
     "text": [
      "              precision    recall  f1-score   support\n",
      "\n",
      "           0       0.87      0.69      0.77     54636\n",
      "           1       0.27      0.53      0.36     11961\n",
      "\n",
      "   micro avg       0.66      0.66      0.66     66597\n",
      "   macro avg       0.57      0.61      0.56     66597\n",
      "weighted avg       0.76      0.66      0.69     66597\n",
      "\n",
      "Accuracy Score:  0.65746204784\n",
      " \n",
      "Confusion matrix, without normalization\n",
      "[[37471 17165]\n",
      " [ 5647  6314]]\n"
     ]
    },
    {
     "data": {
      "image/png": "[encoded data removed]",
      "text/plain": [
       "<Figure size 432x288 with 2 Axes>"
      ]
     },
     "metadata": {},
     "output_type": "display_data"
    },
    {
     "data": {
      "image/png": "[encoded data removed]",
      "text/plain": [
       "<Figure size 360x360 with 1 Axes>"
      ]
     },
     "metadata": {},
     "output_type": "display_data"
    }
   ],
   "source": [
    "y2_pred       = model_knn.predict(X2_test)\n",
    "y2_pred_proba = model_knn.predict_proba(X2_test)[:,1]\n",
    "results_analysis(y2_test,y2_pred,y2_pred_proba)"
   ]
  },
  {
   "cell_type": "code",
   "execution_count": 28,
   "metadata": {
    "ExecuteTime": {
     "end_time": "2018-10-31T02:58:45.936606Z",
     "start_time": "2018-10-31T02:58:21.656093Z"
    },
    "collapsed": true
   },
   "outputs": [
    {
     "ename": "KeyboardInterrupt",
     "evalue": "",
     "output_type": "error",
     "traceback": [
      "\u001b[0;31m---------------------------------------------------------------------------\u001b[0m",
      "\u001b[0;31mKeyboardInterrupt\u001b[0m                         Traceback (most recent call last)",
      "\u001b[0;32m<ipython-input-28-6408a2f4b432>\u001b[0m in \u001b[0;36m<module>\u001b[0;34m()\u001b[0m\n\u001b[1;32m      4\u001b[0m \u001b[0;32mfor\u001b[0m \u001b[0mk\u001b[0m \u001b[0;32min\u001b[0m \u001b[0mk_range\u001b[0m\u001b[0;34m:\u001b[0m\u001b[0;34m\u001b[0m\u001b[0m\n\u001b[1;32m      5\u001b[0m     \u001b[0mmodel_knn\u001b[0m \u001b[0;34m=\u001b[0m \u001b[0mKNeighborsClassifier\u001b[0m\u001b[0;34m(\u001b[0m\u001b[0mn_neighbors\u001b[0m\u001b[0;34m=\u001b[0m\u001b[0mk\u001b[0m\u001b[0;34m)\u001b[0m\u001b[0;34m\u001b[0m\u001b[0m\n\u001b[0;32m----> 6\u001b[0;31m     \u001b[0mscores\u001b[0m \u001b[0;34m=\u001b[0m \u001b[0mcross_val_score\u001b[0m\u001b[0;34m(\u001b[0m\u001b[0mmodel_knn\u001b[0m\u001b[0;34m,\u001b[0m \u001b[0mX_train\u001b[0m\u001b[0;34m,\u001b[0m \u001b[0my_train\u001b[0m\u001b[0;34m,\u001b[0m \u001b[0mcv\u001b[0m\u001b[0;34m=\u001b[0m\u001b[0;36m10\u001b[0m\u001b[0;34m,\u001b[0m \u001b[0mscoring\u001b[0m\u001b[0;34m=\u001b[0m\u001b[0;34m'accuracy'\u001b[0m\u001b[0;34m,\u001b[0m\u001b[0mn_jobs\u001b[0m\u001b[0;34m=\u001b[0m\u001b[0;34m-\u001b[0m\u001b[0;36m1\u001b[0m\u001b[0;34m)\u001b[0m\u001b[0;34m\u001b[0m\u001b[0m\n\u001b[0m\u001b[1;32m      7\u001b[0m     \u001b[0mk_scores\u001b[0m\u001b[0;34m.\u001b[0m\u001b[0mappend\u001b[0m\u001b[0;34m(\u001b[0m\u001b[0mscores\u001b[0m\u001b[0;34m.\u001b[0m\u001b[0mmean\u001b[0m\u001b[0;34m(\u001b[0m\u001b[0;34m)\u001b[0m\u001b[0;34m)\u001b[0m\u001b[0;34m\u001b[0m\u001b[0m\n\u001b[1;32m      8\u001b[0m \u001b[0mprint\u001b[0m\u001b[0;34m(\u001b[0m\u001b[0mk_scores\u001b[0m\u001b[0;34m)\u001b[0m\u001b[0;34m\u001b[0m\u001b[0m\n",
      "\u001b[0;32m/anaconda3/lib/python3.6/site-packages/sklearn/model_selection/_validation.py\u001b[0m in \u001b[0;36mcross_val_score\u001b[0;34m(estimator, X, y, groups, scoring, cv, n_jobs, verbose, fit_params, pre_dispatch, error_score)\u001b[0m\n\u001b[1;32m    400\u001b[0m                                 \u001b[0mfit_params\u001b[0m\u001b[0;34m=\u001b[0m\u001b[0mfit_params\u001b[0m\u001b[0;34m,\u001b[0m\u001b[0;34m\u001b[0m\u001b[0m\n\u001b[1;32m    401\u001b[0m                                 \u001b[0mpre_dispatch\u001b[0m\u001b[0;34m=\u001b[0m\u001b[0mpre_dispatch\u001b[0m\u001b[0;34m,\u001b[0m\u001b[0;34m\u001b[0m\u001b[0m\n\u001b[0;32m--> 402\u001b[0;31m                                 error_score=error_score)\n\u001b[0m\u001b[1;32m    403\u001b[0m     \u001b[0;32mreturn\u001b[0m \u001b[0mcv_results\u001b[0m\u001b[0;34m[\u001b[0m\u001b[0;34m'test_score'\u001b[0m\u001b[0;34m]\u001b[0m\u001b[0;34m\u001b[0m\u001b[0m\n\u001b[1;32m    404\u001b[0m \u001b[0;34m\u001b[0m\u001b[0m\n",
      "\u001b[0;32m/anaconda3/lib/python3.6/site-packages/sklearn/model_selection/_validation.py\u001b[0m in \u001b[0;36mcross_validate\u001b[0;34m(estimator, X, y, groups, scoring, cv, n_jobs, verbose, fit_params, pre_dispatch, return_train_score, return_estimator, error_score)\u001b[0m\n\u001b[1;32m    238\u001b[0m             \u001b[0mreturn_times\u001b[0m\u001b[0;34m=\u001b[0m\u001b[0;32mTrue\u001b[0m\u001b[0;34m,\u001b[0m \u001b[0mreturn_estimator\u001b[0m\u001b[0;34m=\u001b[0m\u001b[0mreturn_estimator\u001b[0m\u001b[0;34m,\u001b[0m\u001b[0;34m\u001b[0m\u001b[0m\n\u001b[1;32m    239\u001b[0m             error_score=error_score)\n\u001b[0;32m--> 240\u001b[0;31m         for train, test in cv.split(X, y, groups))\n\u001b[0m\u001b[1;32m    241\u001b[0m \u001b[0;34m\u001b[0m\u001b[0m\n\u001b[1;32m    242\u001b[0m     \u001b[0mzipped_scores\u001b[0m \u001b[0;34m=\u001b[0m \u001b[0mlist\u001b[0m\u001b[0;34m(\u001b[0m\u001b[0mzip\u001b[0m\u001b[0;34m(\u001b[0m\u001b[0;34m*\u001b[0m\u001b[0mscores\u001b[0m\u001b[0;34m)\u001b[0m\u001b[0;34m)\u001b[0m\u001b[0;34m\u001b[0m\u001b[0m\n",
      "\u001b[0;32m/anaconda3/lib/python3.6/site-packages/sklearn/externals/joblib/parallel.py\u001b[0m in \u001b[0;36m__call__\u001b[0;34m(self, iterable)\u001b[0m\n\u001b[1;32m    994\u001b[0m \u001b[0;34m\u001b[0m\u001b[0m\n\u001b[1;32m    995\u001b[0m             \u001b[0;32mwith\u001b[0m \u001b[0mself\u001b[0m\u001b[0;34m.\u001b[0m\u001b[0m_backend\u001b[0m\u001b[0;34m.\u001b[0m\u001b[0mretrieval_context\u001b[0m\u001b[0;34m(\u001b[0m\u001b[0;34m)\u001b[0m\u001b[0;34m:\u001b[0m\u001b[0;34m\u001b[0m\u001b[0m\n\u001b[0;32m--> 996\u001b[0;31m                 \u001b[0mself\u001b[0m\u001b[0;34m.\u001b[0m\u001b[0mretrieve\u001b[0m\u001b[0;34m(\u001b[0m\u001b[0;34m)\u001b[0m\u001b[0;34m\u001b[0m\u001b[0m\n\u001b[0m\u001b[1;32m    997\u001b[0m             \u001b[0;31m# Make sure that we get a last message telling us we are done\u001b[0m\u001b[0;34m\u001b[0m\u001b[0;34m\u001b[0m\u001b[0m\n\u001b[1;32m    998\u001b[0m             \u001b[0melapsed_time\u001b[0m \u001b[0;34m=\u001b[0m \u001b[0mtime\u001b[0m\u001b[0;34m.\u001b[0m\u001b[0mtime\u001b[0m\u001b[0;34m(\u001b[0m\u001b[0;34m)\u001b[0m \u001b[0;34m-\u001b[0m \u001b[0mself\u001b[0m\u001b[0;34m.\u001b[0m\u001b[0m_start_time\u001b[0m\u001b[0;34m\u001b[0m\u001b[0m\n",
      "\u001b[0;32m/anaconda3/lib/python3.6/site-packages/sklearn/externals/joblib/parallel.py\u001b[0m in \u001b[0;36mretrieve\u001b[0;34m(self)\u001b[0m\n\u001b[1;32m    897\u001b[0m             \u001b[0;32mtry\u001b[0m\u001b[0;34m:\u001b[0m\u001b[0;34m\u001b[0m\u001b[0m\n\u001b[1;32m    898\u001b[0m                 \u001b[0;32mif\u001b[0m \u001b[0mgetattr\u001b[0m\u001b[0;34m(\u001b[0m\u001b[0mself\u001b[0m\u001b[0;34m.\u001b[0m\u001b[0m_backend\u001b[0m\u001b[0;34m,\u001b[0m \u001b[0;34m'supports_timeout'\u001b[0m\u001b[0;34m,\u001b[0m \u001b[0;32mFalse\u001b[0m\u001b[0;34m)\u001b[0m\u001b[0;34m:\u001b[0m\u001b[0;34m\u001b[0m\u001b[0m\n\u001b[0;32m--> 899\u001b[0;31m                     \u001b[0mself\u001b[0m\u001b[0;34m.\u001b[0m\u001b[0m_output\u001b[0m\u001b[0;34m.\u001b[0m\u001b[0mextend\u001b[0m\u001b[0;34m(\u001b[0m\u001b[0mjob\u001b[0m\u001b[0;34m.\u001b[0m\u001b[0mget\u001b[0m\u001b[0;34m(\u001b[0m\u001b[0mtimeout\u001b[0m\u001b[0;34m=\u001b[0m\u001b[0mself\u001b[0m\u001b[0;34m.\u001b[0m\u001b[0mtimeout\u001b[0m\u001b[0;34m)\u001b[0m\u001b[0;34m)\u001b[0m\u001b[0;34m\u001b[0m\u001b[0m\n\u001b[0m\u001b[1;32m    900\u001b[0m                 \u001b[0;32melse\u001b[0m\u001b[0;34m:\u001b[0m\u001b[0;34m\u001b[0m\u001b[0m\n\u001b[1;32m    901\u001b[0m                     \u001b[0mself\u001b[0m\u001b[0;34m.\u001b[0m\u001b[0m_output\u001b[0m\u001b[0;34m.\u001b[0m\u001b[0mextend\u001b[0m\u001b[0;34m(\u001b[0m\u001b[0mjob\u001b[0m\u001b[0;34m.\u001b[0m\u001b[0mget\u001b[0m\u001b[0;34m(\u001b[0m\u001b[0;34m)\u001b[0m\u001b[0;34m)\u001b[0m\u001b[0;34m\u001b[0m\u001b[0m\n",
      "\u001b[0;32m/anaconda3/lib/python3.6/site-packages/sklearn/externals/joblib/_parallel_backends.py\u001b[0m in \u001b[0;36mwrap_future_result\u001b[0;34m(future, timeout)\u001b[0m\n\u001b[1;32m    515\u001b[0m         AsyncResults.get from multiprocessing.\"\"\"\n\u001b[1;32m    516\u001b[0m         \u001b[0;32mtry\u001b[0m\u001b[0;34m:\u001b[0m\u001b[0;34m\u001b[0m\u001b[0m\n\u001b[0;32m--> 517\u001b[0;31m             \u001b[0;32mreturn\u001b[0m \u001b[0mfuture\u001b[0m\u001b[0;34m.\u001b[0m\u001b[0mresult\u001b[0m\u001b[0;34m(\u001b[0m\u001b[0mtimeout\u001b[0m\u001b[0;34m=\u001b[0m\u001b[0mtimeout\u001b[0m\u001b[0;34m)\u001b[0m\u001b[0;34m\u001b[0m\u001b[0m\n\u001b[0m\u001b[1;32m    518\u001b[0m         \u001b[0;32mexcept\u001b[0m \u001b[0mLokyTimeoutError\u001b[0m\u001b[0;34m:\u001b[0m\u001b[0;34m\u001b[0m\u001b[0m\n\u001b[1;32m    519\u001b[0m             \u001b[0;32mraise\u001b[0m \u001b[0mTimeoutError\u001b[0m\u001b[0;34m(\u001b[0m\u001b[0;34m)\u001b[0m\u001b[0;34m\u001b[0m\u001b[0m\n",
      "\u001b[0;32m/anaconda3/lib/python3.6/concurrent/futures/_base.py\u001b[0m in \u001b[0;36mresult\u001b[0;34m(self, timeout)\u001b[0m\n\u001b[1;32m    425\u001b[0m                 \u001b[0;32mreturn\u001b[0m \u001b[0mself\u001b[0m\u001b[0;34m.\u001b[0m\u001b[0m__get_result\u001b[0m\u001b[0;34m(\u001b[0m\u001b[0;34m)\u001b[0m\u001b[0;34m\u001b[0m\u001b[0m\n\u001b[1;32m    426\u001b[0m \u001b[0;34m\u001b[0m\u001b[0m\n\u001b[0;32m--> 427\u001b[0;31m             \u001b[0mself\u001b[0m\u001b[0;34m.\u001b[0m\u001b[0m_condition\u001b[0m\u001b[0;34m.\u001b[0m\u001b[0mwait\u001b[0m\u001b[0;34m(\u001b[0m\u001b[0mtimeout\u001b[0m\u001b[0;34m)\u001b[0m\u001b[0;34m\u001b[0m\u001b[0m\n\u001b[0m\u001b[1;32m    428\u001b[0m \u001b[0;34m\u001b[0m\u001b[0m\n\u001b[1;32m    429\u001b[0m             \u001b[0;32mif\u001b[0m \u001b[0mself\u001b[0m\u001b[0;34m.\u001b[0m\u001b[0m_state\u001b[0m \u001b[0;32min\u001b[0m \u001b[0;34m[\u001b[0m\u001b[0mCANCELLED\u001b[0m\u001b[0;34m,\u001b[0m \u001b[0mCANCELLED_AND_NOTIFIED\u001b[0m\u001b[0;34m]\u001b[0m\u001b[0;34m:\u001b[0m\u001b[0;34m\u001b[0m\u001b[0m\n",
      "\u001b[0;32m/anaconda3/lib/python3.6/threading.py\u001b[0m in \u001b[0;36mwait\u001b[0;34m(self, timeout)\u001b[0m\n\u001b[1;32m    293\u001b[0m         \u001b[0;32mtry\u001b[0m\u001b[0;34m:\u001b[0m    \u001b[0;31m# restore state no matter what (e.g., KeyboardInterrupt)\u001b[0m\u001b[0;34m\u001b[0m\u001b[0m\n\u001b[1;32m    294\u001b[0m             \u001b[0;32mif\u001b[0m \u001b[0mtimeout\u001b[0m \u001b[0;32mis\u001b[0m \u001b[0;32mNone\u001b[0m\u001b[0;34m:\u001b[0m\u001b[0;34m\u001b[0m\u001b[0m\n\u001b[0;32m--> 295\u001b[0;31m                 \u001b[0mwaiter\u001b[0m\u001b[0;34m.\u001b[0m\u001b[0macquire\u001b[0m\u001b[0;34m(\u001b[0m\u001b[0;34m)\u001b[0m\u001b[0;34m\u001b[0m\u001b[0m\n\u001b[0m\u001b[1;32m    296\u001b[0m                 \u001b[0mgotit\u001b[0m \u001b[0;34m=\u001b[0m \u001b[0;32mTrue\u001b[0m\u001b[0;34m\u001b[0m\u001b[0m\n\u001b[1;32m    297\u001b[0m             \u001b[0;32melse\u001b[0m\u001b[0;34m:\u001b[0m\u001b[0;34m\u001b[0m\u001b[0m\n",
      "\u001b[0;31mKeyboardInterrupt\u001b[0m: "
     ]
    }
   ],
   "source": [
    "# search for an optimal value of K for KNN\n",
    "k_range = list(range(1, 31))\n",
    "\n",
    "k_scores = []\n",
    "for k in k_range:\n",
    "    model_knn = KNeighborsClassifier(n_neighbors=k)\n",
    "    scores = cross_val_score(model_knn, X_train, y_train, cv=10, scoring='accuracy',n_jobs=-1)\n",
    "    k_scores.append(scores.mean())\n",
    "print(k_scores)\n",
    "\n",
    "# plot the value of K for KNN (x-axis) versus the cross-validated accuracy (y-axis)\n",
    "plt.plot(k_range, k_scores)\n",
    "plt.xlabel('Value of K for KNN')\n",
    "plt.ylabel('Cross-Validated Accuracy')"
   ]
  },
  {
   "cell_type": "code",
   "execution_count": null,
   "metadata": {},
   "outputs": [],
   "source": [
    "#Randomized Search to find best number of neighbors\n",
    "model_knn = KNeighborsClassifier(n_jobs=-1)\n",
    "\n",
    "\n",
    "k_range = list(range(1, 100))\n",
    "weight_options = ['uniform', 'distance']\n",
    "\n",
    "param_dist = dict(n_neighbors=k_range, weights=weight_options)\n",
    "\n",
    "# n_iter controls the number of searches\n",
    "rand = RandomizedSearchCV(model_knn, param_dist, cv=10, \n",
    "                          scoring='accuracy', n_iter=10, random_state=42, n_jobs=-1)\n",
    "rand.fit(X_train, y_train)\n",
    "rand.cv_results_['params']"
   ]
  },
  {
   "cell_type": "markdown",
   "metadata": {},
   "source": [
    "## SVM"
   ]
  },
  {
   "cell_type": "code",
   "execution_count": null,
   "metadata": {
    "ExecuteTime": {
     "start_time": "2018-10-31T02:41:16.964Z"
    }
   },
   "outputs": [],
   "source": [
    "#model_svm = svm.SVC(kernel='linear')\n",
    "model_svm = svm.SVC(kernel='linear', C=1)\n"
   ]
  },
  {
   "cell_type": "code",
   "execution_count": null,
   "metadata": {
    "ExecuteTime": {
     "start_time": "2018-10-31T02:41:19.205Z"
    }
   },
   "outputs": [],
   "source": [
    "t1 = pd.Timestamp.now()\n",
    "model_svm.fit(X_train, y_train)\n",
    "y_pred = model_svm.predict(X_test)\n",
    "accuracy_score(y_test,y_pred)\n",
    "print('time = ',pd.Timestamp.now()-t1)"
   ]
  },
  {
   "cell_type": "code",
   "execution_count": null,
   "metadata": {
    "ExecuteTime": {
     "start_time": "2018-10-31T01:42:37.809Z"
    }
   },
   "outputs": [],
   "source": [
    "y_pred_proba = model_svm.predict_proba(X_test)[:,1]\n",
    "results_analysis(y_test,y_pred,y_pred_proba)"
   ]
  },
  {
   "cell_type": "code",
   "execution_count": null,
   "metadata": {},
   "outputs": [],
   "source": [
    "#param_grid = [\n",
    "#  {'C': [1, 10, 100, 1000], 'kernel': ['linear']},\n",
    "#  {'C': [1, 10, 100, 1000], 'gamma': [0.001, 0.0001], 'kernel': ['rbf']},\n",
    "# ]\n",
    "\n",
    "param_grid = [\n",
    "  {'C': [1, 10, 100, 1000], 'kernel': ['linear']},\n",
    " ]"
   ]
  },
  {
   "cell_type": "code",
   "execution_count": null,
   "metadata": {},
   "outputs": [],
   "source": []
  },
  {
   "cell_type": "code",
   "execution_count": null,
   "metadata": {},
   "outputs": [],
   "source": [
    "grid = GridSearchCV(svm.SVC(), param_grid)\n",
    "grid.fit(X_train, y_train)"
   ]
  },
  {
   "cell_type": "markdown",
   "metadata": {},
   "source": [
    "## Logistic Regression"
   ]
  },
  {
   "cell_type": "code",
   "execution_count": 29,
   "metadata": {
    "ExecuteTime": {
     "end_time": "2018-10-31T02:58:50.831119Z",
     "start_time": "2018-10-31T02:58:50.635786Z"
    }
   },
   "outputs": [
    {
     "name": "stdout",
     "output_type": "stream",
     "text": [
      "0.556964694053\n"
     ]
    },
    {
     "name": "stderr",
     "output_type": "stream",
     "text": [
      "/anaconda3/lib/python3.6/site-packages/sklearn/linear_model/logistic.py:432: FutureWarning: Default solver will be changed to 'lbfgs' in 0.22. Specify a solver to silence this warning.\n",
      "  FutureWarning)\n"
     ]
    }
   ],
   "source": [
    "model_logreg = LogisticRegression(C= 1, penalty = 'l2')\n",
    "model_logreg.fit(X=X_train, y=y_train)\n",
    "print(model_logreg.score(X=X_test, y=y_test))\n",
    "y_pred = model_logreg.predict(X_test)\n"
   ]
  },
  {
   "cell_type": "code",
   "execution_count": 30,
   "metadata": {
    "ExecuteTime": {
     "end_time": "2018-10-31T02:58:52.766976Z",
     "start_time": "2018-10-31T02:58:52.494297Z"
    }
   },
   "outputs": [
    {
     "name": "stdout",
     "output_type": "stream",
     "text": [
      "              precision    recall  f1-score   support\n",
      "\n",
      "           0       0.84      0.56      0.67     49727\n",
      "           1       0.23      0.56      0.33     11934\n",
      "\n",
      "   micro avg       0.56      0.56      0.56     61661\n",
      "   macro avg       0.54      0.56      0.50     61661\n",
      "weighted avg       0.72      0.56      0.60     61661\n",
      "\n",
      "Accuracy Score:  0.556964694053\n",
      " \n",
      "Confusion matrix, without normalization\n",
      "[[27651 22076]\n",
      " [ 5242  6692]]\n"
     ]
    },
    {
     "data": {
      "image/png": "[encoded data removed]",
      "text/plain": [
       "<Figure size 432x288 with 2 Axes>"
      ]
     },
     "metadata": {},
     "output_type": "display_data"
    },
    {
     "data": {
      "image/png": "[encoded data removed]",
      "text/plain": [
       "<Figure size 360x360 with 1 Axes>"
      ]
     },
     "metadata": {},
     "output_type": "display_data"
    }
   ],
   "source": [
    "y_pred_proba = model_logreg.predict_proba(X_test)[:,1]\n",
    "results_analysis(y_test,y_pred,y_pred_proba)"
   ]
  },
  {
   "cell_type": "code",
   "execution_count": 31,
   "metadata": {
    "ExecuteTime": {
     "end_time": "2018-10-31T02:58:53.501520Z",
     "start_time": "2018-10-31T02:58:53.498444Z"
    }
   },
   "outputs": [],
   "source": [
    "param_grid = {'C': np.logspace(-3,6, 13),'penalty': ['l1', 'l2']}\n",
    "#param_grid = {'C': np.logspace(-3,6, 12)}"
   ]
  },
  {
   "cell_type": "code",
   "execution_count": null,
   "metadata": {
    "ExecuteTime": {
     "end_time": "2018-10-30T23:30:00.737590Z",
     "start_time": "2018-10-30T23:30:00.733594Z"
    }
   },
   "outputs": [],
   "source": [
    "np.logspace(-3,6,13)"
   ]
  },
  {
   "cell_type": "code",
   "execution_count": null,
   "metadata": {
    "ExecuteTime": {
     "end_time": "2018-10-30T23:30:05.817821Z",
     "start_time": "2018-10-30T23:30:02.633887Z"
    }
   },
   "outputs": [],
   "source": [
    "param_grid = {'C': np.logspace(-3,6, 13),'penalty': ['l1', 'l2']}\n",
    "grid = GridSearchCV(LogisticRegression(), param_grid,n_jobs=-1)\n",
    "grid.fit(X_train, y_train)\n",
    "print(f\"best score: {grid.best_score_}\")\n",
    "print(f\"best params: {grid.best_params_}\")"
   ]
  },
  {
   "cell_type": "markdown",
   "metadata": {},
   "source": [
    "## Decision Tree"
   ]
  },
  {
   "cell_type": "code",
   "execution_count": 32,
   "metadata": {
    "ExecuteTime": {
     "end_time": "2018-10-31T02:58:59.349396Z",
     "start_time": "2018-10-31T02:58:59.025111Z"
    }
   },
   "outputs": [
    {
     "data": {
      "text/plain": [
       "array([ 0.  ,  0.03,  0.  ,  0.02,  0.  ,  0.  ,  0.  ,  0.  ,  0.01,\n",
       "        0.  ,  0.  ,  0.01,  0.05,  0.04,  0.25,  0.13,  0.09,  0.01,\n",
       "        0.09,  0.06,  0.01,  0.05,  0.05,  0.  ,  0.06,  0.04])"
      ]
     },
     "execution_count": 32,
     "metadata": {},
     "output_type": "execute_result"
    }
   ],
   "source": [
    "model_dt = tree.DecisionTreeClassifier(max_depth = 14,min_samples_leaf=6)\n",
    "model_dt.fit(X=X_train, y=y_train)\n",
    "model_dt.feature_importances_"
   ]
  },
  {
   "cell_type": "code",
   "execution_count": 33,
   "metadata": {
    "ExecuteTime": {
     "end_time": "2018-10-31T02:59:01.145208Z",
     "start_time": "2018-10-31T02:59:01.131989Z"
    }
   },
   "outputs": [],
   "source": [
    "y_pred = model_dt.predict(X_test)"
   ]
  },
  {
   "cell_type": "code",
   "execution_count": 34,
   "metadata": {
    "ExecuteTime": {
     "end_time": "2018-10-31T02:59:02.110256Z",
     "start_time": "2018-10-31T02:59:01.864160Z"
    }
   },
   "outputs": [
    {
     "name": "stdout",
     "output_type": "stream",
     "text": [
      "              precision    recall  f1-score   support\n",
      "\n",
      "           0       0.85      0.57      0.69     49727\n",
      "           1       0.25      0.59      0.35     11934\n",
      "\n",
      "   micro avg       0.58      0.58      0.58     61661\n",
      "   macro avg       0.55      0.58      0.52     61661\n",
      "weighted avg       0.74      0.58      0.62     61661\n",
      "\n",
      "Accuracy Score:  0.577496310472\n",
      " \n",
      "Confusion matrix, without normalization\n",
      "[[28570 21157]\n",
      " [ 4895  7039]]\n"
     ]
    },
    {
     "data": {
      "image/png": "[encoded data removed]",
      "text/plain": [
       "<Figure size 432x288 with 2 Axes>"
      ]
     },
     "metadata": {},
     "output_type": "display_data"
    },
    {
     "data": {
      "image/png": "[encoded data removed]",
      "text/plain": [
       "<Figure size 360x360 with 1 Axes>"
      ]
     },
     "metadata": {},
     "output_type": "display_data"
    }
   ],
   "source": [
    "y_pred_proba = model_dt.predict_proba(X_test)[:,1]\n",
    "results_analysis(y_test,y_pred,y_pred_proba)"
   ]
  },
  {
   "cell_type": "code",
   "execution_count": null,
   "metadata": {
    "ExecuteTime": {
     "end_time": "2018-10-28T04:02:09.523188Z",
     "start_time": "2018-10-28T04:02:01.484334Z"
    }
   },
   "outputs": [],
   "source": [
    "param_grid = {'max_depth': [1,2,4,6,8,10,12,13,14,15,16,17],'min_samples_leaf': [3,5,6,7,8,10]}\n",
    "\n",
    "grid = GridSearchCV(tree.DecisionTreeClassifier(), param_grid,n_jobs=-1)\n",
    "grid.fit(X_train, y_train)\n",
    "print(f\"best score: {grid.best_score_}\")\n",
    "print(f\"best params: {grid.best_params_}\")"
   ]
  },
  {
   "cell_type": "markdown",
   "metadata": {},
   "source": [
    "## Random Forest"
   ]
  },
  {
   "cell_type": "code",
   "execution_count": 11,
   "metadata": {
    "ExecuteTime": {
     "end_time": "2018-11-01T13:29:09.129195Z",
     "start_time": "2018-11-01T13:28:43.215261Z"
    }
   },
   "outputs": [
    {
     "name": "stdout",
     "output_type": "stream",
     "text": [
      "[ 0.00638847  0.01462267  0.00195885  0.01150548  0.00094937  0.00081725\n",
      "  0.00116997  0.00089388  0.00793715  0.0051492   0.00168167  0.00912267\n",
      "  0.04430913  0.04132974  0.18492074  0.13254072  0.10520416  0.00703016\n",
      "  0.07477945  0.07066445  0.00727478  0.06419472  0.06812982  0.00424149\n",
      "  0.06532881  0.06785518]\n"
     ]
    },
    {
     "data": {
      "text/plain": [
       "0.65007054702323996"
      ]
     },
     "execution_count": 11,
     "metadata": {},
     "output_type": "execute_result"
    }
   ],
   "source": [
    "model_rf = RandomForestClassifier(n_estimators=350, max_depth=20,min_samples_leaf=4,random_state=0)\n",
    "#model_rf = RandomForestClassifier(n_estimators=100, max_depth=10,min_samples_leaf=4,random_state=0)\n",
    "\n",
    "model_rf.fit(X=X_train, y=y_train)\n",
    "print(model_rf.feature_importances_)\n",
    "model_rf.score(X=X_test, y=y_test)"
   ]
  },
  {
   "cell_type": "code",
   "execution_count": 18,
   "metadata": {
    "ExecuteTime": {
     "end_time": "2018-11-01T13:31:59.436259Z",
     "start_time": "2018-11-01T13:31:59.099710Z"
    }
   },
   "outputs": [],
   "source": [
    "pickle.dump(model_rf, open('Seatac_model.pkl', 'wb'))"
   ]
  },
  {
   "cell_type": "code",
   "execution_count": 17,
   "metadata": {
    "ExecuteTime": {
     "end_time": "2018-11-01T13:30:03.350961Z",
     "start_time": "2018-11-01T13:29:55.778806Z"
    }
   },
   "outputs": [
    {
     "name": "stdout",
     "output_type": "stream",
     "text": [
      "              precision    recall  f1-score   support\n",
      "\n",
      "           0       0.88      0.65      0.75     49727\n",
      "           1       0.31      0.64      0.41     11934\n",
      "\n",
      "   micro avg       0.65      0.65      0.65     61661\n",
      "   macro avg       0.59      0.64      0.58     61661\n",
      "weighted avg       0.77      0.65      0.69     61661\n",
      "\n",
      "Accuracy Score:  0.650070547023\n",
      " \n",
      "Confusion matrix, without normalization\n",
      "[[32497 17230]\n",
      " [ 4347  7587]]\n"
     ]
    },
    {
     "data": {
      "image/png": "[encoded data removed]",
      "text/plain": [
       "<Figure size 432x288 with 2 Axes>"
      ]
     },
     "metadata": {},
     "output_type": "display_data"
    },
    {
     "data": {
      "image/png": "[encoded data removed]",
      "text/plain": [
       "<Figure size 360x360 with 1 Axes>"
      ]
     },
     "metadata": {},
     "output_type": "display_data"
    }
   ],
   "source": [
    "y_pred       = model_rf.predict(X_test)\n",
    "y_pred_proba = model_rf.predict_proba(X_test)[:,1]\n",
    "results_analysis(y_test,y_pred,y_pred_proba)\n",
    "\n",
    "#ROC_plot(y_test,y_pred_proba)"
   ]
  },
  {
   "cell_type": "code",
   "execution_count": null,
   "metadata": {
    "ExecuteTime": {
     "end_time": "2018-11-01T13:29:16.345213Z",
     "start_time": "2018-11-01T13:28:55.630Z"
    }
   },
   "outputs": [],
   "source": [
    "y2_pred = model_rf.predict(X2_test)\n",
    "y2_pred_proba = model_rf.predict_proba(X_test)[:,1]\n",
    "results_analysis(y2_test,y2_pred,y2_pred_proba)"
   ]
  },
  {
   "cell_type": "code",
   "execution_count": null,
   "metadata": {
    "ExecuteTime": {
     "end_time": "2018-10-30T22:03:15.442778Z",
     "start_time": "2018-10-30T21:51:47.468278Z"
    }
   },
   "outputs": [],
   "source": [
    "#param_grid = {'n_estimators': [100,200,300,350,400,450,500],'max_depth': [1,5,10,14,18,20,22,24,26],'min_samples_leaf': [1,2,3,4,5,6,10]}\n",
    "param_grid = {'n_estimators': [100,200,300,350],'max_depth': [1,5,10,14,18,20],'min_samples_leaf': [3,4,5,6,10]}\n",
    "\n",
    "grid = GridSearchCV(RandomForestClassifier(), param_grid,n_jobs=-1)\n",
    "grid.fit(X_train, y_train)\n",
    "print(f\"best score: {grid.best_score_}\")\n",
    "print(f\"best params: {grid.best_params_}\")\n"
   ]
  },
  {
   "cell_type": "code",
   "execution_count": null,
   "metadata": {
    "ExecuteTime": {
     "end_time": "2018-10-30T22:07:10.167668Z",
     "start_time": "2018-10-30T22:07:10.162386Z"
    }
   },
   "outputs": [],
   "source": [
    "print(results.keys())"
   ]
  },
  {
   "cell_type": "code",
   "execution_count": null,
   "metadata": {
    "ExecuteTime": {
     "end_time": "2018-10-30T22:54:33.403340Z",
     "start_time": "2018-10-30T22:54:33.397808Z"
    }
   },
   "outputs": [],
   "source": [
    "print(results['mean_test_score'])"
   ]
  },
  {
   "cell_type": "code",
   "execution_count": null,
   "metadata": {
    "ExecuteTime": {
     "end_time": "2018-10-30T22:35:59.375358Z",
     "start_time": "2018-10-30T22:35:59.207713Z"
    }
   },
   "outputs": [],
   "source": [
    "results = grid.cv_results_\n",
    "\n",
    "plt.figure(figsize=(13, 13))\n",
    "plt.title(\"GridSearchCV evaluating using multiple scorers simultaneously\",\n",
    "          fontsize=16)\n",
    "\n",
    "plt.ylabel(\"Score\")\n",
    "\n",
    "ax = plt.gca()\n",
    "#ax.set_xlim(0, 402)\n",
    "#ax.set_ylim(0.73, 1)\n",
    "\n",
    "# Get the regular numpy array from the MaskedArray\n",
    "#plt.xlabel(\"min_samples_split\")\n",
    "#X_axis = np.array(results['param_min_samples_leaf'].data, dtype=float)\n",
    "plt.xlabel(\"\")n_estimators\n",
    "X_axis = np.array(results['param_n_estimators'].data, dtype=float)\n",
    "\n",
    "#scoring = {'AUC': 'roc_auc', 'Accuracy': make_scorer(accuracy_score)}\n",
    "scoring = {'score': 'param_n_estimators','score': make_scorer(accuracy_score)}\n",
    "\n",
    "for scorer, color in zip(sorted(scoring), ['g', 'k']):\n",
    "    for sample, style in (('train', '--'), ('test', '-')):\n",
    "        sample_score_mean = results['mean_%s_%s' % (sample, scorer)]\n",
    "        #sample_score_std = results['std_%s_%s' % (sample, scorer)]\n",
    "        #ax.fill_between(X_axis, sample_score_mean - sample_score_std,\n",
    "        #                sample_score_mean + sample_score_std,\n",
    "        #                alpha=0.1 if sample == 'test' else 0, color=color)\n",
    "        ax.plot(X_axis, sample_score_mean, style, color=color,\n",
    "                alpha=1 if sample == 'test' else 0.7,\n",
    "                label=\"%s (%s)\" % (scorer, sample))\n",
    "\n",
    "    best_index = np.nonzero(results['rank_test_%s' % scorer] == 1)[0][0]\n",
    "    best_score = results['mean_test_%s' % scorer][best_index]\n",
    "\n",
    "    # Plot a dotted vertical line at the best score for that scorer marked by x\n",
    "    ax.plot([X_axis[best_index], ] * 2, [0, best_score],\n",
    "            linestyle='-.', color=color, marker='x', markeredgewidth=3, ms=8)\n",
    "\n",
    "    # Annotate the best score for that scorer\n",
    "    ax.annotate(\"%0.2f\" % best_score,\n",
    "                (X_axis[best_index], best_score + 0.005))\n",
    "\n",
    "plt.legend(loc=\"best\")\n",
    "plt.grid('off')\n",
    "plt.show()"
   ]
  },
  {
   "cell_type": "code",
   "execution_count": null,
   "metadata": {
    "ExecuteTime": {
     "end_time": "2018-10-30T21:46:01.130482Z",
     "start_time": "2018-10-30T21:44:33.517889Z"
    }
   },
   "outputs": [],
   "source": [
    "# Cross Validation\n",
    "splits = 5\n",
    "KFold_ROC_RandForest(X_train,y_train,splits)"
   ]
  },
  {
   "cell_type": "code",
   "execution_count": null,
   "metadata": {
    "ExecuteTime": {
     "end_time": "2018-10-30T22:41:38.537652Z",
     "start_time": "2018-10-30T22:41:38.533972Z"
    }
   },
   "outputs": [],
   "source": [
    "X_train.shape\n",
    "#X_test.shape"
   ]
  },
  {
   "cell_type": "markdown",
   "metadata": {},
   "source": [
    "## Monkey Model (assume predict all on-time)"
   ]
  },
  {
   "cell_type": "code",
   "execution_count": null,
   "metadata": {
    "ExecuteTime": {
     "end_time": "2018-10-31T00:08:37.446476Z",
     "start_time": "2018-10-31T00:08:37.443754Z"
    }
   },
   "outputs": [],
   "source": [
    "# create training target assuming always on-time\n",
    "y_pred = np.zeros(shape=y_test.shape, dtype='int')"
   ]
  },
  {
   "cell_type": "code",
   "execution_count": null,
   "metadata": {
    "ExecuteTime": {
     "end_time": "2018-10-31T00:09:41.271175Z",
     "start_time": "2018-10-31T00:09:40.999491Z"
    }
   },
   "outputs": [],
   "source": [
    "y_pred_proba = np.zeros(shape=y_test.shape)\n",
    "results_analysis(y_test,y_pred,y_pred_proba)"
   ]
  },
  {
   "cell_type": "markdown",
   "metadata": {},
   "source": [
    "### Confusion Matrix"
   ]
  },
  {
   "cell_type": "code",
   "execution_count": 13,
   "metadata": {
    "ExecuteTime": {
     "end_time": "2018-11-01T13:29:41.587085Z",
     "start_time": "2018-11-01T13:29:41.581468Z"
    }
   },
   "outputs": [],
   "source": [
    "def plot_confusion_matrix(cm, classes,\n",
    "                          normalize=False,\n",
    "                          title='Confusion matrix',\n",
    "                          cmap=plt.cm.Blues):\n",
    "    \"\"\"\n",
    "    This function prints and plots the confusion matrix.\n",
    "    Normalization can be applied by setting `normalize=True`.\n",
    "    \"\"\"\n",
    "    if normalize:\n",
    "        cm = cm.astype('float') / cm.sum(axis=1)[:, np.newaxis]\n",
    "        print(\"Normalized confusion matrix\")\n",
    "    else:\n",
    "        print('Confusion matrix, without normalization')\n",
    "\n",
    "    print(cm)\n",
    "\n",
    "    plt.imshow(cm, interpolation='nearest', cmap=cmap)\n",
    "    plt.title(title)\n",
    "    plt.colorbar()\n",
    "    tick_marks = np.arange(len(classes))\n",
    "    plt.xticks(tick_marks, classes, rotation=45)\n",
    "    plt.yticks(tick_marks, classes)\n",
    "\n",
    "    fmt = '.2f' if normalize else 'd'\n",
    "    thresh = cm.max() / 2.\n",
    "    for i, j in itertools.product(range(cm.shape[0]), range(cm.shape[1])):\n",
    "        plt.text(j, i, format(cm[i, j], fmt),\n",
    "                 horizontalalignment=\"center\",\n",
    "                 color=\"white\" if cm[i, j] > thresh else \"black\")\n",
    "\n",
    "    plt.ylabel('True label')\n",
    "    plt.xlabel('Predicted label')\n",
    "    plt.tight_layout()\n"
   ]
  },
  {
   "cell_type": "markdown",
   "metadata": {},
   "source": [
    "### Plot ROC Curve   \n",
    "Receiver Operating Characteristic curve"
   ]
  },
  {
   "cell_type": "code",
   "execution_count": 14,
   "metadata": {
    "ExecuteTime": {
     "end_time": "2018-11-01T13:29:42.320823Z",
     "start_time": "2018-11-01T13:29:42.316692Z"
    }
   },
   "outputs": [],
   "source": [
    "def ROC_plot(y_test,y_pred_proba):\n",
    "    fpr,tpr,cuts = roc_curve(y_test,y_pred_proba)\n",
    "    roc_auc = auc(fpr, tpr)\n",
    "\n",
    "    plt.figure(figsize=(5,5))\n",
    "    plt.plot(fpr, tpr, 'b', label = f'AUC = {roc_auc:0.2f}')\n",
    "    plt.legend(loc = 'lower right')\n",
    "    plt.plot([0, 1], [0, 1],'r--')\n",
    "    plt.xlim([0, 1])\n",
    "    plt.ylim([0, 1])\n",
    "    plt.ylabel('True Positive Rate')\n",
    "    plt.xlabel('False Positive Rate')\n",
    "    plt.title('ROC Curve')\n",
    "    plt.show()"
   ]
  },
  {
   "cell_type": "code",
   "execution_count": 15,
   "metadata": {
    "ExecuteTime": {
     "end_time": "2018-11-01T13:29:42.786025Z",
     "start_time": "2018-11-01T13:29:42.782487Z"
    }
   },
   "outputs": [],
   "source": [
    "def results_analysis(y_test,y_pred,y_pred_proba):\n",
    "    print(classification_report(y_test, y_pred))\n",
    "    \n",
    "    print('Accuracy Score: ',accuracy_score(y_test,y_pred))\n",
    "    \n",
    "    # Compute confusion matrix\n",
    "    print(' ')\n",
    "    cnf_matrix = confusion_matrix(y_test, y_pred)\n",
    "    np.set_printoptions(precision=2)\n",
    "\n",
    "    # Plot non-normalized confusion matrix\n",
    "    plt.figure()\n",
    "    plot_confusion_matrix(cnf_matrix, classes=('On Time','Delayed'),\n",
    "                          title='Confusion matrix, without normalization')\n",
    "\n",
    "    ROC_plot(y_test,y_pred_proba)"
   ]
  },
  {
   "cell_type": "code",
   "execution_count": 16,
   "metadata": {
    "ExecuteTime": {
     "end_time": "2018-11-01T13:29:43.527761Z",
     "start_time": "2018-11-01T13:29:43.520281Z"
    }
   },
   "outputs": [],
   "source": [
    "def KFold_ROC_RandForest(X,y,splits):\n",
    "    # Run classifier with cross-validation and plot ROC curves\n",
    "    cv = StratifiedKFold(n_splits=splits)\n",
    "    classifier = RandomForestClassifier(n_estimators=350, max_depth=20,min_samples_leaf=4,random_state=0)\n",
    "    \n",
    "    tprs = []\n",
    "    aucs = []\n",
    "    mean_fpr = np.linspace(0, 1, 100)\n",
    "\n",
    "    i = 0\n",
    "    for train, test in cv.split(X, y):\n",
    "        X_train, X_test = X.iloc[train], X.iloc[test]\n",
    "        y_train, y_test = y.iloc[train], y.iloc[test]\n",
    "\n",
    "        classifier.fit(X_train, y_train)\n",
    "        y_pred = classifier.predict(X_test)\n",
    "        # Compute ROC curve and area the curve\n",
    "        fpr, tpr, thresholds = roc_curve(y_test,y_pred)\n",
    "        tprs.append(interp(mean_fpr, fpr, tpr))\n",
    "        tprs[-1][0] = 0.0\n",
    "        roc_auc = auc(fpr, tpr)\n",
    "        aucs.append(roc_auc)\n",
    "        plt.plot(fpr, tpr, lw=1, alpha=0.3,\n",
    "                 label='ROC fold %d (AUC = %0.2f)' % (i, roc_auc))\n",
    "\n",
    "        i += 1\n",
    "    plt.plot([0, 1], [0, 1], linestyle='--', lw=2, color='r',\n",
    "             label='Chance', alpha=.8)\n",
    "\n",
    "    mean_tpr = np.mean(tprs, axis=0)\n",
    "    mean_tpr[-1] = 1.0\n",
    "    mean_auc = auc(mean_fpr, mean_tpr)\n",
    "    std_auc = np.std(aucs)\n",
    "    plt.plot(mean_fpr, mean_tpr, color='b',\n",
    "             label=r'Mean ROC (AUC = %0.2f $\\pm$ %0.2f)' % (mean_auc, std_auc),\n",
    "             lw=2, alpha=.8)\n",
    "\n",
    "    std_tpr = np.std(tprs, axis=0)\n",
    "    tprs_upper = np.minimum(mean_tpr + std_tpr, 1)\n",
    "    tprs_lower = np.maximum(mean_tpr - std_tpr, 0)\n",
    "    plt.fill_between(mean_fpr, tprs_lower, tprs_upper, color='grey', alpha=.2,\n",
    "                     label=r'$\\pm$ 1 std. dev.')\n",
    "\n",
    "    plt.xlim([-0.05, 1.05])\n",
    "    plt.ylim([-0.05, 1.05])\n",
    "    plt.xlabel('False Positive Rate')\n",
    "    plt.ylabel('True Positive Rate')\n",
    "    plt.title('Receiver operating characteristic example')\n",
    "    plt.legend(loc=\"lower right\")\n",
    "    plt.show()"
   ]
  }
 ],
 "metadata": {
  "kernelspec": {
   "display_name": "Python 3",
   "language": "python",
   "name": "python3"
  },
  "language_info": {
   "codemirror_mode": {
    "name": "ipython",
    "version": 3
   },
   "file_extension": ".py",
   "mimetype": "text/x-python",
   "name": "python",
   "nbconvert_exporter": "python",
   "pygments_lexer": "ipython3",
   "version": "3.6.5"
  }
 },
 "nbformat": 4,
 "nbformat_minor": 2
}
