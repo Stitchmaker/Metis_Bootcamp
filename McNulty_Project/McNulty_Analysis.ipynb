{
 "cells": [
  {
   "cell_type": "code",
   "execution_count": 20,
   "metadata": {},
   "outputs": [],
   "source": [
    "import pandas as pd\n",
    "import matplotlib\n",
    "import numpy as np\n",
    "import matplotlib.pyplot as plt\n",
    "%matplotlib inline\n",
    "\n",
    "from IPython.display import Image\n",
    "\n",
    "from sklearn import datasets\n",
    "from sklearn.decomposition import PCA\n",
    "from sklearn.metrics import accuracy_score, confusion_matrix\n",
    "from sklearn.model_selection import train_test_split\n",
    "from sklearn import svm\n",
    "import itertools\n",
    "\n",
    "\n",
    "from sklearn.linear_model import LogisticRegression\n",
    "from sklearn.preprocessing import StandardScaler\n",
    "from sklearn.pipeline import make_pipeline\n",
    "from sklearn.metrics import accuracy_score\n",
    "from sklearn.metrics import classification_report\n",
    "from sklearn.metrics import confusion_matrix\n",
    "\n",
    "from datetime import datetime as dt\n",
    "import datetime"
   ]
  },
  {
   "cell_type": "code",
   "execution_count": 2,
   "metadata": {},
   "outputs": [],
   "source": [
    "# read data file\n",
    "FlightData = pd.read_csv('data/FlightData.csv')"
   ]
  },
  {
   "cell_type": "code",
   "execution_count": 3,
   "metadata": {},
   "outputs": [
    {
     "name": "stdout",
     "output_type": "stream",
     "text": [
      "<class 'pandas.core.frame.DataFrame'>\n",
      "RangeIndex: 306810 entries, 0 to 306809\n",
      "Data columns (total 20 columns):\n",
      "Unnamed: 0             306810 non-null int64\n",
      "FL_DATE                306810 non-null object\n",
      "YEAR                   306810 non-null int64\n",
      "MONTH                  306810 non-null int64\n",
      "DAY_OF_MONTH           306810 non-null int64\n",
      "DAY_OF_WEEK            306810 non-null int64\n",
      "OP_UNIQUE_CARRIER      306810 non-null object\n",
      "OP_CARRIER_FL_NUM      306810 non-null int64\n",
      "ORIGIN                 306810 non-null object\n",
      "DEST                   306810 non-null object\n",
      "CRS_ARR_TIME           306810 non-null int64\n",
      "ARR_TIME               306810 non-null float64\n",
      "DISTANCE               306810 non-null int64\n",
      "CANCELLED              306810 non-null int64\n",
      "CARRIER_DELAY          49345 non-null float64\n",
      "WEATHER_DELAY          49345 non-null float64\n",
      "NAS_DELAY              49345 non-null float64\n",
      "SECURITY_DELAY         49345 non-null float64\n",
      "LATE_AIRCRAFT_DELAY    49345 non-null float64\n",
      "Delay                  306810 non-null int64\n",
      "dtypes: float64(6), int64(10), object(4)\n",
      "memory usage: 46.8+ MB\n"
     ]
    }
   ],
   "source": [
    "FlightData.info()"
   ]
  },
  {
   "cell_type": "code",
   "execution_count": 4,
   "metadata": {},
   "outputs": [],
   "source": [
    "def SetUp_Xy(FlightData):\n",
    "    #print(FlightData.shape)\n",
    "    # drop Alaska Airlines flights to shrink dataset\n",
    "    #FlightData.drop(FlightData[FlightData.OP_UNIQUE_CARRIER == 'AS'].index,inplace=True)\n",
    "    #print(FlightData.shape)\n",
    "    \n",
    "    # take a smaller sample of the data\n",
    "    #FlightData = FlightData.sample(n=1000)\n",
    "\n",
    "    SEA_outbound = False  # drop outbound flights if True\n",
    "    SEA_inbound = True    # drop inbound flights if True\n",
    "    if not SEA_inbound:\n",
    "        print('dropping records arriving in SEA')\n",
    "        FlightData.drop(FlightData[FlightData.DEST == 'SEA'].index,inplace=True)\n",
    "\n",
    "    elif not SEA_outbound:\n",
    "        print('dropping flights departing SEA')\n",
    "        FlightData.drop(FlightData[FlightData.ORIGIN == 'SEA'].index,inplace=True)\n",
    "    #print(FlightData.shape)\n",
    "\n",
    "    # create one-hot columns for Airline Carrier\n",
    "    X = pd.get_dummies(FlightData[['OP_UNIQUE_CARRIER']])\n",
    "    #X = pd.DataFrame()\n",
    "    \n",
    "    # add datetime for FL_DATE (flight date)\n",
    "    #X['FlightDate'] = pd.to_datetime(FlightData['FL_DATE'])\n",
    "    #X['FlightDate'] = pd.to_datetime(FlightData['FL_DATE']).apply(lambda x: x.toordinal())\n",
    "    X['Day_of_year'] = (pd.to_datetime(FlightData['FL_DATE'])).dt.dayofyear\n",
    "\n",
    "    # add other columns \n",
    "    X = pd.concat([X, FlightData[['DAY_OF_WEEK','CRS_ARR_TIME','ARR_TIME','DISTANCE']]], \n",
    "                  axis=1, sort=False)\n",
    "    #X = pd.concat([X, FlightData[['CRS_ARR_TIME','DISTANCE']]], \n",
    "    #              axis=1, sort=False)\n",
    "        \n",
    "    # set up target\n",
    "    y = FlightData['Delay']\n",
    "\n",
    "    return X,y"
   ]
  },
  {
   "cell_type": "code",
   "execution_count": 6,
   "metadata": {},
   "outputs": [
    {
     "name": "stdout",
     "output_type": "stream",
     "text": [
      "dropping flights departing SEA\n"
     ]
    }
   ],
   "source": [
    "X,y = SetUp_Xy(FlightData)"
   ]
  },
  {
   "cell_type": "code",
   "execution_count": 9,
   "metadata": {},
   "outputs": [
    {
     "data": {
      "text/plain": [
       "Index(['OP_UNIQUE_CARRIER_AA', 'OP_UNIQUE_CARRIER_AS', 'OP_UNIQUE_CARRIER_B6',\n",
       "       'OP_UNIQUE_CARRIER_DL', 'OP_UNIQUE_CARRIER_F9', 'OP_UNIQUE_CARRIER_G4',\n",
       "       'OP_UNIQUE_CARRIER_HA', 'OP_UNIQUE_CARRIER_NK', 'OP_UNIQUE_CARRIER_OO',\n",
       "       'OP_UNIQUE_CARRIER_UA', 'OP_UNIQUE_CARRIER_VX', 'OP_UNIQUE_CARRIER_WN',\n",
       "       'Day_of_year', 'DAY_OF_WEEK', 'CRS_ARR_TIME', 'ARR_TIME', 'DISTANCE'],\n",
       "      dtype='object')"
      ]
     },
     "execution_count": 9,
     "metadata": {},
     "output_type": "execute_result"
    }
   ],
   "source": [
    "X.columns"
   ]
  },
  {
   "cell_type": "code",
   "execution_count": 8,
   "metadata": {},
   "outputs": [
    {
     "name": "stdout",
     "output_type": "stream",
     "text": [
      "OP_UNIQUE_CARRIER_AA       0.065919\n",
      "OP_UNIQUE_CARRIER_AS       0.366843\n",
      "OP_UNIQUE_CARRIER_B6       0.012403\n",
      "OP_UNIQUE_CARRIER_DL       0.170207\n",
      "OP_UNIQUE_CARRIER_F9       0.005406\n",
      "OP_UNIQUE_CARRIER_G4       0.013358\n",
      "OP_UNIQUE_CARRIER_HA       0.004487\n",
      "OP_UNIQUE_CARRIER_NK       0.012271\n",
      "OP_UNIQUE_CARRIER_OO       0.143671\n",
      "OP_UNIQUE_CARRIER_UA       0.073836\n",
      "OP_UNIQUE_CARRIER_VX       0.010073\n",
      "OP_UNIQUE_CARRIER_WN       0.121526\n",
      "Day_of_year              184.492477\n",
      "DAY_OF_WEEK                3.949397\n",
      "CRS_ARR_TIME            1474.049438\n",
      "ARR_TIME                1462.246037\n",
      "DISTANCE                1195.625601\n",
      "dtype: float64\n"
     ]
    }
   ],
   "source": [
    "print(X.mean())"
   ]
  },
  {
   "cell_type": "code",
   "execution_count": 11,
   "metadata": {},
   "outputs": [],
   "source": [
    "#X.FlightDate = (X.FlightDate - X.FlightDate.mean())/X.FlightDate.std()\n",
    "X.DISTANCE = (X.DISTANCE - X.DISTANCE.mean())/X.DISTANCE.std()\n",
    "X.ARR_TIME = (X.ARR_TIME - X.ARR_TIME.mean())/X.ARR_TIME.std()\n",
    "X.CRS_ARR_TIME = (X.CRS_ARR_TIME - X.CRS_ARR_TIME.mean())/X.CRS_ARR_TIME.std()\n",
    "X.Day_of_year = (X.Day_of_year - X.Day_of_year.mean())/X.Day_of_year.std()\n",
    "X.DAY_OF_WEEK = (X.DAY_OF_WEEK - X.DAY_OF_WEEK.mean())/X.DAY_OF_WEEK.std()"
   ]
  },
  {
   "cell_type": "markdown",
   "metadata": {},
   "source": [
    "## KNN"
   ]
  },
  {
   "cell_type": "code",
   "execution_count": 12,
   "metadata": {},
   "outputs": [
    {
     "name": "stdout",
     "output_type": "stream",
     "text": [
      "[0 0 0 ..., 0 0 0]\n"
     ]
    }
   ],
   "source": [
    "from sklearn.neighbors import KNeighborsClassifier\n",
    "from sklearn import metrics\n",
    "from sklearn.model_selection import train_test_split\n",
    "\n",
    "# STEP 1: split X and y into training and testing sets\n",
    "X_train, X_test, y_train, y_test = train_test_split(X, y, test_size=0.4, random_state=42)\n",
    "\n",
    "knn = KNeighborsClassifier(n_neighbors=3)\n",
    "knn.fit(X_train, y_train)\n",
    "y_pred = knn.predict(X_test)\n",
    "\n",
    "print(y_pred)"
   ]
  },
  {
   "cell_type": "code",
   "execution_count": 13,
   "metadata": {},
   "outputs": [
    {
     "name": "stdout",
     "output_type": "stream",
     "text": [
      "0.833160652882\n"
     ]
    }
   ],
   "source": [
    "y_pred = knn.predict(X_test)\n",
    "print(metrics.accuracy_score(y_test, y_pred))"
   ]
  },
  {
   "cell_type": "code",
   "execution_count": 14,
   "metadata": {},
   "outputs": [
    {
     "name": "stdout",
     "output_type": "stream",
     "text": [
      "              precision    recall  f1-score   support\n",
      "\n",
      "           0       0.86      0.95      0.90     54506\n",
      "           1       0.58      0.29      0.39     12091\n",
      "\n",
      "   micro avg       0.83      0.83      0.83     66597\n",
      "   macro avg       0.72      0.62      0.65     66597\n",
      "weighted avg       0.81      0.83      0.81     66597\n",
      "\n"
     ]
    }
   ],
   "source": [
    "print(classification_report(y_test, y_pred))"
   ]
  },
  {
   "cell_type": "markdown",
   "metadata": {},
   "source": [
    "## SVM"
   ]
  },
  {
   "cell_type": "code",
   "execution_count": 15,
   "metadata": {},
   "outputs": [
    {
     "data": {
      "text/plain": [
       "0.97357238314038175"
      ]
     },
     "execution_count": 15,
     "metadata": {},
     "output_type": "execute_result"
    }
   ],
   "source": [
    "model_svm = svm.SVC(kernel='linear')\n",
    "model_svm.fit(X_train, y_train)\n",
    "y_pred = model_svm.predict(X_test)\n",
    "accuracy_score(y_test,y_pred)"
   ]
  },
  {
   "cell_type": "code",
   "execution_count": 16,
   "metadata": {},
   "outputs": [
    {
     "name": "stdout",
     "output_type": "stream",
     "text": [
      "              precision    recall  f1-score   support\n",
      "\n",
      "           0       0.97      1.00      0.98     54506\n",
      "           1       1.00      0.85      0.92     12091\n",
      "\n",
      "   micro avg       0.97      0.97      0.97     66597\n",
      "   macro avg       0.98      0.93      0.95     66597\n",
      "weighted avg       0.97      0.97      0.97     66597\n",
      "\n"
     ]
    }
   ],
   "source": [
    "print(classification_report(y_test, y_pred))"
   ]
  },
  {
   "cell_type": "code",
   "execution_count": 21,
   "metadata": {},
   "outputs": [
    {
     "name": "stdout",
     "output_type": "stream",
     "text": [
      "Confusion matrix, without normalization\n",
      "[[54506     0]\n",
      " [ 1760 10331]]\n"
     ]
    },
    {
     "data": {
      "image/png": "[encoded data removed]",
      "text/plain": [
       "<Figure size 432x288 with 2 Axes>"
      ]
     },
     "metadata": {},
     "output_type": "display_data"
    }
   ],
   "source": [
    "# Compute confusion matrix\n",
    "cnf_matrix = confusion_matrix(y_test, y_pred)\n",
    "np.set_printoptions(precision=2)\n",
    "\n",
    "# Plot non-normalized confusion matrix\n",
    "plt.figure()\n",
    "plot_confusion_matrix(cnf_matrix, classes=('Delayed','On Time'),\n",
    "                      title='Confusion matrix, without normalization')\n"
   ]
  },
  {
   "cell_type": "markdown",
   "metadata": {},
   "source": [
    "## Monkey Model (assume predict all on-time)"
   ]
  },
  {
   "cell_type": "code",
   "execution_count": null,
   "metadata": {},
   "outputs": [],
   "source": [
    "# create training target assuming always on-time\n",
    "no_delays = np.zeros(shape=y_test.shape, dtype='int')"
   ]
  },
  {
   "cell_type": "code",
   "execution_count": null,
   "metadata": {},
   "outputs": [],
   "source": [
    "print(y_train.shape,no_delays.shape)"
   ]
  },
  {
   "cell_type": "code",
   "execution_count": null,
   "metadata": {},
   "outputs": [],
   "source": [
    "print(accuracy_score(y_test,no_delays))\n",
    "print(classification_report(y_test, no_delays))"
   ]
  },
  {
   "cell_type": "markdown",
   "metadata": {},
   "source": [
    "### Confusion Matrix"
   ]
  },
  {
   "cell_type": "code",
   "execution_count": 17,
   "metadata": {},
   "outputs": [],
   "source": [
    "def plot_confusion_matrix(cm, classes,\n",
    "                          normalize=False,\n",
    "                          title='Confusion matrix',\n",
    "                          cmap=plt.cm.Blues):\n",
    "    \"\"\"\n",
    "    This function prints and plots the confusion matrix.\n",
    "    Normalization can be applied by setting `normalize=True`.\n",
    "    \"\"\"\n",
    "    if normalize:\n",
    "        cm = cm.astype('float') / cm.sum(axis=1)[:, np.newaxis]\n",
    "        print(\"Normalized confusion matrix\")\n",
    "    else:\n",
    "        print('Confusion matrix, without normalization')\n",
    "\n",
    "    print(cm)\n",
    "\n",
    "    plt.imshow(cm, interpolation='nearest', cmap=cmap)\n",
    "    plt.title(title)\n",
    "    plt.colorbar()\n",
    "    tick_marks = np.arange(len(classes))\n",
    "    plt.xticks(tick_marks, classes, rotation=45)\n",
    "    plt.yticks(tick_marks, classes)\n",
    "\n",
    "    fmt = '.2f' if normalize else 'd'\n",
    "    thresh = cm.max() / 2.\n",
    "    for i, j in itertools.product(range(cm.shape[0]), range(cm.shape[1])):\n",
    "        plt.text(j, i, format(cm[i, j], fmt),\n",
    "                 horizontalalignment=\"center\",\n",
    "                 color=\"white\" if cm[i, j] > thresh else \"black\")\n",
    "\n",
    "    plt.ylabel('True label')\n",
    "    plt.xlabel('Predicted label')\n",
    "    plt.tight_layout()\n"
   ]
  },
  {
   "cell_type": "markdown",
   "metadata": {},
   "source": [
    "### TRY"
   ]
  },
  {
   "cell_type": "markdown",
   "metadata": {},
   "source": [
    "Split date in to YEAR, MONTH, DAY, DAYOFWEEK   \n",
    "\n",
    "There's a datetime option that adds holidays     \n",
    "\n",
    "plot_confusion_matrix   \n",
    "http://scikit-learn.org/stable/auto_examples/model_selection/plot_confusion_matrix.html\n",
    "\n",
    "LASSO for Logistic Regression   \n",
    "http://scikit-learn.org/stable/modules/generated/sklearn.linear_model.LogisticRegression.html\n",
    "\n",
    "grid search for optimal tuning parameters\n",
    "\n",
    "pipeline"
   ]
  },
  {
   "cell_type": "code",
   "execution_count": null,
   "metadata": {},
   "outputs": [],
   "source": []
  }
 ],
 "metadata": {
  "kernelspec": {
   "display_name": "Python 3",
   "language": "python",
   "name": "python3"
  },
  "language_info": {
   "codemirror_mode": {
    "name": "ipython",
    "version": 3
   },
   "file_extension": ".py",
   "mimetype": "text/x-python",
   "name": "python",
   "nbconvert_exporter": "python",
   "pygments_lexer": "ipython3",
   "version": "3.6.5"
  }
 },
 "nbformat": 4,
 "nbformat_minor": 2
}
