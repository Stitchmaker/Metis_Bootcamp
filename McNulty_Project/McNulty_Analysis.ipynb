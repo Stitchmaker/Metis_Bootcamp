{
 "cells": [
  {
   "cell_type": "code",
   "execution_count": 2,
   "metadata": {},
   "outputs": [],
   "source": [
    "import pandas as pd\n",
    "import matplotlib\n",
    "import numpy as np\n",
    "import matplotlib.pyplot as plt\n",
    "%matplotlib inline\n",
    "\n",
    "from IPython.display import Image\n",
    "\n",
    "from sklearn import datasets\n",
    "from sklearn.decomposition import PCA\n",
    "from sklearn.metrics import accuracy_score, confusion_matrix\n",
    "from sklearn.model_selection import train_test_split\n",
    "from sklearn import svm\n",
    "import itertools\n",
    "\n",
    "\n",
    "from sklearn.linear_model import LogisticRegression\n",
    "from sklearn.preprocessing import StandardScaler\n",
    "from sklearn.pipeline import make_pipeline\n",
    "from sklearn.metrics import accuracy_score\n",
    "from sklearn.metrics import classification_report\n",
    "from sklearn.metrics import confusion_matrix\n",
    "\n",
    "from sklearn.tree import DecisionTreeClassifier\n",
    "from sklearn.svm import LinearSVC\n",
    "from sklearn.svm import SVC\n",
    "from sklearn.ensemble import RandomForestClassifier\n",
    "from sklearn.linear_model import LogisticRegression\n",
    "from sklearn.ensemble import GradientBoostingClassifier\n",
    "\n",
    "from datetime import datetime as dt\n",
    "import datetime"
   ]
  },
  {
   "cell_type": "code",
   "execution_count": 3,
   "metadata": {},
   "outputs": [],
   "source": [
    "# read data file\n",
    "FlightData1 = pd.read_csv('data/FlightData_2016_2017.csv')\n",
    "FlightData2 = pd.read_csv('data/FlightData_2017_2018.csv')"
   ]
  },
  {
   "cell_type": "code",
   "execution_count": 4,
   "metadata": {},
   "outputs": [
    {
     "name": "stdout",
     "output_type": "stream",
     "text": [
      "<class 'pandas.core.frame.DataFrame'>\n",
      "RangeIndex: 288138 entries, 0 to 288137\n",
      "Data columns (total 21 columns):\n",
      "Unnamed: 0             288138 non-null int64\n",
      "FL_DATE                288138 non-null object\n",
      "YEAR                   288138 non-null int64\n",
      "MONTH                  288138 non-null int64\n",
      "DAY_OF_MONTH           288138 non-null int64\n",
      "DAY_OF_WEEK            288138 non-null int64\n",
      "OP_UNIQUE_CARRIER      288138 non-null object\n",
      "OP_CARRIER_FL_NUM      288138 non-null int64\n",
      "ORIGIN                 288138 non-null object\n",
      "DEST                   288138 non-null object\n",
      "CRS_ARR_TIME           288138 non-null int64\n",
      "ARR_TIME               288138 non-null float64\n",
      "DISTANCE               288138 non-null float64\n",
      "CANCELLED              288138 non-null float64\n",
      "CARRIER_DELAY          51344 non-null float64\n",
      "WEATHER_DELAY          51344 non-null float64\n",
      "NAS_DELAY              51344 non-null float64\n",
      "SECURITY_DELAY         51344 non-null float64\n",
      "LATE_AIRCRAFT_DELAY    51344 non-null float64\n",
      "Delay                  288138 non-null int64\n",
      "Day_of_year            288138 non-null int64\n",
      "dtypes: float64(8), int64(9), object(4)\n",
      "memory usage: 46.2+ MB\n"
     ]
    }
   ],
   "source": [
    "FlightData1.info()"
   ]
  },
  {
   "cell_type": "code",
   "execution_count": 5,
   "metadata": {},
   "outputs": [],
   "source": [
    "def SetUp_Xy(FlightData):\n",
    "    #print(FlightData.shape)\n",
    "    # drop Alaska Airlines flights to shrink dataset\n",
    "    #FlightData.drop(FlightData[FlightData.OP_UNIQUE_CARRIER == 'AS'].index,inplace=True)\n",
    "    #print(FlightData.shape)\n",
    "    \n",
    "    # take a smaller sample of the data\n",
    "    #FlightData = FlightData.sample(n=1000)\n",
    "\n",
    "    SEA_outbound = False  # drop outbound flights if True\n",
    "    SEA_inbound = True    # drop inbound flights if True\n",
    "    if not SEA_inbound:\n",
    "        print('dropping records arriving in SEA')\n",
    "        FlightData.drop(FlightData[FlightData.DEST == 'SEA'].index,inplace=True)\n",
    "\n",
    "    elif not SEA_outbound:\n",
    "        print('dropping flights departing SEA')\n",
    "        FlightData.drop(FlightData[FlightData.ORIGIN == 'SEA'].index,inplace=True)\n",
    "    #print(FlightData.shape)\n",
    "\n",
    "    # create one-hot columns for Airline Carrier\n",
    "    X = pd.get_dummies(FlightData[['OP_UNIQUE_CARRIER']])\n",
    "    #X = pd.DataFrame()\n",
    "    \n",
    "    # add datetime for FL_DATE (flight date)\n",
    "    #X['FlightDate'] = pd.to_datetime(FlightData['FL_DATE'])\n",
    "    #X['FlightDate'] = pd.to_datetime(FlightData['FL_DATE']).apply(lambda x: x.toordinal())\n",
    "    #X['Day_of_year'] = (pd.to_datetime(FlightData['FL_DATE'])).dt.dayofyear\n",
    "\n",
    "    # add other columns \n",
    "    #X = pd.concat([X, FlightData[['MONTH','DAY_OF_WEEK','Day_of_year','CRS_ARR_TIME',\n",
    "    #                              'ARR_TIME','DISTANCE']]], axis=1, sort=False)\n",
    "    X = pd.concat([X, FlightData[['MONTH','DAY_OF_WEEK','CRS_ARR_TIME',\n",
    "                                  'ARR_TIME','DISTANCE']]], axis=1, sort=False)\n",
    "            \n",
    "    # set up target\n",
    "    y = FlightData['Delay']\n",
    "\n",
    "    return X,y"
   ]
  },
  {
   "cell_type": "code",
   "execution_count": 6,
   "metadata": {},
   "outputs": [
    {
     "name": "stdout",
     "output_type": "stream",
     "text": [
      "dropping flights departing SEA\n",
      "dropping flights departing SEA\n"
     ]
    }
   ],
   "source": [
    "X1,y1 = SetUp_Xy(FlightData1)\n",
    "X2,y2 = SetUp_Xy(FlightData2)"
   ]
  },
  {
   "cell_type": "code",
   "execution_count": null,
   "metadata": {},
   "outputs": [],
   "source": [
    "X1.columns"
   ]
  },
  {
   "cell_type": "code",
   "execution_count": null,
   "metadata": {},
   "outputs": [],
   "source": [
    "X2.columns"
   ]
  },
  {
   "cell_type": "code",
   "execution_count": 7,
   "metadata": {},
   "outputs": [
    {
     "name": "stdout",
     "output_type": "stream",
     "text": [
      "adding OP_UNIQUE_CARRIER_G4 column\n"
     ]
    }
   ],
   "source": [
    "# add G4 airline if not in database\n",
    "if 'OP_UNIQUE_CARRIER_G4' not in X1.columns:\n",
    "    print('adding OP_UNIQUE_CARRIER_G4 column')\n",
    "    X1['OP_UNIQUE_CARRIER_G4'] = 0\n",
    "    # re-order the columns to match X2\n",
    "    X1 = X1[X2.columns]"
   ]
  },
  {
   "cell_type": "code",
   "execution_count": null,
   "metadata": {},
   "outputs": [],
   "source": [
    "X1.head()"
   ]
  },
  {
   "cell_type": "code",
   "execution_count": null,
   "metadata": {},
   "outputs": [],
   "source": [
    "print(X.mean())"
   ]
  },
  {
   "cell_type": "code",
   "execution_count": 10,
   "metadata": {},
   "outputs": [],
   "source": [
    "# create consistant normalization variables\n",
    "DISTANCE_mean = X1.DISTANCE.mean()\n",
    "DISTANCE_std  = X1.DISTANCE.std()\n",
    "ARR_TIME_mean = X1.ARR_TIME.mean()\n",
    "ARR_TIME_std  = X1.ARR_TIME.std()\n",
    "CRS_ARR_TIME_mean = X1.CRS_ARR_TIME.mean()\n",
    "CRS_ARR_TIME_std  = X1.CRS_ARR_TIME.std()\n",
    "#Day_of_year_mean = X1.Day_of_year.mean()\n",
    "#Day_of_year_std  = X1.Day_of_year.std()\n",
    "DAY_OF_WEEK_std  = X1.DAY_OF_WEEK.std()\n",
    "DAY_OF_WEEK_mean = X1.DAY_OF_WEEK.mean()\n",
    "MONTH_mean = X1.MONTH.mean()\n",
    "MONTH_std  = X1.MONTH.std()"
   ]
  },
  {
   "cell_type": "code",
   "execution_count": 11,
   "metadata": {},
   "outputs": [],
   "source": [
    "X2.DISTANCE     = (X2.DISTANCE -     DISTANCE_mean)/DISTANCE_std\n",
    "X2.ARR_TIME     = (X2.ARR_TIME -     ARR_TIME_mean)/ARR_TIME_std\n",
    "X2.CRS_ARR_TIME = (X2.CRS_ARR_TIME - CRS_ARR_TIME_mean)/CRS_ARR_TIME_std\n",
    "#X2.Day_of_year  = (X2.Day_of_year -  Day_of_year_mean)/Day_of_year_std\n",
    "X2.DAY_OF_WEEK  = (X2.DAY_OF_WEEK -  DAY_OF_WEEK_mean)/DAY_OF_WEEK_std\n",
    "X2.MONTH        = (X2.MONTH -        MONTH_mean)/MONTH_std"
   ]
  },
  {
   "cell_type": "code",
   "execution_count": 12,
   "metadata": {},
   "outputs": [],
   "source": [
    "X1.DISTANCE     = (X1.DISTANCE -     DISTANCE_mean)/DISTANCE_std\n",
    "X1.ARR_TIME     = (X1.ARR_TIME -     ARR_TIME_mean)/ARR_TIME_std\n",
    "X1.CRS_ARR_TIME = (X1.CRS_ARR_TIME - CRS_ARR_TIME_mean)/CRS_ARR_TIME_std\n",
    "#X1.Day_of_year  = (X1.Day_of_year -  Day_of_year_mean)/Day_of_year_std\n",
    "X1.DAY_OF_WEEK  = (X1.DAY_OF_WEEK -  DAY_OF_WEEK_mean)/DAY_OF_WEEK_std\n",
    "X1.MONTH        = (X1.MONTH -        MONTH_mean)/MONTH_std"
   ]
  },
  {
   "cell_type": "markdown",
   "metadata": {},
   "source": [
    "### Train Test Split"
   ]
  },
  {
   "cell_type": "code",
   "execution_count": 16,
   "metadata": {},
   "outputs": [],
   "source": [
    "from sklearn.model_selection import train_test_split\n",
    "\n",
    "# STEP 1: split X and y into training and testing sets\n",
    "X2_train, X2_test, y2_train, y2_test = train_test_split(X2, y2, test_size=0.4, random_state=42)\n",
    "X1_train, X1_test, y1_train, y1_test = train_test_split(X1, y1, test_size=0.4, random_state=42)"
   ]
  },
  {
   "cell_type": "code",
   "execution_count": 19,
   "metadata": {},
   "outputs": [
    {
     "data": {
      "text/plain": [
       "282246    0\n",
       "196393    0\n",
       "11807     1\n",
       "251065    0\n",
       "3375      0\n",
       "133885    0\n",
       "175577    0\n",
       "207307    0\n",
       "49691     0\n",
       "10852     0\n",
       "267191    0\n",
       "63180     0\n",
       "107145    0\n",
       "139778    0\n",
       "239537    0\n",
       "206836    1\n",
       "156522    0\n",
       "92080     0\n",
       "162108    0\n",
       "188536    0\n",
       "237125    0\n",
       "41741     1\n",
       "167366    0\n",
       "272228    1\n",
       "194088    0\n",
       "4224      0\n",
       "93137     0\n",
       "9165      0\n",
       "223388    0\n",
       "207866    0\n",
       "         ..\n",
       "22073     0\n",
       "158236    0\n",
       "159257    0\n",
       "129846    0\n",
       "200937    0\n",
       "218807    0\n",
       "280793    0\n",
       "103867    0\n",
       "253238    0\n",
       "198473    0\n",
       "263173    0\n",
       "36867     0\n",
       "250190    1\n",
       "174562    0\n",
       "49453     1\n",
       "19210     1\n",
       "250267    0\n",
       "200786    0\n",
       "103433    0\n",
       "239189    0\n",
       "82590     0\n",
       "68782     0\n",
       "134040    0\n",
       "209140    0\n",
       "102514    0\n",
       "112507    0\n",
       "89626     0\n",
       "250421    0\n",
       "290280    0\n",
       "162268    0\n",
       "Name: Delay, Length: 96192, dtype: int64"
      ]
     },
     "execution_count": 19,
     "metadata": {},
     "output_type": "execute_result"
    }
   ],
   "source": [
    "# create a dataset combining X2 and X1\n",
    "X3_train = pd.concat([X2_train,X1_train])\n",
    "y3_train = pd.concat([y2_train,y1_train])\n",
    "\n",
    "# reduce training set by 50%\n",
    "X3_train.sample(frac=0.5, replace=True, random_state=1)\n",
    "y3_train.sample(frac=0.5, replace=True, random_state=1)"
   ]
  },
  {
   "cell_type": "code",
   "execution_count": 20,
   "metadata": {},
   "outputs": [],
   "source": [
    "# for models below, variables are X_train, y_train, X_test, y_test\n",
    "X_train = X3_train.copy()\n",
    "y_train = y3_train.copy()\n",
    "\n",
    "X_test = X1_test.copy()\n",
    "y_test = y1_test.copy()"
   ]
  },
  {
   "cell_type": "markdown",
   "metadata": {},
   "source": [
    "## KNN"
   ]
  },
  {
   "cell_type": "code",
   "execution_count": 21,
   "metadata": {},
   "outputs": [
    {
     "data": {
      "text/plain": [
       "KNeighborsClassifier(algorithm='auto', leaf_size=30, metric='minkowski',\n",
       "           metric_params=None, n_jobs=None, n_neighbors=3, p=2,\n",
       "           weights='uniform')"
      ]
     },
     "execution_count": 21,
     "metadata": {},
     "output_type": "execute_result"
    }
   ],
   "source": [
    "from sklearn.neighbors import KNeighborsClassifier\n",
    "from sklearn import metrics\n",
    "\n",
    "knn = KNeighborsClassifier(n_neighbors=3)\n",
    "knn.fit(X_train, y_train)"
   ]
  },
  {
   "cell_type": "code",
   "execution_count": 22,
   "metadata": {},
   "outputs": [
    {
     "name": "stdout",
     "output_type": "stream",
     "text": [
      "0.820745690144\n"
     ]
    }
   ],
   "source": [
    "# pull test data from a subset of training data\n",
    "y_pred = knn.predict(X_test)\n",
    "print(metrics.accuracy_score(y_test, y_pred))"
   ]
  },
  {
   "cell_type": "code",
   "execution_count": 23,
   "metadata": {},
   "outputs": [
    {
     "name": "stdout",
     "output_type": "stream",
     "text": [
      "              precision    recall  f1-score   support\n",
      "\n",
      "           0       0.85      0.94      0.89     49757\n",
      "           1       0.56      0.31      0.40     11904\n",
      "\n",
      "   micro avg       0.82      0.82      0.82     61661\n",
      "   macro avg       0.71      0.63      0.65     61661\n",
      "weighted avg       0.80      0.82      0.80     61661\n",
      "\n"
     ]
    }
   ],
   "source": [
    "print(classification_report(y_test, y_pred))"
   ]
  },
  {
   "cell_type": "markdown",
   "metadata": {},
   "source": [
    "## SVM"
   ]
  },
  {
   "cell_type": "code",
   "execution_count": 24,
   "metadata": {},
   "outputs": [
    {
     "data": {
      "text/plain": [
       "0.97470037787256125"
      ]
     },
     "execution_count": 24,
     "metadata": {},
     "output_type": "execute_result"
    }
   ],
   "source": [
    "model_svm = svm.SVC(kernel='linear')\n",
    "model_svm.fit(X_train, y_train)\n",
    "y_pred = model_svm.predict(X_test)\n",
    "accuracy_score(y_test,y_pred)"
   ]
  },
  {
   "cell_type": "code",
   "execution_count": 25,
   "metadata": {},
   "outputs": [
    {
     "name": "stdout",
     "output_type": "stream",
     "text": [
      "              precision    recall  f1-score   support\n",
      "\n",
      "           0       0.97      1.00      0.98     49757\n",
      "           1       1.00      0.87      0.93     11904\n",
      "\n",
      "   micro avg       0.97      0.97      0.97     61661\n",
      "   macro avg       0.98      0.93      0.96     61661\n",
      "weighted avg       0.98      0.97      0.97     61661\n",
      "\n"
     ]
    }
   ],
   "source": [
    "print(classification_report(y_test, y_pred))"
   ]
  },
  {
   "cell_type": "code",
   "execution_count": 28,
   "metadata": {},
   "outputs": [
    {
     "name": "stdout",
     "output_type": "stream",
     "text": [
      "Confusion matrix, without normalization\n",
      "[[49752     5]\n",
      " [ 1555 10349]]\n"
     ]
    },
    {
     "data": {
      "image/png": "[encoded data removed]",
      "text/plain": [
       "<Figure size 432x288 with 2 Axes>"
      ]
     },
     "metadata": {},
     "output_type": "display_data"
    }
   ],
   "source": [
    "# Compute confusion matrix\n",
    "cnf_matrix = confusion_matrix(y_test, y_pred)\n",
    "np.set_printoptions(precision=2)\n",
    "\n",
    "# Plot non-normalized confusion matrix\n",
    "plt.figure()\n",
    "plot_confusion_matrix(cnf_matrix, classes=('Delayed','On Time'),\n",
    "                      title='Confusion matrix, without normalization')\n"
   ]
  },
  {
   "cell_type": "markdown",
   "metadata": {},
   "source": [
    "### Random Forest"
   ]
  },
  {
   "cell_type": "code",
   "execution_count": null,
   "metadata": {},
   "outputs": [],
   "source": []
  },
  {
   "cell_type": "markdown",
   "metadata": {},
   "source": [
    "## Monkey Model (assume predict all on-time)"
   ]
  },
  {
   "cell_type": "code",
   "execution_count": null,
   "metadata": {},
   "outputs": [],
   "source": [
    "# create training target assuming always on-time\n",
    "no_delays = np.zeros(shape=y_test.shape, dtype='int')"
   ]
  },
  {
   "cell_type": "code",
   "execution_count": null,
   "metadata": {},
   "outputs": [],
   "source": [
    "print(y_train.shape,no_delays.shape)"
   ]
  },
  {
   "cell_type": "code",
   "execution_count": null,
   "metadata": {},
   "outputs": [],
   "source": [
    "print(accuracy_score(y_test,no_delays))\n",
    "print(classification_report(y_test, no_delays))"
   ]
  },
  {
   "cell_type": "markdown",
   "metadata": {},
   "source": [
    "### Confusion Matrix"
   ]
  },
  {
   "cell_type": "code",
   "execution_count": 27,
   "metadata": {},
   "outputs": [],
   "source": [
    "def plot_confusion_matrix(cm, classes,\n",
    "                          normalize=False,\n",
    "                          title='Confusion matrix',\n",
    "                          cmap=plt.cm.Blues):\n",
    "    \"\"\"\n",
    "    This function prints and plots the confusion matrix.\n",
    "    Normalization can be applied by setting `normalize=True`.\n",
    "    \"\"\"\n",
    "    if normalize:\n",
    "        cm = cm.astype('float') / cm.sum(axis=1)[:, np.newaxis]\n",
    "        print(\"Normalized confusion matrix\")\n",
    "    else:\n",
    "        print('Confusion matrix, without normalization')\n",
    "\n",
    "    print(cm)\n",
    "\n",
    "    plt.imshow(cm, interpolation='nearest', cmap=cmap)\n",
    "    plt.title(title)\n",
    "    plt.colorbar()\n",
    "    tick_marks = np.arange(len(classes))\n",
    "    plt.xticks(tick_marks, classes, rotation=45)\n",
    "    plt.yticks(tick_marks, classes)\n",
    "\n",
    "    fmt = '.2f' if normalize else 'd'\n",
    "    thresh = cm.max() / 2.\n",
    "    for i, j in itertools.product(range(cm.shape[0]), range(cm.shape[1])):\n",
    "        plt.text(j, i, format(cm[i, j], fmt),\n",
    "                 horizontalalignment=\"center\",\n",
    "                 color=\"white\" if cm[i, j] > thresh else \"black\")\n",
    "\n",
    "    plt.ylabel('True label')\n",
    "    plt.xlabel('Predicted label')\n",
    "    plt.tight_layout()\n"
   ]
  },
  {
   "cell_type": "markdown",
   "metadata": {},
   "source": [
    "### TRY"
   ]
  },
  {
   "cell_type": "markdown",
   "metadata": {},
   "source": [
    "Split date in to YEAR, MONTH, DAY, DAYOFWEEK   \n",
    "\n",
    "There's a datetime option that adds holidays     \n",
    "\n",
    "plot_confusion_matrix   \n",
    "http://scikit-learn.org/stable/auto_examples/model_selection/plot_confusion_matrix.html\n",
    "\n",
    "LASSO for Logistic Regression   \n",
    "http://scikit-learn.org/stable/modules/generated/sklearn.linear_model.LogisticRegression.html\n",
    "\n",
    "grid search for optimal tuning parameters\n",
    "\n",
    "pipeline\n",
    "\n",
    "Look at modeling each month individually    \n",
    "\n",
    "Look at mixing each year together"
   ]
  },
  {
   "cell_type": "code",
   "execution_count": null,
   "metadata": {},
   "outputs": [],
   "source": []
  }
 ],
 "metadata": {
  "kernelspec": {
   "display_name": "Python 3",
   "language": "python",
   "name": "python3"
  },
  "language_info": {
   "codemirror_mode": {
    "name": "ipython",
    "version": 3
   },
   "file_extension": ".py",
   "mimetype": "text/x-python",
   "name": "python",
   "nbconvert_exporter": "python",
   "pygments_lexer": "ipython3",
   "version": "3.6.5"
  }
 },
 "nbformat": 4,
 "nbformat_minor": 2
}
