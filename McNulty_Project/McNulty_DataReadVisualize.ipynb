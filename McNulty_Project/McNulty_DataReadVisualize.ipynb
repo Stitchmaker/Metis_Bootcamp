{
 "cells": [
  {
   "cell_type": "code",
   "execution_count": 6,
   "metadata": {},
   "outputs": [],
   "source": [
    "import pandas as pd\n",
    "import matplotlib\n",
    "import numpy as np\n",
    "import matplotlib.pyplot as plt"
   ]
  },
  {
   "cell_type": "markdown",
   "metadata": {},
   "source": [
    "## Airline Data"
   ]
  },
  {
   "cell_type": "code",
   "execution_count": 7,
   "metadata": {},
   "outputs": [
    {
     "data": {
      "text/plain": [
       "Index(['YEAR', 'QUARTER', 'MONTH', 'DAY_OF_MONTH', 'DAY_OF_WEEK', 'FL_DATE',\n",
       "       'OP_UNIQUE_CARRIER', 'OP_CARRIER_AIRLINE_ID', 'OP_CARRIER', 'TAIL_NUM',\n",
       "       'OP_CARRIER_FL_NUM', 'ORIGIN_AIRPORT_ID', 'ORIGIN_AIRPORT_SEQ_ID',\n",
       "       'ORIGIN_CITY_MARKET_ID', 'ORIGIN', 'ORIGIN_CITY_NAME',\n",
       "       'DEST_AIRPORT_ID', 'DEST_AIRPORT_SEQ_ID', 'DEST_CITY_MARKET_ID', 'DEST',\n",
       "       'DEST_CITY_NAME', 'DEST_STATE_ABR', 'CRS_DEP_TIME', 'DEP_TIME',\n",
       "       'DEP_DELAY', 'WHEELS_OFF', 'WHEELS_ON', 'CRS_ARR_TIME', 'ARR_TIME',\n",
       "       'CANCELLED', 'CANCELLATION_CODE', 'DIVERTED', 'CRS_ELAPSED_TIME',\n",
       "       'ACTUAL_ELAPSED_TIME', 'AIR_TIME', 'FLIGHTS', 'DISTANCE',\n",
       "       'CARRIER_DELAY', 'WEATHER_DELAY', 'NAS_DELAY', 'SECURITY_DELAY',\n",
       "       'LATE_AIRCRAFT_DELAY', 'Unnamed: 42'],\n",
       "      dtype='object')"
      ]
     },
     "execution_count": 7,
     "metadata": {},
     "output_type": "execute_result"
    }
   ],
   "source": [
    "df_read = pd.read_csv('data/ONTIME_2017.08.csv')\n",
    "df_read.columns"
   ]
  },
  {
   "cell_type": "code",
   "execution_count": 8,
   "metadata": {},
   "outputs": [
    {
     "data": {
      "text/plain": [
       "0    SEA\n",
       "1    BOS\n",
       "2    SEA\n",
       "3    BOS\n",
       "4    ANC\n",
       "Name: DEST, dtype: object"
      ]
     },
     "execution_count": 8,
     "metadata": {},
     "output_type": "execute_result"
    }
   ],
   "source": [
    "df_read.DEST.head()"
   ]
  },
  {
   "cell_type": "code",
   "execution_count": 9,
   "metadata": {},
   "outputs": [],
   "source": [
    "# Each file on flight data represents one month of data\n",
    "FlightDataDates = ['2017.08',\n",
    "                   '2017.09',\n",
    "                   '2017.10',\n",
    "                   '2017.11',\n",
    "                   '2017.12',\n",
    "                   '2018.01',\n",
    "                   '2018.02',\n",
    "                   '2018.03',\n",
    "                   '2018.04',\n",
    "                   '2018.05',\n",
    "                   '2018.06',\n",
    "                   '2018.07']\n",
    "\n",
    "#FlightDataDates = ['2017.08',\n",
    "#                   '2017.09']"
   ]
  },
  {
   "cell_type": "code",
   "execution_count": 10,
   "metadata": {},
   "outputs": [],
   "source": [
    "# Read the data file and strip out the unused columns\n",
    "# DataDate - string in the form '2018.04'\n",
    "# Return a cleaned DataFrame\n",
    "\n",
    "def ReadFlightData(DataDate):\n",
    "    df_read = pd.read_csv('data/ONTIME_'+DataDate+'.csv')\n",
    "    df = df_read[['FL_DATE','OP_UNIQUE_CARRIER','OP_CARRIER_FL_NUM','ORIGIN',\n",
    "                  'DEST','CRS_ARR_TIME','ARR_TIME','DISTANCE','CANCELLED',\n",
    "                  'CARRIER_DELAY','WEATHER_DELAY','NAS_DELAY', 'SECURITY_DELAY',\n",
    "                  'LATE_AIRCRAFT_DELAY']]\n",
    "    return df"
   ]
  },
  {
   "cell_type": "code",
   "execution_count": 11,
   "metadata": {},
   "outputs": [
    {
     "name": "stdout",
     "output_type": "stream",
     "text": [
      "2017.08\n",
      "2017.09\n",
      "2017.10\n",
      "2017.11\n",
      "2017.12\n",
      "2018.01\n",
      "2018.02\n",
      "2018.03\n",
      "2018.04\n",
      "2018.05\n",
      "2018.06\n",
      "2018.07\n"
     ]
    }
   ],
   "source": [
    "df = pd.DataFrame()\n",
    "for DataDate in FlightDataDates:\n",
    "    print(DataDate)\n",
    "    df = df.append(ReadFlightData(DataDate))\n",
    "              "
   ]
  },
  {
   "cell_type": "code",
   "execution_count": 12,
   "metadata": {},
   "outputs": [
    {
     "data": {
      "text/html": [
       "<div>\n",
       "<style scoped>\n",
       "    .dataframe tbody tr th:only-of-type {\n",
       "        vertical-align: middle;\n",
       "    }\n",
       "\n",
       "    .dataframe tbody tr th {\n",
       "        vertical-align: top;\n",
       "    }\n",
       "\n",
       "    .dataframe thead th {\n",
       "        text-align: right;\n",
       "    }\n",
       "</style>\n",
       "<table border=\"1\" class=\"dataframe\">\n",
       "  <thead>\n",
       "    <tr style=\"text-align: right;\">\n",
       "      <th></th>\n",
       "      <th>FL_DATE</th>\n",
       "      <th>OP_UNIQUE_CARRIER</th>\n",
       "      <th>OP_CARRIER_FL_NUM</th>\n",
       "      <th>ORIGIN</th>\n",
       "      <th>DEST</th>\n",
       "      <th>CRS_ARR_TIME</th>\n",
       "      <th>ARR_TIME</th>\n",
       "      <th>DISTANCE</th>\n",
       "      <th>CANCELLED</th>\n",
       "      <th>CARRIER_DELAY</th>\n",
       "      <th>WEATHER_DELAY</th>\n",
       "      <th>NAS_DELAY</th>\n",
       "      <th>SECURITY_DELAY</th>\n",
       "      <th>LATE_AIRCRAFT_DELAY</th>\n",
       "    </tr>\n",
       "  </thead>\n",
       "  <tbody>\n",
       "    <tr>\n",
       "      <th>0</th>\n",
       "      <td>2017-08-12</td>\n",
       "      <td>B6</td>\n",
       "      <td>497</td>\n",
       "      <td>BOS</td>\n",
       "      <td>SEA</td>\n",
       "      <td>2308</td>\n",
       "      <td>2302.0</td>\n",
       "      <td>2496</td>\n",
       "      <td>0</td>\n",
       "      <td>NaN</td>\n",
       "      <td>NaN</td>\n",
       "      <td>NaN</td>\n",
       "      <td>NaN</td>\n",
       "      <td>NaN</td>\n",
       "    </tr>\n",
       "    <tr>\n",
       "      <th>1</th>\n",
       "      <td>2017-08-12</td>\n",
       "      <td>B6</td>\n",
       "      <td>498</td>\n",
       "      <td>SEA</td>\n",
       "      <td>BOS</td>\n",
       "      <td>818</td>\n",
       "      <td>813.0</td>\n",
       "      <td>2496</td>\n",
       "      <td>0</td>\n",
       "      <td>NaN</td>\n",
       "      <td>NaN</td>\n",
       "      <td>NaN</td>\n",
       "      <td>NaN</td>\n",
       "      <td>NaN</td>\n",
       "    </tr>\n",
       "    <tr>\n",
       "      <th>2</th>\n",
       "      <td>2017-08-12</td>\n",
       "      <td>B6</td>\n",
       "      <td>597</td>\n",
       "      <td>BOS</td>\n",
       "      <td>SEA</td>\n",
       "      <td>1018</td>\n",
       "      <td>951.0</td>\n",
       "      <td>2496</td>\n",
       "      <td>0</td>\n",
       "      <td>NaN</td>\n",
       "      <td>NaN</td>\n",
       "      <td>NaN</td>\n",
       "      <td>NaN</td>\n",
       "      <td>NaN</td>\n",
       "    </tr>\n",
       "    <tr>\n",
       "      <th>3</th>\n",
       "      <td>2017-08-12</td>\n",
       "      <td>B6</td>\n",
       "      <td>598</td>\n",
       "      <td>SEA</td>\n",
       "      <td>BOS</td>\n",
       "      <td>1934</td>\n",
       "      <td>1925.0</td>\n",
       "      <td>2496</td>\n",
       "      <td>0</td>\n",
       "      <td>NaN</td>\n",
       "      <td>NaN</td>\n",
       "      <td>NaN</td>\n",
       "      <td>NaN</td>\n",
       "      <td>NaN</td>\n",
       "    </tr>\n",
       "    <tr>\n",
       "      <th>4</th>\n",
       "      <td>2017-08-12</td>\n",
       "      <td>B6</td>\n",
       "      <td>907</td>\n",
       "      <td>SEA</td>\n",
       "      <td>ANC</td>\n",
       "      <td>2318</td>\n",
       "      <td>2257.0</td>\n",
       "      <td>1448</td>\n",
       "      <td>0</td>\n",
       "      <td>NaN</td>\n",
       "      <td>NaN</td>\n",
       "      <td>NaN</td>\n",
       "      <td>NaN</td>\n",
       "      <td>NaN</td>\n",
       "    </tr>\n",
       "  </tbody>\n",
       "</table>\n",
       "</div>"
      ],
      "text/plain": [
       "      FL_DATE OP_UNIQUE_CARRIER  OP_CARRIER_FL_NUM ORIGIN DEST  CRS_ARR_TIME  \\\n",
       "0  2017-08-12                B6                497    BOS  SEA          2308   \n",
       "1  2017-08-12                B6                498    SEA  BOS           818   \n",
       "2  2017-08-12                B6                597    BOS  SEA          1018   \n",
       "3  2017-08-12                B6                598    SEA  BOS          1934   \n",
       "4  2017-08-12                B6                907    SEA  ANC          2318   \n",
       "\n",
       "   ARR_TIME  DISTANCE  CANCELLED  CARRIER_DELAY  WEATHER_DELAY  NAS_DELAY  \\\n",
       "0    2302.0      2496          0            NaN            NaN        NaN   \n",
       "1     813.0      2496          0            NaN            NaN        NaN   \n",
       "2     951.0      2496          0            NaN            NaN        NaN   \n",
       "3    1925.0      2496          0            NaN            NaN        NaN   \n",
       "4    2257.0      1448          0            NaN            NaN        NaN   \n",
       "\n",
       "   SECURITY_DELAY  LATE_AIRCRAFT_DELAY  \n",
       "0             NaN                  NaN  \n",
       "1             NaN                  NaN  \n",
       "2             NaN                  NaN  \n",
       "3             NaN                  NaN  \n",
       "4             NaN                  NaN  "
      ]
     },
     "execution_count": 12,
     "metadata": {},
     "output_type": "execute_result"
    }
   ],
   "source": [
    "#df = ReadFlightData('2017.09')\n",
    "df.head()"
   ]
  },
  {
   "cell_type": "code",
   "execution_count": 13,
   "metadata": {},
   "outputs": [
    {
     "data": {
      "text/plain": [
       "SEA    140319\n",
       "GEG     12484\n",
       "SFO     10235\n",
       "LAX      9477\n",
       "DEN      9044\n",
       "LAS      7594\n",
       "ANC      6780\n",
       "SLC      6181\n",
       "PHX      6072\n",
       "ORD      5976\n",
       "SMF      4697\n",
       "PDX      4638\n",
       "DFW      4451\n",
       "OAK      4424\n",
       "MSP      4374\n",
       "SJC      4121\n",
       "BOI      4013\n",
       "SAN      3794\n",
       "PSC      3684\n",
       "ATL      3095\n",
       "JFK      2802\n",
       "SNA      2648\n",
       "IAH      2493\n",
       "DTW      2414\n",
       "BOS      2263\n",
       "EWR      2200\n",
       "FAI      1886\n",
       "BLI      1854\n",
       "HNL      1726\n",
       "OGG      1448\n",
       "        ...  \n",
       "MIA       465\n",
       "IND       408\n",
       "TUS       386\n",
       "RNO       385\n",
       "MSY       375\n",
       "OMA       365\n",
       "TPA       365\n",
       "SAT       365\n",
       "SBA       339\n",
       "BZN       311\n",
       "RDM       304\n",
       "EUG       303\n",
       "SIT       302\n",
       "ABQ       297\n",
       "MFR       235\n",
       "CHS       228\n",
       "ICT       192\n",
       "CVG       170\n",
       "AZA       169\n",
       "SBP       113\n",
       "CLE       102\n",
       "BIL        96\n",
       "MSO        91\n",
       "HOU        69\n",
       "OKC        66\n",
       "COS        50\n",
       "JAC        39\n",
       "SUN         4\n",
       "MHK         1\n",
       "MSN         1\n",
       "Name: ORIGIN, Length: 84, dtype: int64"
      ]
     },
     "execution_count": 13,
     "metadata": {},
     "output_type": "execute_result"
    }
   ],
   "source": [
    "df.ORIGIN.value_counts()"
   ]
  },
  {
   "cell_type": "code",
   "execution_count": 14,
   "metadata": {},
   "outputs": [
    {
     "data": {
      "text/plain": [
       "(306810, 14)"
      ]
     },
     "execution_count": 14,
     "metadata": {},
     "output_type": "execute_result"
    }
   ],
   "source": [
    "df.shape"
   ]
  },
  {
   "cell_type": "code",
   "execution_count": 15,
   "metadata": {},
   "outputs": [
    {
     "data": {
      "text/plain": [
       "['AA', 'AS', 'B6', 'DL', 'F9', 'G4', 'HA', 'NK', 'OO', 'UA', 'VX', 'WN']"
      ]
     },
     "execution_count": 15,
     "metadata": {},
     "output_type": "execute_result"
    }
   ],
   "source": [
    "# Unique Airlines\n",
    "sorted(df['OP_UNIQUE_CARRIER'].unique())"
   ]
  },
  {
   "cell_type": "code",
   "execution_count": 16,
   "metadata": {},
   "outputs": [
    {
     "name": "stdout",
     "output_type": "stream",
     "text": [
      "FL_DATE\n",
      "2017-08-01    962\n",
      "2017-08-02    967\n",
      "2017-08-03    967\n",
      "2017-08-04    970\n",
      "2017-08-05    912\n",
      "dtype: int64\n",
      "365\n"
     ]
    },
    {
     "data": {
      "image/png": "[encoded data removed]",
      "text/plain": [
       "<Figure size 432x288 with 1 Axes>"
      ]
     },
     "metadata": {},
     "output_type": "display_data"
    }
   ],
   "source": [
    "df2 = df.groupby(['FL_DATE']).size()\n",
    "print(df2.head())\n",
    "print(df2.size)\n",
    "plt.plot(range(365),df2);"
   ]
  },
  {
   "cell_type": "markdown",
   "metadata": {},
   "source": [
    "### Add OnTime column\n",
    "By definition, if the flight ARR_TIME is 15 minutes more than CRS_ARR_TIME (CRS = Computerized Reservations Systems) then the flight is late"
   ]
  },
  {
   "cell_type": "code",
   "execution_count": 17,
   "metadata": {},
   "outputs": [
    {
     "data": {
      "text/html": [
       "<div>\n",
       "<style scoped>\n",
       "    .dataframe tbody tr th:only-of-type {\n",
       "        vertical-align: middle;\n",
       "    }\n",
       "\n",
       "    .dataframe tbody tr th {\n",
       "        vertical-align: top;\n",
       "    }\n",
       "\n",
       "    .dataframe thead th {\n",
       "        text-align: right;\n",
       "    }\n",
       "</style>\n",
       "<table border=\"1\" class=\"dataframe\">\n",
       "  <thead>\n",
       "    <tr style=\"text-align: right;\">\n",
       "      <th></th>\n",
       "      <th>FL_DATE</th>\n",
       "      <th>OP_UNIQUE_CARRIER</th>\n",
       "      <th>OP_CARRIER_FL_NUM</th>\n",
       "      <th>ORIGIN</th>\n",
       "      <th>DEST</th>\n",
       "      <th>CRS_ARR_TIME</th>\n",
       "      <th>ARR_TIME</th>\n",
       "      <th>DISTANCE</th>\n",
       "      <th>CANCELLED</th>\n",
       "      <th>CARRIER_DELAY</th>\n",
       "      <th>WEATHER_DELAY</th>\n",
       "      <th>NAS_DELAY</th>\n",
       "      <th>SECURITY_DELAY</th>\n",
       "      <th>LATE_AIRCRAFT_DELAY</th>\n",
       "      <th>Delay</th>\n",
       "    </tr>\n",
       "  </thead>\n",
       "  <tbody>\n",
       "    <tr>\n",
       "      <th>0</th>\n",
       "      <td>2017-08-12</td>\n",
       "      <td>B6</td>\n",
       "      <td>497</td>\n",
       "      <td>BOS</td>\n",
       "      <td>SEA</td>\n",
       "      <td>2308</td>\n",
       "      <td>2302.0</td>\n",
       "      <td>2496</td>\n",
       "      <td>0</td>\n",
       "      <td>NaN</td>\n",
       "      <td>NaN</td>\n",
       "      <td>NaN</td>\n",
       "      <td>NaN</td>\n",
       "      <td>NaN</td>\n",
       "      <td>0</td>\n",
       "    </tr>\n",
       "    <tr>\n",
       "      <th>1</th>\n",
       "      <td>2017-08-12</td>\n",
       "      <td>B6</td>\n",
       "      <td>498</td>\n",
       "      <td>SEA</td>\n",
       "      <td>BOS</td>\n",
       "      <td>818</td>\n",
       "      <td>813.0</td>\n",
       "      <td>2496</td>\n",
       "      <td>0</td>\n",
       "      <td>NaN</td>\n",
       "      <td>NaN</td>\n",
       "      <td>NaN</td>\n",
       "      <td>NaN</td>\n",
       "      <td>NaN</td>\n",
       "      <td>0</td>\n",
       "    </tr>\n",
       "    <tr>\n",
       "      <th>2</th>\n",
       "      <td>2017-08-12</td>\n",
       "      <td>B6</td>\n",
       "      <td>597</td>\n",
       "      <td>BOS</td>\n",
       "      <td>SEA</td>\n",
       "      <td>1018</td>\n",
       "      <td>951.0</td>\n",
       "      <td>2496</td>\n",
       "      <td>0</td>\n",
       "      <td>NaN</td>\n",
       "      <td>NaN</td>\n",
       "      <td>NaN</td>\n",
       "      <td>NaN</td>\n",
       "      <td>NaN</td>\n",
       "      <td>0</td>\n",
       "    </tr>\n",
       "    <tr>\n",
       "      <th>3</th>\n",
       "      <td>2017-08-12</td>\n",
       "      <td>B6</td>\n",
       "      <td>598</td>\n",
       "      <td>SEA</td>\n",
       "      <td>BOS</td>\n",
       "      <td>1934</td>\n",
       "      <td>1925.0</td>\n",
       "      <td>2496</td>\n",
       "      <td>0</td>\n",
       "      <td>NaN</td>\n",
       "      <td>NaN</td>\n",
       "      <td>NaN</td>\n",
       "      <td>NaN</td>\n",
       "      <td>NaN</td>\n",
       "      <td>0</td>\n",
       "    </tr>\n",
       "    <tr>\n",
       "      <th>4</th>\n",
       "      <td>2017-08-12</td>\n",
       "      <td>B6</td>\n",
       "      <td>907</td>\n",
       "      <td>SEA</td>\n",
       "      <td>ANC</td>\n",
       "      <td>2318</td>\n",
       "      <td>2257.0</td>\n",
       "      <td>1448</td>\n",
       "      <td>0</td>\n",
       "      <td>NaN</td>\n",
       "      <td>NaN</td>\n",
       "      <td>NaN</td>\n",
       "      <td>NaN</td>\n",
       "      <td>NaN</td>\n",
       "      <td>0</td>\n",
       "    </tr>\n",
       "  </tbody>\n",
       "</table>\n",
       "</div>"
      ],
      "text/plain": [
       "      FL_DATE OP_UNIQUE_CARRIER  OP_CARRIER_FL_NUM ORIGIN DEST  CRS_ARR_TIME  \\\n",
       "0  2017-08-12                B6                497    BOS  SEA          2308   \n",
       "1  2017-08-12                B6                498    SEA  BOS           818   \n",
       "2  2017-08-12                B6                597    BOS  SEA          1018   \n",
       "3  2017-08-12                B6                598    SEA  BOS          1934   \n",
       "4  2017-08-12                B6                907    SEA  ANC          2318   \n",
       "\n",
       "   ARR_TIME  DISTANCE  CANCELLED  CARRIER_DELAY  WEATHER_DELAY  NAS_DELAY  \\\n",
       "0    2302.0      2496          0            NaN            NaN        NaN   \n",
       "1     813.0      2496          0            NaN            NaN        NaN   \n",
       "2     951.0      2496          0            NaN            NaN        NaN   \n",
       "3    1925.0      2496          0            NaN            NaN        NaN   \n",
       "4    2257.0      1448          0            NaN            NaN        NaN   \n",
       "\n",
       "   SECURITY_DELAY  LATE_AIRCRAFT_DELAY  Delay  \n",
       "0             NaN                  NaN      0  \n",
       "1             NaN                  NaN      0  \n",
       "2             NaN                  NaN      0  \n",
       "3             NaN                  NaN      0  \n",
       "4             NaN                  NaN      0  "
      ]
     },
     "execution_count": 17,
     "metadata": {},
     "output_type": "execute_result"
    }
   ],
   "source": [
    "df['Delay'] = (df['ARR_TIME'] - df['CRS_ARR_TIME'] >= 15).apply(lambda x: 1 if x == True else 0)\n",
    "\n",
    "df.head()"
   ]
  },
  {
   "cell_type": "code",
   "execution_count": 20,
   "metadata": {},
   "outputs": [],
   "source": [
    "df.to_csv('data/FlightData.csv')"
   ]
  },
  {
   "cell_type": "markdown",
   "metadata": {},
   "source": [
    "## Weather Data"
   ]
  },
  {
   "cell_type": "code",
   "execution_count": null,
   "metadata": {},
   "outputs": [],
   "source": [
    "WeatherData = pd.read_csv('data/WeatherDayAverage.csv')"
   ]
  },
  {
   "cell_type": "code",
   "execution_count": null,
   "metadata": {},
   "outputs": [],
   "source": [
    "WeatherData.columns"
   ]
  },
  {
   "cell_type": "code",
   "execution_count": null,
   "metadata": {},
   "outputs": [],
   "source": [
    "WeatherData.head()"
   ]
  },
  {
   "cell_type": "code",
   "execution_count": null,
   "metadata": {},
   "outputs": [],
   "source": []
  }
 ],
 "metadata": {
  "kernelspec": {
   "display_name": "Python 3",
   "language": "python",
   "name": "python3"
  },
  "language_info": {
   "codemirror_mode": {
    "name": "ipython",
    "version": 3
   },
   "file_extension": ".py",
   "mimetype": "text/x-python",
   "name": "python",
   "nbconvert_exporter": "python",
   "pygments_lexer": "ipython3",
   "version": "3.6.5"
  }
 },
 "nbformat": 4,
 "nbformat_minor": 2
}
