{
 "cells": [
  {
   "cell_type": "code",
   "execution_count": 2,
   "metadata": {
    "ExecuteTime": {
     "end_time": "2018-11-26T02:42:49.745670Z",
     "start_time": "2018-11-26T02:42:48.999834Z"
    }
   },
   "outputs": [],
   "source": [
    "import pandas as pd\n",
    "import matplotlib.pyplot as plt\n",
    "from mpl_toolkits.mplot3d import Axes3D\n",
    "\n",
    "import datetime as dt\n",
    "from dateutil.parser import parse\n"
   ]
  },
  {
   "cell_type": "code",
   "execution_count": null,
   "metadata": {
    "ExecuteTime": {
     "end_time": "2018-11-19T21:57:34.152677Z",
     "start_time": "2018-11-19T21:57:34.150068Z"
    }
   },
   "outputs": [],
   "source": []
  },
  {
   "cell_type": "code",
   "execution_count": 3,
   "metadata": {
    "ExecuteTime": {
     "end_time": "2018-11-26T02:42:51.599284Z",
     "start_time": "2018-11-26T02:42:50.278752Z"
    }
   },
   "outputs": [],
   "source": [
    "df = pd.read_csv('samford_chiller/dss_Samford_chillers.csv')"
   ]
  },
  {
   "cell_type": "code",
   "execution_count": 4,
   "metadata": {
    "ExecuteTime": {
     "end_time": "2018-11-26T02:42:51.623475Z",
     "start_time": "2018-11-26T02:42:51.600988Z"
    }
   },
   "outputs": [
    {
     "data": {
      "text/html": [
       "<div>\n",
       "<style scoped>\n",
       "    .dataframe tbody tr th:only-of-type {\n",
       "        vertical-align: middle;\n",
       "    }\n",
       "\n",
       "    .dataframe tbody tr th {\n",
       "        vertical-align: top;\n",
       "    }\n",
       "\n",
       "    .dataframe thead th {\n",
       "        text-align: right;\n",
       "    }\n",
       "</style>\n",
       "<table border=\"1\" class=\"dataframe\">\n",
       "  <thead>\n",
       "    <tr style=\"text-align: right;\">\n",
       "      <th></th>\n",
       "      <th>timestamp</th>\n",
       "      <th>CH_kW/Ton</th>\n",
       "      <th>CH_kWh</th>\n",
       "      <th>CH_TON</th>\n",
       "      <th>CH1_CDW_DT</th>\n",
       "      <th>CH1_CHLRcmd_Alarm</th>\n",
       "      <th>CH1_CHW_DT</th>\n",
       "      <th>CH1_CHWSTSP_Alarm</th>\n",
       "      <th>CH1_CompSH</th>\n",
       "      <th>CH1_CondApproach</th>\n",
       "      <th>...</th>\n",
       "      <th>COMLOSSBAS</th>\n",
       "      <th>commfail</th>\n",
       "      <th>CommFail_Alarm</th>\n",
       "      <th>OAH</th>\n",
       "      <th>OAT</th>\n",
       "      <th>OAWB</th>\n",
       "      <th>RUNCHLR1</th>\n",
       "      <th>RUNCHLR2</th>\n",
       "      <th>RUNCHLR3</th>\n",
       "      <th>RUNCHLR4</th>\n",
       "    </tr>\n",
       "  </thead>\n",
       "  <tbody>\n",
       "    <tr>\n",
       "      <th>0</th>\n",
       "      <td>2018-01-01T00:00:00.000Z</td>\n",
       "      <td>0.182509</td>\n",
       "      <td>64.0</td>\n",
       "      <td>375.539581</td>\n",
       "      <td>4.5</td>\n",
       "      <td>0.0</td>\n",
       "      <td>-2.500000</td>\n",
       "      <td>0.0</td>\n",
       "      <td>2.099998</td>\n",
       "      <td>-2.000000</td>\n",
       "      <td>...</td>\n",
       "      <td>0.0</td>\n",
       "      <td>0.0</td>\n",
       "      <td>0.0</td>\n",
       "      <td>42.557945</td>\n",
       "      <td>21.783529</td>\n",
       "      <td>17.638870</td>\n",
       "      <td>0.0</td>\n",
       "      <td>1.0</td>\n",
       "      <td>0.0</td>\n",
       "      <td>0.0</td>\n",
       "    </tr>\n",
       "    <tr>\n",
       "      <th>1</th>\n",
       "      <td>2018-01-01T00:05:00.000Z</td>\n",
       "      <td>0.181050</td>\n",
       "      <td>65.0</td>\n",
       "      <td>382.522461</td>\n",
       "      <td>4.5</td>\n",
       "      <td>0.0</td>\n",
       "      <td>-2.599998</td>\n",
       "      <td>0.0</td>\n",
       "      <td>2.000000</td>\n",
       "      <td>-2.000000</td>\n",
       "      <td>...</td>\n",
       "      <td>0.0</td>\n",
       "      <td>0.0</td>\n",
       "      <td>0.0</td>\n",
       "      <td>42.628120</td>\n",
       "      <td>21.783529</td>\n",
       "      <td>17.645111</td>\n",
       "      <td>0.0</td>\n",
       "      <td>1.0</td>\n",
       "      <td>0.0</td>\n",
       "      <td>0.0</td>\n",
       "    </tr>\n",
       "    <tr>\n",
       "      <th>2</th>\n",
       "      <td>2018-01-01T00:10:00.000Z</td>\n",
       "      <td>0.180988</td>\n",
       "      <td>68.0</td>\n",
       "      <td>410.909302</td>\n",
       "      <td>4.5</td>\n",
       "      <td>0.0</td>\n",
       "      <td>-2.599998</td>\n",
       "      <td>0.0</td>\n",
       "      <td>2.000000</td>\n",
       "      <td>-2.000000</td>\n",
       "      <td>...</td>\n",
       "      <td>0.0</td>\n",
       "      <td>0.0</td>\n",
       "      <td>0.0</td>\n",
       "      <td>41.931522</td>\n",
       "      <td>21.783529</td>\n",
       "      <td>17.598881</td>\n",
       "      <td>0.0</td>\n",
       "      <td>1.0</td>\n",
       "      <td>0.0</td>\n",
       "      <td>0.0</td>\n",
       "    </tr>\n",
       "    <tr>\n",
       "      <th>3</th>\n",
       "      <td>2018-01-01T00:15:00.000Z</td>\n",
       "      <td>0.170085</td>\n",
       "      <td>69.0</td>\n",
       "      <td>412.407104</td>\n",
       "      <td>4.5</td>\n",
       "      <td>0.0</td>\n",
       "      <td>-2.599998</td>\n",
       "      <td>0.0</td>\n",
       "      <td>1.899998</td>\n",
       "      <td>-2.000000</td>\n",
       "      <td>...</td>\n",
       "      <td>0.0</td>\n",
       "      <td>0.0</td>\n",
       "      <td>0.0</td>\n",
       "      <td>42.241447</td>\n",
       "      <td>21.456541</td>\n",
       "      <td>17.338827</td>\n",
       "      <td>0.0</td>\n",
       "      <td>1.0</td>\n",
       "      <td>0.0</td>\n",
       "      <td>0.0</td>\n",
       "    </tr>\n",
       "    <tr>\n",
       "      <th>4</th>\n",
       "      <td>2018-01-01T00:20:00.000Z</td>\n",
       "      <td>0.177480</td>\n",
       "      <td>72.0</td>\n",
       "      <td>422.961029</td>\n",
       "      <td>4.5</td>\n",
       "      <td>0.0</td>\n",
       "      <td>-2.500000</td>\n",
       "      <td>0.0</td>\n",
       "      <td>2.000000</td>\n",
       "      <td>-1.899998</td>\n",
       "      <td>...</td>\n",
       "      <td>0.0</td>\n",
       "      <td>0.0</td>\n",
       "      <td>0.0</td>\n",
       "      <td>42.327991</td>\n",
       "      <td>21.456541</td>\n",
       "      <td>17.344910</td>\n",
       "      <td>0.0</td>\n",
       "      <td>1.0</td>\n",
       "      <td>0.0</td>\n",
       "      <td>0.0</td>\n",
       "    </tr>\n",
       "  </tbody>\n",
       "</table>\n",
       "<p>5 rows × 260 columns</p>\n",
       "</div>"
      ],
      "text/plain": [
       "                  timestamp  CH_kW/Ton  CH_kWh      CH_TON  CH1_CDW_DT  \\\n",
       "0  2018-01-01T00:00:00.000Z   0.182509    64.0  375.539581         4.5   \n",
       "1  2018-01-01T00:05:00.000Z   0.181050    65.0  382.522461         4.5   \n",
       "2  2018-01-01T00:10:00.000Z   0.180988    68.0  410.909302         4.5   \n",
       "3  2018-01-01T00:15:00.000Z   0.170085    69.0  412.407104         4.5   \n",
       "4  2018-01-01T00:20:00.000Z   0.177480    72.0  422.961029         4.5   \n",
       "\n",
       "   CH1_CHLRcmd_Alarm  CH1_CHW_DT  CH1_CHWSTSP_Alarm  CH1_CompSH  \\\n",
       "0                0.0   -2.500000                0.0    2.099998   \n",
       "1                0.0   -2.599998                0.0    2.000000   \n",
       "2                0.0   -2.599998                0.0    2.000000   \n",
       "3                0.0   -2.599998                0.0    1.899998   \n",
       "4                0.0   -2.500000                0.0    2.000000   \n",
       "\n",
       "   CH1_CondApproach    ...     COMLOSSBAS  commfail  CommFail_Alarm  \\\n",
       "0         -2.000000    ...            0.0       0.0             0.0   \n",
       "1         -2.000000    ...            0.0       0.0             0.0   \n",
       "2         -2.000000    ...            0.0       0.0             0.0   \n",
       "3         -2.000000    ...            0.0       0.0             0.0   \n",
       "4         -1.899998    ...            0.0       0.0             0.0   \n",
       "\n",
       "         OAH        OAT       OAWB  RUNCHLR1  RUNCHLR2  RUNCHLR3  RUNCHLR4  \n",
       "0  42.557945  21.783529  17.638870       0.0       1.0       0.0       0.0  \n",
       "1  42.628120  21.783529  17.645111       0.0       1.0       0.0       0.0  \n",
       "2  41.931522  21.783529  17.598881       0.0       1.0       0.0       0.0  \n",
       "3  42.241447  21.456541  17.338827       0.0       1.0       0.0       0.0  \n",
       "4  42.327991  21.456541  17.344910       0.0       1.0       0.0       0.0  \n",
       "\n",
       "[5 rows x 260 columns]"
      ]
     },
     "execution_count": 4,
     "metadata": {},
     "output_type": "execute_result"
    }
   ],
   "source": [
    "df.head()"
   ]
  },
  {
   "cell_type": "code",
   "execution_count": 102,
   "metadata": {
    "ExecuteTime": {
     "end_time": "2018-11-21T00:48:49.830227Z",
     "start_time": "2018-11-21T00:48:49.825995Z"
    },
    "scrolled": false
   },
   "outputs": [
    {
     "data": {
      "text/plain": [
       "Index(['CH1_CDW_DT', 'CH1_CHLRcmd_Alarm', 'CH1_CHW_DT', 'CH1_CHWSTSP_Alarm',\n",
       "       'CH1_CompSH', 'CH1_CondApproach', 'CH1_DP_Lift', 'CH1_DT_Lift',\n",
       "       'CH1_EvapApproach', 'CH1_kW/Ton', 'CH1ALARM', 'CH1AVAIL', 'CH1CDP',\n",
       "       'CH1CDT', 'CH1CDWRT', 'CH1CDWST', 'CH1CDWVLV', 'CH1CHWDP', 'CH1CHWFLO',\n",
       "       'CH1CHWFLO_Meter', 'CH1CHWRT', 'CH1CHWST', 'CH1CHWSTSP', 'CH1CHWVLV',\n",
       "       'CH1COMDISCHT', 'CH1CondApproach', 'CH1CYCLF', 'CH1DMD', 'CH1DPLift',\n",
       "       'CH1DTLift', 'CH1EvapApproach', 'CH1EVP', 'CH1EVT', 'CH1F', 'CH1FLA',\n",
       "       'CH1Hz', 'CH1IGV', 'CH1kW', 'CH1Lift', 'CH1Load', 'CH1REFLVL', 'CH1S',\n",
       "       'CH1SBoolean', 'CH1SPD', 'CH1SS', 'CH1STATE', 'CH1SURGECNT', 'CH1Ton',\n",
       "       'CH1WARNF'],\n",
       "      dtype='object')"
      ]
     },
     "execution_count": 102,
     "metadata": {},
     "output_type": "execute_result"
    }
   ],
   "source": [
    "df.columns[4:53]"
   ]
  },
  {
   "cell_type": "code",
   "execution_count": 5,
   "metadata": {
    "ExecuteTime": {
     "end_time": "2018-11-26T02:42:56.450433Z",
     "start_time": "2018-11-26T02:42:56.447583Z"
    }
   },
   "outputs": [],
   "source": [
    "def get_datetime(y):\n",
    "    x = parse(y)\n",
    "    return x"
   ]
  },
  {
   "cell_type": "code",
   "execution_count": 6,
   "metadata": {
    "ExecuteTime": {
     "end_time": "2018-11-26T02:43:01.793285Z",
     "start_time": "2018-11-26T02:42:59.560236Z"
    }
   },
   "outputs": [],
   "source": [
    "df['datetime'] = df['timestamp'].apply(get_datetime)"
   ]
  },
  {
   "cell_type": "code",
   "execution_count": 7,
   "metadata": {
    "ExecuteTime": {
     "end_time": "2018-11-26T02:43:01.797293Z",
     "start_time": "2018-11-26T02:43:01.794793Z"
    }
   },
   "outputs": [],
   "source": [
    "CH_features = ['_kW/Ton','Load','CDWRT','CDWST','DTLift','Ton','_EvapApproach',\n",
    "               '_CondApproach','Hz','_CompSH','IGV','REFLVL']"
   ]
  },
  {
   "cell_type": "code",
   "execution_count": null,
   "metadata": {
    "ExecuteTime": {
     "end_time": "2018-11-21T00:42:41.719246Z",
     "start_time": "2018-11-21T00:42:41.714858Z"
    }
   },
   "outputs": [],
   "source": []
  },
  {
   "cell_type": "code",
   "execution_count": 8,
   "metadata": {
    "ExecuteTime": {
     "end_time": "2018-11-26T02:43:03.039078Z",
     "start_time": "2018-11-26T02:43:03.035179Z"
    }
   },
   "outputs": [],
   "source": [
    "def chiller_data(df, CH, CH_features):\n",
    "    df_chiller = pd.DataFrame()\n",
    "    df_chiller['datetime'] = df['timestamp'].apply(get_datetime)\n",
    "    \n",
    "    for f in CH_features:\n",
    "        if f[0] == '_':\n",
    "            ff = f[1:]\n",
    "        else:\n",
    "            ff = f\n",
    "        feature = 'CH'+CH+f\n",
    "        df_chiller[ff] = df[feature]\n",
    "        \n",
    "    return df_chiller"
   ]
  },
  {
   "cell_type": "code",
   "execution_count": 9,
   "metadata": {
    "ExecuteTime": {
     "end_time": "2018-11-26T02:43:17.354249Z",
     "start_time": "2018-11-26T02:43:03.928020Z"
    }
   },
   "outputs": [],
   "source": [
    "chillers = ['1','2','3','4']\n",
    "\n",
    "df_chiller = chiller_data(df,'1',CH_features)\n",
    "for c in chillers:\n",
    "    df_chiller = chiller_data(df,c,CH_features)\n",
    "    df_chiller.to_csv('data/S'+c+'_chiller.csv')"
   ]
  },
  {
   "cell_type": "code",
   "execution_count": 109,
   "metadata": {
    "ExecuteTime": {
     "end_time": "2018-11-21T00:52:26.784075Z",
     "start_time": "2018-11-21T00:52:26.770090Z"
    }
   },
   "outputs": [
    {
     "data": {
      "text/html": [
       "<div>\n",
       "<style scoped>\n",
       "    .dataframe tbody tr th:only-of-type {\n",
       "        vertical-align: middle;\n",
       "    }\n",
       "\n",
       "    .dataframe tbody tr th {\n",
       "        vertical-align: top;\n",
       "    }\n",
       "\n",
       "    .dataframe thead th {\n",
       "        text-align: right;\n",
       "    }\n",
       "</style>\n",
       "<table border=\"1\" class=\"dataframe\">\n",
       "  <thead>\n",
       "    <tr style=\"text-align: right;\">\n",
       "      <th></th>\n",
       "      <th>datetime</th>\n",
       "      <th>kW/Ton</th>\n",
       "      <th>Load</th>\n",
       "      <th>CDWRT</th>\n",
       "      <th>CDWST</th>\n",
       "      <th>DTLift</th>\n",
       "      <th>Ton</th>\n",
       "      <th>EvapApproach</th>\n",
       "      <th>CondApproach</th>\n",
       "      <th>Hz</th>\n",
       "      <th>CompSH</th>\n",
       "      <th>IGV</th>\n",
       "      <th>REFLVL</th>\n",
       "    </tr>\n",
       "  </thead>\n",
       "  <tbody>\n",
       "    <tr>\n",
       "      <th>0</th>\n",
       "      <td>2018-01-01 00:00:00+00:00</td>\n",
       "      <td>0.0</td>\n",
       "      <td>0.0</td>\n",
       "      <td>55.900002</td>\n",
       "      <td>51.400002</td>\n",
       "      <td>2.000000</td>\n",
       "      <td>0.0</td>\n",
       "      <td>1.000000</td>\n",
       "      <td>-2.000000</td>\n",
       "      <td>0.0</td>\n",
       "      <td>2.099998</td>\n",
       "      <td>0.0</td>\n",
       "      <td>2.1</td>\n",
       "    </tr>\n",
       "    <tr>\n",
       "      <th>1</th>\n",
       "      <td>2018-01-01 00:05:00+00:00</td>\n",
       "      <td>0.0</td>\n",
       "      <td>0.0</td>\n",
       "      <td>55.900002</td>\n",
       "      <td>51.400002</td>\n",
       "      <td>1.900002</td>\n",
       "      <td>0.0</td>\n",
       "      <td>1.099998</td>\n",
       "      <td>-2.000000</td>\n",
       "      <td>0.0</td>\n",
       "      <td>2.000000</td>\n",
       "      <td>0.0</td>\n",
       "      <td>2.1</td>\n",
       "    </tr>\n",
       "    <tr>\n",
       "      <th>2</th>\n",
       "      <td>2018-01-01 00:10:00+00:00</td>\n",
       "      <td>0.0</td>\n",
       "      <td>0.0</td>\n",
       "      <td>55.900002</td>\n",
       "      <td>51.400002</td>\n",
       "      <td>1.900002</td>\n",
       "      <td>0.0</td>\n",
       "      <td>1.099998</td>\n",
       "      <td>-2.000000</td>\n",
       "      <td>0.0</td>\n",
       "      <td>2.000000</td>\n",
       "      <td>0.0</td>\n",
       "      <td>2.1</td>\n",
       "    </tr>\n",
       "    <tr>\n",
       "      <th>3</th>\n",
       "      <td>2018-01-01 00:15:00+00:00</td>\n",
       "      <td>0.0</td>\n",
       "      <td>0.0</td>\n",
       "      <td>55.900002</td>\n",
       "      <td>51.400002</td>\n",
       "      <td>1.900002</td>\n",
       "      <td>0.0</td>\n",
       "      <td>1.099998</td>\n",
       "      <td>-2.000000</td>\n",
       "      <td>0.0</td>\n",
       "      <td>1.899998</td>\n",
       "      <td>0.0</td>\n",
       "      <td>2.1</td>\n",
       "    </tr>\n",
       "    <tr>\n",
       "      <th>4</th>\n",
       "      <td>2018-01-01 00:20:00+00:00</td>\n",
       "      <td>0.0</td>\n",
       "      <td>0.0</td>\n",
       "      <td>55.799999</td>\n",
       "      <td>51.299999</td>\n",
       "      <td>1.899998</td>\n",
       "      <td>0.0</td>\n",
       "      <td>1.000000</td>\n",
       "      <td>-1.899998</td>\n",
       "      <td>0.0</td>\n",
       "      <td>2.000000</td>\n",
       "      <td>0.0</td>\n",
       "      <td>2.0</td>\n",
       "    </tr>\n",
       "  </tbody>\n",
       "</table>\n",
       "</div>"
      ],
      "text/plain": [
       "                   datetime  kW/Ton  Load      CDWRT      CDWST    DTLift  \\\n",
       "0 2018-01-01 00:00:00+00:00     0.0   0.0  55.900002  51.400002  2.000000   \n",
       "1 2018-01-01 00:05:00+00:00     0.0   0.0  55.900002  51.400002  1.900002   \n",
       "2 2018-01-01 00:10:00+00:00     0.0   0.0  55.900002  51.400002  1.900002   \n",
       "3 2018-01-01 00:15:00+00:00     0.0   0.0  55.900002  51.400002  1.900002   \n",
       "4 2018-01-01 00:20:00+00:00     0.0   0.0  55.799999  51.299999  1.899998   \n",
       "\n",
       "   Ton  EvapApproach  CondApproach   Hz    CompSH  IGV  REFLVL  \n",
       "0  0.0      1.000000     -2.000000  0.0  2.099998  0.0     2.1  \n",
       "1  0.0      1.099998     -2.000000  0.0  2.000000  0.0     2.1  \n",
       "2  0.0      1.099998     -2.000000  0.0  2.000000  0.0     2.1  \n",
       "3  0.0      1.099998     -2.000000  0.0  1.899998  0.0     2.1  \n",
       "4  0.0      1.000000     -1.899998  0.0  2.000000  0.0     2.0  "
      ]
     },
     "execution_count": 109,
     "metadata": {},
     "output_type": "execute_result"
    }
   ],
   "source": [
    "df_chiller.head()"
   ]
  },
  {
   "cell_type": "code",
   "execution_count": null,
   "metadata": {},
   "outputs": [],
   "source": []
  },
  {
   "cell_type": "code",
   "execution_count": null,
   "metadata": {},
   "outputs": [],
   "source": []
  },
  {
   "cell_type": "markdown",
   "metadata": {},
   "source": [
    "## Plot chiller data"
   ]
  },
  {
   "cell_type": "code",
   "execution_count": 12,
   "metadata": {
    "ExecuteTime": {
     "end_time": "2018-11-26T02:43:41.844862Z",
     "start_time": "2018-11-26T02:43:39.639990Z"
    }
   },
   "outputs": [
    {
     "data": {
      "text/plain": [
       "Index(['datetime', 'kW/Ton', 'Load', 'CDWRT', 'CDWST', 'DTLift', 'Ton',\n",
       "       'EvapApproach', 'CondApproach', 'Hz', 'CompSH', 'IGV', 'REFLVL'],\n",
       "      dtype='object')"
      ]
     },
     "execution_count": 12,
     "metadata": {},
     "output_type": "execute_result"
    }
   ],
   "source": [
    "Chiller1 = chiller_data(df,'1',CH_features)\n",
    "Chiller1.columns"
   ]
  },
  {
   "cell_type": "code",
   "execution_count": 15,
   "metadata": {
    "ExecuteTime": {
     "end_time": "2018-11-26T02:45:41.852546Z",
     "start_time": "2018-11-26T02:45:41.843585Z"
    }
   },
   "outputs": [],
   "source": [
    "Chiller1.drop(Chiller1[Chiller1['Load'] == 0].index, inplace=True)\n",
    "Chiller1.drop(Chiller1[Chiller1['kW/Ton'] == 0].index, inplace=True)\n"
   ]
  },
  {
   "cell_type": "code",
   "execution_count": 20,
   "metadata": {
    "ExecuteTime": {
     "end_time": "2018-11-26T02:48:47.292582Z",
     "start_time": "2018-11-26T02:48:47.287572Z"
    }
   },
   "outputs": [],
   "source": [
    "col_list = { 10:'blue',\n",
    "             20:'red',\n",
    "             30:'green',\n",
    "             40:'yellow',\n",
    "             50:'purple'}\n",
    "\n",
    "\n",
    "def pltcolor(lift,col_list):\n",
    "    cols=[]\n",
    "    for l in lift:\n",
    "        if l <= 15:\n",
    "            cols.append(col_list[10])\n",
    "        elif (l > 15) and (l <= 25):\n",
    "            cols.append(col_list[20])\n",
    "        elif (l > 25) and (l <= 35):\n",
    "            cols.append(col_list[30])\n",
    "        elif (l > 35) and (l <= 45):\n",
    "            cols.append(col_list[40])\n",
    "        elif (l > 45):\n",
    "            cols.append(col_list[50])\n",
    "    return cols\n",
    "\n",
    "bands = pltcolor(list(Chiller1['DTLift']),col_list)"
   ]
  },
  {
   "cell_type": "code",
   "execution_count": 22,
   "metadata": {
    "ExecuteTime": {
     "end_time": "2018-11-26T02:49:16.039477Z",
     "start_time": "2018-11-26T02:49:15.855013Z"
    }
   },
   "outputs": [
    {
     "data": {
      "text/plain": [
       "<mpl_toolkits.mplot3d.art3d.Path3DCollection at 0x117047b38>"
      ]
     },
     "execution_count": 22,
     "metadata": {},
     "output_type": "execute_result"
    },
    {
     "data": {
      "image/png": "[encoded data removed]",
      "text/plain": [
       "<Figure size 432x288 with 1 Axes>"
      ]
     },
     "metadata": {},
     "output_type": "display_data"
    }
   ],
   "source": [
    "fig = plt.figure()\n",
    "ax = fig.add_subplot(111, projection='3d')\n",
    "ax.scatter(Chiller1['Load'], Chiller1['DTLift'],Chiller1['kW/Ton'], \n",
    "               zdir='z', s=1, depthshade=True, c=bands)"
   ]
  },
  {
   "cell_type": "code",
   "execution_count": null,
   "metadata": {},
   "outputs": [],
   "source": []
  }
 ],
 "metadata": {
  "kernelspec": {
   "display_name": "Python 3",
   "language": "python",
   "name": "python3"
  },
  "language_info": {
   "codemirror_mode": {
    "name": "ipython",
    "version": 3
   },
   "file_extension": ".py",
   "mimetype": "text/x-python",
   "name": "python",
   "nbconvert_exporter": "python",
   "pygments_lexer": "ipython3",
   "version": "3.6.5"
  }
 },
 "nbformat": 4,
 "nbformat_minor": 2
}
