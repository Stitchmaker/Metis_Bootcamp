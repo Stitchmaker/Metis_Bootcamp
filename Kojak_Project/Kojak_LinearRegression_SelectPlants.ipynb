{
 "cells": [
  {
   "cell_type": "markdown",
   "metadata": {},
   "source": [
    "# Analysis"
   ]
  },
  {
   "cell_type": "markdown",
   "metadata": {},
   "source": [
    "Read data files from multiple chillers and create a model"
   ]
  },
  {
   "cell_type": "code",
   "execution_count": 12,
   "metadata": {
    "ExecuteTime": {
     "end_time": "2018-12-03T05:00:01.045176Z",
     "start_time": "2018-12-03T05:00:01.038696Z"
    }
   },
   "outputs": [],
   "source": [
    "import pandas as pd\n",
    "import numpy as np\n",
    "\n",
    "from sklearn.linear_model    import LinearRegression\n",
    "from sklearn.model_selection import train_test_split\n",
    "from sklearn.linear_model    import RidgeCV\n",
    "from sklearn.pipeline        import make_pipeline\n",
    "from sklearn.preprocessing   import PolynomialFeatures\n",
    "from sklearn.model_selection import KFold\n",
    "from sklearn.preprocessing   import StandardScaler\n",
    "from sklearn.metrics         import mean_squared_error\n",
    "from sklearn.linear_model    import Lasso\n",
    "from sklearn                 import linear_model\n",
    "\n",
    "import seaborn as sns\n",
    "import matplotlib.pyplot as plt\n",
    "\n",
    "from math import sqrt\n",
    "\n",
    "import pickle\n",
    "\n",
    "%matplotlib inline\n",
    "\n",
    "import re\n",
    "import glob\n",
    "\n",
    "\n",
    "# import custome utility functions\n",
    "from util import plot_curves\n",
    "from util import get_Xy\n",
    "#from util import compute_lift_lines"
   ]
  },
  {
   "cell_type": "markdown",
   "metadata": {},
   "source": [
    "## LASSO"
   ]
  },
  {
   "cell_type": "code",
   "execution_count": null,
   "metadata": {
    "ExecuteTime": {
     "end_time": "2018-12-03T00:25:31.517089Z",
     "start_time": "2018-12-03T00:25:19.091398Z"
    }
   },
   "outputs": [],
   "source": [
    "'''\n",
    "ChList = (['1T1','1T2','1T3','1T4','1T5','1T6','1T7','1T8','1T9','1T10','1T11','1T12',\n",
    "             '5T14','5T16','5T18','5T20',\n",
    "             'B1','B2','B3','B4',\n",
    "             'BC1','BC2',\n",
    "             'C1','C2','C3','C4',\n",
    "             'S1','S2','S3','S4'])\n",
    "'''\n",
    "\n",
    "ChList = (['B1','B2','B3','B4',\n",
    "             'C1','C2','C3','C4',\n",
    "             'S1','S2','S3','S4'])\n",
    "\n",
    "df_all = Plants_to_one_file(ChList)\n",
    "data_file = 'data/ALL_chillers.csv'\n",
    "df_all.to_csv(data_file)\n",
    "\n",
    "#feat = ['HigherOrder','ModelInfo']\n",
    "feat = ['HigherOrder','ReducedModelInfo','ModelInfoHigherOrder']\n",
    "#feat = ['HigherOrder']\n",
    "\n",
    "X, y, df = new_get_Xy(data_file,feat)\n",
    "\n",
    "print(X.shape)\n",
    "print(X.dropna().shape)\n",
    "\n",
    "#divide in to train and test sets\n",
    "X_train,X_test, y_train, y_test = train_test_split(X, y, test_size=0.4,random_state=42)\n",
    "print(X_train.shape, y_train.shape)\n",
    "print(X_test.shape, y_test.shape)\n"
   ]
  },
  {
   "cell_type": "code",
   "execution_count": null,
   "metadata": {
    "ExecuteTime": {
     "end_time": "2018-12-03T00:25:32.205088Z",
     "start_time": "2018-12-03T00:25:31.518957Z"
    }
   },
   "outputs": [],
   "source": [
    "lr_lasso = linear_model.Lasso(alpha=0.1)\n",
    "lr_fit = lr_lasso.fit(X_train, y_train)\n",
    "\n",
    "# Print out the R^2 for the model against the full dataset\n",
    "lr_lasso.score(X_train,y_train)"
   ]
  },
  {
   "cell_type": "code",
   "execution_count": null,
   "metadata": {
    "ExecuteTime": {
     "end_time": "2018-12-03T00:25:37.794733Z",
     "start_time": "2018-12-03T00:25:32.207057Z"
    }
   },
   "outputs": [],
   "source": [
    "#alpha_list = [1e-4, 1e-3, 1e-2, .05, 1e-1,.3,.5,.7]\n",
    "#alpha_list = [5e-6, 1e-5, 5e-5, 1e-4,5e-4,1e-3]\n",
    "alpha_list = [1e-5, 5e-5, 1e-4,5e-4]\n",
    "\n",
    "lasso_results = []\n",
    "for alpha in alpha_list:\n",
    "    lr_lasso = linear_model.Lasso(alpha=alpha)\n",
    "    lr_lasso_fit = lr_lasso.fit(X_train, y_train)\n",
    "\n",
    "    score = lr_lasso.score(X_train,y_train)\n",
    "    RMSE = sqrt(mean_squared_error(y_test, lr_lasso.predict(X_test)))\n",
    "    coef = lr_lasso_fit.coef_.tolist()\n",
    "    #print(coef)\n",
    "    lasso_results.append([alpha,score,coef,RMSE])"
   ]
  },
  {
   "cell_type": "code",
   "execution_count": null,
   "metadata": {
    "ExecuteTime": {
     "end_time": "2018-12-03T00:25:50.948518Z",
     "start_time": "2018-12-03T00:25:50.944783Z"
    }
   },
   "outputs": [],
   "source": [
    "X_train.columns"
   ]
  },
  {
   "cell_type": "code",
   "execution_count": null,
   "metadata": {
    "ExecuteTime": {
     "end_time": "2018-12-03T00:27:21.967657Z",
     "start_time": "2018-12-03T00:27:21.428658Z"
    },
    "scrolled": false
   },
   "outputs": [],
   "source": [
    "num_features = X_train.shape[1]\n",
    "\n",
    "p = 0\n",
    "num_plots = len(lasso_results)\n",
    "fig, axes = plt.subplots(nrows=(num_plots+1)//2, ncols=2, figsize=(15, int(num_plots/2)*4))\n",
    "\n",
    "for alpha,score,coef,RMSE in lasso_results:\n",
    "    #print(alpha,score,coef)\n",
    "    test = (alpha == 0.7)\n",
    "    test = True\n",
    "    plt.setp(axes, xticks=np.linspace(0,num_features+1, num=num_features+2), \n",
    "#             xticklabels=['','Load','DTLift','Load^2','DTLift^2',\n",
    "#                          'Load*DTLift','Load*DTLift^2','Load^2*DTLift'],\n",
    "#             ylim=(-.1,.2),\n",
    "             ylim=(-.001,.001),\n",
    "             xlim=(0.5,num_features+.5))\n",
    "\n",
    "    if test:\n",
    "        axes[p//2,p%2].bar(range(1,num_features+1),coef,\n",
    "                           label=f\"alpha={alpha}, R^2={score:.2g}\",\n",
    "                           color='green',edgecolor='green')\n",
    "        axes[p//2,p%2].set_xlabel(\"Feature\")\n",
    "        axes[p//2,p%2].set_ylabel(\"Lasso Coefficient\")\n",
    "        axes[p//2,p%2].legend()\n",
    "\n",
    "        p +=1\n",
    "        \n",
    "if num_plots%2 == 1:\n",
    "    axes[num_plots//2, 1].remove()  # don't display empty plot\n",
    "\n",
    "plt.show()"
   ]
  },
  {
   "cell_type": "code",
   "execution_count": null,
   "metadata": {
    "ExecuteTime": {
     "end_time": "2018-11-29T00:22:33.093500Z",
     "start_time": "2018-11-29T00:22:33.089576Z"
    }
   },
   "outputs": [],
   "source": [
    "X_train.columns"
   ]
  },
  {
   "cell_type": "markdown",
   "metadata": {},
   "source": [
    "## York Curves"
   ]
  },
  {
   "cell_type": "code",
   "execution_count": null,
   "metadata": {
    "ExecuteTime": {
     "end_time": "2018-12-01T23:37:49.455866Z",
     "start_time": "2018-12-01T23:37:49.448675Z"
    }
   },
   "outputs": [],
   "source": [
    "york"
   ]
  },
  {
   "cell_type": "code",
   "execution_count": null,
   "metadata": {
    "ExecuteTime": {
     "end_time": "2018-12-02T12:28:38.116608Z",
     "start_time": "2018-12-02T12:28:38.101143Z"
    }
   },
   "outputs": [],
   "source": [
    "york = pd.read_csv('data/Chiller_Characteristics/YorkCurves.csv')\n",
    "\n",
    "X1 = pd.DataFrame()\n",
    "y1 = pd.DataFrame()\n",
    "X2 = pd.DataFrame()\n",
    "y2 = pd.DataFrame()\n",
    "\n",
    "X1['Load'] = york['Load']\n",
    "X1['Load^2'] = york['Load']**2\n",
    "y1['kW/Ton'] = york['YKKJKLH9-CWF']\n",
    "\n",
    "# Create an empty model\n",
    "lr = LinearRegression()\n",
    "\n",
    "# Fit the model to the full dataset\n",
    "lr.fit(X1, y1)\n",
    "\n",
    "# Print out the R^2 for the model against the full dataset\n",
    "print(lr.intercept_)\n",
    "print(lr.coef_)\n",
    "\n",
    "X2 = X1.copy()\n",
    "\n",
    "y2['kW/Ton'] = york['YKPFP4K2-FBG']\n",
    "lr.fit(X1, y2)\n",
    "print(lr.intercept_)\n",
    "print(lr.coef_)\n"
   ]
  },
  {
   "cell_type": "code",
   "execution_count": null,
   "metadata": {
    "ExecuteTime": {
     "end_time": "2018-12-02T12:28:55.929680Z",
     "start_time": "2018-12-02T12:28:55.926201Z"
    }
   },
   "outputs": [],
   "source": [
    "X1['ModelNo'] = 'YKKJKLH9-CWF'\n",
    "X2['ModelNo'] = 'YKPFP4K2-FBG'"
   ]
  },
  {
   "cell_type": "code",
   "execution_count": null,
   "metadata": {
    "ExecuteTime": {
     "end_time": "2018-12-02T12:29:07.209812Z",
     "start_time": "2018-12-02T12:29:07.193463Z"
    }
   },
   "outputs": [],
   "source": [
    "ModelCharacteristics = pd.read_csv('data/Chiller_Characteristics/ModelCharacteristics.csv')\n",
    "X1 = pd.merge(X1, ModelCharacteristics, on='ModelNo')\n",
    "X2 = pd.merge(X2, ModelCharacteristics, on='ModelNo')\n"
   ]
  },
  {
   "cell_type": "code",
   "execution_count": null,
   "metadata": {
    "ExecuteTime": {
     "end_time": "2018-12-02T12:29:11.883938Z",
     "start_time": "2018-12-02T12:29:11.873117Z"
    }
   },
   "outputs": [],
   "source": [
    "X = X1.append(X2,sort=False)\n",
    "y = y1.append(y2,sort=False)"
   ]
  },
  {
   "cell_type": "code",
   "execution_count": null,
   "metadata": {
    "ExecuteTime": {
     "end_time": "2018-12-02T12:29:15.632596Z",
     "start_time": "2018-12-02T12:29:15.626678Z"
    }
   },
   "outputs": [],
   "source": [
    "X = X.dropna(axis=1)\n",
    "X = X.drop(columns='ModelNo')"
   ]
  },
  {
   "cell_type": "code",
   "execution_count": null,
   "metadata": {
    "ExecuteTime": {
     "end_time": "2018-12-02T12:29:19.412254Z",
     "start_time": "2018-12-02T12:29:19.408384Z"
    }
   },
   "outputs": [],
   "source": [
    "X.columns"
   ]
  },
  {
   "cell_type": "code",
   "execution_count": null,
   "metadata": {
    "ExecuteTime": {
     "end_time": "2018-12-02T00:07:11.295270Z",
     "start_time": "2018-12-02T00:07:11.286189Z"
    }
   },
   "outputs": [],
   "source": [
    "lr_lasso = linear_model.Lasso(alpha=0.1)\n",
    "lr_fit = lr_lasso.fit(X, y)\n",
    "\n",
    "# Print out the R^2 for the model against the full dataset\n",
    "lr_lasso.score(X,y)"
   ]
  },
  {
   "cell_type": "code",
   "execution_count": null,
   "metadata": {
    "ExecuteTime": {
     "end_time": "2018-12-02T00:10:10.268989Z",
     "start_time": "2018-12-02T00:10:10.248901Z"
    }
   },
   "outputs": [],
   "source": [
    "alpha_list = [1e-5, 1e-4,1e-3, 1e-2,1e-1]\n",
    "\n",
    "lasso_results = []\n",
    "for alpha in alpha_list:\n",
    "    lr_lasso = linear_model.Lasso(alpha=alpha)\n",
    "    lr_lasso_fit = lr_lasso.fit(X, y)\n",
    "\n",
    "    score = lr_lasso.score(X,y)\n",
    "    RMSE = sqrt(mean_squared_error(y, lr_lasso.predict(X)))\n",
    "    coef = lr_lasso_fit.coef_.tolist()\n",
    "    #print(coef)\n",
    "    lasso_results.append([alpha,score,coef,RMSE])"
   ]
  },
  {
   "cell_type": "code",
   "execution_count": null,
   "metadata": {
    "ExecuteTime": {
     "end_time": "2018-12-02T00:12:04.029668Z",
     "start_time": "2018-12-02T00:12:03.600091Z"
    }
   },
   "outputs": [],
   "source": [
    "num_features = X.shape[1]\n",
    "\n",
    "p = 0\n",
    "num_plots = len(lasso_results)\n",
    "fig, axes = plt.subplots(nrows=(num_plots+1)//2, ncols=2, figsize=(15, int(num_plots/2)*4))\n",
    "\n",
    "for alpha,score,coef,RMSE in lasso_results:\n",
    "    #print(alpha,score,coef)\n",
    "    test = (alpha == 0.7)\n",
    "    test = True\n",
    "    plt.setp(axes, xticks=np.linspace(0,num_features+1, num=num_features+2), \n",
    "             ylim=(-.001,.001),\n",
    "#             xlim=(0.5,num_features+.5)\n",
    "            )\n",
    "\n",
    "    if test:\n",
    "        axes[p//2,p%2].bar(range(1,num_features+1),coef,\n",
    "                           label=f\"alpha={alpha}, R^2={score:.2g}\",\n",
    "                           color='green',edgecolor='green')\n",
    "        axes[p//2,p%2].set_xlabel(\"Feature\")\n",
    "        axes[p//2,p%2].set_ylabel(\"Lasso Coefficient\")\n",
    "        axes[p//2,p%2].legend()\n",
    "\n",
    "        p +=1\n",
    "        \n",
    "if num_plots%2 == 1:\n",
    "    axes[num_plots//2, 1].remove()  # don't display empty plot\n",
    "\n",
    "plt.show()"
   ]
  },
  {
   "cell_type": "code",
   "execution_count": null,
   "metadata": {
    "ExecuteTime": {
     "end_time": "2018-12-02T12:29:39.729406Z",
     "start_time": "2018-12-02T12:29:39.590132Z"
    }
   },
   "outputs": [],
   "source": [
    "X_new = X[['Load','Load^2','RatedTons']]\n",
    "lr.fit(X_new, y)\n",
    "\n",
    "print(lr.intercept_)\n",
    "print(lr.coef_)"
   ]
  },
  {
   "cell_type": "code",
   "execution_count": null,
   "metadata": {
    "ExecuteTime": {
     "end_time": "2018-12-02T00:15:30.920528Z",
     "start_time": "2018-12-02T00:15:30.914965Z"
    }
   },
   "outputs": [],
   "source": [
    "X_new = X[['Load','Load^2','RatedTons','CDesFlow']]\n",
    "lr.fit(X_new, y)\n",
    "\n",
    "print(lr.intercept_)\n",
    "print(lr.coef_)"
   ]
  },
  {
   "cell_type": "markdown",
   "metadata": {},
   "source": [
    "## Functions"
   ]
  },
  {
   "cell_type": "code",
   "execution_count": 13,
   "metadata": {
    "ExecuteTime": {
     "end_time": "2018-12-03T05:00:07.145408Z",
     "start_time": "2018-12-03T05:00:07.140544Z"
    }
   },
   "outputs": [],
   "source": [
    "def Plants_to_one_file(PlantList):\n",
    "    PlantToModel = pd.read_csv('data/Chiller_Characteristics/PlantToModel.csv')\n",
    "    PlantToModel.set_index('Plant',inplace=True)\n",
    "    ModelCharacteristics = pd.read_csv('data/Chiller_Characteristics/ModelCharacteristics.csv')\n",
    "\n",
    "    df_all = pd.DataFrame()\n",
    "\n",
    "    for Plant in PlantList:\n",
    "        file = 'data/'+Plant+'_chiller.csv'\n",
    "        foo = re.match('(\\d*[A-Z]+)(\\d+)',Plant)\n",
    "        if foo is None:\n",
    "            raise AttributeError(f'could not match {file}')\n",
    "\n",
    "        PlantCode = foo.group(1)\n",
    "        ChCode = foo.group(2)\n",
    "\n",
    "        print(f'opening file: {file}        plant code: {PlantCode}        chiller code: {ChCode}')\n",
    "\n",
    "        df = pd.read_csv(file)\n",
    "        \n",
    "        ModelNo = PlantToModel.loc[PlantCode+ChCode]['Model']\n",
    "        df['ModelNo'] = ModelNo\n",
    "        df['Chiller'] = PlantCode+ChCode\n",
    "\n",
    "        df = pd.merge(df, ModelCharacteristics, on='ModelNo')\n",
    "        df_all = df_all.append(df)\n",
    "    \n",
    "    return(df_all)"
   ]
  },
  {
   "cell_type": "code",
   "execution_count": 14,
   "metadata": {
    "ExecuteTime": {
     "end_time": "2018-12-03T05:00:07.684925Z",
     "start_time": "2018-12-03T05:00:07.677660Z"
    }
   },
   "outputs": [],
   "source": [
    "def new_get_Xy(file_name,features=[]):\n",
    "    df = pd.read_csv(file_name)\n",
    "\n",
    "    if 'ModelNo' not in df.columns:\n",
    "        print('getting model info')\n",
    "        \n",
    "        foo = re.match('data/(\\d*[A-Z]+)(\\d+)_chiller.csv',file_name)\n",
    "        if foo is None:\n",
    "            raise AttributeError(f'could not match {file_name}')\n",
    "\n",
    "        PlantCode = foo.group(1)\n",
    "        ChCode = foo.group(2)\n",
    "\n",
    "        print(f'opening file: {file_name}        plant code: {PlantCode}        chiller code: {ChCode}')\n",
    "\n",
    "        PlantToModel = pd.read_csv('data/Chiller_Characteristics/PlantToModel.csv')\n",
    "        PlantToModel.set_index('Plant',inplace=True)\n",
    "        ModelCharacteristics = pd.read_csv('data/Chiller_Characteristics/ModelCharacteristics.csv')\n",
    "\n",
    "        ModelNo = PlantToModel.loc[PlantCode+ChCode]['Model']\n",
    "        df['ModelNo'] = ModelNo\n",
    "        df['Chiller'] = PlantCode+ChCode\n",
    "\n",
    "        df = pd.merge(df, ModelCharacteristics, on='ModelNo')    \n",
    "\n",
    "    # remove rows with NaN on primary features\n",
    "    num_rows = df.shape[0]\n",
    "    df.dropna(subset=['Load','DTLift','kW/Ton'],inplace=True)\n",
    "    print('DataFrame rows with NaN removed: ',num_rows - df.shape[0])\n",
    "\n",
    "    y = df['kW/Ton'].copy()\n",
    "    X = df[['Load','DTLift']].copy()\n",
    "\n",
    "    if 'HigherOrder' in features:\n",
    "        X['Load^2']        = df['Load']**2\n",
    "        X['Load*DTLift']   = df['Load']*df['DTLift']\n",
    "        X['Load^2*DTLift'] = (df['Load']**2)*df['DTLift']\n",
    "            \n",
    "    X = add_features(X, df,features)\n",
    "    \n",
    "    print('X with all features',X.shape)\n",
    "\n",
    "#     if 'ModelInfo' in features:  \n",
    "#         X['RatedTons']  = df['RatedTons']\n",
    "#         X['VarSpeed']   = df['VarSpeed']\n",
    "#         X['RatedkW']    = df['RatedkW']\n",
    "#         X['CDesFlow']   = df['CDesFlow']\n",
    "#         X['CPDrop']     = df['CPDrop']\n",
    "#         X['CEnterTemp'] = df['CEnterTemp']\n",
    "#         X['CLeaveTemp'] = df['CLeaveTemp']\n",
    "#         X['EDesFlow']   = df['EDesFlow']\n",
    "#         X['EPDrop']     = df['EPDrop']\n",
    "#         X['EEnterTemp'] = df['EEnterTemp']\n",
    "#         X['ELeaveTemp'] = df['ELeaveTemp']\n",
    "#     if 'ReducedModelInfo' in features:\n",
    "#         X['RatedTons']  = df['RatedTons']\n",
    "#         X['VarSpeed']   = df['VarSpeed']\n",
    "#         X['CDesFlow']   = df['CDesFlow']\n",
    "#     if 'ModelInfoHigherOrder' in features:\n",
    "#         X['RatedTons_Load']          = df['RatedTons']*df['Load']\n",
    "#         X['RatedTons_DTLift']        = df['RatedTons']*df['DTLift']\n",
    "#         X['RatedTons_Load^2']        = df['RatedTons']*df['Load']**2\n",
    "#         X['RatedTons_Load*DTLift']   = df['RatedTons']*df['Load']*df['DTLift']\n",
    "#         X['RatedTons_Load^2*DTLift'] = df['RatedTons']*df['DTLift']*df['Load']**2\n",
    "#         X['CDF_Load']          = df['CDesFlow']*df['Load']\n",
    "#         X['CDF_DTLift']        = df['CDesFlow']*df['DTLift']\n",
    "#         X['CDF_Load^2']        = df['CDesFlow']*df['Load']**2\n",
    "#         X['CDF_Load*DTLift']   = df['CDesFlow']*df['Load']*df['DTLift']\n",
    "#         X['CDF_Load^2*DTLift'] = df['CDesFlow']*df['DTLift']*df['Load']**2\n",
    "\n",
    "    return X, y, df"
   ]
  },
  {
   "cell_type": "code",
   "execution_count": 15,
   "metadata": {
    "ExecuteTime": {
     "end_time": "2018-12-03T05:00:08.191959Z",
     "start_time": "2018-12-03T05:00:08.183048Z"
    }
   },
   "outputs": [],
   "source": [
    "def compute_lift_lines(model, features, df, RatedTon=0,plot=True):\n",
    "    col_list = ['blue','red','green','gold','purple']\n",
    "    lift_lines = {}\n",
    "    \n",
    "    #print(df[df[['kW/Ton','Load','DTLift','RatedTons']].isna() == True])\n",
    "\n",
    "\n",
    "    if plot:\n",
    "        plt.figure(figsize=(7,5))\n",
    "        plt.ylim(0,1)\n",
    "        plt.xlim(0,1)\n",
    "        plt.legend()\n",
    "        plt.xlabel('Load')\n",
    "        plt.ylabel('xW/Ton')\n",
    "        plt.grid(True)\n",
    "    \n",
    "\n",
    "    X_line = pd.DataFrame()\n",
    "    for lift in range(10,60,10):\n",
    "        X_line['Load'] = np.arange(0.2,1,0.8/80)\n",
    "        X_line['DTLift'] = lift*np.ones(80)\n",
    "        if 'HigherOrder' in features:\n",
    "            X_line['Load^2'] = X_line['Load']**2\n",
    "    #        X_line['DTLift^2'] = X_line['DTLift']**2\n",
    "            X_line['Load*DTLift'] = X_line['Load']*X_line['DTLift']\n",
    "    #        X_line['Load*DTLift^2'] = X_line['Load']*X_line['DTLift']**2\n",
    "            X_line['Load^2*DTLift'] = (X_line['Load']**2)*X_line['DTLift']\n",
    "\n",
    "        #print(X_line)\n",
    "        X_line = add_features(X_line.copy(),df.copy(),features)\n",
    "        #print(X_line)\n",
    "        \n",
    "#         if 'AddOther' in features:    \n",
    "#             X_line['CompSH_mean']   = df['CompSH'].mean()\n",
    "#             X_line['CompSH_std']    = df['CompSH'].std()\n",
    "#             X_line['CompSH_median'] = df['CompSH'].median()\n",
    "\n",
    "#             X_line['EvapApproach_mean']   = df['EvapApproach'].mean()\n",
    "#             X_line['EvapApproach_std']    = df['EvapApproach'].std()\n",
    "#             X_line['EvapApproach_median'] = df['EvapApproach'].median()\n",
    "\n",
    "#             X_line['CondApproach_mean']   = df['CondApproach'].mean()\n",
    "#             X_line['CondApproach_std']    = df['CondApproach'].std()\n",
    "#             X_line['CondApproach_median'] = df['CondApproach'].median()\n",
    "\n",
    "#             #X_line['IGV'] = df['IGV']\n",
    "\n",
    "#             X_line['REFLVL_mean']   = df['REFLVL'].mean()\n",
    "#             X_line['REFLVL_std']    = df['REFLVL'].std()\n",
    "#             X_line['REFLVL_median'] = df['REFLVL'].median()\n",
    "        \n",
    "#             X_line['RatedTon'] = RatedTon\n",
    "\n",
    "#         if 'ModelInfo' in features:\n",
    "#             X_line['RatedTons']  = df['RatedTons'].mean()\n",
    "#             X_line['VarSpeed']   = df['VarSpeed'].mean()\n",
    "#             X_line['RatedkW']    = df['RatedkW'].mean()\n",
    "#             X_line['CDesFlow']   = df['CDesFlow'].mean()\n",
    "#             X_line['CPDrop']     = df['CPDrop'].mean()\n",
    "#             X_line['CEnterTemp'] = df['CEnterTemp'].mean()\n",
    "#             X_line['CLeaveTemp'] = df['CLeaveTemp'].mean()\n",
    "#             X_line['EDesFlow']   = df['EDesFlow'].mean()\n",
    "#             X_line['EPDrop']     = df['EPDrop'].mean()\n",
    "#             X_line['EEnterTemp'] = df['EEnterTemp'].mean()\n",
    "#             X_line['ELeaveTemp'] = df['ELeaveTemp'].mean()\n",
    "\n",
    "#         if 'ReducedModelInfo' in features:\n",
    "#             X_line['RatedTons']  = df['RatedTons'].mean()\n",
    "#             X_line['VarSpeed']   = df['VarSpeed'].mean()\n",
    "#             X_line['CDesFlow']   = df['CDesFlow'].mean()\n",
    "            \n",
    "#         if 'ModelInfoHigherOrder' in features:\n",
    "#             X_line['RatedTons_Load']          = df['RatedTons'].mean()*X_line['Load']\n",
    "#             X_line['RatedTons_DTLift']        = df['RatedTons'].mean()*X_line['DTLift']\n",
    "#             X_line['RatedTons_Load^2']        = df['RatedTons'].mean()*X_line['Load']**2\n",
    "#             X_line['RatedTons_Load*DTLift']   = df['RatedTons'].mean()*X_line['Load']*X_line['DTLift']\n",
    "#             X_line['RatedTons_Load^2*DTLift'] = df['RatedTons'].mean()*X_line['DTLift']*X_line['Load']**2\n",
    "#             X_line['CDF_Load']          = df['CDesFlow'].mean()*X_line['Load']\n",
    "#             X_line['CDF_DTLift']        = df['CDesFlow'].mean()*X_line['DTLift']\n",
    "#             X_line['CDF_Load^2']        = df['CDesFlow'].mean()*X_line['Load']**2\n",
    "#             X_line['CDF_Load*DTLift']   = df['CDesFlow'].mean()*X_line['Load']*X_line['DTLift']\n",
    "#             X_line['CDF_Load^2*DTLift'] = df['CDesFlow'].mean()*X_line['DTLift']*X_line['Load']**2\n",
    "\n",
    "            \n",
    "#         print('X_line','\\n',X_line.tail())\n",
    "#         print('X_line2','\\n',X_line2.tail())\n",
    "#        print('X with all features',X_line.shape)\n",
    "        \n",
    "#        print('captured some NaN in X_line')\n",
    "#        print(X_line[X_line.isna() == True])\n",
    "#        X_line.fillna(method='pad',inplace=True)\n",
    "#        X_line.fillna(method='backfill',inplace=True)\n",
    "\n",
    "        try:\n",
    "            y_line = model.predict(X_line)\n",
    "        except:\n",
    "            print('failed to compute y_line \\n',X_line)\n",
    "        \n",
    "\n",
    "        lines = []\n",
    "        lines.append(X_line['Load'])\n",
    "        lines.append(y_line)\n",
    "        lift_lines[lift] = lines\n",
    "        if plot:\n",
    "            plt.plot(list(X_line['Load']),y_line,c=col_list[0],label=f'{lift} degrees F Lift')\n",
    "        col_list.pop(0)\n",
    "\n",
    "    return lift_lines\n"
   ]
  },
  {
   "cell_type": "code",
   "execution_count": 16,
   "metadata": {
    "ExecuteTime": {
     "end_time": "2018-12-03T05:00:08.608388Z",
     "start_time": "2018-12-03T05:00:08.601478Z"
    }
   },
   "outputs": [],
   "source": [
    "def add_features(X, df_in,features):\n",
    "#    if len(X) < len(df_in):\n",
    "#        df = df_in.dropna(subset=['RatedTons','CDesFlow'])\n",
    "#\n",
    "#        df = df.copy().head(len(X))\n",
    "#    else:\n",
    "#        df = df_in.copy()\n",
    "\n",
    "#    print('input df',len(df_in),'input X',len(X))\n",
    "\n",
    "    df = df_in.copy().head(len(X))\n",
    "    \n",
    "    if 'ModelInfo' in features:  \n",
    "        X['RatedTons']  = df['RatedTons']\n",
    "        X['VarSpeed']   = df['VarSpeed']\n",
    "        X['RatedkW']    = df['RatedkW']\n",
    "        X['CDesFlow']   = df['CDesFlow']\n",
    "        X['CPDrop']     = df['CPDrop']\n",
    "        X['CEnterTemp'] = df['CEnterTemp']\n",
    "        X['CLeaveTemp'] = df['CLeaveTemp']\n",
    "        X['EDesFlow']   = df['EDesFlow']\n",
    "        X['EPDrop']     = df['EPDrop']\n",
    "        X['EEnterTemp'] = df['EEnterTemp']\n",
    "        X['ELeaveTemp'] = df['ELeaveTemp']\n",
    "        \n",
    "    if 'ReducedModelInfo' in features:        \n",
    "#         df['RatedTons'].fillna(method='pad',inplace=True)\n",
    "#         df['CDesFlow'].fillna(method='pad',inplace=True)\n",
    "#         df['VarSpeed'].fillna(method='pad',inplace=True)\n",
    "\n",
    "        X['RatedTons']  = df['RatedTons']\n",
    "        X['VarSpeed']   = df['VarSpeed']\n",
    "        X['CDesFlow']   = df['CDesFlow']\n",
    "\n",
    "        \n",
    "#        X['RatedTons'].fillna(method='pad',inplace=True)\n",
    "#        X['CDesFlow'].fillna(method='pad',inplace=True)\n",
    "#        X['VarSpeed'].fillna(method='pad',inplace=True)\n",
    "\n",
    "    if 'ModelInfoHigherOrder' in features:\n",
    "#        df['RatedTons'].fillna(method='pad',inplace=True)\n",
    "#        df['CDesFlow'].fillna(method='pad',inplace=True)\n",
    "\n",
    "        X['RatedTons_Load']          = df['RatedTons']*X['Load']\n",
    "#        X['RatedTons_DTLift']        = df['RatedTons']*X['DTLift']\n",
    "        X['RatedTons_Load^2']        = df['RatedTons']*X['Load^2']\n",
    "#        X['RatedTons_Load*DTLift']   = df['RatedTons']*X['Load*DTLift']\n",
    "#        X['RatedTons_Load^2*DTLift'] = df['RatedTons']*X['Load^2*DTLift']\n",
    "        X['CDF_Load']          = df['CDesFlow']*X['Load']\n",
    "#        X['CDF_DTLift']        = df['CDesFlow']*X['DTLift']\n",
    "        X['CDF_Load^2']        = df['CDesFlow']*X['Load^2']\n",
    "#        X['CDF_Load*DTLift']   = df['CDesFlow']*X['Load*DTLift']\n",
    "#        X['CDF_Load^2*DTLift'] = df['CDesFlow']*X['Load^2*DTLift']\n",
    "\n",
    "        X['CPD_Load']          = df['CPDrop']*X['Load']\n",
    "        X['CPD_Load^2']        = df['CPDrop']*X['Load^2']\n",
    "\n",
    "        X['EDF_Load']          = df['EDesFlow']*X['Load']\n",
    "        X['EDF_Load^2']        = df['EDesFlow']*X['Load^2']\n",
    "\n",
    "        X['EDP_Load']          = df['EPDrop']*X['Load']\n",
    "        X['EDP_Load^2']        = df['EPDrop']*X['Load^2']\n",
    "        \n",
    "#        EAstd = df_in['EvapApproach'].std()\n",
    "#        X['EA_Load']          = EAstd*X['Load']\n",
    "#        X['EA_DTLift']        = EAstd*X['DTLift']\n",
    "#        X['EA_Load^2']        = EAstd*X['Load^2']\n",
    "#        X['EA_Load*DTLift']   = EAstd*X['Load*DTLift']\n",
    "#        X['EA_Load^2*DTLift'] = EAstd*X['Load^2*DTLift']\n",
    "        \n",
    "    return X"
   ]
  },
  {
   "cell_type": "code",
   "execution_count": 17,
   "metadata": {
    "ExecuteTime": {
     "end_time": "2018-12-03T05:00:08.905059Z",
     "start_time": "2018-12-03T05:00:08.901558Z"
    },
    "scrolled": false
   },
   "outputs": [],
   "source": [
    "def Ch_Results(Chiller,feat,RatedTon,lr):\n",
    "\n",
    "    data_file = 'data/'+Chiller+'_chiller.csv'\n",
    "    X_test, y_test, df = new_get_Xy(data_file,feat)\n",
    "    print(Chiller+':',X_train.shape,y_train.shape)\n",
    "    print('R^2: ',lr.score(X_test,y_test))\n",
    "    \n",
    "    lift_lines = compute_lift_lines(lr, feat, df, RatedTon, plot=False)\n",
    "    plot_curves(df,lift_lines,'Chiller '+Chiller)\n",
    "\n"
   ]
  },
  {
   "cell_type": "code",
   "execution_count": 18,
   "metadata": {
    "ExecuteTime": {
     "end_time": "2018-12-03T05:00:09.457051Z",
     "start_time": "2018-12-03T05:00:09.446327Z"
    }
   },
   "outputs": [],
   "source": [
    "def pltcolor(lift,col_list):\n",
    "    cols=[]\n",
    "    for l in lift:\n",
    "        if l <= 15:\n",
    "            cols.append(col_list[10])\n",
    "        elif (l > 15) and (l <= 25):\n",
    "            cols.append(col_list[20])\n",
    "        elif (l > 25) and (l <= 35):\n",
    "            cols.append(col_list[30])\n",
    "        elif (l > 35) and (l <= 45):\n",
    "            cols.append(col_list[40])\n",
    "        elif (l > 45):\n",
    "            cols.append(col_list[50])\n",
    "    return cols\n",
    "\n",
    "def plot_all_curves(ChList,feat,model):\n",
    "    \n",
    "    num_plots = len(ChList)\n",
    "    fig, axes = plt.subplots(nrows=(num_plots+1)//2, ncols=2, figsize=(15, int(num_plots/2)*8))\n",
    "\n",
    "    col_list = { 10:'blue',\n",
    "                 20:'red',\n",
    "                 30:'green',\n",
    "                 40:'gold',\n",
    "                 50:'purple'\n",
    "               }\n",
    "    p = 0\n",
    "    for Chiller in ChList:\n",
    "        \n",
    "        plt.setp(axes, ylim=(0,1), xlim=(0,1))\n",
    "\n",
    "        data_file = 'data/'+Chiller+'_chiller.csv'\n",
    "        X_test, y_test, df = new_get_Xy(data_file,feat)\n",
    "        R2 = model.score(X_test,y_test)\n",
    "        \n",
    "        print('in plot_all_curves before lift_lines')\n",
    "        \n",
    "        RatedTon = 1000\n",
    "        lift_lines = compute_lift_lines(model, feat, df, RatedTon, plot=False)\n",
    "        print('in plot_all_curves after lift_lines')\n",
    "        \n",
    "        for key in lift_lines:\n",
    "            x_line = lift_lines[key][0]\n",
    "            y_line = lift_lines[key][1]\n",
    "\n",
    "            axes[p//2,p%2].plot(x_line,y_line,c='white',linewidth=3.0)            \n",
    "            axes[p//2,p%2].plot(x_line,y_line,c=col_list[key],linewidth=1.0,label=f'{key} degrees F Lift')\n",
    "            \n",
    "        # call function to set the bands of colors\n",
    "        bands = pltcolor(list(df['DTLift']),col_list)\n",
    "        \n",
    "        axes[p//2,p%2].scatter(x=df['Load'],y=df['kW/Ton'],s=2,c=bands,label='')\n",
    " \n",
    "        axes[p//2,p%2].set_xlabel(\"Load\")\n",
    "        axes[p//2,p%2].set_ylabel(\"kW/Ton\")\n",
    "        axes[p//2,p%2].legend()\n",
    "        axes[p//2,p%2].set_title(f'{Chiller} with R^2={R2:.2g}')\n",
    "        \n",
    "        if (Chiller == 'B1') or (Chiller == 'B2') or (Chiller == 'B3'):\n",
    "            york = pd.read_csv('data/Chiller_Characteristics/YorkCurves.csv')\n",
    "            axes[p//2,p%2].plot(york['Load']/100.,york['YKKJKLH9-CWF'],c='black',marker='o',linewidth=2.0) \n",
    "\n",
    "        elif (Chiller == 'S1') or (Chiller == 'S2') or (Chiller == 'S3') or (Chiller == 'S4'):\n",
    "            york = pd.read_csv('data/Chiller_Characteristics/YorkCurves.csv')\n",
    "            axes[p//2,p%2].plot(york['Load']/100.,york['YKPFP4K2-FBG'],c='black',marker='o',linewidth=2.0)            \n",
    "            \n",
    "        p +=1\n",
    "        \n",
    "    if num_plots%2 == 1:\n",
    "        axes[num_plots//2, 1].remove()  # don't display empty plot\n",
    "\n",
    "    plt.show()\n",
    "    \n",
    "    print('leaving plot_all_curves')"
   ]
  },
  {
   "cell_type": "code",
   "execution_count": null,
   "metadata": {},
   "outputs": [],
   "source": []
  },
  {
   "cell_type": "markdown",
   "metadata": {},
   "source": [
    "## test multiple plants, plot in subplots"
   ]
  },
  {
   "cell_type": "code",
   "execution_count": 19,
   "metadata": {
    "ExecuteTime": {
     "end_time": "2018-12-03T05:01:02.058492Z",
     "start_time": "2018-12-03T05:00:24.227790Z"
    }
   },
   "outputs": [
    {
     "name": "stdout",
     "output_type": "stream",
     "text": [
      "opening file: data/1T1_chiller.csv        plant code: 1T        chiller code: 1\n",
      "opening file: data/1T2_chiller.csv        plant code: 1T        chiller code: 2\n",
      "opening file: data/1T3_chiller.csv        plant code: 1T        chiller code: 3\n",
      "opening file: data/1T4_chiller.csv        plant code: 1T        chiller code: 4\n",
      "opening file: data/1T5_chiller.csv        plant code: 1T        chiller code: 5\n",
      "opening file: data/1T7_chiller.csv        plant code: 1T        chiller code: 7\n",
      "opening file: data/1T8_chiller.csv        plant code: 1T        chiller code: 8\n",
      "opening file: data/1T9_chiller.csv        plant code: 1T        chiller code: 9\n",
      "opening file: data/1T10_chiller.csv        plant code: 1T        chiller code: 10\n",
      "opening file: data/1T11_chiller.csv        plant code: 1T        chiller code: 11\n",
      "opening file: data/1T12_chiller.csv        plant code: 1T        chiller code: 12\n",
      "opening file: data/5T1_chiller.csv        plant code: 5T        chiller code: 1\n",
      "opening file: data/5T2_chiller.csv        plant code: 5T        chiller code: 2\n",
      "opening file: data/5T3_chiller.csv        plant code: 5T        chiller code: 3\n",
      "opening file: data/5T4_chiller.csv        plant code: 5T        chiller code: 4\n",
      "opening file: data/B1_chiller.csv        plant code: B        chiller code: 1\n",
      "opening file: data/B2_chiller.csv        plant code: B        chiller code: 2\n",
      "opening file: data/B3_chiller.csv        plant code: B        chiller code: 3\n",
      "opening file: data/B4_chiller.csv        plant code: B        chiller code: 4\n",
      "opening file: data/BC1_chiller.csv        plant code: BC        chiller code: 1\n",
      "opening file: data/BC2_chiller.csv        plant code: BC        chiller code: 2\n",
      "opening file: data/C1_chiller.csv        plant code: C        chiller code: 1\n",
      "opening file: data/C2_chiller.csv        plant code: C        chiller code: 2\n",
      "opening file: data/C3_chiller.csv        plant code: C        chiller code: 3\n",
      "opening file: data/C4_chiller.csv        plant code: C        chiller code: 4\n",
      "opening file: data/S1_chiller.csv        plant code: S        chiller code: 1\n",
      "opening file: data/S2_chiller.csv        plant code: S        chiller code: 2\n",
      "opening file: data/S3_chiller.csv        plant code: S        chiller code: 3\n",
      "opening file: data/S4_chiller.csv        plant code: S        chiller code: 4\n"
     ]
    }
   ],
   "source": [
    "#'''\n",
    "ChList = (['1T1','1T2','1T3','1T4','1T5','1T7','1T8','1T9','1T10','1T11','1T12',\n",
    "             '5T1','5T2','5T3','5T4',\n",
    "             'B1','B2','B3','B4',\n",
    "             'BC1','BC2',\n",
    "             'C1','C2','C3','C4',\n",
    "             'S1','S2','S3','S4'])\n",
    "#'''\n",
    "\n",
    "#ChList = (['B1','B2','B3'])\n",
    "#ChList = (['S1','S2','B1'])\n",
    "\n",
    "#ChList = (['BB1'])\n",
    "#ChList = (['B1','B2','B3','B4',\n",
    "#             'C1','C2','C3','C4',\n",
    "#             'S1','S2','S3','S4'])\n",
    "\n",
    "\n",
    "df_all = Plants_to_one_file(ChList)\n",
    "data_file = 'data/ALL_chillers.csv'\n",
    "df_all.to_csv(data_file)"
   ]
  },
  {
   "cell_type": "code",
   "execution_count": 20,
   "metadata": {
    "ExecuteTime": {
     "end_time": "2018-12-03T05:01:08.398167Z",
     "start_time": "2018-12-03T05:01:02.059862Z"
    },
    "scrolled": true
   },
   "outputs": [
    {
     "name": "stdout",
     "output_type": "stream",
     "text": [
      "DataFrame rows with NaN removed:  35907\n",
      "X with all features (932936, 18)\n",
      "(932936, 18)\n",
      "(932936, 18)\n",
      "(559761, 18) (559761,)\n",
      "(373175, 18) (373175,)\n",
      "-0.16740475428406765\n",
      "[ 9.66015113e-01  2.23482615e-02 -9.56699295e-01 -2.12398107e-02\n",
      "  5.74284039e-03  2.68631053e-03  4.03331245e-02 -8.08152023e-04\n",
      " -9.17169226e-03  1.23921369e-02  2.66765650e-03 -3.55459633e-03\n",
      " -3.39840089e-02  4.60721924e-02 -3.36619831e-04  2.33384769e-04\n",
      "  6.22020939e-02 -8.95816507e-02]\n"
     ]
    }
   ],
   "source": [
    "#feat = ['HigherOrder','ModelInfo']\n",
    "feat = ['HigherOrder','ReducedModelInfo','ModelInfoHigherOrder']\n",
    "#feat = ['HigherOrder','ReducedModelInfo']\n",
    "#feat = ['HigherOrder']\n",
    "\n",
    "X, y, df = new_get_Xy(data_file,feat)\n",
    "\n",
    "print(X.shape)\n",
    "print(X.dropna().shape)\n",
    "\n",
    "#divide in to train and test sets\n",
    "X_train,X_test, y_train, y_test = train_test_split(X, y, test_size=0.4,random_state=42)\n",
    "print(X_train.shape, y_train.shape)\n",
    "print(X_test.shape, y_test.shape)\n",
    "\n",
    "# Create an empty model\n",
    "lr = LinearRegression()\n",
    "\n",
    "# Fit the model to the full dataset\n",
    "lr.fit(X_train, y_train)\n",
    "\n",
    "# Print out the R^2 for the model against the full dataset\n",
    "print(lr.intercept_)\n",
    "print(lr.coef_)"
   ]
  },
  {
   "cell_type": "code",
   "execution_count": 21,
   "metadata": {
    "ExecuteTime": {
     "end_time": "2018-12-03T05:01:08.459532Z",
     "start_time": "2018-12-03T05:01:08.400253Z"
    }
   },
   "outputs": [
    {
     "name": "stdout",
     "output_type": "stream",
     "text": [
      "train:  0.91398784925418\n",
      "test :  0.9144785657603537\n"
     ]
    }
   ],
   "source": [
    "print('train: ',lr.score(X_train,y_train))\n",
    "print('test : ',lr.score(X_test,y_test))"
   ]
  },
  {
   "cell_type": "code",
   "execution_count": 22,
   "metadata": {
    "ExecuteTime": {
     "end_time": "2018-12-03T05:01:08.907175Z",
     "start_time": "2018-12-03T05:01:08.461360Z"
    },
    "scrolled": true
   },
   "outputs": [
    {
     "name": "stdout",
     "output_type": "stream",
     "text": [
      "getting model info\n",
      "opening file: data/S1_chiller.csv        plant code: S        chiller code: 1\n",
      "DataFrame rows with NaN removed:  2\n",
      "X with all features (14170, 18)\n",
      "in plot_all_curves before lift_lines\n",
      "failed to compute y_line \n",
      "     Load  DTLift  Load^2  Load*DTLift  Load^2*DTLift  RatedTons  VarSpeed  \\\n",
      "0   0.20    10.0  0.0400          2.0          0.400        NaN       NaN   \n",
      "1   0.21    10.0  0.0441          2.1          0.441        NaN       NaN   \n",
      "2   0.22    10.0  0.0484          2.2          0.484     1500.0       1.0   \n",
      "3   0.23    10.0  0.0529          2.3          0.529     1500.0       1.0   \n",
      "4   0.24    10.0  0.0576          2.4          0.576     1500.0       1.0   \n",
      "5   0.25    10.0  0.0625          2.5          0.625     1500.0       1.0   \n",
      "6   0.26    10.0  0.0676          2.6          0.676     1500.0       1.0   \n",
      "7   0.27    10.0  0.0729          2.7          0.729     1500.0       1.0   \n",
      "8   0.28    10.0  0.0784          2.8          0.784     1500.0       1.0   \n",
      "9   0.29    10.0  0.0841          2.9          0.841     1500.0       1.0   \n",
      "10  0.30    10.0  0.0900          3.0          0.900     1500.0       1.0   \n",
      "11  0.31    10.0  0.0961          3.1          0.961     1500.0       1.0   \n",
      "12  0.32    10.0  0.1024          3.2          1.024     1500.0       1.0   \n",
      "13  0.33    10.0  0.1089          3.3          1.089     1500.0       1.0   \n",
      "14  0.34    10.0  0.1156          3.4          1.156     1500.0       1.0   \n",
      "15  0.35    10.0  0.1225          3.5          1.225     1500.0       1.0   \n",
      "16  0.36    10.0  0.1296          3.6          1.296     1500.0       1.0   \n",
      "17  0.37    10.0  0.1369          3.7          1.369     1500.0       1.0   \n",
      "18  0.38    10.0  0.1444          3.8          1.444     1500.0       1.0   \n",
      "19  0.39    10.0  0.1521          3.9          1.521     1500.0       1.0   \n",
      "20  0.40    10.0  0.1600          4.0          1.600     1500.0       1.0   \n",
      "21  0.41    10.0  0.1681          4.1          1.681     1500.0       1.0   \n",
      "22  0.42    10.0  0.1764          4.2          1.764     1500.0       1.0   \n",
      "23  0.43    10.0  0.1849          4.3          1.849     1500.0       1.0   \n",
      "24  0.44    10.0  0.1936          4.4          1.936     1500.0       1.0   \n",
      "25  0.45    10.0  0.2025          4.5          2.025     1500.0       1.0   \n",
      "26  0.46    10.0  0.2116          4.6          2.116     1500.0       1.0   \n",
      "27  0.47    10.0  0.2209          4.7          2.209     1500.0       1.0   \n",
      "28  0.48    10.0  0.2304          4.8          2.304     1500.0       1.0   \n",
      "29  0.49    10.0  0.2401          4.9          2.401     1500.0       1.0   \n",
      "..   ...     ...     ...          ...            ...        ...       ...   \n",
      "50  0.70    10.0  0.4900          7.0          4.900     1500.0       1.0   \n",
      "51  0.71    10.0  0.5041          7.1          5.041     1500.0       1.0   \n",
      "52  0.72    10.0  0.5184          7.2          5.184     1500.0       1.0   \n",
      "53  0.73    10.0  0.5329          7.3          5.329     1500.0       1.0   \n",
      "54  0.74    10.0  0.5476          7.4          5.476     1500.0       1.0   \n",
      "55  0.75    10.0  0.5625          7.5          5.625     1500.0       1.0   \n",
      "56  0.76    10.0  0.5776          7.6          5.776     1500.0       1.0   \n",
      "57  0.77    10.0  0.5929          7.7          5.929     1500.0       1.0   \n",
      "58  0.78    10.0  0.6084          7.8          6.084     1500.0       1.0   \n",
      "59  0.79    10.0  0.6241          7.9          6.241     1500.0       1.0   \n",
      "60  0.80    10.0  0.6400          8.0          6.400     1500.0       1.0   \n",
      "61  0.81    10.0  0.6561          8.1          6.561     1500.0       1.0   \n",
      "62  0.82    10.0  0.6724          8.2          6.724     1500.0       1.0   \n",
      "63  0.83    10.0  0.6889          8.3          6.889     1500.0       1.0   \n",
      "64  0.84    10.0  0.7056          8.4          7.056     1500.0       1.0   \n",
      "65  0.85    10.0  0.7225          8.5          7.225     1500.0       1.0   \n",
      "66  0.86    10.0  0.7396          8.6          7.396     1500.0       1.0   \n",
      "67  0.87    10.0  0.7569          8.7          7.569     1500.0       1.0   \n",
      "68  0.88    10.0  0.7744          8.8          7.744     1500.0       1.0   \n",
      "69  0.89    10.0  0.7921          8.9          7.921     1500.0       1.0   \n",
      "70  0.90    10.0  0.8100          9.0          8.100     1500.0       1.0   \n",
      "71  0.91    10.0  0.8281          9.1          8.281     1500.0       1.0   \n",
      "72  0.92    10.0  0.8464          9.2          8.464     1500.0       1.0   \n",
      "73  0.93    10.0  0.8649          9.3          8.649     1500.0       1.0   \n",
      "74  0.94    10.0  0.8836          9.4          8.836     1500.0       1.0   \n",
      "75  0.95    10.0  0.9025          9.5          9.025     1500.0       1.0   \n",
      "76  0.96    10.0  0.9216          9.6          9.216     1500.0       1.0   \n",
      "77  0.97    10.0  0.9409          9.7          9.409     1500.0       1.0   \n",
      "78  0.98    10.0  0.9604          9.8          9.604     1500.0       1.0   \n",
      "79  0.99    10.0  0.9801          9.9          9.801     1500.0       1.0   \n",
      "\n",
      "    CDesFlow  RatedTons_Load  RatedTons_Load^2  CDF_Load  CDF_Load^2  \\\n",
      "0        NaN             NaN               NaN       NaN         NaN   \n",
      "1        NaN             NaN               NaN       NaN         NaN   \n",
      "2     4500.0           330.0             72.60     990.0      217.80   \n",
      "3     4500.0           345.0             79.35    1035.0      238.05   \n",
      "4     4500.0           360.0             86.40    1080.0      259.20   \n",
      "5     4500.0           375.0             93.75    1125.0      281.25   \n",
      "6     4500.0           390.0            101.40    1170.0      304.20   \n",
      "7     4500.0           405.0            109.35    1215.0      328.05   \n",
      "8     4500.0           420.0            117.60    1260.0      352.80   \n",
      "9     4500.0           435.0            126.15    1305.0      378.45   \n",
      "10    4500.0           450.0            135.00    1350.0      405.00   \n",
      "11    4500.0           465.0            144.15    1395.0      432.45   \n",
      "12    4500.0           480.0            153.60    1440.0      460.80   \n",
      "13    4500.0           495.0            163.35    1485.0      490.05   \n",
      "14    4500.0           510.0            173.40    1530.0      520.20   \n",
      "15    4500.0           525.0            183.75    1575.0      551.25   \n",
      "16    4500.0           540.0            194.40    1620.0      583.20   \n",
      "17    4500.0           555.0            205.35    1665.0      616.05   \n",
      "18    4500.0           570.0            216.60    1710.0      649.80   \n",
      "19    4500.0           585.0            228.15    1755.0      684.45   \n",
      "20    4500.0           600.0            240.00    1800.0      720.00   \n",
      "21    4500.0           615.0            252.15    1845.0      756.45   \n",
      "22    4500.0           630.0            264.60    1890.0      793.80   \n",
      "23    4500.0           645.0            277.35    1935.0      832.05   \n",
      "24    4500.0           660.0            290.40    1980.0      871.20   \n",
      "25    4500.0           675.0            303.75    2025.0      911.25   \n",
      "26    4500.0           690.0            317.40    2070.0      952.20   \n",
      "27    4500.0           705.0            331.35    2115.0      994.05   \n",
      "28    4500.0           720.0            345.60    2160.0     1036.80   \n",
      "29    4500.0           735.0            360.15    2205.0     1080.45   \n",
      "..       ...             ...               ...       ...         ...   \n",
      "50    4500.0          1050.0            735.00    3150.0     2205.00   \n",
      "51    4500.0          1065.0            756.15    3195.0     2268.45   \n",
      "52    4500.0          1080.0            777.60    3240.0     2332.80   \n",
      "53    4500.0          1095.0            799.35    3285.0     2398.05   \n",
      "54    4500.0          1110.0            821.40    3330.0     2464.20   \n",
      "55    4500.0          1125.0            843.75    3375.0     2531.25   \n",
      "56    4500.0          1140.0            866.40    3420.0     2599.20   \n",
      "57    4500.0          1155.0            889.35    3465.0     2668.05   \n",
      "58    4500.0          1170.0            912.60    3510.0     2737.80   \n",
      "59    4500.0          1185.0            936.15    3555.0     2808.45   \n",
      "60    4500.0          1200.0            960.00    3600.0     2880.00   \n",
      "61    4500.0          1215.0            984.15    3645.0     2952.45   \n",
      "62    4500.0          1230.0           1008.60    3690.0     3025.80   \n",
      "63    4500.0          1245.0           1033.35    3735.0     3100.05   \n",
      "64    4500.0          1260.0           1058.40    3780.0     3175.20   \n",
      "65    4500.0          1275.0           1083.75    3825.0     3251.25   \n",
      "66    4500.0          1290.0           1109.40    3870.0     3328.20   \n",
      "67    4500.0          1305.0           1135.35    3915.0     3406.05   \n",
      "68    4500.0          1320.0           1161.60    3960.0     3484.80   \n",
      "69    4500.0          1335.0           1188.15    4005.0     3564.45   \n",
      "70    4500.0          1350.0           1215.00    4050.0     3645.00   \n",
      "71    4500.0          1365.0           1242.15    4095.0     3726.45   \n",
      "72    4500.0          1380.0           1269.60    4140.0     3808.80   \n",
      "73    4500.0          1395.0           1297.35    4185.0     3892.05   \n",
      "74    4500.0          1410.0           1325.40    4230.0     3976.20   \n",
      "75    4500.0          1425.0           1353.75    4275.0     4061.25   \n",
      "76    4500.0          1440.0           1382.40    4320.0     4147.20   \n",
      "77    4500.0          1455.0           1411.35    4365.0     4234.05   \n",
      "78    4500.0          1470.0           1440.60    4410.0     4321.80   \n",
      "79    4500.0          1485.0           1470.15    4455.0     4410.45   \n",
      "\n",
      "    CPD_Load  CPD_Load^2  EDF_Load  EDF_Load^2  EDP_Load  EDP_Load^2  \n",
      "0        NaN         NaN       NaN         NaN       NaN         NaN  \n",
      "1        NaN         NaN       NaN         NaN       NaN         NaN  \n",
      "2      4.312     0.94864     792.0      174.24      4.62      1.0164  \n",
      "3      4.508     1.03684     828.0      190.44      4.83      1.1109  \n",
      "4      4.704     1.12896     864.0      207.36      5.04      1.2096  \n",
      "5      4.900     1.22500     900.0      225.00      5.25      1.3125  \n",
      "6      5.096     1.32496     936.0      243.36      5.46      1.4196  \n",
      "7      5.292     1.42884     972.0      262.44      5.67      1.5309  \n",
      "8      5.488     1.53664    1008.0      282.24      5.88      1.6464  \n",
      "9      5.684     1.64836    1044.0      302.76      6.09      1.7661  \n",
      "10     5.880     1.76400    1080.0      324.00      6.30      1.8900  \n",
      "11     6.076     1.88356    1116.0      345.96      6.51      2.0181  \n",
      "12     6.272     2.00704    1152.0      368.64      6.72      2.1504  \n",
      "13     6.468     2.13444    1188.0      392.04      6.93      2.2869  \n",
      "14     6.664     2.26576    1224.0      416.16      7.14      2.4276  \n",
      "15     6.860     2.40100    1260.0      441.00      7.35      2.5725  \n",
      "16     7.056     2.54016    1296.0      466.56      7.56      2.7216  \n",
      "17     7.252     2.68324    1332.0      492.84      7.77      2.8749  \n",
      "18     7.448     2.83024    1368.0      519.84      7.98      3.0324  \n",
      "19     7.644     2.98116    1404.0      547.56      8.19      3.1941  \n",
      "20     7.840     3.13600    1440.0      576.00      8.40      3.3600  \n",
      "21     8.036     3.29476    1476.0      605.16      8.61      3.5301  \n",
      "22     8.232     3.45744    1512.0      635.04      8.82      3.7044  \n",
      "23     8.428     3.62404    1548.0      665.64      9.03      3.8829  \n",
      "24     8.624     3.79456    1584.0      696.96      9.24      4.0656  \n",
      "25     8.820     3.96900    1620.0      729.00      9.45      4.2525  \n",
      "26     9.016     4.14736    1656.0      761.76      9.66      4.4436  \n",
      "27     9.212     4.32964    1692.0      795.24      9.87      4.6389  \n",
      "28     9.408     4.51584    1728.0      829.44     10.08      4.8384  \n",
      "29     9.604     4.70596    1764.0      864.36     10.29      5.0421  \n",
      "..       ...         ...       ...         ...       ...         ...  \n",
      "50    13.720     9.60400    2520.0     1764.00     14.70     10.2900  \n",
      "51    13.916     9.88036    2556.0     1814.76     14.91     10.5861  \n",
      "52    14.112    10.16064    2592.0     1866.24     15.12     10.8864  \n",
      "53    14.308    10.44484    2628.0     1918.44     15.33     11.1909  \n",
      "54    14.504    10.73296    2664.0     1971.36     15.54     11.4996  \n",
      "55    14.700    11.02500    2700.0     2025.00     15.75     11.8125  \n",
      "56    14.896    11.32096    2736.0     2079.36     15.96     12.1296  \n",
      "57    15.092    11.62084    2772.0     2134.44     16.17     12.4509  \n",
      "58    15.288    11.92464    2808.0     2190.24     16.38     12.7764  \n",
      "59    15.484    12.23236    2844.0     2246.76     16.59     13.1061  \n",
      "60    15.680    12.54400    2880.0     2304.00     16.80     13.4400  \n",
      "61    15.876    12.85956    2916.0     2361.96     17.01     13.7781  \n",
      "62    16.072    13.17904    2952.0     2420.64     17.22     14.1204  \n",
      "63    16.268    13.50244    2988.0     2480.04     17.43     14.4669  \n",
      "64    16.464    13.82976    3024.0     2540.16     17.64     14.8176  \n",
      "65    16.660    14.16100    3060.0     2601.00     17.85     15.1725  \n",
      "66    16.856    14.49616    3096.0     2662.56     18.06     15.5316  \n",
      "67    17.052    14.83524    3132.0     2724.84     18.27     15.8949  \n",
      "68    17.248    15.17824    3168.0     2787.84     18.48     16.2624  \n",
      "69    17.444    15.52516    3204.0     2851.56     18.69     16.6341  \n",
      "70    17.640    15.87600    3240.0     2916.00     18.90     17.0100  \n",
      "71    17.836    16.23076    3276.0     2981.16     19.11     17.3901  \n",
      "72    18.032    16.58944    3312.0     3047.04     19.32     17.7744  \n",
      "73    18.228    16.95204    3348.0     3113.64     19.53     18.1629  \n",
      "74    18.424    17.31856    3384.0     3180.96     19.74     18.5556  \n",
      "75    18.620    17.68900    3420.0     3249.00     19.95     18.9525  \n",
      "76    18.816    18.06336    3456.0     3317.76     20.16     19.3536  \n",
      "77    19.012    18.44164    3492.0     3387.24     20.37     19.7589  \n",
      "78    19.208    18.82384    3528.0     3457.44     20.58     20.1684  \n",
      "79    19.404    19.20996    3564.0     3528.36     20.79     20.5821  \n",
      "\n",
      "[80 rows x 18 columns]\n"
     ]
    },
    {
     "ename": "UnboundLocalError",
     "evalue": "local variable 'y_line' referenced before assignment",
     "output_type": "error",
     "traceback": [
      "\u001b[0;31m---------------------------------------------------------------------------\u001b[0m",
      "\u001b[0;31mUnboundLocalError\u001b[0m                         Traceback (most recent call last)",
      "\u001b[0;32m<ipython-input-22-65ba81415420>\u001b[0m in \u001b[0;36m<module>\u001b[0;34m()\u001b[0m\n\u001b[1;32m      1\u001b[0m \u001b[0mChList\u001b[0m \u001b[0;34m=\u001b[0m \u001b[0;34m(\u001b[0m\u001b[0;34m[\u001b[0m\u001b[0;34m'S1'\u001b[0m\u001b[0;34m,\u001b[0m\u001b[0;34m'S2'\u001b[0m\u001b[0;34m,\u001b[0m\u001b[0;34m'B1'\u001b[0m\u001b[0;34m]\u001b[0m\u001b[0;34m)\u001b[0m\u001b[0;34m\u001b[0m\u001b[0m\n\u001b[0;32m----> 2\u001b[0;31m \u001b[0mplot_all_curves\u001b[0m\u001b[0;34m(\u001b[0m\u001b[0mChList\u001b[0m\u001b[0;34m,\u001b[0m\u001b[0mfeat\u001b[0m\u001b[0;34m,\u001b[0m\u001b[0mlr\u001b[0m\u001b[0;34m)\u001b[0m\u001b[0;34m\u001b[0m\u001b[0m\n\u001b[0m",
      "\u001b[0;32m<ipython-input-18-2b2927309c59>\u001b[0m in \u001b[0;36mplot_all_curves\u001b[0;34m(ChList, feat, model)\u001b[0m\n\u001b[1;32m     37\u001b[0m \u001b[0;34m\u001b[0m\u001b[0m\n\u001b[1;32m     38\u001b[0m         \u001b[0mRatedTon\u001b[0m \u001b[0;34m=\u001b[0m \u001b[0;36m1000\u001b[0m\u001b[0;34m\u001b[0m\u001b[0m\n\u001b[0;32m---> 39\u001b[0;31m         \u001b[0mlift_lines\u001b[0m \u001b[0;34m=\u001b[0m \u001b[0mcompute_lift_lines\u001b[0m\u001b[0;34m(\u001b[0m\u001b[0mmodel\u001b[0m\u001b[0;34m,\u001b[0m \u001b[0mfeat\u001b[0m\u001b[0;34m,\u001b[0m \u001b[0mdf\u001b[0m\u001b[0;34m,\u001b[0m \u001b[0mRatedTon\u001b[0m\u001b[0;34m,\u001b[0m \u001b[0mplot\u001b[0m\u001b[0;34m=\u001b[0m\u001b[0;32mFalse\u001b[0m\u001b[0;34m)\u001b[0m\u001b[0;34m\u001b[0m\u001b[0m\n\u001b[0m\u001b[1;32m     40\u001b[0m         \u001b[0mprint\u001b[0m\u001b[0;34m(\u001b[0m\u001b[0;34m'in plot_all_curves after lift_lines'\u001b[0m\u001b[0;34m)\u001b[0m\u001b[0;34m\u001b[0m\u001b[0m\n\u001b[1;32m     41\u001b[0m \u001b[0;34m\u001b[0m\u001b[0m\n",
      "\u001b[0;32m<ipython-input-15-1b7a20c33b84>\u001b[0m in \u001b[0;36mcompute_lift_lines\u001b[0;34m(model, features, df, RatedTon, plot)\u001b[0m\n\u001b[1;32m    100\u001b[0m         \u001b[0mlines\u001b[0m \u001b[0;34m=\u001b[0m \u001b[0;34m[\u001b[0m\u001b[0;34m]\u001b[0m\u001b[0;34m\u001b[0m\u001b[0m\n\u001b[1;32m    101\u001b[0m         \u001b[0mlines\u001b[0m\u001b[0;34m.\u001b[0m\u001b[0mappend\u001b[0m\u001b[0;34m(\u001b[0m\u001b[0mX_line\u001b[0m\u001b[0;34m[\u001b[0m\u001b[0;34m'Load'\u001b[0m\u001b[0;34m]\u001b[0m\u001b[0;34m)\u001b[0m\u001b[0;34m\u001b[0m\u001b[0m\n\u001b[0;32m--> 102\u001b[0;31m         \u001b[0mlines\u001b[0m\u001b[0;34m.\u001b[0m\u001b[0mappend\u001b[0m\u001b[0;34m(\u001b[0m\u001b[0my_line\u001b[0m\u001b[0;34m)\u001b[0m\u001b[0;34m\u001b[0m\u001b[0m\n\u001b[0m\u001b[1;32m    103\u001b[0m         \u001b[0mlift_lines\u001b[0m\u001b[0;34m[\u001b[0m\u001b[0mlift\u001b[0m\u001b[0;34m]\u001b[0m \u001b[0;34m=\u001b[0m \u001b[0mlines\u001b[0m\u001b[0;34m\u001b[0m\u001b[0m\n\u001b[1;32m    104\u001b[0m         \u001b[0;32mif\u001b[0m \u001b[0mplot\u001b[0m\u001b[0;34m:\u001b[0m\u001b[0;34m\u001b[0m\u001b[0m\n",
      "\u001b[0;31mUnboundLocalError\u001b[0m: local variable 'y_line' referenced before assignment"
     ]
    },
    {
     "data": {
      "image/png": "[encoded data removed]",
      "text/plain": [
       "<Figure size 1080x576 with 4 Axes>"
      ]
     },
     "metadata": {},
     "output_type": "display_data"
    }
   ],
   "source": [
    "ChList = (['S1','S2','B1'])\n",
    "plot_all_curves(ChList,feat,lr)"
   ]
  },
  {
   "cell_type": "code",
   "execution_count": null,
   "metadata": {
    "ExecuteTime": {
     "end_time": "2018-12-02T23:56:47.181381Z",
     "start_time": "2018-12-02T23:56:42.400429Z"
    }
   },
   "outputs": [],
   "source": [
    "#ChList = (['B1','B2','B3'])\n",
    "\n",
    "#plot_all_curves(ChList,feat,lr)"
   ]
  },
  {
   "cell_type": "markdown",
   "metadata": {},
   "source": [
    "## BCBS"
   ]
  },
  {
   "cell_type": "code",
   "execution_count": null,
   "metadata": {
    "ExecuteTime": {
     "end_time": "2018-12-02T00:43:38.208342Z",
     "start_time": "2018-12-02T00:43:32.438007Z"
    },
    "scrolled": false
   },
   "outputs": [],
   "source": [
    "feat = ['HigherOrder','ModelInfo']\n",
    "RatedTon = 900\n",
    "    \n",
    "PlantCode = 'B'\n",
    "Chillers = ['1','2','3','4']\n",
    "\n",
    "for c in Chillers:\n",
    "    Ch_Results(PlantCode+c,feat,RatedTon,lr)\n"
   ]
  },
  {
   "cell_type": "markdown",
   "metadata": {},
   "source": [
    "## Things to try\n",
    "\n",
    "Random Forest Regression"
   ]
  },
  {
   "cell_type": "code",
   "execution_count": null,
   "metadata": {},
   "outputs": [],
   "source": []
  },
  {
   "cell_type": "code",
   "execution_count": null,
   "metadata": {},
   "outputs": [],
   "source": []
  }
 ],
 "metadata": {
  "kernelspec": {
   "display_name": "Python 3",
   "language": "python",
   "name": "python3"
  },
  "language_info": {
   "codemirror_mode": {
    "name": "ipython",
    "version": 3
   },
   "file_extension": ".py",
   "mimetype": "text/x-python",
   "name": "python",
   "nbconvert_exporter": "python",
   "pygments_lexer": "ipython3",
   "version": "3.6.5"
  }
 },
 "nbformat": 4,
 "nbformat_minor": 2
}
