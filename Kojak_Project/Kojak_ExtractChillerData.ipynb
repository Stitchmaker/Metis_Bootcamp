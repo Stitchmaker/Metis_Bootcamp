{
 "cells": [
  {
   "cell_type": "code",
   "execution_count": 30,
   "metadata": {
    "ExecuteTime": {
     "end_time": "2018-11-25T19:17:04.891257Z",
     "start_time": "2018-11-25T19:17:04.887414Z"
    }
   },
   "outputs": [],
   "source": [
    "import pandas as pd\n",
    "import matplotlib.pyplot as plt\n",
    "from mpl_toolkits.mplot3d import Axes3D\n",
    "\n",
    "import datetime as dt\n",
    "from dateutil.parser import parse\n"
   ]
  },
  {
   "cell_type": "code",
   "execution_count": 31,
   "metadata": {
    "ExecuteTime": {
     "end_time": "2018-11-25T19:17:05.550528Z",
     "start_time": "2018-11-25T19:17:05.547277Z"
    }
   },
   "outputs": [],
   "source": []
  },
  {
   "cell_type": "code",
   "execution_count": 32,
   "metadata": {
    "ExecuteTime": {
     "end_time": "2018-11-25T19:17:06.529478Z",
     "start_time": "2018-11-25T19:17:06.519820Z"
    }
   },
   "outputs": [],
   "source": [
    "# extract just the chiller features of interest from the dataframe\n",
    "# CH_features = list of features\n",
    "# CH = chiller number\n",
    "# df = dataframe with all the data\n",
    "def chiller_data(df, CH, CH_features):\n",
    "    df_chiller = pd.DataFrame()\n",
    "    df_chiller['datetime'] = df['timestamp'].apply(get_datetime)\n",
    "    \n",
    "    for f in CH_features:\n",
    "        if f[0] == '_':\n",
    "            ff = f[1:]\n",
    "        else:\n",
    "            ff = f\n",
    "        feature = 'CH'+CH+f\n",
    "        df_chiller[ff] = df[feature]\n",
    "        \n",
    "    return df_chiller\n",
    "\n",
    "def get_datetime(y):\n",
    "    x = parse(y)\n",
    "    return x"
   ]
  },
  {
   "cell_type": "code",
   "execution_count": 33,
   "metadata": {
    "ExecuteTime": {
     "end_time": "2018-11-25T19:17:07.561005Z",
     "start_time": "2018-11-25T19:17:07.557490Z"
    }
   },
   "outputs": [],
   "source": [
    "CH_features = ['_kW/Ton','Load','CDWRT','CDWST','DTLift','Ton','_EvapApproach',\n",
    "               '_CondApproach','Hz','_CompSH','IGV','REFLVL']"
   ]
  },
  {
   "cell_type": "markdown",
   "metadata": {},
   "source": [
    "## Samford Data\n",
    "\n",
    "Chillers 1-4 are **1500 Ton** variable speed YK chillers   "
   ]
  },
  {
   "cell_type": "code",
   "execution_count": 34,
   "metadata": {
    "ExecuteTime": {
     "end_time": "2018-11-25T19:17:13.140089Z",
     "start_time": "2018-11-25T19:17:11.812073Z"
    }
   },
   "outputs": [],
   "source": [
    "df = pd.read_csv('samford_chiller/dss_Samford_chillers.csv')"
   ]
  },
  {
   "cell_type": "code",
   "execution_count": 102,
   "metadata": {
    "ExecuteTime": {
     "end_time": "2018-11-21T00:48:49.830227Z",
     "start_time": "2018-11-21T00:48:49.825995Z"
    },
    "scrolled": false
   },
   "outputs": [
    {
     "data": {
      "text/plain": [
       "Index(['CH1_CDW_DT', 'CH1_CHLRcmd_Alarm', 'CH1_CHW_DT', 'CH1_CHWSTSP_Alarm',\n",
       "       'CH1_CompSH', 'CH1_CondApproach', 'CH1_DP_Lift', 'CH1_DT_Lift',\n",
       "       'CH1_EvapApproach', 'CH1_kW/Ton', 'CH1ALARM', 'CH1AVAIL', 'CH1CDP',\n",
       "       'CH1CDT', 'CH1CDWRT', 'CH1CDWST', 'CH1CDWVLV', 'CH1CHWDP', 'CH1CHWFLO',\n",
       "       'CH1CHWFLO_Meter', 'CH1CHWRT', 'CH1CHWST', 'CH1CHWSTSP', 'CH1CHWVLV',\n",
       "       'CH1COMDISCHT', 'CH1CondApproach', 'CH1CYCLF', 'CH1DMD', 'CH1DPLift',\n",
       "       'CH1DTLift', 'CH1EvapApproach', 'CH1EVP', 'CH1EVT', 'CH1F', 'CH1FLA',\n",
       "       'CH1Hz', 'CH1IGV', 'CH1kW', 'CH1Lift', 'CH1Load', 'CH1REFLVL', 'CH1S',\n",
       "       'CH1SBoolean', 'CH1SPD', 'CH1SS', 'CH1STATE', 'CH1SURGECNT', 'CH1Ton',\n",
       "       'CH1WARNF'],\n",
       "      dtype='object')"
      ]
     },
     "execution_count": 102,
     "metadata": {},
     "output_type": "execute_result"
    }
   ],
   "source": [
    "df.columns[4:53]"
   ]
  },
  {
   "cell_type": "code",
   "execution_count": 29,
   "metadata": {
    "ExecuteTime": {
     "end_time": "2018-11-25T19:16:31.299658Z",
     "start_time": "2018-11-25T19:16:31.290763Z"
    }
   },
   "outputs": [
    {
     "data": {
      "text/plain": [
       "Index(['timestamp', 'CH3LoadDisp', 'CH3PctLoad', 'CH4LoadDisp', 'CH4PctLoad',\n",
       "       'CH5LoadDisp', 'CH5PctLoad', 'CHkW%', 'CHTON%', 'PercentAnnualSavings',\n",
       "       ...\n",
       "       'CH5SURGE', 'LOOPREQ', 'RUNCHLR3', 'RUNCHLR4', 'RUNCHLR5',\n",
       "       'CH3SURGECNT', 'CH4SURGECNT', 'CH5SURGECNT', 'CLGMODE', 'StationSTG'],\n",
       "      dtype='object', length=414)"
      ]
     },
     "execution_count": 29,
     "metadata": {},
     "output_type": "execute_result"
    }
   ],
   "source": [
    "df.columns\n"
   ]
  },
  {
   "cell_type": "code",
   "execution_count": 39,
   "metadata": {
    "ExecuteTime": {
     "end_time": "2018-11-25T21:58:51.009095Z",
     "start_time": "2018-11-25T21:58:39.873576Z"
    }
   },
   "outputs": [],
   "source": [
    "# Samford Data\n",
    "\n",
    "chillers = ['1','2','3','4']\n",
    "\n",
    "df_chiller = chiller_data(df,'1',CH_features)\n",
    "for c in chillers:\n",
    "    df_chiller = chiller_data(df,c,CH_features)\n",
    "    df_chiller.drop(df_chiller[df_chiller.Load == 0].index, inplace=True)\n",
    "    df_chiller.drop(df_chiller[df_chiller['kW/Ton'] == 0].index, inplace=True)\n",
    "    df_chiller.to_csv('data/S'+c+'_chiller.csv')"
   ]
  },
  {
   "cell_type": "code",
   "execution_count": 40,
   "metadata": {
    "ExecuteTime": {
     "end_time": "2018-11-25T21:58:52.131915Z",
     "start_time": "2018-11-25T21:58:52.117359Z"
    }
   },
   "outputs": [
    {
     "data": {
      "text/html": [
       "<div>\n",
       "<style scoped>\n",
       "    .dataframe tbody tr th:only-of-type {\n",
       "        vertical-align: middle;\n",
       "    }\n",
       "\n",
       "    .dataframe tbody tr th {\n",
       "        vertical-align: top;\n",
       "    }\n",
       "\n",
       "    .dataframe thead th {\n",
       "        text-align: right;\n",
       "    }\n",
       "</style>\n",
       "<table border=\"1\" class=\"dataframe\">\n",
       "  <thead>\n",
       "    <tr style=\"text-align: right;\">\n",
       "      <th></th>\n",
       "      <th>datetime</th>\n",
       "      <th>kW/Ton</th>\n",
       "      <th>Load</th>\n",
       "      <th>CDWRT</th>\n",
       "      <th>CDWST</th>\n",
       "      <th>DTLift</th>\n",
       "      <th>Ton</th>\n",
       "      <th>EvapApproach</th>\n",
       "      <th>CondApproach</th>\n",
       "      <th>Hz</th>\n",
       "      <th>CompSH</th>\n",
       "      <th>IGV</th>\n",
       "      <th>REFLVL</th>\n",
       "    </tr>\n",
       "  </thead>\n",
       "  <tbody>\n",
       "    <tr>\n",
       "      <th>3064</th>\n",
       "      <td>2018-01-11 15:20:00+00:00</td>\n",
       "      <td>0.341737</td>\n",
       "      <td>0.489655</td>\n",
       "      <td>76.400002</td>\n",
       "      <td>69.500000</td>\n",
       "      <td>32.500000</td>\n",
       "      <td>734.482326</td>\n",
       "      <td>0.400002</td>\n",
       "      <td>0.199997</td>\n",
       "      <td>44.740002</td>\n",
       "      <td>9.500000</td>\n",
       "      <td>94.260002</td>\n",
       "      <td>15.700000</td>\n",
       "    </tr>\n",
       "    <tr>\n",
       "      <th>3065</th>\n",
       "      <td>2018-01-11 15:25:00+00:00</td>\n",
       "      <td>0.318592</td>\n",
       "      <td>0.324344</td>\n",
       "      <td>74.000000</td>\n",
       "      <td>69.099998</td>\n",
       "      <td>27.500000</td>\n",
       "      <td>486.516164</td>\n",
       "      <td>0.099998</td>\n",
       "      <td>-0.099998</td>\n",
       "      <td>43.349998</td>\n",
       "      <td>11.299995</td>\n",
       "      <td>3.930000</td>\n",
       "      <td>20.299999</td>\n",
       "    </tr>\n",
       "    <tr>\n",
       "      <th>3066</th>\n",
       "      <td>2018-01-11 15:30:00+00:00</td>\n",
       "      <td>0.356950</td>\n",
       "      <td>0.448242</td>\n",
       "      <td>75.300003</td>\n",
       "      <td>68.500000</td>\n",
       "      <td>30.900002</td>\n",
       "      <td>672.362777</td>\n",
       "      <td>0.400002</td>\n",
       "      <td>0.199997</td>\n",
       "      <td>45.740002</td>\n",
       "      <td>10.400002</td>\n",
       "      <td>14.240000</td>\n",
       "      <td>26.200001</td>\n",
       "    </tr>\n",
       "    <tr>\n",
       "      <th>3067</th>\n",
       "      <td>2018-01-11 15:35:00+00:00</td>\n",
       "      <td>0.349066</td>\n",
       "      <td>0.467915</td>\n",
       "      <td>75.400002</td>\n",
       "      <td>68.400002</td>\n",
       "      <td>30.900002</td>\n",
       "      <td>701.872192</td>\n",
       "      <td>0.500000</td>\n",
       "      <td>0.199997</td>\n",
       "      <td>45.340000</td>\n",
       "      <td>9.900002</td>\n",
       "      <td>20.629999</td>\n",
       "      <td>26.000000</td>\n",
       "    </tr>\n",
       "    <tr>\n",
       "      <th>3068</th>\n",
       "      <td>2018-01-11 15:40:00+00:00</td>\n",
       "      <td>0.353166</td>\n",
       "      <td>0.487023</td>\n",
       "      <td>75.800003</td>\n",
       "      <td>68.599998</td>\n",
       "      <td>31.400002</td>\n",
       "      <td>730.534315</td>\n",
       "      <td>0.500000</td>\n",
       "      <td>0.099998</td>\n",
       "      <td>45.139999</td>\n",
       "      <td>9.699997</td>\n",
       "      <td>32.029999</td>\n",
       "      <td>26.400000</td>\n",
       "    </tr>\n",
       "  </tbody>\n",
       "</table>\n",
       "</div>"
      ],
      "text/plain": [
       "                      datetime    kW/Ton      Load      CDWRT      CDWST  \\\n",
       "3064 2018-01-11 15:20:00+00:00  0.341737  0.489655  76.400002  69.500000   \n",
       "3065 2018-01-11 15:25:00+00:00  0.318592  0.324344  74.000000  69.099998   \n",
       "3066 2018-01-11 15:30:00+00:00  0.356950  0.448242  75.300003  68.500000   \n",
       "3067 2018-01-11 15:35:00+00:00  0.349066  0.467915  75.400002  68.400002   \n",
       "3068 2018-01-11 15:40:00+00:00  0.353166  0.487023  75.800003  68.599998   \n",
       "\n",
       "         DTLift         Ton  EvapApproach  CondApproach         Hz     CompSH  \\\n",
       "3064  32.500000  734.482326      0.400002      0.199997  44.740002   9.500000   \n",
       "3065  27.500000  486.516164      0.099998     -0.099998  43.349998  11.299995   \n",
       "3066  30.900002  672.362777      0.400002      0.199997  45.740002  10.400002   \n",
       "3067  30.900002  701.872192      0.500000      0.199997  45.340000   9.900002   \n",
       "3068  31.400002  730.534315      0.500000      0.099998  45.139999   9.699997   \n",
       "\n",
       "            IGV     REFLVL  \n",
       "3064  94.260002  15.700000  \n",
       "3065   3.930000  20.299999  \n",
       "3066  14.240000  26.200001  \n",
       "3067  20.629999  26.000000  \n",
       "3068  32.029999  26.400000  "
      ]
     },
     "execution_count": 40,
     "metadata": {},
     "output_type": "execute_result"
    }
   ],
   "source": [
    "df_chiller.head()"
   ]
  },
  {
   "cell_type": "markdown",
   "metadata": {},
   "source": [
    "## Albuquerque Data\n",
    "\n",
    "CH3 YKCSCSQ5-CJG **350 Ton** Chiller\n",
    "CH4   \n",
    "CH5   "
   ]
  },
  {
   "cell_type": "code",
   "execution_count": 5,
   "metadata": {
    "ExecuteTime": {
     "end_time": "2018-11-24T21:26:02.725755Z",
     "start_time": "2018-11-24T21:26:02.410254Z"
    }
   },
   "outputs": [],
   "source": [
    "df = pd.read_csv('Albuquerque/dss_Alb h 2017-11.csv')"
   ]
  },
  {
   "cell_type": "code",
   "execution_count": 28,
   "metadata": {
    "ExecuteTime": {
     "end_time": "2018-11-24T21:43:05.680259Z",
     "start_time": "2018-11-24T21:43:05.676535Z"
    }
   },
   "outputs": [
    {
     "name": "stdout",
     "output_type": "stream",
     "text": [
      "Index(['timestamp', 'CH3LoadDisp', 'CH3PctLoad'], dtype='object')\n",
      "Index(['CH3CDPST', 'CH3CDT', 'CH3CDTSC', 'CH3CDW_DeltaT', 'CH3CDWDT',\n",
      "       'CH3CDWRT', 'CH3CDWST', 'CH3CHW_DeltaT', 'CH3CHWDT', 'CH3CHWRT',\n",
      "       'CH3CHWST', 'CH3CHWSTSP', 'CH3CompDiscSuperheat', 'CH3CondApproach',\n",
      "       'CH3DISTEMP', 'CH3DTLift', 'CH3EvapApproach', 'CH3EVPST', 'CH3EVT',\n",
      "       'CH3Lift'],\n",
      "      dtype='object')\n"
     ]
    }
   ],
   "source": [
    "print(df.columns[0:3])\n",
    "print(df.columns[27:47])"
   ]
  },
  {
   "cell_type": "markdown",
   "metadata": {},
   "source": [
    "LoadDisp =    \n",
    "PctLoad  = Percent Load   \n",
    "CDPST    =    \n",
    "CDT      = Condenser Refrigerant Temperature   \n",
    "CDTSC    =    \n",
    "CHW_DeltaT = \n",
    "CHWDT    = Chilled Water Delta T  \n",
    "CHWRT    = Chilled Water Return Temperature   \n",
    "CHWST    = Chilled Water Supply Temperature   \n",
    "CHWSTSP  =   \n",
    "CompDiscSuperheat = \n",
    "CondApproach = \n",
    "DISTEMP  = Compressor Refrigerant Discharge Temp  \n",
    "DTLift   = Lift\n",
    "EvapApproach = \n",
    "EVPST    = Evaporator Supply Temperature  \n",
    "EVT      = Evaporator Refrigerant Temperature  \n",
    "Lift     = "
   ]
  },
  {
   "cell_type": "code",
   "execution_count": 20,
   "metadata": {
    "ExecuteTime": {
     "end_time": "2018-11-24T21:36:29.689500Z",
     "start_time": "2018-11-24T21:36:29.687282Z"
    }
   },
   "outputs": [],
   "source": [
    "CH_features = ['_kW/Ton','PctLoad','CDWRT','CDWST','DTLift','Ton','EvapApproach',\n",
    "               'CondApproach','Hz','CompDiscSuperheat','IGV','REFLVL']"
   ]
  },
  {
   "cell_type": "code",
   "execution_count": 21,
   "metadata": {
    "ExecuteTime": {
     "end_time": "2018-11-24T21:36:30.796178Z",
     "start_time": "2018-11-24T21:36:30.475563Z"
    }
   },
   "outputs": [
    {
     "ename": "KeyError",
     "evalue": "'CH3Hz'",
     "output_type": "error",
     "traceback": [
      "\u001b[0;31m---------------------------------------------------------------------------\u001b[0m",
      "\u001b[0;31mKeyError\u001b[0m                                  Traceback (most recent call last)",
      "\u001b[0;32m/anaconda3/lib/python3.6/site-packages/pandas/core/indexes/base.py\u001b[0m in \u001b[0;36mget_loc\u001b[0;34m(self, key, method, tolerance)\u001b[0m\n\u001b[1;32m   3077\u001b[0m             \u001b[0;32mtry\u001b[0m\u001b[0;34m:\u001b[0m\u001b[0;34m\u001b[0m\u001b[0m\n\u001b[0;32m-> 3078\u001b[0;31m                 \u001b[0;32mreturn\u001b[0m \u001b[0mself\u001b[0m\u001b[0;34m.\u001b[0m\u001b[0m_engine\u001b[0m\u001b[0;34m.\u001b[0m\u001b[0mget_loc\u001b[0m\u001b[0;34m(\u001b[0m\u001b[0mkey\u001b[0m\u001b[0;34m)\u001b[0m\u001b[0;34m\u001b[0m\u001b[0m\n\u001b[0m\u001b[1;32m   3079\u001b[0m             \u001b[0;32mexcept\u001b[0m \u001b[0mKeyError\u001b[0m\u001b[0;34m:\u001b[0m\u001b[0;34m\u001b[0m\u001b[0m\n",
      "\u001b[0;32mpandas/_libs/index.pyx\u001b[0m in \u001b[0;36mpandas._libs.index.IndexEngine.get_loc\u001b[0;34m()\u001b[0m\n",
      "\u001b[0;32mpandas/_libs/index.pyx\u001b[0m in \u001b[0;36mpandas._libs.index.IndexEngine.get_loc\u001b[0;34m()\u001b[0m\n",
      "\u001b[0;32mpandas/_libs/hashtable_class_helper.pxi\u001b[0m in \u001b[0;36mpandas._libs.hashtable.PyObjectHashTable.get_item\u001b[0;34m()\u001b[0m\n",
      "\u001b[0;32mpandas/_libs/hashtable_class_helper.pxi\u001b[0m in \u001b[0;36mpandas._libs.hashtable.PyObjectHashTable.get_item\u001b[0;34m()\u001b[0m\n",
      "\u001b[0;31mKeyError\u001b[0m: 'CH3Hz'",
      "\nDuring handling of the above exception, another exception occurred:\n",
      "\u001b[0;31mKeyError\u001b[0m                                  Traceback (most recent call last)",
      "\u001b[0;32m<ipython-input-21-c84b7780db6f>\u001b[0m in \u001b[0;36m<module>\u001b[0;34m()\u001b[0m\n\u001b[0;32m----> 1\u001b[0;31m \u001b[0mdf_chiller\u001b[0m \u001b[0;34m=\u001b[0m \u001b[0mchiller_data\u001b[0m\u001b[0;34m(\u001b[0m\u001b[0mdf\u001b[0m\u001b[0;34m,\u001b[0m\u001b[0;34m'3'\u001b[0m\u001b[0;34m,\u001b[0m\u001b[0mCH_features\u001b[0m\u001b[0;34m)\u001b[0m\u001b[0;34m\u001b[0m\u001b[0m\n\u001b[0m\u001b[1;32m      2\u001b[0m \u001b[0mdf_chiller\u001b[0m\u001b[0;34m.\u001b[0m\u001b[0mto_csv\u001b[0m\u001b[0;34m(\u001b[0m\u001b[0;34m'data/A3_chiller.csv'\u001b[0m\u001b[0;34m)\u001b[0m\u001b[0;34m\u001b[0m\u001b[0m\n",
      "\u001b[0;32m<ipython-input-16-4534a3f098d1>\u001b[0m in \u001b[0;36mchiller_data\u001b[0;34m(df, CH, CH_features)\u001b[0m\n\u001b[1;32m      9\u001b[0m             \u001b[0mff\u001b[0m \u001b[0;34m=\u001b[0m \u001b[0mf\u001b[0m\u001b[0;34m\u001b[0m\u001b[0m\n\u001b[1;32m     10\u001b[0m         \u001b[0mfeature\u001b[0m \u001b[0;34m=\u001b[0m \u001b[0;34m'CH'\u001b[0m\u001b[0;34m+\u001b[0m\u001b[0mCH\u001b[0m\u001b[0;34m+\u001b[0m\u001b[0mf\u001b[0m\u001b[0;34m\u001b[0m\u001b[0m\n\u001b[0;32m---> 11\u001b[0;31m         \u001b[0mdf_chiller\u001b[0m\u001b[0;34m[\u001b[0m\u001b[0mff\u001b[0m\u001b[0;34m]\u001b[0m \u001b[0;34m=\u001b[0m \u001b[0mdf\u001b[0m\u001b[0;34m[\u001b[0m\u001b[0mfeature\u001b[0m\u001b[0;34m]\u001b[0m\u001b[0;34m\u001b[0m\u001b[0m\n\u001b[0m\u001b[1;32m     12\u001b[0m \u001b[0;34m\u001b[0m\u001b[0m\n\u001b[1;32m     13\u001b[0m     \u001b[0;32mreturn\u001b[0m \u001b[0mdf_chiller\u001b[0m\u001b[0;34m\u001b[0m\u001b[0m\n",
      "\u001b[0;32m/anaconda3/lib/python3.6/site-packages/pandas/core/frame.py\u001b[0m in \u001b[0;36m__getitem__\u001b[0;34m(self, key)\u001b[0m\n\u001b[1;32m   2686\u001b[0m             \u001b[0;32mreturn\u001b[0m \u001b[0mself\u001b[0m\u001b[0;34m.\u001b[0m\u001b[0m_getitem_multilevel\u001b[0m\u001b[0;34m(\u001b[0m\u001b[0mkey\u001b[0m\u001b[0;34m)\u001b[0m\u001b[0;34m\u001b[0m\u001b[0m\n\u001b[1;32m   2687\u001b[0m         \u001b[0;32melse\u001b[0m\u001b[0;34m:\u001b[0m\u001b[0;34m\u001b[0m\u001b[0m\n\u001b[0;32m-> 2688\u001b[0;31m             \u001b[0;32mreturn\u001b[0m \u001b[0mself\u001b[0m\u001b[0;34m.\u001b[0m\u001b[0m_getitem_column\u001b[0m\u001b[0;34m(\u001b[0m\u001b[0mkey\u001b[0m\u001b[0;34m)\u001b[0m\u001b[0;34m\u001b[0m\u001b[0m\n\u001b[0m\u001b[1;32m   2689\u001b[0m \u001b[0;34m\u001b[0m\u001b[0m\n\u001b[1;32m   2690\u001b[0m     \u001b[0;32mdef\u001b[0m \u001b[0m_getitem_column\u001b[0m\u001b[0;34m(\u001b[0m\u001b[0mself\u001b[0m\u001b[0;34m,\u001b[0m \u001b[0mkey\u001b[0m\u001b[0;34m)\u001b[0m\u001b[0;34m:\u001b[0m\u001b[0;34m\u001b[0m\u001b[0m\n",
      "\u001b[0;32m/anaconda3/lib/python3.6/site-packages/pandas/core/frame.py\u001b[0m in \u001b[0;36m_getitem_column\u001b[0;34m(self, key)\u001b[0m\n\u001b[1;32m   2693\u001b[0m         \u001b[0;31m# get column\u001b[0m\u001b[0;34m\u001b[0m\u001b[0;34m\u001b[0m\u001b[0m\n\u001b[1;32m   2694\u001b[0m         \u001b[0;32mif\u001b[0m \u001b[0mself\u001b[0m\u001b[0;34m.\u001b[0m\u001b[0mcolumns\u001b[0m\u001b[0;34m.\u001b[0m\u001b[0mis_unique\u001b[0m\u001b[0;34m:\u001b[0m\u001b[0;34m\u001b[0m\u001b[0m\n\u001b[0;32m-> 2695\u001b[0;31m             \u001b[0;32mreturn\u001b[0m \u001b[0mself\u001b[0m\u001b[0;34m.\u001b[0m\u001b[0m_get_item_cache\u001b[0m\u001b[0;34m(\u001b[0m\u001b[0mkey\u001b[0m\u001b[0;34m)\u001b[0m\u001b[0;34m\u001b[0m\u001b[0m\n\u001b[0m\u001b[1;32m   2696\u001b[0m \u001b[0;34m\u001b[0m\u001b[0m\n\u001b[1;32m   2697\u001b[0m         \u001b[0;31m# duplicate columns & possible reduce dimensionality\u001b[0m\u001b[0;34m\u001b[0m\u001b[0;34m\u001b[0m\u001b[0m\n",
      "\u001b[0;32m/anaconda3/lib/python3.6/site-packages/pandas/core/generic.py\u001b[0m in \u001b[0;36m_get_item_cache\u001b[0;34m(self, item)\u001b[0m\n\u001b[1;32m   2487\u001b[0m         \u001b[0mres\u001b[0m \u001b[0;34m=\u001b[0m \u001b[0mcache\u001b[0m\u001b[0;34m.\u001b[0m\u001b[0mget\u001b[0m\u001b[0;34m(\u001b[0m\u001b[0mitem\u001b[0m\u001b[0;34m)\u001b[0m\u001b[0;34m\u001b[0m\u001b[0m\n\u001b[1;32m   2488\u001b[0m         \u001b[0;32mif\u001b[0m \u001b[0mres\u001b[0m \u001b[0;32mis\u001b[0m \u001b[0;32mNone\u001b[0m\u001b[0;34m:\u001b[0m\u001b[0;34m\u001b[0m\u001b[0m\n\u001b[0;32m-> 2489\u001b[0;31m             \u001b[0mvalues\u001b[0m \u001b[0;34m=\u001b[0m \u001b[0mself\u001b[0m\u001b[0;34m.\u001b[0m\u001b[0m_data\u001b[0m\u001b[0;34m.\u001b[0m\u001b[0mget\u001b[0m\u001b[0;34m(\u001b[0m\u001b[0mitem\u001b[0m\u001b[0;34m)\u001b[0m\u001b[0;34m\u001b[0m\u001b[0m\n\u001b[0m\u001b[1;32m   2490\u001b[0m             \u001b[0mres\u001b[0m \u001b[0;34m=\u001b[0m \u001b[0mself\u001b[0m\u001b[0;34m.\u001b[0m\u001b[0m_box_item_values\u001b[0m\u001b[0;34m(\u001b[0m\u001b[0mitem\u001b[0m\u001b[0;34m,\u001b[0m \u001b[0mvalues\u001b[0m\u001b[0;34m)\u001b[0m\u001b[0;34m\u001b[0m\u001b[0m\n\u001b[1;32m   2491\u001b[0m             \u001b[0mcache\u001b[0m\u001b[0;34m[\u001b[0m\u001b[0mitem\u001b[0m\u001b[0;34m]\u001b[0m \u001b[0;34m=\u001b[0m \u001b[0mres\u001b[0m\u001b[0;34m\u001b[0m\u001b[0m\n",
      "\u001b[0;32m/anaconda3/lib/python3.6/site-packages/pandas/core/internals.py\u001b[0m in \u001b[0;36mget\u001b[0;34m(self, item, fastpath)\u001b[0m\n\u001b[1;32m   4113\u001b[0m \u001b[0;34m\u001b[0m\u001b[0m\n\u001b[1;32m   4114\u001b[0m             \u001b[0;32mif\u001b[0m \u001b[0;32mnot\u001b[0m \u001b[0misna\u001b[0m\u001b[0;34m(\u001b[0m\u001b[0mitem\u001b[0m\u001b[0;34m)\u001b[0m\u001b[0;34m:\u001b[0m\u001b[0;34m\u001b[0m\u001b[0m\n\u001b[0;32m-> 4115\u001b[0;31m                 \u001b[0mloc\u001b[0m \u001b[0;34m=\u001b[0m \u001b[0mself\u001b[0m\u001b[0;34m.\u001b[0m\u001b[0mitems\u001b[0m\u001b[0;34m.\u001b[0m\u001b[0mget_loc\u001b[0m\u001b[0;34m(\u001b[0m\u001b[0mitem\u001b[0m\u001b[0;34m)\u001b[0m\u001b[0;34m\u001b[0m\u001b[0m\n\u001b[0m\u001b[1;32m   4116\u001b[0m             \u001b[0;32melse\u001b[0m\u001b[0;34m:\u001b[0m\u001b[0;34m\u001b[0m\u001b[0m\n\u001b[1;32m   4117\u001b[0m                 \u001b[0mindexer\u001b[0m \u001b[0;34m=\u001b[0m \u001b[0mnp\u001b[0m\u001b[0;34m.\u001b[0m\u001b[0marange\u001b[0m\u001b[0;34m(\u001b[0m\u001b[0mlen\u001b[0m\u001b[0;34m(\u001b[0m\u001b[0mself\u001b[0m\u001b[0;34m.\u001b[0m\u001b[0mitems\u001b[0m\u001b[0;34m)\u001b[0m\u001b[0;34m)\u001b[0m\u001b[0;34m[\u001b[0m\u001b[0misna\u001b[0m\u001b[0;34m(\u001b[0m\u001b[0mself\u001b[0m\u001b[0;34m.\u001b[0m\u001b[0mitems\u001b[0m\u001b[0;34m)\u001b[0m\u001b[0;34m]\u001b[0m\u001b[0;34m\u001b[0m\u001b[0m\n",
      "\u001b[0;32m/anaconda3/lib/python3.6/site-packages/pandas/core/indexes/base.py\u001b[0m in \u001b[0;36mget_loc\u001b[0;34m(self, key, method, tolerance)\u001b[0m\n\u001b[1;32m   3078\u001b[0m                 \u001b[0;32mreturn\u001b[0m \u001b[0mself\u001b[0m\u001b[0;34m.\u001b[0m\u001b[0m_engine\u001b[0m\u001b[0;34m.\u001b[0m\u001b[0mget_loc\u001b[0m\u001b[0;34m(\u001b[0m\u001b[0mkey\u001b[0m\u001b[0;34m)\u001b[0m\u001b[0;34m\u001b[0m\u001b[0m\n\u001b[1;32m   3079\u001b[0m             \u001b[0;32mexcept\u001b[0m \u001b[0mKeyError\u001b[0m\u001b[0;34m:\u001b[0m\u001b[0;34m\u001b[0m\u001b[0m\n\u001b[0;32m-> 3080\u001b[0;31m                 \u001b[0;32mreturn\u001b[0m \u001b[0mself\u001b[0m\u001b[0;34m.\u001b[0m\u001b[0m_engine\u001b[0m\u001b[0;34m.\u001b[0m\u001b[0mget_loc\u001b[0m\u001b[0;34m(\u001b[0m\u001b[0mself\u001b[0m\u001b[0;34m.\u001b[0m\u001b[0m_maybe_cast_indexer\u001b[0m\u001b[0;34m(\u001b[0m\u001b[0mkey\u001b[0m\u001b[0;34m)\u001b[0m\u001b[0;34m)\u001b[0m\u001b[0;34m\u001b[0m\u001b[0m\n\u001b[0m\u001b[1;32m   3081\u001b[0m \u001b[0;34m\u001b[0m\u001b[0m\n\u001b[1;32m   3082\u001b[0m         \u001b[0mindexer\u001b[0m \u001b[0;34m=\u001b[0m \u001b[0mself\u001b[0m\u001b[0;34m.\u001b[0m\u001b[0mget_indexer\u001b[0m\u001b[0;34m(\u001b[0m\u001b[0;34m[\u001b[0m\u001b[0mkey\u001b[0m\u001b[0;34m]\u001b[0m\u001b[0;34m,\u001b[0m \u001b[0mmethod\u001b[0m\u001b[0;34m=\u001b[0m\u001b[0mmethod\u001b[0m\u001b[0;34m,\u001b[0m \u001b[0mtolerance\u001b[0m\u001b[0;34m=\u001b[0m\u001b[0mtolerance\u001b[0m\u001b[0;34m)\u001b[0m\u001b[0;34m\u001b[0m\u001b[0m\n",
      "\u001b[0;32mpandas/_libs/index.pyx\u001b[0m in \u001b[0;36mpandas._libs.index.IndexEngine.get_loc\u001b[0;34m()\u001b[0m\n",
      "\u001b[0;32mpandas/_libs/index.pyx\u001b[0m in \u001b[0;36mpandas._libs.index.IndexEngine.get_loc\u001b[0;34m()\u001b[0m\n",
      "\u001b[0;32mpandas/_libs/hashtable_class_helper.pxi\u001b[0m in \u001b[0;36mpandas._libs.hashtable.PyObjectHashTable.get_item\u001b[0;34m()\u001b[0m\n",
      "\u001b[0;32mpandas/_libs/hashtable_class_helper.pxi\u001b[0m in \u001b[0;36mpandas._libs.hashtable.PyObjectHashTable.get_item\u001b[0;34m()\u001b[0m\n",
      "\u001b[0;31mKeyError\u001b[0m: 'CH3Hz'"
     ]
    }
   ],
   "source": [
    "df_chiller = chiller_data(df,'3',CH_features)\n",
    "df_chiller.to_csv('data/A3_chiller.csv')"
   ]
  },
  {
   "cell_type": "code",
   "execution_count": null,
   "metadata": {},
   "outputs": [],
   "source": []
  }
 ],
 "metadata": {
  "kernelspec": {
   "display_name": "Python 3",
   "language": "python",
   "name": "python3"
  },
  "language_info": {
   "codemirror_mode": {
    "name": "ipython",
    "version": 3
   },
   "file_extension": ".py",
   "mimetype": "text/x-python",
   "name": "python",
   "nbconvert_exporter": "python",
   "pygments_lexer": "ipython3",
   "version": "3.6.5"
  }
 },
 "nbformat": 4,
 "nbformat_minor": 2
}
