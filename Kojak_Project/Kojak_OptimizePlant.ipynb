{
 "cells": [
  {
   "cell_type": "code",
   "execution_count": 1,
   "metadata": {
    "ExecuteTime": {
     "end_time": "2018-12-05T04:23:13.710304Z",
     "start_time": "2018-12-05T04:23:12.986145Z"
    }
   },
   "outputs": [],
   "source": [
    "import pickle\n",
    "\n",
    "from scipy import optimize\n",
    "import numpy as np\n",
    "import pandas as pd"
   ]
  },
  {
   "cell_type": "markdown",
   "metadata": {},
   "source": [
    "## Only B Plant\n",
    "all chillers 900 Tons\n",
    "CH1, 2 & 3 same, Ch4 different"
   ]
  },
  {
   "cell_type": "code",
   "execution_count": 48,
   "metadata": {
    "ExecuteTime": {
     "end_time": "2018-12-05T04:43:49.915807Z",
     "start_time": "2018-12-05T04:43:49.912511Z"
    }
   },
   "outputs": [],
   "source": [
    "def GetkW(Tons, TotalTons, Ch_lift_lines, DesignLift):\n",
    "    Load = Tons/TotalTons\n",
    "    \n",
    "    x_line = Ch_lift_lines[DesignLift][0]\n",
    "    y_line = Ch_lift_lines[DesignLift][1]\n",
    "\n",
    "    kW = np.interp(Load,x_line,y_line)*Tons\n",
    "    \n",
    "    return kW"
   ]
  },
  {
   "cell_type": "code",
   "execution_count": 49,
   "metadata": {
    "ExecuteTime": {
     "end_time": "2018-12-05T04:43:50.384197Z",
     "start_time": "2018-12-05T04:43:50.380996Z"
    }
   },
   "outputs": [],
   "source": [
    "def f(Ton,TotalTons,ChMaxTons,all_lift_lines,DesignLift): \n",
    "    max_Ch = len(Ton)\n",
    "    kW_total = 0\n",
    "    for c in range(max_Ch):\n",
    "        kW = GetkW(Ton[c],ChMaxTons[c],all_lift_lines[c], DesignLift)\n",
    "        kW_total += kW\n",
    "        \n",
    "    return kW_total\n",
    "\n",
    "def fun(x,TotalTons):\n",
    "    return TotalTons-sum(x)\n"
   ]
  },
  {
   "cell_type": "code",
   "execution_count": 126,
   "metadata": {
    "ExecuteTime": {
     "end_time": "2018-12-06T17:36:25.189098Z",
     "start_time": "2018-12-06T17:36:25.183566Z"
    }
   },
   "outputs": [],
   "source": [
    "def Optimum_Chillers(TotalTons, DesignLift, ChList, ChMaxTons):\n",
    "    num_chillers = len(ChList)\n",
    "    Start_Tons = []\n",
    "    lift_lines = []\n",
    "    for Chiller in ChList:\n",
    "        Ch_lift_lines = pickle.load( open(Chiller+\"lift_lines.pkl\", \"rb\" ) )\n",
    "        lift_lines.append(Ch_lift_lines)        \n",
    "        Start_Tons.append(TotalTons/num_chillers)\n",
    "    cons = ({'type': 'eq', 'fun': fun, 'args': [TotalTons]})\n",
    "    bnds = [(0.15*ChMaxTons[i], ChMaxTons[i]) for i in range(num_chillers)]\n",
    "    \n",
    "    Tons = optimize.minimize(f,Start_Tons,bounds=bnds,constraints=cons,\n",
    "                             args=(TotalTons,ChMaxTons,lift_lines,DesignLift)).x\n",
    "    kW_total = f(Tons,TotalTons,ChMaxTons,lift_lines,DesignLift)\n",
    "\n",
    "    print(Tons,sum(Tons))\n",
    "    print(f'kW={kW_total} for chillers {ChList}:')\n",
    "    for c in range(num_chillers):\n",
    "        kW = GetkW(Tons[c],ChMaxTons[c],lift_lines[c], DesignLift)\n",
    "        print(f'Chiller {ChList[c]} with {Tons[c]/ChMaxTons[c]} Lift and {kW/Tons[c]} kW/Ton')\n",
    "#        print(Tons[c],ChMaxTons[c])\n",
    "    print('')\n",
    "    \n",
    "    return Tons, kW_total\n"
   ]
  },
  {
   "cell_type": "code",
   "execution_count": 127,
   "metadata": {
    "ExecuteTime": {
     "end_time": "2018-12-06T17:36:26.362866Z",
     "start_time": "2018-12-06T17:36:26.355499Z"
    }
   },
   "outputs": [
    {
     "name": "stdout",
     "output_type": "stream",
     "text": [
      "[450. 450.] 900.0\n",
      "kW=408.0391323896223 for chillers ['B1', 'B2']:\n",
      "Chiller B1 with 0.5 Lift and 0.453376813766247 kW/Ton\n",
      "Chiller B2 with 0.5 Lift and 0.453376813766247 kW/Ton\n",
      "\n"
     ]
    }
   ],
   "source": [
    "# print Lift and kW/Ton for best chiller\n",
    "\n",
    "# best chiller combination\n",
    "DesignLift = 30\n",
    "TotalTons = 900\n",
    "\n",
    "ChMaxTons = ([900, 900])\n",
    "ChList = (['B1','B2'])\n",
    "\n",
    "Tons, kW = Optimum_Chillers(TotalTons, DesignLift, ChList, ChMaxTons)"
   ]
  },
  {
   "cell_type": "code",
   "execution_count": 128,
   "metadata": {
    "ExecuteTime": {
     "end_time": "2018-12-06T17:36:27.236721Z",
     "start_time": "2018-12-06T17:36:26.879425Z"
    }
   },
   "outputs": [
    {
     "name": "stdout",
     "output_type": "stream",
     "text": [
      "[519.66667234 519.66665839 519.66667145 440.99999781] 1999.9999999999998\n",
      "kW=864.245077972533 for chillers ['B1', 'B2', 'B3', 'B4']:\n",
      "Chiller B1 with 0.5774074137083962 Lift and 0.4354599708860764 kW/Ton\n",
      "Chiller B2 with 0.5774073982164762 Lift and 0.43545997364856337 kW/Ton\n",
      "Chiller B3 with 0.5774074127256564 Lift and 0.4354599710613165 kW/Ton\n",
      "Chiller B4 with 0.4899999975716934 Lift and 0.4203242217719321 kW/Ton\n",
      "\n",
      "[666.66666667 666.66666667 666.66666667] 2000.0\n",
      "kW=853.0012286179693 for chillers ['B1', 'B2', 'B3']:\n",
      "Chiller B1 with 0.7407407407407407 Lift and 0.42650061430898467 kW/Ton\n",
      "Chiller B2 with 0.7407407407407407 Lift and 0.42650061430898467 kW/Ton\n",
      "Chiller B3 with 0.7407407407407407 Lift and 0.42650061430898467 kW/Ton\n",
      "\n",
      "[707.50001767 707.50001767 584.99996466] 2000.0\n",
      "kW=855.651167694249 for chillers ['B1', 'B2', 'B4']:\n",
      "Chiller B1 with 0.7861111307423448 Lift and 0.4309826679060691 kW/Ton\n",
      "Chiller B2 with 0.7861111307423448 Lift and 0.4309826679060691 kW/Ton\n",
      "Chiller B4 with 0.6499999607375326 Lift and 0.42018921747993415 kW/Ton\n",
      "\n",
      "[707.50001767 707.50001767 584.99996466] 2000.0\n",
      "kW=855.651167694249 for chillers ['B1', 'B3', 'B4']:\n",
      "Chiller B1 with 0.7861111307423448 Lift and 0.4309826679060691 kW/Ton\n",
      "Chiller B3 with 0.7861111307423448 Lift and 0.4309826679060691 kW/Ton\n",
      "Chiller B4 with 0.6499999607375326 Lift and 0.42018921747993415 kW/Ton\n",
      "\n",
      "[707.50001767 707.50001767 584.99996466] 2000.0\n",
      "kW=855.651167694249 for chillers ['B2', 'B3', 'B4']:\n",
      "Chiller B2 with 0.7861111307423448 Lift and 0.4309826679060691 kW/Ton\n",
      "Chiller B3 with 0.7861111307423448 Lift and 0.4309826679060691 kW/Ton\n",
      "Chiller B4 with 0.6499999607375326 Lift and 0.42018921747993415 kW/Ton\n",
      "\n",
      "[nan nan] nan\n",
      "kW=nan for chillers ['B1', 'B2']:\n",
      "Chiller B1 with nan Lift and nan kW/Ton\n",
      "Chiller B2 with nan Lift and nan kW/Ton\n",
      "\n",
      "[nan nan] nan\n",
      "kW=nan for chillers ['B1', 'B3']:\n",
      "Chiller B1 with nan Lift and nan kW/Ton\n",
      "Chiller B3 with nan Lift and nan kW/Ton\n",
      "\n",
      "[nan nan] nan\n",
      "kW=nan for chillers ['B1', 'B4']:\n",
      "Chiller B1 with nan Lift and nan kW/Ton\n",
      "Chiller B4 with nan Lift and nan kW/Ton\n",
      "\n",
      "[nan nan] nan\n",
      "kW=nan for chillers ['B2', 'B3']:\n",
      "Chiller B2 with nan Lift and nan kW/Ton\n",
      "Chiller B3 with nan Lift and nan kW/Ton\n",
      "\n",
      "[nan nan] nan\n",
      "kW=nan for chillers ['B2', 'B4']:\n",
      "Chiller B2 with nan Lift and nan kW/Ton\n",
      "Chiller B4 with nan Lift and nan kW/Ton\n",
      "\n"
     ]
    }
   ],
   "source": [
    "ChMaxTons = ([900,900,900,900])\n",
    "\n",
    "DesignLift = 30\n",
    "TotalTons = 2000\n",
    "\n",
    "ChList = (['B1','B2','B3','B4'])\n",
    "Tons, kW = Optimum_Chillers(TotalTons, DesignLift, ChList, ChMaxTons)\n",
    "\n",
    "ChMaxTons = ([900,900,900])\n",
    "ChList = (['B1','B2','B3'])\n",
    "Tons, kW = Optimum_Chillers(TotalTons, DesignLift, ChList, ChMaxTons)\n",
    "ChList = (['B1','B2','B4'])\n",
    "Tons, kW = Optimum_Chillers(TotalTons, DesignLift, ChList, ChMaxTons)\n",
    "ChList = (['B1','B3','B4'])\n",
    "Tons, kW = Optimum_Chillers(TotalTons, DesignLift, ChList, ChMaxTons)\n",
    "ChList = (['B2','B3','B4'])\n",
    "Tons, kW = Optimum_Chillers(TotalTons, DesignLift, ChList, ChMaxTons)\n",
    "\n",
    "ChMaxTons = ([900,900])\n",
    "ChList = (['B1','B2'])\n",
    "Tons, kW = Optimum_Chillers(TotalTons, DesignLift, ChList, ChMaxTons)\n",
    "ChList = (['B1','B3'])\n",
    "Tons, kW = Optimum_Chillers(TotalTons, DesignLift, ChList, ChMaxTons)\n",
    "ChList = (['B1','B4'])\n",
    "Tons, kW = Optimum_Chillers(TotalTons, DesignLift, ChList, ChMaxTons)\n",
    "ChList = (['B2','B3'])\n",
    "CTons, kW = Optimum_Chillers(TotalTons, DesignLift, ChList, ChMaxTons)\n",
    "ChList = (['B2','B4'])\n",
    "Tons, kW = Optimum_Chillers(TotalTons, DesignLift, ChList, ChMaxTons)\n",
    "ChList = (['B3','B4'])\n"
   ]
  },
  {
   "cell_type": "code",
   "execution_count": 138,
   "metadata": {
    "ExecuteTime": {
     "end_time": "2018-12-06T18:29:24.878934Z",
     "start_time": "2018-12-06T18:29:24.468612Z"
    }
   },
   "outputs": [
    {
     "name": "stdout",
     "output_type": "stream",
     "text": [
      "[ 135.          135.         1064.99033393 1065.00966607] 2400.0\n",
      "kW=903.8197744511326 for chillers ['B1', 'B2', 'C1', 'C2']:\n",
      "Chiller B1 with 0.15 Lift and 0.6060420729371057 kW/Ton\n",
      "Chiller B2 with 0.15 Lift and 0.6060420729371057 kW/Ton\n",
      "Chiller C1 with 0.8874919449395245 Lift and 0.34750496933166813 kW/Ton\n",
      "Chiller C2 with 0.8875080550604755 Lift and 0.34750762666122215 kW/Ton\n",
      "\n",
      "[ 672.00006701  672.00006701 1055.99986599] 2400.0\n",
      "kW=939.4460958497627 for chillers ['B1', 'B2', 'C1']:\n",
      "Chiller B1 with 0.746666741117662 Lift and 0.42692398710512414 kW/Ton\n",
      "Chiller B2 with 0.746666741117662 Lift and 0.42692398710512414 kW/Ton\n",
      "Chiller C1 with 0.8799998883235071 Lift and 0.3462691727005491 kW/Ton\n",
      "\n",
      "[ 672.00006701  672.00006701 1055.99986599] 2400.0\n",
      "kW=939.4460958497627 for chillers ['B1', 'B2', 'C2']:\n",
      "Chiller B1 with 0.746666741117662 Lift and 0.42692398710512414 kW/Ton\n",
      "Chiller B2 with 0.746666741117662 Lift and 0.42692398710512414 kW/Ton\n",
      "Chiller C2 with 0.8799998883235071 Lift and 0.3462691727005491 kW/Ton\n",
      "\n",
      "[522.00003187 938.99998703 938.9999811 ] 2400.0\n",
      "kW=863.7469036618829 for chillers ['B1', 'C1', 'C2']:\n",
      "Chiller B1 with 0.5800000354100229 Lift and 0.43499766048903865 kW/Ton\n",
      "Chiller C1 with 0.7824999891943417 Lift and 0.3390192341920066 kW/Ton\n",
      "Chiller C2 with 0.7824999842481412 Lift and 0.33901923420827695 kW/Ton\n",
      "\n",
      "[522.00003187 938.99998703 938.9999811 ] 2400.0\n",
      "kW=863.7469036618829 for chillers ['B2', 'C1', 'C2']:\n",
      "Chiller B2 with 0.5800000354100229 Lift and 0.43499766048903865 kW/Ton\n",
      "Chiller C1 with 0.7824999891943417 Lift and 0.3390192341920066 kW/Ton\n",
      "Chiller C2 with 0.7824999842481412 Lift and 0.33901923420827695 kW/Ton\n",
      "\n",
      "[nan nan] nan\n",
      "kW=nan for chillers ['B1', 'B2']:\n",
      "Chiller B1 with nan Lift and nan kW/Ton\n",
      "Chiller B2 with nan Lift and nan kW/Ton\n",
      "\n",
      "[nan nan] nan\n",
      "kW=nan for chillers ['B1', 'C1']:\n",
      "Chiller B1 with nan Lift and nan kW/Ton\n",
      "Chiller C1 with nan Lift and nan kW/Ton\n",
      "\n",
      "[nan nan] nan\n",
      "kW=nan for chillers ['B1', 'C2']:\n",
      "Chiller B1 with nan Lift and nan kW/Ton\n",
      "Chiller C2 with nan Lift and nan kW/Ton\n",
      "\n",
      "[nan nan] nan\n",
      "kW=nan for chillers ['B2', 'C1']:\n",
      "Chiller B2 with nan Lift and nan kW/Ton\n",
      "Chiller C1 with nan Lift and nan kW/Ton\n",
      "\n",
      "[nan nan] nan\n",
      "kW=nan for chillers ['B2', 'C2']:\n",
      "Chiller B2 with nan Lift and nan kW/Ton\n",
      "Chiller C2 with nan Lift and nan kW/Ton\n",
      "\n",
      "[1200. 1200.] 2400.0\n",
      "kW=896.7996070887344 for chillers ['C1', 'C2']:\n",
      "Chiller C1 with 1.0 Lift and 0.37366650295363935 kW/Ton\n",
      "Chiller C2 with 1.0 Lift and 0.37366650295363935 kW/Ton\n",
      "\n",
      "For minimum kW (863.7469036618829), run with ['B1', 'C1', 'C2']\n"
     ]
    }
   ],
   "source": [
    "ChMaxTons = ([900,900,1200,1200])\n",
    "\n",
    "DesignLift = 30\n",
    "TotalTons = 2400\n",
    "\n",
    "ChMaxTons = ([900,900,1200,1200])\n",
    "ChList = (['B1','B2','C1','C2'])\n",
    "Tons, kW = Optimum_Chillers(TotalTons, DesignLift, ChList, ChMaxTons)\n",
    "kW_min = kW\n",
    "ChList_min = ChList\n",
    "\n",
    "ChMaxTons = ([900,900,1200])\n",
    "ChList = (['B1','B2','C1'])\n",
    "Tons, kW = Optimum_Chillers(TotalTons, DesignLift, ChList, ChMaxTons)\n",
    "if (kW < kW_min):\n",
    "    kW_min = kW\n",
    "    ChList_min = ChList\n",
    "\n",
    "ChMaxTons = ([900,900,1200])\n",
    "ChList = (['B1','B2','C2'])\n",
    "Tons, kW = Optimum_Chillers(TotalTons, DesignLift, ChList, ChMaxTons)\n",
    "if (kW < kW_min):\n",
    "    kW_min = kW\n",
    "    ChList_min = ChList\n",
    "ChMaxTons = ([900,1200,1200])\n",
    "ChList = (['B1','C1','C2'])\n",
    "Tons, kW = Optimum_Chillers(TotalTons, DesignLift, ChList, ChMaxTons)\n",
    "if (kW < kW_min):\n",
    "    kW_min = kW\n",
    "    ChList_min = ChList\n",
    "ChMaxTons = ([900,1200,1200])\n",
    "ChList = (['B2','C1','C2'])\n",
    "Tons, kW = Optimum_Chillers(TotalTons, DesignLift, ChList, ChMaxTons)\n",
    "if (kW < kW_min):\n",
    "    kW_min = kW\n",
    "    ChList_min = ChList\n",
    "\n",
    "ChMaxTons = ([900,900])\n",
    "ChList = (['B1','B2'])\n",
    "Tons, kW = Optimum_Chillers(TotalTons, DesignLift, ChList, ChMaxTons)\n",
    "if (kW < kW_min):\n",
    "    kW_min = kW\n",
    "    ChList_min = ChList\n",
    "ChMaxTons = ([900,1200])\n",
    "ChList = (['B1','C1'])\n",
    "Tons, kW = Optimum_Chillers(TotalTons, DesignLift, ChList, ChMaxTons)\n",
    "if (kW < kW_min):\n",
    "    kW_min = kW\n",
    "    ChList_min = ChList\n",
    "ChMaxTons = ([900,1200])\n",
    "ChList = (['B1','C2'])\n",
    "Tons, kW = Optimum_Chillers(TotalTons, DesignLift, ChList, ChMaxTons)\n",
    "if (kW < kW_min):\n",
    "    kW_min = kW\n",
    "    ChList_min = ChList\n",
    "ChMaxTons = ([900,1200])\n",
    "ChList = (['B2','C1'])\n",
    "CTons, kW = Optimum_Chillers(TotalTons, DesignLift, ChList, ChMaxTons)\n",
    "if (kW < kW_min):\n",
    "    kW_min = kW\n",
    "    ChList_min = ChList\n",
    "ChMaxTons = ([900,1200])\n",
    "ChList = (['B2','C2'])\n",
    "Tons, kW = Optimum_Chillers(TotalTons, DesignLift, ChList, ChMaxTons)\n",
    "if (kW < kW_min):\n",
    "    kW_min = kW\n",
    "    ChList_min = ChList\n",
    "ChMaxTons = ([1200,1200])\n",
    "ChList = (['C1','C2'])\n",
    "Tons, kW = Optimum_Chillers(TotalTons, DesignLift, ChList, ChMaxTons)\n",
    "if (kW < kW_min):\n",
    "    kW_min = kW\n",
    "    ChList_min = ChList\n",
    "\n",
    "print(f'For minimum kW ({kW_min}), run with',ChList_min)"
   ]
  },
  {
   "cell_type": "code",
   "execution_count": 111,
   "metadata": {
    "ExecuteTime": {
     "end_time": "2018-12-06T05:22:33.805795Z",
     "start_time": "2018-12-06T05:22:33.802133Z"
    }
   },
   "outputs": [
    {
     "data": {
      "text/plain": [
       "1113.9995999999999"
      ]
     },
     "execution_count": 111,
     "metadata": {},
     "output_type": "execute_result"
    }
   ],
   "source": [
    "1200 * .928333"
   ]
  },
  {
   "cell_type": "code",
   "execution_count": 140,
   "metadata": {
    "ExecuteTime": {
     "end_time": "2018-12-06T18:29:50.578728Z",
     "start_time": "2018-12-06T18:29:50.569834Z"
    }
   },
   "outputs": [
    {
     "name": "stdout",
     "output_type": "stream",
     "text": [
      "1000.7602499612838\n",
      "saving $328.83203111856204 (15.862672933301218%)\n"
     ]
    }
   ],
   "source": [
    "Tons = [600,600,600,600]\n",
    "ChList = (['B1','B2','C1','C2'])\n",
    "ChMaxTons = ([900,900,1200,1200])\n",
    "\n",
    "lift_lines = []\n",
    "for Chiller in ChList:\n",
    "    Ch_lift_lines = pickle.load( open(Chiller+\"lift_lines.pkl\", \"rb\" ) )\n",
    "    lift_lines.append(Ch_lift_lines)        \n",
    "\n",
    "kW_total = 0\n",
    "for c in range(len(ChList)):\n",
    "    kW = GetkW(Tons[c],ChMaxTons[c],lift_lines[c], DesignLift)\n",
    "    kW_total += kW\n",
    "    \n",
    "print(kW_total)\n",
    "\n",
    "print(f'saving ${(kW_total - kW_min) * 24 * 0.10} ({((kW_total - kW_min)/kW_min)*100}%)')"
   ]
  },
  {
   "cell_type": "code",
   "execution_count": 139,
   "metadata": {
    "ExecuteTime": {
     "end_time": "2018-12-06T18:29:31.055743Z",
     "start_time": "2018-12-06T18:29:31.047596Z"
    }
   },
   "outputs": [
    {
     "name": "stdout",
     "output_type": "stream",
     "text": [
      "923.7091527812277\n",
      "saving $143.90939788642737 (6.942108720174028%)\n"
     ]
    }
   ],
   "source": [
    "TotalTons = 2400\n",
    "\n",
    "Tons = [2400/3,2400/3,2400/3]\n",
    "ChList = (['B2','C1','C2'])\n",
    "ChMaxTons = ([900,1200,1200])\n",
    "\n",
    "lift_lines = []\n",
    "for Chiller in ChList:\n",
    "    Ch_lift_lines = pickle.load( open(Chiller+\"lift_lines.pkl\", \"rb\" ) )\n",
    "    lift_lines.append(Ch_lift_lines)        \n",
    "\n",
    "kW_total = 0\n",
    "for c in range(len(ChList)):\n",
    "    kW = GetkW(Tons[c],ChMaxTons[c],lift_lines[c], DesignLift)\n",
    "    kW_total += kW\n",
    "    \n",
    "print(kW_total)\n",
    "\n",
    "print(f'saving ${(kW_total - kW_min) * 24 * 0.10} ({((kW_total - kW_min)/kW_min)*100}%)')"
   ]
  },
  {
   "cell_type": "code",
   "execution_count": null,
   "metadata": {},
   "outputs": [],
   "source": []
  }
 ],
 "metadata": {
  "kernelspec": {
   "display_name": "Python 3",
   "language": "python",
   "name": "python3"
  },
  "language_info": {
   "codemirror_mode": {
    "name": "ipython",
    "version": 3
   },
   "file_extension": ".py",
   "mimetype": "text/x-python",
   "name": "python",
   "nbconvert_exporter": "python",
   "pygments_lexer": "ipython3",
   "version": "3.6.6"
  }
 },
 "nbformat": 4,
 "nbformat_minor": 2
}
