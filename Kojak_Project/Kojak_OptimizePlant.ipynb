{
 "cells": [
  {
   "cell_type": "code",
   "execution_count": 1,
   "metadata": {
    "ExecuteTime": {
     "end_time": "2018-12-05T04:23:13.710304Z",
     "start_time": "2018-12-05T04:23:12.986145Z"
    }
   },
   "outputs": [],
   "source": [
    "import pickle\n",
    "\n",
    "from scipy import optimize\n",
    "import numpy as np\n",
    "import pandas as pd"
   ]
  },
  {
   "cell_type": "markdown",
   "metadata": {},
   "source": [
    "## Only B Plant\n",
    "all chillers 900 Tons\n",
    "CH1, 2 & 3 same, Ch4 different"
   ]
  },
  {
   "cell_type": "code",
   "execution_count": 48,
   "metadata": {
    "ExecuteTime": {
     "end_time": "2018-12-05T04:43:49.915807Z",
     "start_time": "2018-12-05T04:43:49.912511Z"
    }
   },
   "outputs": [],
   "source": [
    "def GetkW(Tons, TotalTons, Ch_lift_lines, DesignLift):\n",
    "    Load = Tons/TotalTons\n",
    "    \n",
    "    x_line = Ch_lift_lines[DesignLift][0]\n",
    "    y_line = Ch_lift_lines[DesignLift][1]\n",
    "\n",
    "    kW = np.interp(Load,x_line,y_line)*Tons\n",
    "    \n",
    "#    print('in GetkW',Load,kW, kW/Tons)\n",
    "    \n",
    "    return kW"
   ]
  },
  {
   "cell_type": "code",
   "execution_count": 49,
   "metadata": {
    "ExecuteTime": {
     "end_time": "2018-12-05T04:43:50.384197Z",
     "start_time": "2018-12-05T04:43:50.380996Z"
    }
   },
   "outputs": [],
   "source": [
    "def f(Ton,TotalTons,ChMaxTons,all_lift_lines,DesignLift): \n",
    "    max_Ch = len(Ton)\n",
    "    kW_total = 0\n",
    "    for c in range(max_Ch):\n",
    "#        print('in f',Ton[c],ChMaxTons[c],DesignLift)\n",
    "        kW = GetkW(Ton[c],ChMaxTons[c],all_lift_lines[c], DesignLift)\n",
    "        kW_total += kW\n",
    "#        print('in f, kW=',kW)\n",
    "#        print('in f',Ton[c]/ChMaxTons[c],kW/Ton[c])\n",
    "        \n",
    "    return kW_total\n",
    "\n",
    "def fun(x,TotalTons):\n",
    "#    print('in fun',sum(x))\n",
    "    return TotalTons-sum(x)\n"
   ]
  },
  {
   "cell_type": "code",
   "execution_count": 54,
   "metadata": {
    "ExecuteTime": {
     "end_time": "2018-12-05T04:46:07.859038Z",
     "start_time": "2018-12-05T04:46:07.853166Z"
    }
   },
   "outputs": [],
   "source": [
    "def Optimum_Chillers(TotalTons, DesignLift, ChList, ChMaxTons):\n",
    "    num_chillers = len(ChList)\n",
    "    Start_Tons = []\n",
    "    lift_lines = []\n",
    "    for Chiller in ChList:\n",
    "        Ch_lift_lines = pickle.load( open(Chiller+\"lift_lines.pkl\", \"rb\" ) )\n",
    "        lift_lines.append(Ch_lift_lines)        \n",
    "        Start_Tons.append(TotalTons/num_chillers)\n",
    "    cons = ({'type': 'eq', 'fun': fun, 'args': [TotalTons]})\n",
    "    bnds = [(0, ChMaxTons[i]) for i in range(num_chillers)]\n",
    "    \n",
    "    Tons = optimize.minimize(f,Start_Tons,bounds=bnds,constraints=cons,\n",
    "                             args=(TotalTons,ChMaxTons,lift_lines,DesignLift)).x\n",
    "    kW = f(Tons,TotalTons,ChMaxTons,lift_lines,DesignLift)\n",
    "\n",
    "    print(f'kW={kW} for chillers {ChList}:')\n",
    "    for c in range(num_chillers):\n",
    "        kW = GetkW(Tons[c],ChMaxTons[c],lift_lines[c], DesignLift)\n",
    "        print(f'Chiller {ChList[c]} with {Tons[c]/ChMaxTons[c]} Lift and {kW/Tons[c]} kW/Ton')\n",
    "    \n",
    "    print('')\n",
    "    \n",
    "    return Tons, kW\n"
   ]
  },
  {
   "cell_type": "code",
   "execution_count": 55,
   "metadata": {
    "ExecuteTime": {
     "end_time": "2018-12-05T04:46:08.778225Z",
     "start_time": "2018-12-05T04:46:08.772485Z"
    }
   },
   "outputs": [
    {
     "name": "stdout",
     "output_type": "stream",
     "text": [
      "kW=408.0391323896223 for chillers ['B1', 'B2']:\n",
      "Chiller B1 with 0.5 Lift and 0.453376813766247 kW/Ton\n",
      "Chiller B2 with 0.5 Lift and 0.453376813766247 kW/Ton\n",
      "\n"
     ]
    }
   ],
   "source": [
    "# print Lift and kW/Ton for best chiller\n",
    "\n",
    "# best chiller combination\n",
    "DesignLift = 30\n",
    "TotalTons = 900\n",
    "\n",
    "ChMaxTons = ([900, 900])\n",
    "ChList = (['B1','B2'])\n",
    "\n",
    "Tons, kW = Optimum_Chillers(TotalTons, DesignLift, ChList, ChMaxTons)"
   ]
  },
  {
   "cell_type": "code",
   "execution_count": 58,
   "metadata": {
    "ExecuteTime": {
     "end_time": "2018-12-05T04:49:16.855252Z",
     "start_time": "2018-12-05T04:49:16.798417Z"
    }
   },
   "outputs": [
    {
     "name": "stdout",
     "output_type": "stream",
     "text": [
      "kW=659.4510919137858 for chillers ['B1', 'B2', 'B3', 'B4']:\n",
      "Chiller B1 with 0.5555560634027846 Lift and 0.43963395579522857 kW/Ton\n",
      "Chiller B2 with 0.5555553646208373 Lift and 0.4396341009333514 kW/Ton\n",
      "Chiller B3 with 0.5555552386430446 Lift and 0.4396341270991395 kW/Ton\n",
      "Chiller B4 with 0.0 Lift and nan kW/Ton\n",
      "\n",
      "kW=659.4510919138597 for chillers ['B1', 'B2', 'B3']:\n",
      "Chiller B1 with 0.5555555555555556 Lift and 0.4396340612759065 kW/Ton\n",
      "Chiller B2 with 0.5555555555555556 Lift and 0.4396340612759065 kW/Ton\n",
      "Chiller B3 with 0.5555555555555556 Lift and 0.4396340612759065 kW/Ton\n",
      "\n",
      "kW=644.5528644126538 for chillers ['B1', 'B2', 'B4']:\n",
      "Chiller B1 with 0.5833333350239754 Lift and 0.4344522457106849 kW/Ton\n",
      "Chiller B2 with 0.5833333350239754 Lift and 0.4344522457106849 kW/Ton\n",
      "Chiller B4 with 0.4999999966187158 Lift and 0.41861779192943976 kW/Ton\n",
      "\n",
      "kW=644.5528644126538 for chillers ['B1', 'B3', 'B4']:\n",
      "Chiller B1 with 0.5833333350239754 Lift and 0.4344522457106849 kW/Ton\n",
      "Chiller B3 with 0.5833333350239754 Lift and 0.4344522457106849 kW/Ton\n",
      "Chiller B4 with 0.4999999966187158 Lift and 0.41861779192943976 kW/Ton\n",
      "\n",
      "kW=644.5528644126538 for chillers ['B2', 'B3', 'B4']:\n",
      "Chiller B2 with 0.5833333350239754 Lift and 0.4344522457106849 kW/Ton\n",
      "Chiller B3 with 0.5833333350239754 Lift and 0.4344522457106849 kW/Ton\n",
      "Chiller B4 with 0.4999999966187158 Lift and 0.41861779192943976 kW/Ton\n",
      "\n",
      "kW=658.2683198353882 for chillers ['B1', 'B2']:\n",
      "Chiller B1 with 0.8333333333333334 Lift and 0.4388455465569255 kW/Ton\n",
      "Chiller B2 with 0.8333333333333334 Lift and 0.4388455465569255 kW/Ton\n",
      "\n",
      "kW=658.2683198353882 for chillers ['B1', 'B3']:\n",
      "Chiller B1 with 0.8333333333333334 Lift and 0.4388455465569255 kW/Ton\n",
      "Chiller B3 with 0.8333333333333334 Lift and 0.4388455465569255 kW/Ton\n",
      "\n",
      "kW=683.5274153374681 for chillers ['B1', 'B4']:\n",
      "Chiller B1 with 0.9166666493752293 Lift and 0.4607153000886221 kW/Ton\n",
      "Chiller B4 with 0.7500000172914373 Lift and 0.44953673027899127 kW/Ton\n",
      "\n",
      "kW=658.2683198353882 for chillers ['B2', 'B3']:\n",
      "Chiller B2 with 0.8333333333333334 Lift and 0.4388455465569255 kW/Ton\n",
      "Chiller B3 with 0.8333333333333334 Lift and 0.4388455465569255 kW/Ton\n",
      "\n",
      "kW=683.5274153374681 for chillers ['B2', 'B4']:\n",
      "Chiller B2 with 0.9166666493752293 Lift and 0.4607153000886221 kW/Ton\n",
      "Chiller B4 with 0.7500000172914373 Lift and 0.44953673027899127 kW/Ton\n",
      "\n"
     ]
    },
    {
     "name": "stderr",
     "output_type": "stream",
     "text": [
      "/anaconda3/lib/python3.6/site-packages/ipykernel_launcher.py:19: RuntimeWarning: invalid value encountered in double_scalars\n"
     ]
    }
   ],
   "source": [
    "ChMaxTons = ([900,900,900,900])\n",
    "\n",
    "DesignLift = 30\n",
    "TotalTons = 1500\n",
    "\n",
    "ChList = (['B1','B2','B3','B4'])\n",
    "Tons, kW = Optimum_Chillers(TotalTons, DesignLift, ChList, ChMaxTons)\n",
    "\n",
    "ChMaxTons = ([900,900,900])\n",
    "ChList = (['B1','B2','B3'])\n",
    "Tons, kW = Optimum_Chillers(TotalTons, DesignLift, ChList, ChMaxTons)\n",
    "ChList = (['B1','B2','B4'])\n",
    "Tons, kW = Optimum_Chillers(TotalTons, DesignLift, ChList, ChMaxTons)\n",
    "ChList = (['B1','B3','B4'])\n",
    "Tons, kW = Optimum_Chillers(TotalTons, DesignLift, ChList, ChMaxTons)\n",
    "ChList = (['B2','B3','B4'])\n",
    "Tons, kW = Optimum_Chillers(TotalTons, DesignLift, ChList, ChMaxTons)\n",
    "\n",
    "ChMaxTons = ([900,900])\n",
    "ChList = (['B1','B2'])\n",
    "Tons, kW = Optimum_Chillers(TotalTons, DesignLift, ChList, ChMaxTons)\n",
    "ChList = (['B1','B3'])\n",
    "Tons, kW = Optimum_Chillers(TotalTons, DesignLift, ChList, ChMaxTons)\n",
    "ChList = (['B1','B4'])\n",
    "Tons, kW = Optimum_Chillers(TotalTons, DesignLift, ChList, ChMaxTons)\n",
    "ChList = (['B2','B3'])\n",
    "CTons, kW = Optimum_Chillers(TotalTons, DesignLift, ChList, ChMaxTons)\n",
    "ChList = (['B2','B4'])\n",
    "Tons, kW = Optimum_Chillers(TotalTons, DesignLift, ChList, ChMaxTons)\n",
    "ChList = (['B3','B4'])\n"
   ]
  },
  {
   "cell_type": "code",
   "execution_count": null,
   "metadata": {},
   "outputs": [],
   "source": []
  },
  {
   "cell_type": "code",
   "execution_count": null,
   "metadata": {},
   "outputs": [],
   "source": []
  }
 ],
 "metadata": {
  "kernelspec": {
   "display_name": "Python 3",
   "language": "python",
   "name": "python3"
  },
  "language_info": {
   "codemirror_mode": {
    "name": "ipython",
    "version": 3
   },
   "file_extension": ".py",
   "mimetype": "text/x-python",
   "name": "python",
   "nbconvert_exporter": "python",
   "pygments_lexer": "ipython3",
   "version": "3.6.5"
  }
 },
 "nbformat": 4,
 "nbformat_minor": 2
}
