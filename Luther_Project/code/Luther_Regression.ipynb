{
 "cells": [
  {
   "cell_type": "markdown",
   "metadata": {},
   "source": [
    "## Perform Analysis on Athletes\n",
    "\n",
    "This file reads the detailed athlete information and performs Linear Regression analysis on this data.   \n",
    "\n",
    "The following areas are examined in this code\n",
    "\n",
    "* <a href=#Visualize>Visualize Data</a>   \n",
    "\n",
    "* <a href=#LinearRegression>Linear Regression</a>   \n",
    "\n",
    "* <a href=#LASSO>LASSO</a>   \n",
    "\n",
    "* <a href=#MixedEffect>Mixed Effect</a>\n",
    "\n",
    "* <a href=#Algebraic>Algebraic Model</a>\n"
   ]
  },
  {
   "cell_type": "code",
   "execution_count": 142,
   "metadata": {},
   "outputs": [],
   "source": [
    "# Necessary imports\n",
    "import pandas as pd\n",
    "import numpy as np\n",
    "import statsmodels.api as sm\n",
    "import statsmodels.formula.api as smf\n",
    "import patsy\n",
    "from math import sqrt\n",
    "\n",
    "import seaborn as sns\n",
    "import matplotlib.pyplot as plt\n",
    "from scipy.stats import kurtosis, skew\n",
    "\n",
    "from sklearn.linear_model    import LinearRegression\n",
    "from sklearn.model_selection import train_test_split\n",
    "from sklearn.linear_model    import RidgeCV\n",
    "from sklearn.pipeline        import make_pipeline\n",
    "from sklearn.preprocessing   import PolynomialFeatures\n",
    "from sklearn.model_selection import KFold\n",
    "from sklearn.preprocessing   import StandardScaler\n",
    "from sklearn.metrics         import mean_squared_error\n",
    "from sklearn.linear_model    import Lasso\n",
    "from sklearn                 import linear_model\n",
    "\n",
    "%matplotlib inline"
   ]
  },
  {
   "cell_type": "markdown",
   "metadata": {},
   "source": [
    "## Read data "
   ]
  },
  {
   "cell_type": "code",
   "execution_count": 143,
   "metadata": {},
   "outputs": [
    {
     "name": "stdout",
     "output_type": "stream",
     "text": [
      "Girl 1600: (852, 12)\n",
      "Boy  1600: (1204, 12)\n",
      "Girl 400:  (382, 12)\n",
      "Boy  400:  (444, 12)\n"
     ]
    }
   ],
   "source": [
    "boy1600  = pd.read_csv(\"1allDistrict_boy1600.csv\")\n",
    "girl1600 = pd.read_csv(\"1allDistrict_girl1600.csv\")\n",
    "girl400  = pd.read_csv(\"1allDistrict_girl400.csv\")\n",
    "boy400   = pd.read_csv(\"1allDistrict_boy400.csv\")\n",
    "\n",
    "boy1600['sex']  = 'boy'\n",
    "girl1600['sex'] = 'girl'\n",
    "boy400['sex']  = 'boy'\n",
    "girl400['sex'] = 'girl'\n",
    "\n",
    "print(f\"Girl 1600: {girl1600.shape}\")\n",
    "print(f\"Boy  1600: {boy1600.shape}\")\n",
    "print(f\"Girl 400:  {girl400.shape}\")\n",
    "print(f\"Boy  400:  {boy400.shape}\")"
   ]
  },
  {
   "cell_type": "code",
   "execution_count": 170,
   "metadata": {},
   "outputs": [
    {
     "name": "stdout",
     "output_type": "stream",
     "text": [
      "(2056, 12)\n",
      "Index(['Unnamed: 0', 'ID', 'Name', 'School_ID', 'School', 'District', '9_PR',\n",
      "       '10_PR', '11_PR', '12_PR', 'Grad_Yr', 'sex'],\n",
      "      dtype='object')\n"
     ]
    }
   ],
   "source": [
    "athlete_data = pd.concat([boy1600,girl1600])\n",
    "#athlete_data = pd.concat([boy400,girl400])\n",
    "\n",
    "print(athlete_data.shape)\n",
    "print(athlete_data.columns)"
   ]
  },
  {
   "cell_type": "code",
   "execution_count": 171,
   "metadata": {},
   "outputs": [],
   "source": [
    "# rename columns because statsmodels doesn't like the 12_PR format\n",
    "# add a numerical column for sex of the athlete\n",
    "athlete_data['PR12'] = athlete_data['12_PR']\n",
    "athlete_data['PR11'] = athlete_data['11_PR']\n",
    "athlete_data['PR10'] = athlete_data['10_PR']\n",
    "athlete_data['PR9']  = athlete_data['9_PR']\n",
    "\n",
    "athlete_data['Nsex'] = [1 if s == 'boy' else 0 for s in athlete_data['sex']]"
   ]
  },
  {
   "cell_type": "code",
   "execution_count": 172,
   "metadata": {},
   "outputs": [
    {
     "name": "stdout",
     "output_type": "stream",
     "text": [
      "number of unique schools:  200\n"
     ]
    }
   ],
   "source": [
    "print('number of unique schools: ',len(athlete_data['School'].unique()))"
   ]
  },
  {
   "cell_type": "markdown",
   "metadata": {},
   "source": [
    "## Set up X and y"
   ]
  },
  {
   "cell_type": "code",
   "execution_count": 147,
   "metadata": {},
   "outputs": [
    {
     "data": {
      "text/plain": [
       "District 3    230\n",
       "District 1    191\n",
       "District 2    128\n",
       "District 4    116\n",
       "District 5    104\n",
       "District 6     56\n",
       "District 8      1\n",
       "Name: District, dtype: int64"
      ]
     },
     "execution_count": 147,
     "metadata": {},
     "output_type": "execute_result"
    }
   ],
   "source": [
    "# How many unique athletes in each district\n",
    "athlete_data.District.value_counts()"
   ]
  },
  {
   "cell_type": "code",
   "execution_count": 148,
   "metadata": {},
   "outputs": [
    {
     "name": "stdout",
     "output_type": "stream",
     "text": [
      "Series([], Name: District, dtype: object)\n",
      "132    District 8\n",
      "Name: District, dtype: object\n"
     ]
    }
   ],
   "source": [
    "print(athlete_data.District[athlete_data.District == 'District 7'])\n",
    "print(athlete_data.District[athlete_data.District == 'District 8'])"
   ]
  },
  {
   "cell_type": "code",
   "execution_count": 149,
   "metadata": {},
   "outputs": [],
   "source": [
    "# for 1600 data\n",
    "\n",
    "# drop the 3 athletes from District 7 and 8\n",
    "athlete_data.drop(index=104,inplace=True)\n",
    "athlete_data.drop(index=201,inplace=True)\n",
    "athlete_data.drop(index=252,inplace=True)"
   ]
  },
  {
   "cell_type": "code",
   "execution_count": 150,
   "metadata": {},
   "outputs": [
    {
     "name": "stdout",
     "output_type": "stream",
     "text": [
      "Series([], Name: District, dtype: object)\n",
      "132    District 8\n",
      "Name: District, dtype: object\n"
     ]
    }
   ],
   "source": [
    "print(athlete_data.District[athlete_data.District == 'District 7'])\n",
    "print(athlete_data.District[athlete_data.District == 'District 8'])"
   ]
  },
  {
   "cell_type": "code",
   "execution_count": 151,
   "metadata": {},
   "outputs": [],
   "source": [
    "# for 400 data\n",
    "\n",
    "# drop the athlete from District 8\n",
    "athlete_data.drop(index=132,inplace=True)\n"
   ]
  },
  {
   "cell_type": "code",
   "execution_count": 152,
   "metadata": {},
   "outputs": [
    {
     "data": {
      "text/html": [
       "<div>\n",
       "<style scoped>\n",
       "    .dataframe tbody tr th:only-of-type {\n",
       "        vertical-align: middle;\n",
       "    }\n",
       "\n",
       "    .dataframe tbody tr th {\n",
       "        vertical-align: top;\n",
       "    }\n",
       "\n",
       "    .dataframe thead th {\n",
       "        text-align: right;\n",
       "    }\n",
       "</style>\n",
       "<table border=\"1\" class=\"dataframe\">\n",
       "  <thead>\n",
       "    <tr style=\"text-align: right;\">\n",
       "      <th></th>\n",
       "      <th>Unnamed: 0</th>\n",
       "      <th>ID</th>\n",
       "      <th>Name</th>\n",
       "      <th>School_ID</th>\n",
       "      <th>School</th>\n",
       "      <th>District</th>\n",
       "      <th>9_PR</th>\n",
       "      <th>10_PR</th>\n",
       "      <th>11_PR</th>\n",
       "      <th>12_PR</th>\n",
       "      <th>Grad_Yr</th>\n",
       "      <th>sex</th>\n",
       "      <th>PR12</th>\n",
       "      <th>PR11</th>\n",
       "      <th>PR10</th>\n",
       "      <th>PR9</th>\n",
       "      <th>Nsex</th>\n",
       "    </tr>\n",
       "  </thead>\n",
       "  <tbody>\n",
       "    <tr>\n",
       "      <th>0</th>\n",
       "      <td>0</td>\n",
       "      <td>1671873</td>\n",
       "      <td>Josh Fuller</td>\n",
       "      <td>345</td>\n",
       "      <td>King's</td>\n",
       "      <td>District 1</td>\n",
       "      <td>52.03</td>\n",
       "      <td>49.86</td>\n",
       "      <td>49.22</td>\n",
       "      <td>49.19</td>\n",
       "      <td>2009</td>\n",
       "      <td>boy</td>\n",
       "      <td>49.19</td>\n",
       "      <td>49.22</td>\n",
       "      <td>49.86</td>\n",
       "      <td>52.03</td>\n",
       "      <td>1</td>\n",
       "    </tr>\n",
       "    <tr>\n",
       "      <th>1</th>\n",
       "      <td>1</td>\n",
       "      <td>146314</td>\n",
       "      <td>Ben Allen</td>\n",
       "      <td>382</td>\n",
       "      <td>Cashmere</td>\n",
       "      <td>District 6</td>\n",
       "      <td>52.88</td>\n",
       "      <td>50.40</td>\n",
       "      <td>50.20</td>\n",
       "      <td>49.60</td>\n",
       "      <td>2010</td>\n",
       "      <td>boy</td>\n",
       "      <td>49.60</td>\n",
       "      <td>50.20</td>\n",
       "      <td>50.40</td>\n",
       "      <td>52.88</td>\n",
       "      <td>1</td>\n",
       "    </tr>\n",
       "    <tr>\n",
       "      <th>2</th>\n",
       "      <td>2</td>\n",
       "      <td>1817645</td>\n",
       "      <td>Kyle Fremd</td>\n",
       "      <td>301</td>\n",
       "      <td>Bellevue Christian</td>\n",
       "      <td>District 3</td>\n",
       "      <td>58.14</td>\n",
       "      <td>53.49</td>\n",
       "      <td>52.00</td>\n",
       "      <td>50.44</td>\n",
       "      <td>2009</td>\n",
       "      <td>boy</td>\n",
       "      <td>50.44</td>\n",
       "      <td>52.00</td>\n",
       "      <td>53.49</td>\n",
       "      <td>58.14</td>\n",
       "      <td>1</td>\n",
       "    </tr>\n",
       "    <tr>\n",
       "      <th>3</th>\n",
       "      <td>3</td>\n",
       "      <td>184258</td>\n",
       "      <td>Cameron Tunstall</td>\n",
       "      <td>310</td>\n",
       "      <td>Cascade Christian</td>\n",
       "      <td>District 3</td>\n",
       "      <td>59.65</td>\n",
       "      <td>55.07</td>\n",
       "      <td>53.21</td>\n",
       "      <td>54.32</td>\n",
       "      <td>2010</td>\n",
       "      <td>boy</td>\n",
       "      <td>54.32</td>\n",
       "      <td>53.21</td>\n",
       "      <td>55.07</td>\n",
       "      <td>59.65</td>\n",
       "      <td>1</td>\n",
       "    </tr>\n",
       "    <tr>\n",
       "      <th>4</th>\n",
       "      <td>4</td>\n",
       "      <td>530132</td>\n",
       "      <td>Isaac Estrada</td>\n",
       "      <td>332</td>\n",
       "      <td>Zillah</td>\n",
       "      <td>District 5</td>\n",
       "      <td>54.94</td>\n",
       "      <td>53.74</td>\n",
       "      <td>53.74</td>\n",
       "      <td>54.74</td>\n",
       "      <td>2012</td>\n",
       "      <td>boy</td>\n",
       "      <td>54.74</td>\n",
       "      <td>53.74</td>\n",
       "      <td>53.74</td>\n",
       "      <td>54.94</td>\n",
       "      <td>1</td>\n",
       "    </tr>\n",
       "  </tbody>\n",
       "</table>\n",
       "</div>"
      ],
      "text/plain": [
       "   Unnamed: 0       ID              Name  School_ID              School  \\\n",
       "0           0  1671873       Josh Fuller        345              King's   \n",
       "1           1   146314         Ben Allen        382            Cashmere   \n",
       "2           2  1817645        Kyle Fremd        301  Bellevue Christian   \n",
       "3           3   184258  Cameron Tunstall        310   Cascade Christian   \n",
       "4           4   530132     Isaac Estrada        332              Zillah   \n",
       "\n",
       "     District   9_PR  10_PR  11_PR  12_PR  Grad_Yr  sex   PR12   PR11   PR10  \\\n",
       "0  District 1  52.03  49.86  49.22  49.19     2009  boy  49.19  49.22  49.86   \n",
       "1  District 6  52.88  50.40  50.20  49.60     2010  boy  49.60  50.20  50.40   \n",
       "2  District 3  58.14  53.49  52.00  50.44     2009  boy  50.44  52.00  53.49   \n",
       "3  District 3  59.65  55.07  53.21  54.32     2010  boy  54.32  53.21  55.07   \n",
       "4  District 5  54.94  53.74  53.74  54.74     2012  boy  54.74  53.74  53.74   \n",
       "\n",
       "     PR9  Nsex  \n",
       "0  52.03     1  \n",
       "1  52.88     1  \n",
       "2  58.14     1  \n",
       "3  59.65     1  \n",
       "4  54.94     1  "
      ]
     },
     "execution_count": 152,
     "metadata": {},
     "output_type": "execute_result"
    }
   ],
   "source": [
    "athlete_data.head()"
   ]
  },
  {
   "cell_type": "markdown",
   "metadata": {},
   "source": [
    "Variable  |Description                    |Value\n",
    "----------|------------------------------:|:----\n",
    "District 1|Athlete school in this district| 0 or 1\n",
    "District 2|Athlete school in this district| 0 or 1\n",
    "District 3|Athlete school in this district| 0 or 1\n",
    "District 4|Athlete school in this district| 0 or 1\n",
    "District 5|Athlete school in this district| 0 or 1\n",
    "District 6|Athlete school in this district| 0 or 1\n",
    "Sex       |Athlete girl or boy            | 1=boy, 0=girl\n",
    "Grad Year |Graduation Year                | int\n",
    "9th Grade PR|Best time in 9th Grade       | float\n",
    "10th Grade PR|Best time in 10th Grade     | float\n",
    "11th Grade PR|Best time in 11th Grade     | float|  "
   ]
  },
  {
   "cell_type": "code",
   "execution_count": 153,
   "metadata": {},
   "outputs": [],
   "source": [
    "#given the athlete_data read from files, generate the X & y dataframes\n",
    "def get_Xy(athlete_data,Dist=100):\n",
    "    X = pd.DataFrame()\n",
    "\n",
    "    if Dist == 100:\n",
    "        # create one-hot columns for District\n",
    "        X = pd.get_dummies(athlete_data[['District']])\n",
    "\n",
    "        X = pd.concat([X, athlete_data[['PR9','PR10','PR11','Nsex','Grad_Yr']]], axis=1, sort=False)\n",
    "        y = athlete_data['PR12']\n",
    "\n",
    "    else:\n",
    "        filtered_data = athlete_data[athlete_data['District'] == 'District '+str(Dist)]\n",
    "        X = filtered_data[['PR9','PR10','PR11','Nsex','Grad_Yr']]\n",
    "        y = filtered_data['PR12']\n",
    "        #y = pd.DataFrame(y.values.reshape((len(y),1)))\n",
    "    \n",
    "    return(X,y)\n",
    "\n",
    "X,y = get_Xy(athlete_data,100)"
   ]
  },
  {
   "cell_type": "code",
   "execution_count": 154,
   "metadata": {},
   "outputs": [
    {
     "data": {
      "text/plain": [
       "(818, 11)"
      ]
     },
     "execution_count": 154,
     "metadata": {},
     "output_type": "execute_result"
    }
   ],
   "source": [
    "X.shape"
   ]
  },
  {
   "cell_type": "code",
   "execution_count": 155,
   "metadata": {},
   "outputs": [
    {
     "data": {
      "text/plain": [
       "(818,)"
      ]
     },
     "execution_count": 155,
     "metadata": {},
     "output_type": "execute_result"
    }
   ],
   "source": [
    "y.shape"
   ]
  },
  {
   "cell_type": "code",
   "execution_count": 156,
   "metadata": {},
   "outputs": [
    {
     "data": {
      "text/plain": [
       "pandas.core.series.Series"
      ]
     },
     "execution_count": 156,
     "metadata": {},
     "output_type": "execute_result"
    }
   ],
   "source": [
    "type(y)"
   ]
  },
  {
   "cell_type": "markdown",
   "metadata": {},
   "source": [
    "## Visualize Data <a name='Visualize' />"
   ]
  },
  {
   "cell_type": "code",
   "execution_count": 157,
   "metadata": {},
   "outputs": [
    {
     "data": {
      "text/html": [
       "<div>\n",
       "<style scoped>\n",
       "    .dataframe tbody tr th:only-of-type {\n",
       "        vertical-align: middle;\n",
       "    }\n",
       "\n",
       "    .dataframe tbody tr th {\n",
       "        vertical-align: top;\n",
       "    }\n",
       "\n",
       "    .dataframe thead th {\n",
       "        text-align: right;\n",
       "    }\n",
       "</style>\n",
       "<table border=\"1\" class=\"dataframe\">\n",
       "  <thead>\n",
       "    <tr style=\"text-align: right;\">\n",
       "      <th></th>\n",
       "      <th>District_District 1</th>\n",
       "      <th>District_District 2</th>\n",
       "      <th>District_District 3</th>\n",
       "      <th>District_District 4</th>\n",
       "      <th>District_District 5</th>\n",
       "      <th>District_District 6</th>\n",
       "      <th>PR9</th>\n",
       "      <th>PR10</th>\n",
       "      <th>PR11</th>\n",
       "      <th>Nsex</th>\n",
       "      <th>Grad_Yr</th>\n",
       "    </tr>\n",
       "  </thead>\n",
       "  <tbody>\n",
       "    <tr>\n",
       "      <th>District_District 1</th>\n",
       "      <td>1.000000</td>\n",
       "      <td>-0.236095</td>\n",
       "      <td>-0.339723</td>\n",
       "      <td>-0.221706</td>\n",
       "      <td>-0.208052</td>\n",
       "      <td>-0.148601</td>\n",
       "      <td>-0.022541</td>\n",
       "      <td>-0.014735</td>\n",
       "      <td>-0.026302</td>\n",
       "      <td>0.019415</td>\n",
       "      <td>-0.030897</td>\n",
       "    </tr>\n",
       "    <tr>\n",
       "      <th>District_District 2</th>\n",
       "      <td>-0.236095</td>\n",
       "      <td>1.000000</td>\n",
       "      <td>-0.266931</td>\n",
       "      <td>-0.174201</td>\n",
       "      <td>-0.163473</td>\n",
       "      <td>-0.116761</td>\n",
       "      <td>-0.008534</td>\n",
       "      <td>-0.043008</td>\n",
       "      <td>-0.031126</td>\n",
       "      <td>0.007756</td>\n",
       "      <td>0.051186</td>\n",
       "    </tr>\n",
       "    <tr>\n",
       "      <th>District_District 3</th>\n",
       "      <td>-0.339723</td>\n",
       "      <td>-0.266931</td>\n",
       "      <td>1.000000</td>\n",
       "      <td>-0.250663</td>\n",
       "      <td>-0.235226</td>\n",
       "      <td>-0.168010</td>\n",
       "      <td>0.036837</td>\n",
       "      <td>-0.003232</td>\n",
       "      <td>0.025307</td>\n",
       "      <td>-0.016991</td>\n",
       "      <td>0.019866</td>\n",
       "    </tr>\n",
       "    <tr>\n",
       "      <th>District_District 4</th>\n",
       "      <td>-0.221706</td>\n",
       "      <td>-0.174201</td>\n",
       "      <td>-0.250663</td>\n",
       "      <td>1.000000</td>\n",
       "      <td>-0.153510</td>\n",
       "      <td>-0.109645</td>\n",
       "      <td>-0.011428</td>\n",
       "      <td>0.026443</td>\n",
       "      <td>0.004446</td>\n",
       "      <td>-0.013108</td>\n",
       "      <td>-0.004197</td>\n",
       "    </tr>\n",
       "    <tr>\n",
       "      <th>District_District 5</th>\n",
       "      <td>-0.208052</td>\n",
       "      <td>-0.163473</td>\n",
       "      <td>-0.235226</td>\n",
       "      <td>-0.153510</td>\n",
       "      <td>1.000000</td>\n",
       "      <td>-0.102892</td>\n",
       "      <td>0.013436</td>\n",
       "      <td>0.025052</td>\n",
       "      <td>0.023472</td>\n",
       "      <td>0.011800</td>\n",
       "      <td>-0.011728</td>\n",
       "    </tr>\n",
       "    <tr>\n",
       "      <th>District_District 6</th>\n",
       "      <td>-0.148601</td>\n",
       "      <td>-0.116761</td>\n",
       "      <td>-0.168010</td>\n",
       "      <td>-0.109645</td>\n",
       "      <td>-0.102892</td>\n",
       "      <td>1.000000</td>\n",
       "      <td>-0.017338</td>\n",
       "      <td>0.022890</td>\n",
       "      <td>0.006854</td>\n",
       "      <td>-0.010897</td>\n",
       "      <td>-0.036109</td>\n",
       "    </tr>\n",
       "    <tr>\n",
       "      <th>PR9</th>\n",
       "      <td>-0.022541</td>\n",
       "      <td>-0.008534</td>\n",
       "      <td>0.036837</td>\n",
       "      <td>-0.011428</td>\n",
       "      <td>0.013436</td>\n",
       "      <td>-0.017338</td>\n",
       "      <td>1.000000</td>\n",
       "      <td>0.865282</td>\n",
       "      <td>0.837591</td>\n",
       "      <td>-0.627950</td>\n",
       "      <td>0.090505</td>\n",
       "    </tr>\n",
       "    <tr>\n",
       "      <th>PR10</th>\n",
       "      <td>-0.014735</td>\n",
       "      <td>-0.043008</td>\n",
       "      <td>-0.003232</td>\n",
       "      <td>0.026443</td>\n",
       "      <td>0.025052</td>\n",
       "      <td>0.022890</td>\n",
       "      <td>0.865282</td>\n",
       "      <td>1.000000</td>\n",
       "      <td>0.919099</td>\n",
       "      <td>-0.730165</td>\n",
       "      <td>0.085912</td>\n",
       "    </tr>\n",
       "    <tr>\n",
       "      <th>PR11</th>\n",
       "      <td>-0.026302</td>\n",
       "      <td>-0.031126</td>\n",
       "      <td>0.025307</td>\n",
       "      <td>0.004446</td>\n",
       "      <td>0.023472</td>\n",
       "      <td>0.006854</td>\n",
       "      <td>0.837591</td>\n",
       "      <td>0.919099</td>\n",
       "      <td>1.000000</td>\n",
       "      <td>-0.757540</td>\n",
       "      <td>0.047910</td>\n",
       "    </tr>\n",
       "    <tr>\n",
       "      <th>Nsex</th>\n",
       "      <td>0.019415</td>\n",
       "      <td>0.007756</td>\n",
       "      <td>-0.016991</td>\n",
       "      <td>-0.013108</td>\n",
       "      <td>0.011800</td>\n",
       "      <td>-0.010897</td>\n",
       "      <td>-0.627950</td>\n",
       "      <td>-0.730165</td>\n",
       "      <td>-0.757540</td>\n",
       "      <td>1.000000</td>\n",
       "      <td>-0.002285</td>\n",
       "    </tr>\n",
       "    <tr>\n",
       "      <th>Grad_Yr</th>\n",
       "      <td>-0.030897</td>\n",
       "      <td>0.051186</td>\n",
       "      <td>0.019866</td>\n",
       "      <td>-0.004197</td>\n",
       "      <td>-0.011728</td>\n",
       "      <td>-0.036109</td>\n",
       "      <td>0.090505</td>\n",
       "      <td>0.085912</td>\n",
       "      <td>0.047910</td>\n",
       "      <td>-0.002285</td>\n",
       "      <td>1.000000</td>\n",
       "    </tr>\n",
       "  </tbody>\n",
       "</table>\n",
       "</div>"
      ],
      "text/plain": [
       "                     District_District 1  District_District 2  \\\n",
       "District_District 1             1.000000            -0.236095   \n",
       "District_District 2            -0.236095             1.000000   \n",
       "District_District 3            -0.339723            -0.266931   \n",
       "District_District 4            -0.221706            -0.174201   \n",
       "District_District 5            -0.208052            -0.163473   \n",
       "District_District 6            -0.148601            -0.116761   \n",
       "PR9                            -0.022541            -0.008534   \n",
       "PR10                           -0.014735            -0.043008   \n",
       "PR11                           -0.026302            -0.031126   \n",
       "Nsex                            0.019415             0.007756   \n",
       "Grad_Yr                        -0.030897             0.051186   \n",
       "\n",
       "                     District_District 3  District_District 4  \\\n",
       "District_District 1            -0.339723            -0.221706   \n",
       "District_District 2            -0.266931            -0.174201   \n",
       "District_District 3             1.000000            -0.250663   \n",
       "District_District 4            -0.250663             1.000000   \n",
       "District_District 5            -0.235226            -0.153510   \n",
       "District_District 6            -0.168010            -0.109645   \n",
       "PR9                             0.036837            -0.011428   \n",
       "PR10                           -0.003232             0.026443   \n",
       "PR11                            0.025307             0.004446   \n",
       "Nsex                           -0.016991            -0.013108   \n",
       "Grad_Yr                         0.019866            -0.004197   \n",
       "\n",
       "                     District_District 5  District_District 6       PR9  \\\n",
       "District_District 1            -0.208052            -0.148601 -0.022541   \n",
       "District_District 2            -0.163473            -0.116761 -0.008534   \n",
       "District_District 3            -0.235226            -0.168010  0.036837   \n",
       "District_District 4            -0.153510            -0.109645 -0.011428   \n",
       "District_District 5             1.000000            -0.102892  0.013436   \n",
       "District_District 6            -0.102892             1.000000 -0.017338   \n",
       "PR9                             0.013436            -0.017338  1.000000   \n",
       "PR10                            0.025052             0.022890  0.865282   \n",
       "PR11                            0.023472             0.006854  0.837591   \n",
       "Nsex                            0.011800            -0.010897 -0.627950   \n",
       "Grad_Yr                        -0.011728            -0.036109  0.090505   \n",
       "\n",
       "                         PR10      PR11      Nsex   Grad_Yr  \n",
       "District_District 1 -0.014735 -0.026302  0.019415 -0.030897  \n",
       "District_District 2 -0.043008 -0.031126  0.007756  0.051186  \n",
       "District_District 3 -0.003232  0.025307 -0.016991  0.019866  \n",
       "District_District 4  0.026443  0.004446 -0.013108 -0.004197  \n",
       "District_District 5  0.025052  0.023472  0.011800 -0.011728  \n",
       "District_District 6  0.022890  0.006854 -0.010897 -0.036109  \n",
       "PR9                  0.865282  0.837591 -0.627950  0.090505  \n",
       "PR10                 1.000000  0.919099 -0.730165  0.085912  \n",
       "PR11                 0.919099  1.000000 -0.757540  0.047910  \n",
       "Nsex                -0.730165 -0.757540  1.000000 -0.002285  \n",
       "Grad_Yr              0.085912  0.047910 -0.002285  1.000000  "
      ]
     },
     "execution_count": 157,
     "metadata": {},
     "output_type": "execute_result"
    }
   ],
   "source": [
    "X.corr()"
   ]
  },
  {
   "cell_type": "code",
   "execution_count": 158,
   "metadata": {},
   "outputs": [
    {
     "name": "stdout",
     "output_type": "stream",
     "text": [
      "<class 'pandas.core.frame.DataFrame'>\n",
      "Int64Index: 818 entries, 0 to 381\n",
      "Data columns (total 11 columns):\n",
      "District_District 1    818 non-null uint8\n",
      "District_District 2    818 non-null uint8\n",
      "District_District 3    818 non-null uint8\n",
      "District_District 4    818 non-null uint8\n",
      "District_District 5    818 non-null uint8\n",
      "District_District 6    818 non-null uint8\n",
      "PR9                    818 non-null float64\n",
      "PR10                   818 non-null float64\n",
      "PR11                   818 non-null float64\n",
      "Nsex                   818 non-null int64\n",
      "Grad_Yr                818 non-null int64\n",
      "dtypes: float64(3), int64(2), uint8(6)\n",
      "memory usage: 43.1 KB\n"
     ]
    }
   ],
   "source": [
    "X.info()"
   ]
  },
  {
   "cell_type": "code",
   "execution_count": 159,
   "metadata": {},
   "outputs": [
    {
     "data": {
      "image/png": "[encoded data removed]",
      "text/plain": [
       "<Figure size 432x288 with 1 Axes>"
      ]
     },
     "metadata": {},
     "output_type": "display_data"
    }
   ],
   "source": [
    "sns.distplot(athlete_data['PR12'])\n",
    "plt.show()"
   ]
  },
  {
   "cell_type": "code",
   "execution_count": 165,
   "metadata": {},
   "outputs": [
    {
     "data": {
      "image/png": "[encoded data removed]",
      "text/plain": [
       "<Figure size 432x288 with 1 Axes>"
      ]
     },
     "metadata": {},
     "output_type": "display_data"
    }
   ],
   "source": [
    "sns.distplot(athlete_data['PR12'],label = '12th Grade',norm_hist=False)\n",
    "sns.distplot(athlete_data['PR11'],label = '11th Grade',norm_hist=False)\n",
    "sns.distplot(athlete_data['PR10'],label = '10th Grade',norm_hist=False)\n",
    "sns.distplot(athlete_data['PR9'],label = '9th Grade',norm_hist=False)\n",
    "plt.legend()\n",
    "plt.show();"
   ]
  },
  {
   "cell_type": "code",
   "execution_count": null,
   "metadata": {},
   "outputs": [],
   "source": [
    "# plot 9th grade PR vs 12th grade PR for boys by district\n",
    "grid=sns.lmplot(x = \"PR9\",y = \"PR12\",col=\"District\",\n",
    "                col_wrap=3, \n",
    "                data=athlete_data[athlete_data['Nsex'] == 1])\n",
    "plt.ylim(top=450)     # adjust the top leaving bottom unchanged\n",
    "plt.ylim(bottom=240)  # adjust the top leaving bottom unchanged"
   ]
  },
  {
   "cell_type": "code",
   "execution_count": null,
   "metadata": {},
   "outputs": [],
   "source": [
    "sns.catplot(x=\"District\",y=\"PR12\", \n",
    "            data=athlete_data[(athlete_data['Nsex'] == 1)]);\n",
    "#plt.figure(figsize=(10,2))\n",
    "plt.ylabel('12th grade PR (Seconds)')\n",
    "plt.xlabel('District')\n",
    "plt.xticks(range(0,6),('1','2','3','4','5','6'));\n",
    "plt.title('Variation in 12th grade times by district');\n",
    "#plt.figure(figsize=(6,3))\n",
    "\n",
    "#plt.savefig('12_PR_by_District.png')\n"
   ]
  },
  {
   "cell_type": "code",
   "execution_count": null,
   "metadata": {},
   "outputs": [],
   "source": [
    "#boxplot = athlete_data.boxplot(column=[athlete_data[athlete_data[District == 'District 1'['PR12'],\n",
    "#                                       athlete_data[athlete_data[District == 'District 2'['PR12']])\n",
    "data = ([athlete_data[athlete_data.District == 'District 1']['PR12'],\n",
    "         athlete_data[athlete_data.District == 'District 2']['PR12'],\n",
    "         athlete_data[athlete_data.District == 'District 3']['PR12'],\n",
    "         athlete_data[athlete_data.District == 'District 4']['PR12'],\n",
    "         athlete_data[athlete_data.District == 'District 5']['PR12'],\n",
    "         athlete_data[athlete_data.District == 'District 6']['PR12']])\n",
    "\n",
    "fig_box, fig = plt.subplots()\n",
    "fig.set_title('12th grade PR for each district')\n",
    "fig.boxplot(data)\n",
    "plt.xlabel('District')\n",
    "plt.ylabel('time (seconds)')\n",
    "plt.show()\n"
   ]
  },
  {
   "cell_type": "code",
   "execution_count": 173,
   "metadata": {},
   "outputs": [
    {
     "data": {
      "text/plain": [
       "Kamiakin               37\n",
       "Gig Harbor             36\n",
       "Tahoma                 34\n",
       "Cedarcrest             34\n",
       "Skyline                32\n",
       "Bishop Blanchet        30\n",
       "Bellarmine Prep        29\n",
       "Sehome                 29\n",
       "Eastmont               28\n",
       "Camas                  27\n",
       "Shorewood              27\n",
       "Nathan Hale            26\n",
       "Issaquah               25\n",
       "Seattle Prep           24\n",
       "Richland               24\n",
       "Peninsula              24\n",
       "Eisenhower             24\n",
       "Mountlake Terrace      24\n",
       "Kentridge              24\n",
       "Arlington              22\n",
       "Central Kitsap         22\n",
       "Ballard                22\n",
       "Lindbergh              20\n",
       "Selah                  20\n",
       "Lakewood               20\n",
       "Stanwood               20\n",
       "Auburn Riverside       20\n",
       "Capital                19\n",
       "Edmonds-Woodway        19\n",
       "Glacier Peak           19\n",
       "                       ..\n",
       "Olympic                 2\n",
       "Bush                    2\n",
       "Chiawana                2\n",
       "Omak                    2\n",
       "Hudson's Bay            2\n",
       "Bothell                 2\n",
       "Coupeville              2\n",
       "Chief Sealth            2\n",
       "Bear Creek              2\n",
       "Chimacum                2\n",
       "Tonasket                2\n",
       "Spanaway Lake           2\n",
       "Marysville-Pilchuck     2\n",
       "River View              1\n",
       "Highline                1\n",
       "Foster                  1\n",
       "River Ridge             1\n",
       "Friday Harbor           1\n",
       "Pullman                 1\n",
       "Kiona-Benton            1\n",
       "Bremerton               1\n",
       "Cascade Christian       1\n",
       "Highland                1\n",
       "Wahluke                 1\n",
       "Okanogan                1\n",
       "Hoquiam                 1\n",
       "Shahala                 1\n",
       "West Seattle            1\n",
       "Castle Rock             1\n",
       "Columbia (Burbank)      1\n",
       "Name: School, Length: 200, dtype: int64"
      ]
     },
     "execution_count": 173,
     "metadata": {},
     "output_type": "execute_result"
    }
   ],
   "source": [
    "# How many unique athletes in each district\n",
    "athlete_data.School.value_counts()"
   ]
  },
  {
   "cell_type": "markdown",
   "metadata": {},
   "source": [
    "## Linear Regression Model <a name='LinearRegression' />"
   ]
  },
  {
   "cell_type": "code",
   "execution_count": 74,
   "metadata": {},
   "outputs": [],
   "source": [
    "#divide in to train and test sets\n",
    "X_train,X_test, y_train, y_test = train_test_split(X, y, test_size=0.4,random_state=42,stratify=X['Nsex'])"
   ]
  },
  {
   "cell_type": "code",
   "execution_count": 75,
   "metadata": {},
   "outputs": [
    {
     "data": {
      "text/plain": [
       "(490, 11)"
      ]
     },
     "execution_count": 75,
     "metadata": {},
     "output_type": "execute_result"
    }
   ],
   "source": [
    "X_train.shape"
   ]
  },
  {
   "cell_type": "code",
   "execution_count": 76,
   "metadata": {},
   "outputs": [
    {
     "data": {
      "text/plain": [
       "(328, 11)"
      ]
     },
     "execution_count": 76,
     "metadata": {},
     "output_type": "execute_result"
    }
   ],
   "source": [
    "X_test.shape"
   ]
  },
  {
   "cell_type": "code",
   "execution_count": 77,
   "metadata": {},
   "outputs": [
    {
     "data": {
      "text/plain": [
       "0.88662421814357228"
      ]
     },
     "execution_count": 77,
     "metadata": {},
     "output_type": "execute_result"
    }
   ],
   "source": [
    "# Create an empty model\n",
    "lr = LinearRegression()\n",
    "\n",
    "# Fit the model to the full dataset\n",
    "lr.fit(X_train, y_train)\n",
    "\n",
    "# Print out the R^2 for the model against the full dataset\n",
    "lr.score(X_train,y_train)"
   ]
  },
  {
   "cell_type": "code",
   "execution_count": 78,
   "metadata": {},
   "outputs": [],
   "source": [
    "y_pred = lr.predict(X_test)"
   ]
  },
  {
   "cell_type": "code",
   "execution_count": 79,
   "metadata": {},
   "outputs": [
    {
     "data": {
      "text/plain": [
       "Index(['District_District 1', 'District_District 2', 'District_District 3',\n",
       "       'District_District 4', 'District_District 5', 'District_District 6',\n",
       "       'PR9', 'PR10', 'PR11', 'Nsex', 'Grad_Yr'],\n",
       "      dtype='object')"
      ]
     },
     "execution_count": 79,
     "metadata": {},
     "output_type": "execute_result"
    }
   ],
   "source": [
    "X.columns"
   ]
  },
  {
   "cell_type": "code",
   "execution_count": 80,
   "metadata": {},
   "outputs": [
    {
     "name": "stdout",
     "output_type": "stream",
     "text": [
      "2.184959265895307\n"
     ]
    }
   ],
   "source": [
    "RMSE = sqrt(((y_test-y_pred)**2).values.mean())\n",
    "print(RMSE)"
   ]
  },
  {
   "cell_type": "code",
   "execution_count": 81,
   "metadata": {},
   "outputs": [
    {
     "data": {
      "text/plain": [
       "[<matplotlib.lines.Line2D at 0x101fc27b8>]"
      ]
     },
     "execution_count": 81,
     "metadata": {},
     "output_type": "execute_result"
    },
    {
     "data": {
      "image/png": "[encoded data removed]",
      "text/plain": [
       "<Figure size 432x288 with 1 Axes>"
      ]
     },
     "metadata": {},
     "output_type": "display_data"
    }
   ],
   "source": [
    "plt.scatter(y_pred,y_test,alpha=0.5);\n",
    "plt.ylabel('y_test (seconds)');\n",
    "plt.xlabel('y_predicted (seconds)');\n",
    "\n",
    "plt.plot([max(y_pred),min(y_pred)],[max(y_pred),min(y_pred)],color='r')\n",
    "#plt.plot([240,470],[240,470],color='r')\n",
    "\n",
    "#plt.savefig('test_vs_pred.png');\n"
   ]
  },
  {
   "cell_type": "code",
   "execution_count": 82,
   "metadata": {},
   "outputs": [
    {
     "name": "stdout",
     "output_type": "stream",
     "text": [
      "Using all data (9th, 10th & 11th grades) to predict 12th grade PR\n",
      "Train R^2:  0.886624218144\n",
      "Train RMSE: 2.1325168595035446\n",
      "Test R^2:  0.887035095513\n",
      "Test RMSE: 2.184959265895307\n",
      "Skew: 0.4197209786371803\n",
      "mean :  0.2917535894639483\n",
      "var  :  4.688926836656663\n",
      "skew :  0.4197209786371803\n",
      "kurt :  2.8092720371786344\n"
     ]
    }
   ],
   "source": [
    "print('Using all data (9th, 10th & 11th grades) to predict 12th grade PR')\n",
    "print('Train R^2: ',lr.score(X_train, y_train))\n",
    "print('Train RMSE:', \n",
    "      sqrt(mean_squared_error(y_train, lr.predict(X_train))))\n",
    "print('Test R^2: ', lr.score(X_test, y_test))\n",
    "print('Test RMSE:', \n",
    "        sqrt(mean_squared_error(y_test, lr.predict(X_test))))\n",
    "\n",
    "data = y_test-lr.predict(X_test)\n",
    "print('Skew:',skew(data))\n",
    "print(\"mean : \", np.mean(data))\n",
    "print(\"var  : \", np.var(data))\n",
    "print(\"skew : \",skew(data))\n",
    "print(\"kurt : \",kurtosis(data))"
   ]
  },
  {
   "cell_type": "code",
   "execution_count": 23,
   "metadata": {},
   "outputs": [
    {
     "data": {
      "text/plain": [
       "LinearRegression(copy_X=True, fit_intercept=True, n_jobs=None,\n",
       "         normalize=False)"
      ]
     },
     "execution_count": 23,
     "metadata": {},
     "output_type": "execute_result"
    }
   ],
   "source": [
    "#remove 9th grade PR data - how good does it do now\n",
    "X1_train = X_train.drop(['PR9'],axis=1)\n",
    "X1_test = X_test.drop(['PR9'],axis=1)\n",
    "\n",
    "lr.fit(X1_train,y_train)"
   ]
  },
  {
   "cell_type": "code",
   "execution_count": null,
   "metadata": {},
   "outputs": [],
   "source": [
    "print('Using only 10th & 11th to predict 12th grade PR')\n",
    "print('Train R^2: ',lr.score(X1_train, y_train))\n",
    "print('Train RMSE:', \n",
    "      sqrt(mean_squared_error(y_train, lr.predict(X1_train))))\n",
    "print('Test R^2: ', lr.score(X1_test, y_test))\n",
    "print('Test RMSE:', \n",
    "      sqrt(mean_squared_error(y_test, lr.predict(X1_test))))"
   ]
  },
  {
   "cell_type": "code",
   "execution_count": null,
   "metadata": {},
   "outputs": [],
   "source": [
    "#remove 9th grade PR data - how good does it do now\n",
    "# only select boys\n",
    "athlete_data_boy = athlete_data[athlete_data.sex == 'boy'].copy()\n",
    "\n",
    "X1,y1 = get_Xy(athlete_data_boy,100)\n",
    "X1_train, X1_test, y1_train, y1_test = train_test_split(X1, y1, test_size=0.4,random_state=42)\n",
    "\n",
    "X1_train.drop(['PR9'],axis=1)\n",
    "              \n",
    "lr = LinearRegression()\n",
    "\n",
    "lr.fit(X1_train,y1_train)\n",
    "\n",
    "print('Using only 10th & 11th to predict 12th grade PR for boys')\n",
    "print('Train R^2: ',lr.score(X1_train, y1_train))\n",
    "print('Train RSSE:', \n",
    "      sqrt(mean_squared_error(y1_train, lr.predict(X1_train))))\n",
    "print('Test R^2: ', lr.score(X1_test, y1_test))\n",
    "print('Test RSSE:', \n",
    "      sqrt(mean_squared_error(y1_test, lr.predict(X1_test))))"
   ]
  },
  {
   "cell_type": "code",
   "execution_count": null,
   "metadata": {},
   "outputs": [],
   "source": [
    "#remove 10th and 11th grade PR data - how good does it do now\n",
    "X2_train = X_train.drop(['PR10','PR11'],axis=1)\n",
    "X2_test = X_test.drop(['PR10','PR11'],axis=1)\n",
    "\n",
    "lr.fit(X2_train,y_train)"
   ]
  },
  {
   "cell_type": "code",
   "execution_count": null,
   "metadata": {},
   "outputs": [],
   "source": [
    "print('Using only 9th grade to predict 12th grade PR')\n",
    "print('Train R^2: ',lr.score(X2_train, y_train))\n",
    "print('Train SSE:', \n",
    "      mean_squared_error(y_train, lr.predict(X2_train)))\n",
    "print('Test R^2: ', lr.score(X2_test, y_test))\n",
    "print('Test SSE:', \n",
    "      mean_squared_error(y_test, lr.predict(X2_test)))"
   ]
  },
  {
   "cell_type": "code",
   "execution_count": 83,
   "metadata": {},
   "outputs": [
    {
     "name": "stdout",
     "output_type": "stream",
     "text": [
      "Using squared terms as well to predict 12th grade PR\n",
      "Train R^2:  0.888899562443\n",
      "Train RMSE: 2.111009610740551\n",
      "Test R^2:  0.87923358439\n",
      "Test RMSE: 2.25914789729799\n"
     ]
    }
   ],
   "source": [
    "# add a PR11**2 and PR10**2 term to linear regression\n",
    "X3_train = X_train.copy()\n",
    "X3_train['PR11squared'] = X_train['PR11']**2\n",
    "X3_train['PR10squared'] = X_train['PR10']**2\n",
    "\n",
    "X3_test = X_test.copy()\n",
    "X3_test['PR11squared'] = X_test['PR11']**2\n",
    "X3_test['PR10squared'] = X_test['PR10']**2\n",
    "\n",
    "# Create an empty model\n",
    "lr = LinearRegression()\n",
    "\n",
    "lr.fit(X3_train,y_train)\n",
    "\n",
    "print('Using squared terms as well to predict 12th grade PR')\n",
    "print('Train R^2: ',lr.score(X3_train, y_train))\n",
    "print('Train RMSE:', \n",
    "      sqrt(mean_squared_error(y_train, lr.predict(X3_train))))\n",
    "print('Test R^2: ', lr.score(X3_test, y_test))\n",
    "print('Test RMSE:', \n",
    "      sqrt(mean_squared_error(y_test, lr.predict(X3_test))))"
   ]
  },
  {
   "cell_type": "code",
   "execution_count": 84,
   "metadata": {},
   "outputs": [
    {
     "name": "stdout",
     "output_type": "stream",
     "text": [
      "Using squared terms as well to predict 12th grade PR\n",
      "Train R^2:  0.888899562443\n",
      "Train RMSE: 2.111009610740551\n",
      "Test R^2:  0.87923358439\n",
      "Test RMSE: 2.25914789729799\n",
      "Skew: 0.18530056439221018\n",
      "mean :  0.262417684100071\n",
      "var  :  5.034886180937483\n",
      "skew :  0.18530056439221018\n",
      "kurt :  3.2546353632602205\n"
     ]
    }
   ],
   "source": [
    "# add a PR11**2 and PR10**2 term to linear regression\n",
    "X4_train = X_train.copy()\n",
    "X4_train['PR11squared'] = X_train['PR11']**2\n",
    "X4_train['PR10squared'] = X_train['PR10']**2\n",
    "#X4_train['PR11_o_PR10'] = X_train['PR11']/X_train['PR10']\n",
    "#X4_train['PR10_o_PR9'] = X_train['PR10']/X_train['PR9']\n",
    "\n",
    "\n",
    "X4_test = X_test.copy()\n",
    "X4_test['PR11squared'] = X_test['PR11']**2\n",
    "X4_test['PR10squared'] = X_test['PR10']**2\n",
    "#X4_test['PR11_o_PR10'] = X_test['PR11']/X_test['PR10']\n",
    "#X4_test['PR10_o_PR9'] = X_test['PR11']/X_test['PR9']\n",
    "\n",
    "# Create an empty model\n",
    "lr = LinearRegression()\n",
    "\n",
    "lr.fit(X4_train,y_train)\n",
    "\n",
    "print('Using squared terms as well to predict 12th grade PR')\n",
    "print('Train R^2: ',lr.score(X4_train, y_train))\n",
    "print('Train RMSE:', \n",
    "      sqrt(mean_squared_error(y_train, lr.predict(X4_train))))\n",
    "print('Test R^2: ', lr.score(X4_test, y_test))\n",
    "print('Test RMSE:', \n",
    "      sqrt(mean_squared_error(y_test, lr.predict(X4_test))))\n",
    "\n",
    "data = y_test-lr.predict(X4_test)\n",
    "print('Skew:',skew(data))\n",
    "print(\"mean : \", np.mean(data))\n",
    "print(\"var  : \", np.var(data))\n",
    "print(\"skew : \",skew(data))\n",
    "print(\"kurt : \",kurtosis(data))"
   ]
  },
  {
   "cell_type": "code",
   "execution_count": 174,
   "metadata": {},
   "outputs": [
    {
     "data": {
      "image/png": "[encoded data removed]",
      "text/plain": [
       "<Figure size 576x396 with 2 Axes>"
      ]
     },
     "metadata": {},
     "output_type": "display_data"
    }
   ],
   "source": [
    "import yellowbrick\n",
    "from sklearn.linear_model import Ridge\n",
    "from yellowbrick.regressor import ResidualsPlot\n",
    "\n",
    "# Instantiate the linear model and visualizer\n",
    "visualizer = ResidualsPlot(model = lr)\n",
    "\n",
    "visualizer.fit(X3_train, y_train)  # Fit the training data to the model\n",
    "visualizer.poof()"
   ]
  },
  {
   "cell_type": "markdown",
   "metadata": {},
   "source": [
    "Now do it with statsmodels"
   ]
  },
  {
   "cell_type": "code",
   "execution_count": null,
   "metadata": {},
   "outputs": [],
   "source": [
    "X = pd.DataFrame()\n",
    "\n",
    "# create one-hot columns for District\n",
    "X = pd.get_dummies(athlete_data[['District']])\n",
    "\n",
    "X = pd.concat([X, athlete_data[['PR9','PR10','PR11','Nsex','Grad_Yr']]], axis=1, sort=False)\n",
    "\n",
    "y = athlete_data['PR12']\n",
    "#y = pd.DataFrame(y.values.reshape((len(y),1)))"
   ]
  },
  {
   "cell_type": "code",
   "execution_count": null,
   "metadata": {},
   "outputs": [],
   "source": [
    "X.shape,y.shape"
   ]
  },
  {
   "cell_type": "code",
   "execution_count": null,
   "metadata": {},
   "outputs": [],
   "source": [
    "sm_data = pd.DataFrame()\n",
    "\n",
    "# create one-hot columns for District\n",
    "sm_data = pd.get_dummies(athlete_data[['District']])\n",
    "\n",
    "sm_data = pd.concat([X, athlete_data[['PR9','PR10','PR11','PR12','Nsex','Grad_Yr']]], axis=1, sort=False)\n"
   ]
  },
  {
   "cell_type": "code",
   "execution_count": null,
   "metadata": {},
   "outputs": [],
   "source": [
    "y_train_sm, X_train_sm = patsy.dmatrices('PR12 ~ PR9 + PR10 + PR11 + Nsex + Grad_Yr',data = sm_data, return_type='dataframe')\n",
    "\n",
    "model = sm.OLS(y_train_sm,X_train_sm)\n",
    "fit = model.fit()\n",
    "print(fit.summary())"
   ]
  },
  {
   "cell_type": "markdown",
   "metadata": {},
   "source": [
    "Explore the effect of sample size on the results."
   ]
  },
  {
   "cell_type": "code",
   "execution_count": 166,
   "metadata": {},
   "outputs": [],
   "source": [
    "# Set District to filter for only one district, Dist=100 is all districts\n",
    "Dist = 100\n",
    "filtered_X, filtered_y = get_Xy(athlete_data,Dist)"
   ]
  },
  {
   "cell_type": "code",
   "execution_count": 167,
   "metadata": {
    "scrolled": true
   },
   "outputs": [
    {
     "data": {
      "image/png": "[encoded data removed]",
      "text/plain": [
       "<Figure size 432x288 with 1 Axes>"
      ]
     },
     "metadata": {},
     "output_type": "display_data"
    }
   ],
   "source": [
    "#divide into train and test sets\n",
    "X_train, X_test, y_train, y_test = train_test_split(filtered_X, filtered_y, test_size=0.4,\n",
    "                                                    random_state=42,stratify=filtered_X['Nsex'])\n",
    "\n",
    "# Create an empty model\n",
    "output_data = pd.DataFrame()\n",
    "\n",
    "max_sample_size = min(401,len(X_train))\n",
    "\n",
    "for sample_size in range(10,max_sample_size,1):\n",
    "    X2_train = X_train.sample(n=sample_size,random_state=1)\n",
    "    y2_train = y_train.sample(n=sample_size,random_state=1)\n",
    "    #X2_test = X_test.sample(n=sample_size,random_state=1)\n",
    "    #y2_test = y_test.sample(n=sample_size,random_state=1)\n",
    "    \n",
    "    lr = LinearRegression()\n",
    "    lr.fit(X2_train, y2_train)\n",
    "    y2_predict = lr.predict(X_test)\n",
    "\n",
    "    test_score  = lr.score(X_test,y_test)\n",
    "    train_score = lr.score(X2_train,y2_train)\n",
    "    train_error = mean_squared_error(y2_train, lr.predict(X2_train))\n",
    "    test_error  = mean_squared_error(y_test,  lr.predict(X_test))\n",
    "    #test_error  = mean_squared_error(y2_test,  lr.predict(X2_test))\n",
    "\n",
    "    #print(sample_size,train_error,test_error)\n",
    "\n",
    "    output_data = output_data.append([[sample_size,test_score,train_score,train_error,test_error]])\n",
    "    \n",
    "    #print('Train R^2: ', train_score)\n",
    "    #print('Train SSE:', train_error)\n",
    "    #print('Test R^2: ', test_score)\n",
    "    #print('Test SSE:', test_error)\n",
    "    \n",
    "plt.plot(output_data[0],output_data[3],label='Train Error')\n",
    "plt.plot(output_data[0],output_data[4],label='Test Error')\n",
    "plt.legend()\n",
    "plt.title('Model error vs. number of data points');\n",
    "plt.xlabel('Number of data points');\n",
    "plt.ylabel('RMS Error');"
   ]
  },
  {
   "cell_type": "code",
   "execution_count": 168,
   "metadata": {},
   "outputs": [
    {
     "name": "stdout",
     "output_type": "stream",
     "text": [
      "boys in train set:  264\n",
      "girls in train set: 226\n",
      "boys in test set:   176\n",
      "girls in test set:  152\n"
     ]
    }
   ],
   "source": [
    "print('boys in train set: ',X_train[X_train.Nsex == 1]['Nsex'].count())\n",
    "print('girls in train set:',X_train[X_train.Nsex == 0]['Nsex'].count())\n",
    "print('boys in test set:  ',X_test[X_test.Nsex == 1]['Nsex'].count())\n",
    "print('girls in test set: ',X_test[X_test.Nsex == 0]['Nsex'].count())"
   ]
  },
  {
   "cell_type": "markdown",
   "metadata": {},
   "source": [
    "## LASSO shows feature importance <a name='LASSO' />"
   ]
  },
  {
   "cell_type": "code",
   "execution_count": 85,
   "metadata": {},
   "outputs": [
    {
     "data": {
      "text/plain": [
       "0.88391840996472482"
      ]
     },
     "execution_count": 85,
     "metadata": {},
     "output_type": "execute_result"
    }
   ],
   "source": [
    "X_train, X_test, y_train, y_test = train_test_split(X, y, test_size=0.4,\n",
    "                        random_state=42,stratify=X['Nsex'])\n",
    "\n",
    "lr_lasso = linear_model.Lasso(alpha=0.1)\n",
    "lr_fit = lr_lasso.fit(X_train, y_train)\n",
    "\n",
    "# Print out the R^2 for the model against the full dataset\n",
    "lr_lasso.score(X_train,y_train)"
   ]
  },
  {
   "cell_type": "code",
   "execution_count": 86,
   "metadata": {},
   "outputs": [
    {
     "data": {
      "text/plain": [
       "{'alpha': 0.1,\n",
       " 'copy_X': True,\n",
       " 'fit_intercept': True,\n",
       " 'max_iter': 1000,\n",
       " 'normalize': False,\n",
       " 'positive': False,\n",
       " 'precompute': False,\n",
       " 'random_state': None,\n",
       " 'selection': 'cyclic',\n",
       " 'tol': 0.0001,\n",
       " 'warm_start': False}"
      ]
     },
     "execution_count": 86,
     "metadata": {},
     "output_type": "execute_result"
    }
   ],
   "source": [
    "#lr_lasso.get_params()['lassocv'].alpha_\n",
    "lr_lasso.get_params()"
   ]
  },
  {
   "cell_type": "code",
   "execution_count": 87,
   "metadata": {},
   "outputs": [
    {
     "data": {
      "text/plain": [
       "Index(['District_District 1', 'District_District 2', 'District_District 3',\n",
       "       'District_District 4', 'District_District 5', 'District_District 6',\n",
       "       'PR9', 'PR10', 'PR11', 'Nsex', 'Grad_Yr'],\n",
       "      dtype='object')"
      ]
     },
     "execution_count": 87,
     "metadata": {},
     "output_type": "execute_result"
    }
   ],
   "source": [
    "X_train.columns"
   ]
  },
  {
   "cell_type": "code",
   "execution_count": 88,
   "metadata": {},
   "outputs": [
    {
     "name": "stdout",
     "output_type": "stream",
     "text": [
      "(490, 11)\n",
      "(490,) (490,)\n"
     ]
    },
    {
     "data": {
      "text/html": [
       "<div>\n",
       "<style scoped>\n",
       "    .dataframe tbody tr th:only-of-type {\n",
       "        vertical-align: middle;\n",
       "    }\n",
       "\n",
       "    .dataframe tbody tr th {\n",
       "        vertical-align: top;\n",
       "    }\n",
       "\n",
       "    .dataframe thead th {\n",
       "        text-align: right;\n",
       "    }\n",
       "</style>\n",
       "<table border=\"1\" class=\"dataframe\">\n",
       "  <thead>\n",
       "    <tr style=\"text-align: right;\">\n",
       "      <th></th>\n",
       "      <th>District_District 1</th>\n",
       "      <th>District_District 2</th>\n",
       "      <th>District_District 3</th>\n",
       "      <th>District_District 4</th>\n",
       "      <th>District_District 5</th>\n",
       "      <th>District_District 6</th>\n",
       "      <th>PR9</th>\n",
       "      <th>PR10</th>\n",
       "      <th>PR11</th>\n",
       "      <th>Nsex</th>\n",
       "      <th>Grad_Yr</th>\n",
       "    </tr>\n",
       "  </thead>\n",
       "  <tbody>\n",
       "    <tr>\n",
       "      <th>73</th>\n",
       "      <td>1</td>\n",
       "      <td>0</td>\n",
       "      <td>0</td>\n",
       "      <td>0</td>\n",
       "      <td>0</td>\n",
       "      <td>0</td>\n",
       "      <td>61.25</td>\n",
       "      <td>59.54</td>\n",
       "      <td>59.31</td>\n",
       "      <td>0</td>\n",
       "      <td>2012</td>\n",
       "    </tr>\n",
       "    <tr>\n",
       "      <th>21</th>\n",
       "      <td>1</td>\n",
       "      <td>0</td>\n",
       "      <td>0</td>\n",
       "      <td>0</td>\n",
       "      <td>0</td>\n",
       "      <td>0</td>\n",
       "      <td>54.11</td>\n",
       "      <td>51.64</td>\n",
       "      <td>49.88</td>\n",
       "      <td>1</td>\n",
       "      <td>2011</td>\n",
       "    </tr>\n",
       "    <tr>\n",
       "      <th>141</th>\n",
       "      <td>0</td>\n",
       "      <td>0</td>\n",
       "      <td>1</td>\n",
       "      <td>0</td>\n",
       "      <td>0</td>\n",
       "      <td>0</td>\n",
       "      <td>66.26</td>\n",
       "      <td>63.91</td>\n",
       "      <td>66.57</td>\n",
       "      <td>0</td>\n",
       "      <td>2013</td>\n",
       "    </tr>\n",
       "    <tr>\n",
       "      <th>234</th>\n",
       "      <td>0</td>\n",
       "      <td>0</td>\n",
       "      <td>0</td>\n",
       "      <td>1</td>\n",
       "      <td>0</td>\n",
       "      <td>0</td>\n",
       "      <td>71.64</td>\n",
       "      <td>68.14</td>\n",
       "      <td>66.12</td>\n",
       "      <td>0</td>\n",
       "      <td>2016</td>\n",
       "    </tr>\n",
       "    <tr>\n",
       "      <th>130</th>\n",
       "      <td>0</td>\n",
       "      <td>0</td>\n",
       "      <td>0</td>\n",
       "      <td>0</td>\n",
       "      <td>1</td>\n",
       "      <td>0</td>\n",
       "      <td>62.39</td>\n",
       "      <td>61.11</td>\n",
       "      <td>60.75</td>\n",
       "      <td>0</td>\n",
       "      <td>2013</td>\n",
       "    </tr>\n",
       "  </tbody>\n",
       "</table>\n",
       "</div>"
      ],
      "text/plain": [
       "     District_District 1  District_District 2  District_District 3  \\\n",
       "73                     1                    0                    0   \n",
       "21                     1                    0                    0   \n",
       "141                    0                    0                    1   \n",
       "234                    0                    0                    0   \n",
       "130                    0                    0                    0   \n",
       "\n",
       "     District_District 4  District_District 5  District_District 6    PR9  \\\n",
       "73                     0                    0                    0  61.25   \n",
       "21                     0                    0                    0  54.11   \n",
       "141                    0                    0                    0  66.26   \n",
       "234                    1                    0                    0  71.64   \n",
       "130                    0                    1                    0  62.39   \n",
       "\n",
       "      PR10   PR11  Nsex  Grad_Yr  \n",
       "73   59.54  59.31     0     2012  \n",
       "21   51.64  49.88     1     2011  \n",
       "141  63.91  66.57     0     2013  \n",
       "234  68.14  66.12     0     2016  \n",
       "130  61.11  60.75     0     2013  "
      ]
     },
     "execution_count": 88,
     "metadata": {},
     "output_type": "execute_result"
    }
   ],
   "source": [
    "print(X_train.shape)\n",
    "print(y_train.shape,lr_lasso.predict(X_train).shape)\n",
    "X_train.head()"
   ]
  },
  {
   "cell_type": "code",
   "execution_count": 89,
   "metadata": {},
   "outputs": [
    {
     "name": "stdout",
     "output_type": "stream",
     "text": [
      "Train R^2:  0.883918409965\n",
      "Train RMSE: 2.1578139675088863\n",
      "Test R^2:  0.883683886525\n",
      "Test RMSE: 2.2171318272088874\n"
     ]
    }
   ],
   "source": [
    "print('Train R^2: ',lr_lasso.score(X_train, y_train))\n",
    "print('Train RMSE:', sqrt(mean_squared_error(y_train,lr_lasso.predict(X_train))))\n",
    "print('Test R^2: ', lr_lasso.score(X_test, y_test))\n",
    "print('Test RMSE:',  sqrt(mean_squared_error(y_test, lr_lasso.predict(X_test))))"
   ]
  },
  {
   "cell_type": "code",
   "execution_count": 90,
   "metadata": {},
   "outputs": [],
   "source": [
    "alpha_list = [1e-4, 1e-3, 1e-2, .05, 1e-1,.3,.5,.7]\n",
    "\n",
    "lasso_results = []\n",
    "for alpha in alpha_list:\n",
    "    lr_lasso = linear_model.Lasso(alpha=alpha)\n",
    "    lr_lasso_fit = lr_lasso.fit(X_train, y_train)\n",
    "\n",
    "    score = lr_lasso.score(X_train,y_train)\n",
    "    RMSE = sqrt(mean_squared_error(y_test, lr_lasso.predict(X_test)))\n",
    "    coef = lr_lasso_fit.coef_.tolist()\n",
    "    #print(coef)\n",
    "    lasso_results.append([alpha,score,coef,RMSE])"
   ]
  },
  {
   "cell_type": "code",
   "execution_count": 91,
   "metadata": {},
   "outputs": [
    {
     "data": {
      "image/png": "[encoded data removed]",
      "text/plain": [
       "<Figure size 432x288 with 1 Axes>"
      ]
     },
     "metadata": {},
     "output_type": "display_data"
    }
   ],
   "source": [
    "num_features = X.shape[1]\n",
    "\n",
    "for alpha,score,coef,RMSE in lasso_results:\n",
    "    #print(alpha,score,coef)\n",
    "    test = (alpha == 0.7)\n",
    "    test = True\n",
    "    if test:\n",
    "        plt.plot(range(1,num_features+1),coef,label=f\"alpha = {alpha}\")\n",
    "plt.legend()\n",
    "plt.xticks(np.linspace(0,num_features+1, num=num_features+2));\n",
    "plt.xlabel('Feature')\n",
    "plt.ylabel('Lasso coefficient');"
   ]
  },
  {
   "cell_type": "code",
   "execution_count": 94,
   "metadata": {},
   "outputs": [
    {
     "data": {
      "image/png": "[encoded data removed]",
      "text/plain": [
       "<Figure size 432x288 with 1 Axes>"
      ]
     },
     "metadata": {},
     "output_type": "display_data"
    }
   ],
   "source": [
    "num_features = X.shape[1]\n",
    "\n",
    "for alpha,score,coef,RMSE in lasso_results:\n",
    "    #print(alpha,score,coef)\n",
    "    #test = (alpha == 0.7)\n",
    "    test = (alpha >= 0.001) and (alpha <= .3)\n",
    "    if test:\n",
    "        plt.plot(range(1,num_features+1),coef,label=f\"alpha = {alpha}\")\n",
    "plt.legend()\n",
    "plt.xticks(np.linspace(0,num_features+1, num=num_features+2));\n",
    "plt.xlabel('Feature')\n",
    "plt.ylabel('Lasso coefficient');"
   ]
  },
  {
   "cell_type": "code",
   "execution_count": 95,
   "metadata": {},
   "outputs": [
    {
     "data": {
      "text/plain": [
       "Index(['District_District 1', 'District_District 2', 'District_District 3',\n",
       "       'District_District 4', 'District_District 5', 'District_District 6',\n",
       "       'PR9', 'PR10', 'PR11', 'Nsex', 'Grad_Yr'],\n",
       "      dtype='object')"
      ]
     },
     "execution_count": 95,
     "metadata": {},
     "output_type": "execute_result"
    }
   ],
   "source": [
    "X_train.columns"
   ]
  },
  {
   "cell_type": "code",
   "execution_count": 96,
   "metadata": {},
   "outputs": [
    {
     "data": {
      "text/html": [
       "<div>\n",
       "<style scoped>\n",
       "    .dataframe tbody tr th:only-of-type {\n",
       "        vertical-align: middle;\n",
       "    }\n",
       "\n",
       "    .dataframe tbody tr th {\n",
       "        vertical-align: top;\n",
       "    }\n",
       "\n",
       "    .dataframe thead th {\n",
       "        text-align: right;\n",
       "    }\n",
       "</style>\n",
       "<table border=\"1\" class=\"dataframe\">\n",
       "  <thead>\n",
       "    <tr style=\"text-align: right;\">\n",
       "      <th></th>\n",
       "      <th>0</th>\n",
       "      <th>1</th>\n",
       "      <th>2</th>\n",
       "      <th>3</th>\n",
       "    </tr>\n",
       "  </thead>\n",
       "  <tbody>\n",
       "    <tr>\n",
       "      <th>0</th>\n",
       "      <td>0.0001</td>\n",
       "      <td>0.886624</td>\n",
       "      <td>[1.7313692991980235e-07, -0.20962473464032638,...</td>\n",
       "      <td>2.184937</td>\n",
       "    </tr>\n",
       "    <tr>\n",
       "      <th>1</th>\n",
       "      <td>0.0010</td>\n",
       "      <td>0.886623</td>\n",
       "      <td>[0.017453675588172925, -0.18286522668338284, 0...</td>\n",
       "      <td>2.184752</td>\n",
       "    </tr>\n",
       "    <tr>\n",
       "      <th>2</th>\n",
       "      <td>0.0100</td>\n",
       "      <td>0.886517</td>\n",
       "      <td>[0.0, -0.12311329412319823, 0.1434205590303395...</td>\n",
       "      <td>2.184077</td>\n",
       "    </tr>\n",
       "    <tr>\n",
       "      <th>3</th>\n",
       "      <td>0.0500</td>\n",
       "      <td>0.885562</td>\n",
       "      <td>[0.0, -0.0, 0.0, 0.0, -0.0, -0.0, -0.0, 0.1534...</td>\n",
       "      <td>2.195529</td>\n",
       "    </tr>\n",
       "    <tr>\n",
       "      <th>4</th>\n",
       "      <td>0.1000</td>\n",
       "      <td>0.883918</td>\n",
       "      <td>[0.0, -0.0, 0.0, 0.0, -0.0, -0.0, -0.0, 0.1581...</td>\n",
       "      <td>2.217132</td>\n",
       "    </tr>\n",
       "    <tr>\n",
       "      <th>5</th>\n",
       "      <td>0.3000</td>\n",
       "      <td>0.880540</td>\n",
       "      <td>[0.0, -0.0, 0.0, 0.0, -0.0, -0.0, 0.0, 0.15906...</td>\n",
       "      <td>2.258098</td>\n",
       "    </tr>\n",
       "    <tr>\n",
       "      <th>6</th>\n",
       "      <td>0.5000</td>\n",
       "      <td>0.880410</td>\n",
       "      <td>[0.0, -0.0, 0.0, 0.0, -0.0, -0.0, 0.0, 0.15284...</td>\n",
       "      <td>2.261331</td>\n",
       "    </tr>\n",
       "    <tr>\n",
       "      <th>7</th>\n",
       "      <td>0.7000</td>\n",
       "      <td>0.880215</td>\n",
       "      <td>[0.0, -0.0, 0.0, 0.0, -0.0, -0.0, 0.0, 0.14661...</td>\n",
       "      <td>2.265190</td>\n",
       "    </tr>\n",
       "  </tbody>\n",
       "</table>\n",
       "</div>"
      ],
      "text/plain": [
       "        0         1                                                  2  \\\n",
       "0  0.0001  0.886624  [1.7313692991980235e-07, -0.20962473464032638,...   \n",
       "1  0.0010  0.886623  [0.017453675588172925, -0.18286522668338284, 0...   \n",
       "2  0.0100  0.886517  [0.0, -0.12311329412319823, 0.1434205590303395...   \n",
       "3  0.0500  0.885562  [0.0, -0.0, 0.0, 0.0, -0.0, -0.0, -0.0, 0.1534...   \n",
       "4  0.1000  0.883918  [0.0, -0.0, 0.0, 0.0, -0.0, -0.0, -0.0, 0.1581...   \n",
       "5  0.3000  0.880540  [0.0, -0.0, 0.0, 0.0, -0.0, -0.0, 0.0, 0.15906...   \n",
       "6  0.5000  0.880410  [0.0, -0.0, 0.0, 0.0, -0.0, -0.0, 0.0, 0.15284...   \n",
       "7  0.7000  0.880215  [0.0, -0.0, 0.0, 0.0, -0.0, -0.0, 0.0, 0.14661...   \n",
       "\n",
       "          3  \n",
       "0  2.184937  \n",
       "1  2.184752  \n",
       "2  2.184077  \n",
       "3  2.195529  \n",
       "4  2.217132  \n",
       "5  2.258098  \n",
       "6  2.261331  \n",
       "7  2.265190  "
      ]
     },
     "execution_count": 96,
     "metadata": {},
     "output_type": "execute_result"
    }
   ],
   "source": [
    "pd.DataFrame(lasso_results)"
   ]
  },
  {
   "cell_type": "code",
   "execution_count": 58,
   "metadata": {},
   "outputs": [
    {
     "data": {
      "text/plain": [
       "[0.0,\n",
       " -0.0,\n",
       " -0.0,\n",
       " 0.0,\n",
       " 0.0,\n",
       " -0.0,\n",
       " 0.04783524779205888,\n",
       " 0.11477295015994243,\n",
       " 0.8238894282851263,\n",
       " -3.4847974626634044,\n",
       " -0.16681598616548685]"
      ]
     },
     "execution_count": 58,
     "metadata": {},
     "output_type": "execute_result"
    }
   ],
   "source": [
    "lasso_results[5][2]"
   ]
  },
  {
   "cell_type": "code",
   "execution_count": 97,
   "metadata": {},
   "outputs": [
    {
     "data": {
      "image/png": "[encoded data removed]",
      "text/plain": [
       "<Figure size 432x288 with 1 Axes>"
      ]
     },
     "metadata": {},
     "output_type": "display_data"
    }
   ],
   "source": [
    "xx = [row[0] for row in lasso_results]\n",
    "yy = [row[3] for row in lasso_results]\n",
    "plt.semilogx(xx,yy);\n",
    "plt.xlabel('alpha')\n",
    "plt.ylabel('RMSE');"
   ]
  },
  {
   "cell_type": "markdown",
   "metadata": {},
   "source": [
    "## Modeling District as a mixed effect <a name='MixedEffect' />"
   ]
  },
  {
   "cell_type": "markdown",
   "metadata": {},
   "source": [
    "Random effect - District    \n",
    "Fixed effect - PRs from each year, grad year   \n",
    "\n",
    "We expect to see some clustering due to the random effect variable."
   ]
  },
  {
   "cell_type": "code",
   "execution_count": 182,
   "metadata": {},
   "outputs": [],
   "source": [
    "sm_data = athlete_data[['District','PR9','PR10','PR11','PR12','Nsex','Grad_Yr']]\n",
    "\n",
    "y_train_sm, X_train_sm = patsy.dmatrices('PR12 ~ PR9 + PR10 + PR11 + Nsex + Grad_Yr',\n",
    "                                         data = sm_data, return_type='dataframe')"
   ]
  },
  {
   "cell_type": "code",
   "execution_count": 183,
   "metadata": {},
   "outputs": [
    {
     "name": "stdout",
     "output_type": "stream",
     "text": [
      "(2056, 7)\n"
     ]
    },
    {
     "data": {
      "text/html": [
       "<div>\n",
       "<style scoped>\n",
       "    .dataframe tbody tr th:only-of-type {\n",
       "        vertical-align: middle;\n",
       "    }\n",
       "\n",
       "    .dataframe tbody tr th {\n",
       "        vertical-align: top;\n",
       "    }\n",
       "\n",
       "    .dataframe thead th {\n",
       "        text-align: right;\n",
       "    }\n",
       "</style>\n",
       "<table border=\"1\" class=\"dataframe\">\n",
       "  <thead>\n",
       "    <tr style=\"text-align: right;\">\n",
       "      <th></th>\n",
       "      <th>District</th>\n",
       "      <th>PR9</th>\n",
       "      <th>PR10</th>\n",
       "      <th>PR11</th>\n",
       "      <th>PR12</th>\n",
       "      <th>Nsex</th>\n",
       "      <th>Grad_Yr</th>\n",
       "    </tr>\n",
       "  </thead>\n",
       "  <tbody>\n",
       "    <tr>\n",
       "      <th>0</th>\n",
       "      <td>District 3</td>\n",
       "      <td>271.44</td>\n",
       "      <td>264.50</td>\n",
       "      <td>255.28</td>\n",
       "      <td>252.97</td>\n",
       "      <td>1</td>\n",
       "      <td>2011</td>\n",
       "    </tr>\n",
       "    <tr>\n",
       "      <th>1</th>\n",
       "      <td>District 3</td>\n",
       "      <td>276.00</td>\n",
       "      <td>265.58</td>\n",
       "      <td>268.16</td>\n",
       "      <td>265.20</td>\n",
       "      <td>1</td>\n",
       "      <td>2011</td>\n",
       "    </tr>\n",
       "    <tr>\n",
       "      <th>2</th>\n",
       "      <td>District 5</td>\n",
       "      <td>293.90</td>\n",
       "      <td>278.42</td>\n",
       "      <td>281.35</td>\n",
       "      <td>275.15</td>\n",
       "      <td>1</td>\n",
       "      <td>2011</td>\n",
       "    </tr>\n",
       "    <tr>\n",
       "      <th>3</th>\n",
       "      <td>District 1</td>\n",
       "      <td>283.22</td>\n",
       "      <td>264.46</td>\n",
       "      <td>261.56</td>\n",
       "      <td>257.71</td>\n",
       "      <td>1</td>\n",
       "      <td>2012</td>\n",
       "    </tr>\n",
       "    <tr>\n",
       "      <th>4</th>\n",
       "      <td>District 3</td>\n",
       "      <td>302.14</td>\n",
       "      <td>284.32</td>\n",
       "      <td>284.20</td>\n",
       "      <td>289.45</td>\n",
       "      <td>1</td>\n",
       "      <td>2011</td>\n",
       "    </tr>\n",
       "  </tbody>\n",
       "</table>\n",
       "</div>"
      ],
      "text/plain": [
       "     District     PR9    PR10    PR11    PR12  Nsex  Grad_Yr\n",
       "0  District 3  271.44  264.50  255.28  252.97     1     2011\n",
       "1  District 3  276.00  265.58  268.16  265.20     1     2011\n",
       "2  District 5  293.90  278.42  281.35  275.15     1     2011\n",
       "3  District 1  283.22  264.46  261.56  257.71     1     2012\n",
       "4  District 3  302.14  284.32  284.20  289.45     1     2011"
      ]
     },
     "execution_count": 183,
     "metadata": {},
     "output_type": "execute_result"
    }
   ],
   "source": [
    "print(sm_data.shape)\n",
    "sm_data.head()"
   ]
  },
  {
   "cell_type": "code",
   "execution_count": 100,
   "metadata": {},
   "outputs": [
    {
     "name": "stdout",
     "output_type": "stream",
     "text": [
      "(818, 1) (818, 6)\n"
     ]
    }
   ],
   "source": [
    "print(y_train_sm.shape,X_train_sm.shape)"
   ]
  },
  {
   "cell_type": "code",
   "execution_count": 101,
   "metadata": {},
   "outputs": [],
   "source": [
    "#X_train, X_test, y_train, y_test = train_test_split(X, y, test_size=0.4,random_state=42)\n",
    "#data_train = pd.concat([y_train,X_train],axis=1,sort=False)\n",
    "#data_test  = pd.concat([y_test,X_test],axis=1,sort=False)"
   ]
  },
  {
   "cell_type": "code",
   "execution_count": 102,
   "metadata": {},
   "outputs": [
    {
     "name": "stderr",
     "output_type": "stream",
     "text": [
      "/anaconda3/lib/python3.6/site-packages/statsmodels/base/model.py:508: ConvergenceWarning: Maximum Likelihood optimization failed to converge. Check mle_retvals\n",
      "  \"Check mle_retvals\", ConvergenceWarning)\n",
      "/anaconda3/lib/python3.6/site-packages/statsmodels/base/model.py:508: ConvergenceWarning: Maximum Likelihood optimization failed to converge. Check mle_retvals\n",
      "  \"Check mle_retvals\", ConvergenceWarning)\n",
      "/anaconda3/lib/python3.6/site-packages/statsmodels/base/model.py:508: ConvergenceWarning: Maximum Likelihood optimization failed to converge. Check mle_retvals\n",
      "  \"Check mle_retvals\", ConvergenceWarning)\n"
     ]
    },
    {
     "name": "stdout",
     "output_type": "stream",
     "text": [
      "         Mixed Linear Model Regression Results\n",
      "========================================================\n",
      "Model:            MixedLM Dependent Variable: PR12      \n",
      "No. Observations: 818     Method:             REML      \n",
      "No. Groups:       6       Scale:              4.6238    \n",
      "Min. group size:  56      Likelihood:         -1809.4447\n",
      "Max. group size:  227     Converged:          No        \n",
      "Mean group size:  136.3                                 \n",
      "--------------------------------------------------------\n",
      "           Coef.  Std.Err.   z    P>|z|  [0.025   0.975]\n",
      "--------------------------------------------------------\n",
      "Intercept  -6.876   58.695 -0.117 0.907 -121.916 108.163\n",
      "PR9         0.001    0.027  0.033 0.973   -0.051   0.053\n",
      "PR10        0.225    0.039  5.793 0.000    0.149   0.301\n",
      "PR11        0.698    0.034 20.356 0.000    0.631   0.765\n",
      "Nsex       -1.534    0.235 -6.534 0.000   -1.994  -1.074\n",
      "Grad_Yr     0.006    0.029  0.200 0.842   -0.051   0.063\n",
      "Group Var   4.624                                       \n",
      "========================================================\n",
      "\n"
     ]
    },
    {
     "name": "stderr",
     "output_type": "stream",
     "text": [
      "/anaconda3/lib/python3.6/site-packages/statsmodels/base/model.py:508: ConvergenceWarning: Maximum Likelihood optimization failed to converge. Check mle_retvals\n",
      "  \"Check mle_retvals\", ConvergenceWarning)\n",
      "/anaconda3/lib/python3.6/site-packages/statsmodels/base/model.py:508: ConvergenceWarning: Maximum Likelihood optimization failed to converge. Check mle_retvals\n",
      "  \"Check mle_retvals\", ConvergenceWarning)\n",
      "/anaconda3/lib/python3.6/site-packages/statsmodels/regression/mixed_linear_model.py:2026: ConvergenceWarning: Gradient optimization failed.\n",
      "  warnings.warn(msg, ConvergenceWarning)\n",
      "/anaconda3/lib/python3.6/site-packages/statsmodels/regression/mixed_linear_model.py:2066: ConvergenceWarning: The Hessian matrix at the estimated parameter values is not positive definite.\n",
      "  warnings.warn(msg, ConvergenceWarning)\n",
      "/anaconda3/lib/python3.6/site-packages/statsmodels/base/model.py:1092: RuntimeWarning: invalid value encountered in sqrt\n",
      "  bse_ = np.sqrt(np.diag(self.cov_params()))\n"
     ]
    }
   ],
   "source": [
    "#md = smf.mixedlm(\"12_PR ~ 9_PR + 10_PR + 11_PR + sex + Grad_Yr\",\n",
    "#                data = athlete_data,\n",
    "#                groups = athlete_data[\"District\"])\n",
    "\n",
    "md = smf.mixedlm('PR12 ~ PR9 + PR10 + PR11 + Nsex + Grad_Yr',\n",
    "                data = sm_data,\n",
    "                groups = sm_data['District'])\n",
    "mdf = md.fit()\n",
    "print(mdf.summary())"
   ]
  },
  {
   "cell_type": "code",
   "execution_count": 103,
   "metadata": {
    "scrolled": true
   },
   "outputs": [],
   "source": [
    "y_sm = sm_data['PR12']\n",
    "#X_sm = sm_data = athlete_data[['District','PR9','PR10','PR11','Nsex','Grad_Yr']]\n",
    "#y_sm_predict = mdf.predict(X_sm)\n"
   ]
  },
  {
   "cell_type": "code",
   "execution_count": 104,
   "metadata": {
    "scrolled": true
   },
   "outputs": [
    {
     "name": "stdout",
     "output_type": "stream",
     "text": [
      "2.1423892550105483\n"
     ]
    }
   ],
   "source": [
    "y_sm_predict = mdf.fittedvalues\n",
    "RMSE = sqrt(((y_sm-y_sm_predict)**2).values.mean())\n",
    "print(RMSE)"
   ]
  },
  {
   "cell_type": "code",
   "execution_count": 105,
   "metadata": {},
   "outputs": [
    {
     "data": {
      "text/plain": [
       "<seaborn.axisgrid.FacetGrid at 0x1c177f26a0>"
      ]
     },
     "execution_count": 105,
     "metadata": {},
     "output_type": "execute_result"
    },
    {
     "data": {
      "image/png": "[encoded data removed]",
      "text/plain": [
       "<Figure size 360x360 with 1 Axes>"
      ]
     },
     "metadata": {},
     "output_type": "display_data"
    }
   ],
   "source": [
    "# and let's plot the predictions\n",
    "performance = pd.DataFrame()\n",
    "performance[\"predicted\"] = mdf.fittedvalues\n",
    "performance[\"residuals\"] = mdf.resid.values\n",
    "#performance[\"PR12\"] = data.age_scaled\n",
    "\n",
    "sns.lmplot(x = \"predicted\", y = \"residuals\", data = performance)"
   ]
  },
  {
   "cell_type": "markdown",
   "metadata": {},
   "source": [
    "## Algebraic Model <a name='Algebraic' />"
   ]
  },
  {
   "cell_type": "markdown",
   "metadata": {},
   "source": [
    "How well can you predict 12th grade scores if you use a brute force method.  Assume the ratio in the decrease in times from 10th grade to 11th grade is the same as from 11th grade to 12th grade.  In this way with the competition times in 10th and 11th grade you can predict the time for 12th grade."
   ]
  },
  {
   "cell_type": "code",
   "execution_count": 106,
   "metadata": {},
   "outputs": [
    {
     "data": {
      "text/html": [
       "<div>\n",
       "<style scoped>\n",
       "    .dataframe tbody tr th:only-of-type {\n",
       "        vertical-align: middle;\n",
       "    }\n",
       "\n",
       "    .dataframe tbody tr th {\n",
       "        vertical-align: top;\n",
       "    }\n",
       "\n",
       "    .dataframe thead th {\n",
       "        text-align: right;\n",
       "    }\n",
       "</style>\n",
       "<table border=\"1\" class=\"dataframe\">\n",
       "  <thead>\n",
       "    <tr style=\"text-align: right;\">\n",
       "      <th></th>\n",
       "      <th>Unnamed: 0</th>\n",
       "      <th>ID</th>\n",
       "      <th>Name</th>\n",
       "      <th>School_ID</th>\n",
       "      <th>School</th>\n",
       "      <th>District</th>\n",
       "      <th>9_PR</th>\n",
       "      <th>10_PR</th>\n",
       "      <th>11_PR</th>\n",
       "      <th>12_PR</th>\n",
       "      <th>Grad_Yr</th>\n",
       "      <th>sex</th>\n",
       "      <th>PR12</th>\n",
       "      <th>PR11</th>\n",
       "      <th>PR10</th>\n",
       "      <th>PR9</th>\n",
       "      <th>Nsex</th>\n",
       "    </tr>\n",
       "  </thead>\n",
       "  <tbody>\n",
       "    <tr>\n",
       "      <th>0</th>\n",
       "      <td>0</td>\n",
       "      <td>1671873</td>\n",
       "      <td>Josh Fuller</td>\n",
       "      <td>345</td>\n",
       "      <td>King's</td>\n",
       "      <td>District 1</td>\n",
       "      <td>52.03</td>\n",
       "      <td>49.86</td>\n",
       "      <td>49.22</td>\n",
       "      <td>49.19</td>\n",
       "      <td>2009</td>\n",
       "      <td>boy</td>\n",
       "      <td>49.19</td>\n",
       "      <td>49.22</td>\n",
       "      <td>49.86</td>\n",
       "      <td>52.03</td>\n",
       "      <td>1</td>\n",
       "    </tr>\n",
       "    <tr>\n",
       "      <th>1</th>\n",
       "      <td>1</td>\n",
       "      <td>146314</td>\n",
       "      <td>Ben Allen</td>\n",
       "      <td>382</td>\n",
       "      <td>Cashmere</td>\n",
       "      <td>District 6</td>\n",
       "      <td>52.88</td>\n",
       "      <td>50.40</td>\n",
       "      <td>50.20</td>\n",
       "      <td>49.60</td>\n",
       "      <td>2010</td>\n",
       "      <td>boy</td>\n",
       "      <td>49.60</td>\n",
       "      <td>50.20</td>\n",
       "      <td>50.40</td>\n",
       "      <td>52.88</td>\n",
       "      <td>1</td>\n",
       "    </tr>\n",
       "    <tr>\n",
       "      <th>2</th>\n",
       "      <td>2</td>\n",
       "      <td>1817645</td>\n",
       "      <td>Kyle Fremd</td>\n",
       "      <td>301</td>\n",
       "      <td>Bellevue Christian</td>\n",
       "      <td>District 3</td>\n",
       "      <td>58.14</td>\n",
       "      <td>53.49</td>\n",
       "      <td>52.00</td>\n",
       "      <td>50.44</td>\n",
       "      <td>2009</td>\n",
       "      <td>boy</td>\n",
       "      <td>50.44</td>\n",
       "      <td>52.00</td>\n",
       "      <td>53.49</td>\n",
       "      <td>58.14</td>\n",
       "      <td>1</td>\n",
       "    </tr>\n",
       "    <tr>\n",
       "      <th>3</th>\n",
       "      <td>3</td>\n",
       "      <td>184258</td>\n",
       "      <td>Cameron Tunstall</td>\n",
       "      <td>310</td>\n",
       "      <td>Cascade Christian</td>\n",
       "      <td>District 3</td>\n",
       "      <td>59.65</td>\n",
       "      <td>55.07</td>\n",
       "      <td>53.21</td>\n",
       "      <td>54.32</td>\n",
       "      <td>2010</td>\n",
       "      <td>boy</td>\n",
       "      <td>54.32</td>\n",
       "      <td>53.21</td>\n",
       "      <td>55.07</td>\n",
       "      <td>59.65</td>\n",
       "      <td>1</td>\n",
       "    </tr>\n",
       "    <tr>\n",
       "      <th>4</th>\n",
       "      <td>4</td>\n",
       "      <td>530132</td>\n",
       "      <td>Isaac Estrada</td>\n",
       "      <td>332</td>\n",
       "      <td>Zillah</td>\n",
       "      <td>District 5</td>\n",
       "      <td>54.94</td>\n",
       "      <td>53.74</td>\n",
       "      <td>53.74</td>\n",
       "      <td>54.74</td>\n",
       "      <td>2012</td>\n",
       "      <td>boy</td>\n",
       "      <td>54.74</td>\n",
       "      <td>53.74</td>\n",
       "      <td>53.74</td>\n",
       "      <td>54.94</td>\n",
       "      <td>1</td>\n",
       "    </tr>\n",
       "  </tbody>\n",
       "</table>\n",
       "</div>"
      ],
      "text/plain": [
       "   Unnamed: 0       ID              Name  School_ID              School  \\\n",
       "0           0  1671873       Josh Fuller        345              King's   \n",
       "1           1   146314         Ben Allen        382            Cashmere   \n",
       "2           2  1817645        Kyle Fremd        301  Bellevue Christian   \n",
       "3           3   184258  Cameron Tunstall        310   Cascade Christian   \n",
       "4           4   530132     Isaac Estrada        332              Zillah   \n",
       "\n",
       "     District   9_PR  10_PR  11_PR  12_PR  Grad_Yr  sex   PR12   PR11   PR10  \\\n",
       "0  District 1  52.03  49.86  49.22  49.19     2009  boy  49.19  49.22  49.86   \n",
       "1  District 6  52.88  50.40  50.20  49.60     2010  boy  49.60  50.20  50.40   \n",
       "2  District 3  58.14  53.49  52.00  50.44     2009  boy  50.44  52.00  53.49   \n",
       "3  District 3  59.65  55.07  53.21  54.32     2010  boy  54.32  53.21  55.07   \n",
       "4  District 5  54.94  53.74  53.74  54.74     2012  boy  54.74  53.74  53.74   \n",
       "\n",
       "     PR9  Nsex  \n",
       "0  52.03     1  \n",
       "1  52.88     1  \n",
       "2  58.14     1  \n",
       "3  59.65     1  \n",
       "4  54.94     1  "
      ]
     },
     "execution_count": 106,
     "metadata": {},
     "output_type": "execute_result"
    }
   ],
   "source": [
    "athlete_data.head()"
   ]
  },
  {
   "cell_type": "code",
   "execution_count": 176,
   "metadata": {
    "scrolled": true
   },
   "outputs": [
    {
     "name": "stdout",
     "output_type": "stream",
     "text": [
      "RMSE: 21.72794284855923\n",
      "12th grade average time: 317.022383268483\n"
     ]
    },
    {
     "data": {
      "text/plain": [
       "[<matplotlib.lines.Line2D at 0x1c1b2b8e10>]"
      ]
     },
     "execution_count": 176,
     "metadata": {},
     "output_type": "execute_result"
    },
    {
     "data": {
      "image/png": "[encoded data removed]",
      "text/plain": [
       "<Figure size 576x396 with 1 Axes>"
      ]
     },
     "metadata": {},
     "output_type": "display_data"
    }
   ],
   "source": [
    "RMSE = 0\n",
    "average = 0\n",
    "total = 0\n",
    "growth = []\n",
    "growth1 = []\n",
    "residual = []\n",
    "\n",
    "max_val = []\n",
    "#for index,athlete in athlete_data[athlete_data.sex=='boy'].iterrows():\n",
    "for index,athlete in athlete_data.iterrows():\n",
    "    g12 = athlete['PR12']\n",
    "    g11 = athlete['PR11']\n",
    "    g10 = athlete['PR10']\n",
    "    g9  = athlete['PR9']\n",
    "\n",
    "    g12_predict = g11 + (g11/g10)*(g11-g10)\n",
    "    #g12_predict = g11**2/g10\n",
    "\n",
    "    RMSE += (g12_predict - g12)**2\n",
    "    average += g12\n",
    "    total += 1\n",
    "    growth.append((g12/g11)/(g11/g10))\n",
    "    residual.append(g12_predict - g12)\n",
    "    if (g11-g10) != 0: \n",
    "        g = (g12-g11)/(g11-g10)\n",
    "        if g < 5: growth1.append(g)\n",
    "    max_val.append(g12)\n",
    "RMSE = sqrt(RMSE/total)\n",
    "average = average/total\n",
    "\n",
    "print('RMSE:',RMSE)\n",
    "print('12th grade average time:',average)\n",
    "\n",
    "#plt.scatter(max,growth)\n",
    "#plt.hist(growth1,1000);\n",
    "plt.hist(growth,100);\n",
    "\n",
    "plt.title('Histogram of ratio of 12/11 grade times to 11/10 grade times');\n",
    "#plt.xlim(-10,10)\n",
    "plt.plot([1,1],[0,130],color='r')\n",
    "#plt.plot([0,0],[0,130],color='y')"
   ]
  },
  {
   "cell_type": "code",
   "execution_count": 181,
   "metadata": {},
   "outputs": [
    {
     "data": {
      "text/plain": [
       "Text(0.5,0,'y_predicted - y')"
      ]
     },
     "execution_count": 181,
     "metadata": {},
     "output_type": "execute_result"
    },
    {
     "data": {
      "image/png": "[encoded data removed]",
      "text/plain": [
       "<Figure size 576x396 with 1 Axes>"
      ]
     },
     "metadata": {},
     "output_type": "display_data"
    }
   ],
   "source": [
    "plt.hist(residual,50)\n",
    "plt.plot([0,0],[0,370],color='r')\n",
    "plt.title('histogram of residuals')\n",
    "plt.xlabel('y_predicted - y')"
   ]
  }
 ],
 "metadata": {
  "kernelspec": {
   "display_name": "Python 3",
   "language": "python",
   "name": "python3"
  },
  "language_info": {
   "codemirror_mode": {
    "name": "ipython",
    "version": 3
   },
   "file_extension": ".py",
   "mimetype": "text/x-python",
   "name": "python",
   "nbconvert_exporter": "python",
   "pygments_lexer": "ipython3",
   "version": "3.6.5"
  }
 },
 "nbformat": 4,
 "nbformat_minor": 2
}
