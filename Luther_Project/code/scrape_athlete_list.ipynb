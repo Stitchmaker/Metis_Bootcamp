{
 "cells": [
  {
   "cell_type": "markdown",
   "metadata": {},
   "source": [
    "## Scrape Athlete List\n",
    "\n",
    "This file pulls lists of athletes and their schools from www.athletic.net for a particular event.\n",
    "\n",
    "Another ipynb file will be used to take this list of athletes and pull their detailed information for each event.\n",
    "\n",
    "Note:  The data pulled is for 2A, 3A & 4A athletic divisions in all of Washington state from 2006-2017."
   ]
  },
  {
   "cell_type": "code",
   "execution_count": 6,
   "metadata": {},
   "outputs": [],
   "source": [
    "import requests\n",
    "import pandas as pd\n",
    "import numpy as np\n",
    "from bs4 import BeautifulSoup\n",
    "from selenium import webdriver\n",
    "from selenium.webdriver.common.keys import Keys\n",
    "import time\n",
    "from time import sleep"
   ]
  },
  {
   "cell_type": "code",
   "execution_count": 42,
   "metadata": {},
   "outputs": [],
   "source": [
    "# Select the Event\n",
    "# will be used to determine the url to scrape\n",
    "\n",
    "#Event = \"&Event=21\" #girl 400\n",
    "#Event_file = 'girl400'\n",
    "#Event = \"&Event=3\"   #boy 400\n",
    "#Event_file = 'boy400'\n",
    "\n",
    "#Event = \"&Event=53\" #girl 1600\n",
    "#Event_file = 'boy1600'\n",
    "Event = \"&Event=52\" #boy 1600\n",
    "Event_file = 'boy1600'\n",
    "\n",
    "#Event = \"&Event=36\"  #girl Triple Jump\n",
    "#Event_file = 'girlTripleJump'"
   ]
  },
  {
   "cell_type": "code",
   "execution_count": 39,
   "metadata": {},
   "outputs": [],
   "source": [
    "# page number ranges each year to pull data\n",
    "# pulls data from all districts and subdistricts (easier to pull duplicates and remove later)\n",
    "# will be used to determine the url to scrape\n",
    "\n",
    "district_ranges = ([[12173,12236],\n",
    "                   [19810,19875],\n",
    "                   [30600,30666],\n",
    "                   [34898,34960],\n",
    "                   [45786,45857],\n",
    "                   [62303,62378],\n",
    "                   [73261,73336],\n",
    "                   [82437,82508],\n",
    "                   [91690,91760]])"
   ]
  },
  {
   "cell_type": "code",
   "execution_count": 40,
   "metadata": {},
   "outputs": [],
   "source": [
    "# loop through the HTML pages for each district (and subdistricts) and\n",
    "# pull the athlete names, school, etc.\n",
    "\n",
    "# it's easier to loop districts and subdistricts but this does produce duplicate\n",
    "# data which is removed later\n",
    "\n",
    "def read_div_year(Div,Div_id,Event):\n",
    "    id_key_string =     \"../Athlete.aspx?AID=\"\n",
    "    school_key_string = \"../School.aspx?SchoolID=\"\n",
    "\n",
    "    athlete_list_url=\"https://www.athletic.net/TrackAndField/Division/Event.aspx?DivID=\"+Div_id+Event\n",
    "\n",
    "    response = requests.get(athlete_list_url)\n",
    "    page = response.text\n",
    "    soup = BeautifulSoup(page,\"lxml\")\n",
    "    \n",
    "    cols = ['ID','Name','School_ID','School','Division']\n",
    "    athlete_list = pd.DataFrame(columns=cols)\n",
    "\n",
    "    tables=soup.find_all(\"table\")\n",
    "     \n",
    "    for i in tables:\n",
    "        for row in i:\n",
    "            try:\n",
    "                str_row = str(row)\n",
    "                id_index = str_row.find(id_key_string)\n",
    "                if id_index != -1:\n",
    "                    # extract the athlete ID\n",
    "                    str_row = str_row[id_index+20:]            \n",
    "                    id_str = str_row[0:8]\n",
    "                    id_str = id_str.replace('\\\"',\"\")\n",
    "                    id_str = id_str.replace('>','')\n",
    "                    #ID = int(id_str)\n",
    "                    # extract the athlete Name\n",
    "                    name_index = str_row.find(\">\") + 1\n",
    "                    str_row = str_row[name_index:]\n",
    "                    name_index = str_row.find(\"<\")\n",
    "                    Name = str_row[0:name_index] # save this data\n",
    "                    # extract the athlete school\n",
    "                    school_index = str_row.find(school_key_string)\n",
    "                    str_row = str_row[school_index+24:]\n",
    "                    school_index = str_row.find('\\\">')\n",
    "                    school_id = int(str_row[0:school_index]) # save this data\n",
    "                    str_row = str_row[school_index+2:]\n",
    "                    school_index = str_row.find(\"<\")\n",
    "                    school_name = str_row[0:school_index] #save this data\n",
    "                    if id_str.isdigit():\n",
    "                        ID = int(id_str)\n",
    "                        athlete_list = athlete_list.append({'ID': ID, 'Name': Name, 'School_ID': school_id, 'School': school_name, 'Division': Div}, ignore_index=True)\n",
    "            except ValueError as ve:\n",
    "                print(f'Encountered error {ve} for athlete')\n",
    "                print(Name)\n",
    "    athlete_list = athlete_list.set_index(['ID'])\n",
    "    return athlete_list\n"
   ]
  },
  {
   "cell_type": "code",
   "execution_count": null,
   "metadata": {},
   "outputs": [
    {
     "name": "stdout",
     "output_type": "stream",
     "text": [
      "starting new year 12173 12236\n"
     ]
    }
   ],
   "source": [
    "#loop through ranges of district data for each year\n",
    "# Create a long list of athletes doing this Event\n",
    "\n",
    "all_athlete_list = pd.DataFrame()\n",
    "for dist in district_ranges:\n",
    "    start = dist[0]\n",
    "    end = dist[1]\n",
    "    print(\"starting new year\",start,end)\n",
    "\n",
    "    for d in range(start,end):\n",
    "        new_list = read_div_year(0,str(d),Event)\n",
    "        all_athlete_list = all_athlete_list.append(new_list)"
   ]
  },
  {
   "cell_type": "code",
   "execution_count": 29,
   "metadata": {},
   "outputs": [
    {
     "data": {
      "text/plain": [
       "(4371, 4)"
      ]
     },
     "execution_count": 29,
     "metadata": {},
     "output_type": "execute_result"
    }
   ],
   "source": [
    "# remove duplicate athletes in the list\n",
    "all_athlete_list.drop_duplicates(inplace=True)\n",
    "all_athlete_list.shape"
   ]
  },
  {
   "cell_type": "code",
   "execution_count": 30,
   "metadata": {},
   "outputs": [
    {
     "data": {
      "text/html": [
       "<div>\n",
       "<style scoped>\n",
       "    .dataframe tbody tr th:only-of-type {\n",
       "        vertical-align: middle;\n",
       "    }\n",
       "\n",
       "    .dataframe tbody tr th {\n",
       "        vertical-align: top;\n",
       "    }\n",
       "\n",
       "    .dataframe thead th {\n",
       "        text-align: right;\n",
       "    }\n",
       "</style>\n",
       "<table border=\"1\" class=\"dataframe\">\n",
       "  <thead>\n",
       "    <tr style=\"text-align: right;\">\n",
       "      <th></th>\n",
       "      <th>Name</th>\n",
       "      <th>School_ID</th>\n",
       "      <th>School</th>\n",
       "      <th>Division</th>\n",
       "    </tr>\n",
       "    <tr>\n",
       "      <th>ID</th>\n",
       "      <th></th>\n",
       "      <th></th>\n",
       "      <th></th>\n",
       "      <th></th>\n",
       "    </tr>\n",
       "  </thead>\n",
       "  <tbody>\n",
       "    <tr>\n",
       "      <th>216723</th>\n",
       "      <td>Katharine Lotze</td>\n",
       "      <td>377</td>\n",
       "      <td>Kiona-Benton</td>\n",
       "      <td>0</td>\n",
       "    </tr>\n",
       "    <tr>\n",
       "      <th>187860</th>\n",
       "      <td>Liz Cobb</td>\n",
       "      <td>387</td>\n",
       "      <td>Chewelah</td>\n",
       "      <td>0</td>\n",
       "    </tr>\n",
       "    <tr>\n",
       "      <th>359942</th>\n",
       "      <td>Lexi Petersen</td>\n",
       "      <td>312</td>\n",
       "      <td>Seattle Christian</td>\n",
       "      <td>0</td>\n",
       "    </tr>\n",
       "    <tr>\n",
       "      <th>334500</th>\n",
       "      <td>MacKenzie Altig</td>\n",
       "      <td>301</td>\n",
       "      <td>Bellevue Christian</td>\n",
       "      <td>0</td>\n",
       "    </tr>\n",
       "    <tr>\n",
       "      <th>157130</th>\n",
       "      <td>Claire Boutillier</td>\n",
       "      <td>378</td>\n",
       "      <td>Naches Valley</td>\n",
       "      <td>0</td>\n",
       "    </tr>\n",
       "  </tbody>\n",
       "</table>\n",
       "</div>"
      ],
      "text/plain": [
       "                     Name School_ID              School Division\n",
       "ID                                                              \n",
       "216723    Katharine Lotze       377        Kiona-Benton        0\n",
       "187860           Liz Cobb       387            Chewelah        0\n",
       "359942      Lexi Petersen       312   Seattle Christian        0\n",
       "334500    MacKenzie Altig       301  Bellevue Christian        0\n",
       "157130  Claire Boutillier       378       Naches Valley        0"
      ]
     },
     "execution_count": 30,
     "metadata": {},
     "output_type": "execute_result"
    }
   ],
   "source": [
    "all_athlete_list.head()"
   ]
  },
  {
   "cell_type": "markdown",
   "metadata": {},
   "source": [
    "Correlate the district number to the athlete"
   ]
  },
  {
   "cell_type": "code",
   "execution_count": 31,
   "metadata": {
    "scrolled": false
   },
   "outputs": [
    {
     "name": "stderr",
     "output_type": "stream",
     "text": [
      "/anaconda3/lib/python3.6/site-packages/ipykernel_launcher.py:12: SettingWithCopyWarning: \n",
      "A value is trying to be set on a copy of a slice from a DataFrame\n",
      "\n",
      "See the caveats in the documentation: http://pandas.pydata.org/pandas-docs/stable/indexing.html#indexing-view-versus-copy\n",
      "  if sys.path[0] == '':\n",
      "/anaconda3/lib/python3.6/site-packages/pandas/core/indexing.py:189: SettingWithCopyWarning: \n",
      "A value is trying to be set on a copy of a slice from a DataFrame\n",
      "\n",
      "See the caveats in the documentation: http://pandas.pydata.org/pandas-docs/stable/indexing.html#indexing-view-versus-copy\n",
      "  self._setitem_with_indexer(indexer, value)\n"
     ]
    }
   ],
   "source": [
    "# read file with schools for each district\n",
    "district_list = pd.read_csv('../WA_athletic_districts1.csv')\n",
    "\n",
    "all_athlete_list['District'] = np.nan  # for easier filtering out of unfound schools\n",
    "\n",
    "for index, athlete in all_athlete_list.iterrows():\n",
    "    School = athlete['School']\n",
    "    \n",
    "    for district in district_list: \n",
    "        for item in district_list[district]:\n",
    "            if item == School:\n",
    "                all_athlete_list.District[index] = district\n"
   ]
  },
  {
   "cell_type": "code",
   "execution_count": 32,
   "metadata": {},
   "outputs": [
    {
     "data": {
      "text/html": [
       "<div>\n",
       "<style scoped>\n",
       "    .dataframe tbody tr th:only-of-type {\n",
       "        vertical-align: middle;\n",
       "    }\n",
       "\n",
       "    .dataframe tbody tr th {\n",
       "        vertical-align: top;\n",
       "    }\n",
       "\n",
       "    .dataframe thead th {\n",
       "        text-align: right;\n",
       "    }\n",
       "</style>\n",
       "<table border=\"1\" class=\"dataframe\">\n",
       "  <thead>\n",
       "    <tr style=\"text-align: right;\">\n",
       "      <th></th>\n",
       "      <th>Name</th>\n",
       "      <th>School_ID</th>\n",
       "      <th>School</th>\n",
       "      <th>Division</th>\n",
       "      <th>District</th>\n",
       "    </tr>\n",
       "    <tr>\n",
       "      <th>ID</th>\n",
       "      <th></th>\n",
       "      <th></th>\n",
       "      <th></th>\n",
       "      <th></th>\n",
       "      <th></th>\n",
       "    </tr>\n",
       "  </thead>\n",
       "  <tbody>\n",
       "    <tr>\n",
       "      <th>216723</th>\n",
       "      <td>Katharine Lotze</td>\n",
       "      <td>377</td>\n",
       "      <td>Kiona-Benton</td>\n",
       "      <td>0</td>\n",
       "      <td>District 5</td>\n",
       "    </tr>\n",
       "    <tr>\n",
       "      <th>187860</th>\n",
       "      <td>Liz Cobb</td>\n",
       "      <td>387</td>\n",
       "      <td>Chewelah</td>\n",
       "      <td>0</td>\n",
       "      <td>NaN</td>\n",
       "    </tr>\n",
       "    <tr>\n",
       "      <th>359942</th>\n",
       "      <td>Lexi Petersen</td>\n",
       "      <td>312</td>\n",
       "      <td>Seattle Christian</td>\n",
       "      <td>0</td>\n",
       "      <td>District 3</td>\n",
       "    </tr>\n",
       "    <tr>\n",
       "      <th>334500</th>\n",
       "      <td>MacKenzie Altig</td>\n",
       "      <td>301</td>\n",
       "      <td>Bellevue Christian</td>\n",
       "      <td>0</td>\n",
       "      <td>District 3</td>\n",
       "    </tr>\n",
       "    <tr>\n",
       "      <th>157130</th>\n",
       "      <td>Claire Boutillier</td>\n",
       "      <td>378</td>\n",
       "      <td>Naches Valley</td>\n",
       "      <td>0</td>\n",
       "      <td>District 5</td>\n",
       "    </tr>\n",
       "  </tbody>\n",
       "</table>\n",
       "</div>"
      ],
      "text/plain": [
       "                     Name School_ID              School Division    District\n",
       "ID                                                                          \n",
       "216723    Katharine Lotze       377        Kiona-Benton        0  District 5\n",
       "187860           Liz Cobb       387            Chewelah        0         NaN\n",
       "359942      Lexi Petersen       312   Seattle Christian        0  District 3\n",
       "334500    MacKenzie Altig       301  Bellevue Christian        0  District 3\n",
       "157130  Claire Boutillier       378       Naches Valley        0  District 5"
      ]
     },
     "execution_count": 32,
     "metadata": {},
     "output_type": "execute_result"
    }
   ],
   "source": [
    "all_athlete_list.head()"
   ]
  },
  {
   "cell_type": "code",
   "execution_count": 33,
   "metadata": {},
   "outputs": [
    {
     "name": "stdout",
     "output_type": "stream",
     "text": [
      "number of athletes  (4371, 5)\n",
      "Unique Schools  (275,)\n"
     ]
    }
   ],
   "source": [
    "# How many unique schools are on the list\n",
    "print(\"number of athletes \",all_athlete_list.shape)\n",
    "print(\"Unique Schools \",all_athlete_list['School'].drop_duplicates().shape)"
   ]
  },
  {
   "cell_type": "code",
   "execution_count": 34,
   "metadata": {},
   "outputs": [
    {
     "name": "stdout",
     "output_type": "stream",
     "text": [
      "number of athletes before removing incompletes  (4371, 5)\n",
      "number of athletes after removing incompletes  (3587, 5)\n"
     ]
    }
   ],
   "source": [
    "# Remove rows with incomplete school information\n",
    "print(\"number of athletes before removing incompletes \",all_athlete_list.shape)\n",
    "print(\"number of athletes after removing incompletes \",all_athlete_list.dropna().shape)\n",
    "\n",
    "all_athlete_list.dropna(inplace=True)"
   ]
  },
  {
   "cell_type": "code",
   "execution_count": 35,
   "metadata": {},
   "outputs": [],
   "source": [
    "# write to file\n",
    "all_athlete_list.to_csv('../athlete_list_'+Event_file+'.csv')"
   ]
  },
  {
   "cell_type": "code",
   "execution_count": null,
   "metadata": {},
   "outputs": [],
   "source": []
  }
 ],
 "metadata": {
  "kernelspec": {
   "display_name": "Python 3",
   "language": "python",
   "name": "python3"
  },
  "language_info": {
   "codemirror_mode": {
    "name": "ipython",
    "version": 3
   },
   "file_extension": ".py",
   "mimetype": "text/x-python",
   "name": "python",
   "nbconvert_exporter": "python",
   "pygments_lexer": "ipython3",
   "version": "3.6.5"
  }
 },
 "nbformat": 4,
 "nbformat_minor": 2
}
