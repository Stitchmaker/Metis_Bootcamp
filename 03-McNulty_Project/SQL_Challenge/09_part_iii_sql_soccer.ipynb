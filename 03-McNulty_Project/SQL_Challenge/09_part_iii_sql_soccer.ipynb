{
 "cells": [
  {
   "cell_type": "code",
   "execution_count": 1,
   "metadata": {
    "ExecuteTime": {
     "end_time": "2018-11-02T00:12:31.226956Z",
     "start_time": "2018-11-02T00:12:30.606163Z"
    }
   },
   "outputs": [],
   "source": [
    "import sqlite3\n",
    "import pandas as pd"
   ]
  },
  {
   "cell_type": "code",
   "execution_count": 2,
   "metadata": {
    "ExecuteTime": {
     "end_time": "2018-11-02T00:12:31.376269Z",
     "start_time": "2018-11-02T00:12:31.373534Z"
    }
   },
   "outputs": [],
   "source": [
    "conn = sqlite3.connect(\"database.sqlite\")"
   ]
  },
  {
   "cell_type": "code",
   "execution_count": 3,
   "metadata": {
    "ExecuteTime": {
     "end_time": "2018-11-02T00:12:35.136799Z",
     "start_time": "2018-11-02T00:12:35.132956Z"
    }
   },
   "outputs": [
    {
     "name": "stdout",
     "output_type": "stream",
     "text": [
      "[]\n"
     ]
    }
   ],
   "source": [
    "# show existing tables\n",
    "cursor = conn.cursor()\n",
    "cursor.execute(\"SELECT name FROM sqlite_master WHERE type='table';\")\n",
    "results = cursor.fetchall()\n",
    "print(results)"
   ]
  },
  {
   "cell_type": "markdown",
   "metadata": {},
   "source": [
    "### 1. Which team scored the most points when playing at home?"
   ]
  },
  {
   "cell_type": "code",
   "execution_count": 8,
   "metadata": {},
   "outputs": [
    {
     "name": "stdout",
     "output_type": "stream",
     "text": [
      "[(1, 1, 1, '2008/2009', 1, '2008-08-17 00:00:00', 492473, 9987, 9993, 1, 1, None, None, None, None, None, None, None, None, None, None, None, None, None, None, None, None, None, None, None, None, None, None, None, None, None, None, None, None, None, None, None, None, None, None, None, None, None, None, None, None, None, None, None, None, None, None, None, None, None, None, None, None, None, None, None, None, None, None, None, None, None, None, None, None, None, None, None, None, None, None, None, None, None, None, 1.73, 3.4, 5, 1.75, 3.35, 4.2, 1.85, 3.2, 3.5, 1.8, 3.3, 3.75, None, None, None, 1.7, 3.3, 4.33, 1.9, 3.3, 4, 1.65, 3.4, 4.5, 1.78, 3.25, 4, 1.73, 3.4, 4.2)]\n"
     ]
    },
    {
     "data": {
      "text/plain": [
       "(('id', None, None, None, None, None, None),\n",
       " ('country_id', None, None, None, None, None, None),\n",
       " ('league_id', None, None, None, None, None, None),\n",
       " ('season', None, None, None, None, None, None),\n",
       " ('stage', None, None, None, None, None, None),\n",
       " ('date', None, None, None, None, None, None),\n",
       " ('match_api_id', None, None, None, None, None, None),\n",
       " ('home_team_api_id', None, None, None, None, None, None),\n",
       " ('away_team_api_id', None, None, None, None, None, None),\n",
       " ('home_team_goal', None, None, None, None, None, None),\n",
       " ('away_team_goal', None, None, None, None, None, None),\n",
       " ('home_player_X1', None, None, None, None, None, None),\n",
       " ('home_player_X2', None, None, None, None, None, None),\n",
       " ('home_player_X3', None, None, None, None, None, None),\n",
       " ('home_player_X4', None, None, None, None, None, None),\n",
       " ('home_player_X5', None, None, None, None, None, None),\n",
       " ('home_player_X6', None, None, None, None, None, None),\n",
       " ('home_player_X7', None, None, None, None, None, None),\n",
       " ('home_player_X8', None, None, None, None, None, None),\n",
       " ('home_player_X9', None, None, None, None, None, None),\n",
       " ('home_player_X10', None, None, None, None, None, None),\n",
       " ('home_player_X11', None, None, None, None, None, None),\n",
       " ('away_player_X1', None, None, None, None, None, None),\n",
       " ('away_player_X2', None, None, None, None, None, None),\n",
       " ('away_player_X3', None, None, None, None, None, None),\n",
       " ('away_player_X4', None, None, None, None, None, None),\n",
       " ('away_player_X5', None, None, None, None, None, None),\n",
       " ('away_player_X6', None, None, None, None, None, None),\n",
       " ('away_player_X7', None, None, None, None, None, None),\n",
       " ('away_player_X8', None, None, None, None, None, None),\n",
       " ('away_player_X9', None, None, None, None, None, None),\n",
       " ('away_player_X10', None, None, None, None, None, None),\n",
       " ('away_player_X11', None, None, None, None, None, None),\n",
       " ('home_player_Y1', None, None, None, None, None, None),\n",
       " ('home_player_Y2', None, None, None, None, None, None),\n",
       " ('home_player_Y3', None, None, None, None, None, None),\n",
       " ('home_player_Y4', None, None, None, None, None, None),\n",
       " ('home_player_Y5', None, None, None, None, None, None),\n",
       " ('home_player_Y6', None, None, None, None, None, None),\n",
       " ('home_player_Y7', None, None, None, None, None, None),\n",
       " ('home_player_Y8', None, None, None, None, None, None),\n",
       " ('home_player_Y9', None, None, None, None, None, None),\n",
       " ('home_player_Y10', None, None, None, None, None, None),\n",
       " ('home_player_Y11', None, None, None, None, None, None),\n",
       " ('away_player_Y1', None, None, None, None, None, None),\n",
       " ('away_player_Y2', None, None, None, None, None, None),\n",
       " ('away_player_Y3', None, None, None, None, None, None),\n",
       " ('away_player_Y4', None, None, None, None, None, None),\n",
       " ('away_player_Y5', None, None, None, None, None, None),\n",
       " ('away_player_Y6', None, None, None, None, None, None),\n",
       " ('away_player_Y7', None, None, None, None, None, None),\n",
       " ('away_player_Y8', None, None, None, None, None, None),\n",
       " ('away_player_Y9', None, None, None, None, None, None),\n",
       " ('away_player_Y10', None, None, None, None, None, None),\n",
       " ('away_player_Y11', None, None, None, None, None, None),\n",
       " ('home_player_1', None, None, None, None, None, None),\n",
       " ('home_player_2', None, None, None, None, None, None),\n",
       " ('home_player_3', None, None, None, None, None, None),\n",
       " ('home_player_4', None, None, None, None, None, None),\n",
       " ('home_player_5', None, None, None, None, None, None),\n",
       " ('home_player_6', None, None, None, None, None, None),\n",
       " ('home_player_7', None, None, None, None, None, None),\n",
       " ('home_player_8', None, None, None, None, None, None),\n",
       " ('home_player_9', None, None, None, None, None, None),\n",
       " ('home_player_10', None, None, None, None, None, None),\n",
       " ('home_player_11', None, None, None, None, None, None),\n",
       " ('away_player_1', None, None, None, None, None, None),\n",
       " ('away_player_2', None, None, None, None, None, None),\n",
       " ('away_player_3', None, None, None, None, None, None),\n",
       " ('away_player_4', None, None, None, None, None, None),\n",
       " ('away_player_5', None, None, None, None, None, None),\n",
       " ('away_player_6', None, None, None, None, None, None),\n",
       " ('away_player_7', None, None, None, None, None, None),\n",
       " ('away_player_8', None, None, None, None, None, None),\n",
       " ('away_player_9', None, None, None, None, None, None),\n",
       " ('away_player_10', None, None, None, None, None, None),\n",
       " ('away_player_11', None, None, None, None, None, None),\n",
       " ('goal', None, None, None, None, None, None),\n",
       " ('shoton', None, None, None, None, None, None),\n",
       " ('shotoff', None, None, None, None, None, None),\n",
       " ('foulcommit', None, None, None, None, None, None),\n",
       " ('card', None, None, None, None, None, None),\n",
       " ('cross', None, None, None, None, None, None),\n",
       " ('corner', None, None, None, None, None, None),\n",
       " ('possession', None, None, None, None, None, None),\n",
       " ('B365H', None, None, None, None, None, None),\n",
       " ('B365D', None, None, None, None, None, None),\n",
       " ('B365A', None, None, None, None, None, None),\n",
       " ('BWH', None, None, None, None, None, None),\n",
       " ('BWD', None, None, None, None, None, None),\n",
       " ('BWA', None, None, None, None, None, None),\n",
       " ('IWH', None, None, None, None, None, None),\n",
       " ('IWD', None, None, None, None, None, None),\n",
       " ('IWA', None, None, None, None, None, None),\n",
       " ('LBH', None, None, None, None, None, None),\n",
       " ('LBD', None, None, None, None, None, None),\n",
       " ('LBA', None, None, None, None, None, None),\n",
       " ('PSH', None, None, None, None, None, None),\n",
       " ('PSD', None, None, None, None, None, None),\n",
       " ('PSA', None, None, None, None, None, None),\n",
       " ('WHH', None, None, None, None, None, None),\n",
       " ('WHD', None, None, None, None, None, None),\n",
       " ('WHA', None, None, None, None, None, None),\n",
       " ('SJH', None, None, None, None, None, None),\n",
       " ('SJD', None, None, None, None, None, None),\n",
       " ('SJA', None, None, None, None, None, None),\n",
       " ('VCH', None, None, None, None, None, None),\n",
       " ('VCD', None, None, None, None, None, None),\n",
       " ('VCA', None, None, None, None, None, None),\n",
       " ('GBH', None, None, None, None, None, None),\n",
       " ('GBD', None, None, None, None, None, None),\n",
       " ('GBA', None, None, None, None, None, None),\n",
       " ('BSH', None, None, None, None, None, None),\n",
       " ('BSD', None, None, None, None, None, None),\n",
       " ('BSA', None, None, None, None, None, None))"
      ]
     },
     "execution_count": 8,
     "metadata": {},
     "output_type": "execute_result"
    }
   ],
   "source": [
    "cursor.execute(\"SELECT * from Match LIMIT 1;\")\n",
    "results = cursor.fetchall()\n",
    "print(results)\n",
    "cursor.description"
   ]
  },
  {
   "cell_type": "code",
   "execution_count": 9,
   "metadata": {},
   "outputs": [
    {
     "name": "stdout",
     "output_type": "stream",
     "text": [
      "[(1, 9987, 673, 'KRC Genk', 'GEN')]\n"
     ]
    },
    {
     "data": {
      "text/plain": [
       "(('id', None, None, None, None, None, None),\n",
       " ('team_api_id', None, None, None, None, None, None),\n",
       " ('team_fifa_api_id', None, None, None, None, None, None),\n",
       " ('team_long_name', None, None, None, None, None, None),\n",
       " ('team_short_name', None, None, None, None, None, None))"
      ]
     },
     "execution_count": 9,
     "metadata": {},
     "output_type": "execute_result"
    }
   ],
   "source": [
    "cursor.execute(\"SELECT * from Team LIMIT 1;\")\n",
    "results = cursor.fetchall()\n",
    "print(results)\n",
    "cursor.description"
   ]
  },
  {
   "cell_type": "code",
   "execution_count": 12,
   "metadata": {},
   "outputs": [
    {
     "name": "stdout",
     "output_type": "stream",
     "text": [
      "[('PSV', 10)]\n"
     ]
    }
   ],
   "source": [
    "cursor.execute(\"SELECT team_long_name, max(home_team_goal) AS max_score \\\n",
    "                FROM Match \\\n",
    "                JOIN Team ON Team.team_api_id = Match.home_team_api_id \\\n",
    "                ORDER BY max_score \\\n",
    "                LIMIT 1;\")\n",
    "results = cursor.fetchall()\n",
    "print(results)"
   ]
  },
  {
   "cell_type": "markdown",
   "metadata": {},
   "source": [
    "### 2.  Did this team also score the most points when playing away?"
   ]
  },
  {
   "cell_type": "code",
   "execution_count": 14,
   "metadata": {},
   "outputs": [
    {
     "name": "stdout",
     "output_type": "stream",
     "text": [
      "[('Paris Saint-Germain', 9)]\n"
     ]
    }
   ],
   "source": [
    "cursor.execute(\"SELECT team_long_name, max(away_team_goal) AS max_score \\\n",
    "                FROM Match \\\n",
    "                JOIN Team ON Team.team_api_id = Match.away_team_api_id \\\n",
    "                ORDER BY max_score \\\n",
    "                LIMIT 1;\")\n",
    "results = cursor.fetchall()\n",
    "print(results)"
   ]
  },
  {
   "cell_type": "markdown",
   "metadata": {},
   "source": [
    "### 3.  How many matches resulted in a tie?"
   ]
  },
  {
   "cell_type": "code",
   "execution_count": 31,
   "metadata": {},
   "outputs": [
    {
     "name": "stdout",
     "output_type": "stream",
     "text": [
      "[(6596,)]\n"
     ]
    }
   ],
   "source": [
    "cursor.execute(\"SELECT COUNT(id) AS games \\\n",
    "                FROM Match \\\n",
    "                WHERE away_team_goal = home_team_goal;\")\n",
    "results = cursor.fetchall()\n",
    "print(results)"
   ]
  },
  {
   "cell_type": "markdown",
   "metadata": {},
   "source": [
    "### 4.  How many players have Smith for their last name? How many have 'smith' anywhere in their name?"
   ]
  },
  {
   "cell_type": "code",
   "execution_count": 32,
   "metadata": {},
   "outputs": [
    {
     "name": "stdout",
     "output_type": "stream",
     "text": [
      "[(1, 505942, 'Aaron Appindangoye', 218353, '1992-02-29 00:00:00', 182.88, 187)]\n"
     ]
    },
    {
     "data": {
      "text/plain": [
       "(('id', None, None, None, None, None, None),\n",
       " ('player_api_id', None, None, None, None, None, None),\n",
       " ('player_name', None, None, None, None, None, None),\n",
       " ('player_fifa_api_id', None, None, None, None, None, None),\n",
       " ('birthday', None, None, None, None, None, None),\n",
       " ('height', None, None, None, None, None, None),\n",
       " ('weight', None, None, None, None, None, None))"
      ]
     },
     "execution_count": 32,
     "metadata": {},
     "output_type": "execute_result"
    }
   ],
   "source": [
    "cursor.execute(\"SELECT * from Player LIMIT 1;\")\n",
    "results = cursor.fetchall()\n",
    "print(results)\n",
    "cursor.description"
   ]
  },
  {
   "cell_type": "code",
   "execution_count": 39,
   "metadata": {},
   "outputs": [
    {
     "name": "stdout",
     "output_type": "stream",
     "text": [
      "[(15,)]\n"
     ]
    }
   ],
   "source": [
    "cursor.execute(\"SELECT COUNT(player_name) \\\n",
    "                FROM Player \\\n",
    "                WHERE player_name LIKE '% Smith';\")\n",
    "results = cursor.fetchall()\n",
    "print(results)"
   ]
  },
  {
   "cell_type": "code",
   "execution_count": 40,
   "metadata": {},
   "outputs": [
    {
     "name": "stdout",
     "output_type": "stream",
     "text": [
      "[(18,)]\n"
     ]
    }
   ],
   "source": [
    "cursor.execute(\"SELECT COUNT(player_name) \\\n",
    "                FROM Player \\\n",
    "                WHERE player_name LIKE '%smith%';\")\n",
    "results = cursor.fetchall()\n",
    "print(results)"
   ]
  },
  {
   "cell_type": "markdown",
   "metadata": {},
   "source": [
    "### 5.  What was the median tie score? Use the value determined in the previous question for the number of tie games. Hint: PostgreSQL does not have a median function. Instead, think about the steps required to calculate a median and use the WITH command to store stepwise results as a table and then operate on these results."
   ]
  },
  {
   "cell_type": "code",
   "execution_count": 44,
   "metadata": {},
   "outputs": [
    {
     "name": "stdout",
     "output_type": "stream",
     "text": [
      "[(1,)]\n"
     ]
    }
   ],
   "source": [
    "\n",
    "cursor.execute(\"SELECT away_team_goal \\\n",
    "                FROM Match \\\n",
    "                WHERE away_team_goal = home_team_goal \\\n",
    "                ORDER BY away_team_goal \\\n",
    "                LIMIT 1 OFFSET 3275;\")\n",
    "results = cursor.fetchall()\n",
    "print(results)"
   ]
  },
  {
   "cell_type": "markdown",
   "metadata": {},
   "source": [
    "### 6.  What percentage of players prefer their left or right foot? Hint: Calculate either the right or left foot, whichever is easier based on how you setup the problem."
   ]
  },
  {
   "cell_type": "code",
   "execution_count": 45,
   "metadata": {},
   "outputs": [
    {
     "name": "stdout",
     "output_type": "stream",
     "text": [
      "[(1, 218353, 505942, '2016-02-18 00:00:00', 67, 71, 'right', 'medium', 'medium', 49, 44, 71, 61, 44, 51, 45, 39, 64, 49, 60, 64, 59, 47, 65, 55, 58, 54, 76, 35, 71, 70, 45, 54, 48, 65, 69, 69, 6, 11, 10, 8, 8)]\n"
     ]
    },
    {
     "data": {
      "text/plain": [
       "(('id', None, None, None, None, None, None),\n",
       " ('player_fifa_api_id', None, None, None, None, None, None),\n",
       " ('player_api_id', None, None, None, None, None, None),\n",
       " ('date', None, None, None, None, None, None),\n",
       " ('overall_rating', None, None, None, None, None, None),\n",
       " ('potential', None, None, None, None, None, None),\n",
       " ('preferred_foot', None, None, None, None, None, None),\n",
       " ('attacking_work_rate', None, None, None, None, None, None),\n",
       " ('defensive_work_rate', None, None, None, None, None, None),\n",
       " ('crossing', None, None, None, None, None, None),\n",
       " ('finishing', None, None, None, None, None, None),\n",
       " ('heading_accuracy', None, None, None, None, None, None),\n",
       " ('short_passing', None, None, None, None, None, None),\n",
       " ('volleys', None, None, None, None, None, None),\n",
       " ('dribbling', None, None, None, None, None, None),\n",
       " ('curve', None, None, None, None, None, None),\n",
       " ('free_kick_accuracy', None, None, None, None, None, None),\n",
       " ('long_passing', None, None, None, None, None, None),\n",
       " ('ball_control', None, None, None, None, None, None),\n",
       " ('acceleration', None, None, None, None, None, None),\n",
       " ('sprint_speed', None, None, None, None, None, None),\n",
       " ('agility', None, None, None, None, None, None),\n",
       " ('reactions', None, None, None, None, None, None),\n",
       " ('balance', None, None, None, None, None, None),\n",
       " ('shot_power', None, None, None, None, None, None),\n",
       " ('jumping', None, None, None, None, None, None),\n",
       " ('stamina', None, None, None, None, None, None),\n",
       " ('strength', None, None, None, None, None, None),\n",
       " ('long_shots', None, None, None, None, None, None),\n",
       " ('aggression', None, None, None, None, None, None),\n",
       " ('interceptions', None, None, None, None, None, None),\n",
       " ('positioning', None, None, None, None, None, None),\n",
       " ('vision', None, None, None, None, None, None),\n",
       " ('penalties', None, None, None, None, None, None),\n",
       " ('marking', None, None, None, None, None, None),\n",
       " ('standing_tackle', None, None, None, None, None, None),\n",
       " ('sliding_tackle', None, None, None, None, None, None),\n",
       " ('gk_diving', None, None, None, None, None, None),\n",
       " ('gk_handling', None, None, None, None, None, None),\n",
       " ('gk_kicking', None, None, None, None, None, None),\n",
       " ('gk_positioning', None, None, None, None, None, None),\n",
       " ('gk_reflexes', None, None, None, None, None, None))"
      ]
     },
     "execution_count": 45,
     "metadata": {},
     "output_type": "execute_result"
    }
   ],
   "source": [
    "cursor.execute(\"SELECT * from Player_Attributes LIMIT 1;\")\n",
    "results = cursor.fetchall()\n",
    "print(results)\n",
    "cursor.description"
   ]
  },
  {
   "cell_type": "code",
   "execution_count": 75,
   "metadata": {},
   "outputs": [
    {
     "name": "stdout",
     "output_type": "stream",
     "text": [
      "Players that prefer left foot  24.43%\n",
      "Players that prefer right foot 75.57%\n"
     ]
    }
   ],
   "source": [
    "cursor.execute(\"SELECT Count(preferred_foot) \\\n",
    "                FROM Player_Attributes \\\n",
    "                WHERE preferred_foot = 'left';\")\n",
    "left = cursor.fetchall()[0]\n",
    "cursor.execute(\"SELECT Count(preferred_foot) \\\n",
    "                FROM Player_Attributes \\\n",
    "                WHERE preferred_foot = 'right';\")\n",
    "right = cursor.fetchall()[0]\n",
    "cursor.execute(\"SELECT Count(id) \\\n",
    "                FROM Player_Attributes \\\n",
    "                WHERE preferred_foot NOT NULL;\")\n",
    "total = cursor.fetchall()[0]\n",
    "print(f\"Players that prefer left foot  {(left[0]/total[0])*100:4.4}%\")\n",
    "print(f\"Players that prefer right foot {(right[0]/total[0])*100:4.4}%\")"
   ]
  },
  {
   "cell_type": "code",
   "execution_count": null,
   "metadata": {},
   "outputs": [],
   "source": []
  }
 ],
 "metadata": {
  "kernelspec": {
   "display_name": "Python 3",
   "language": "python",
   "name": "python3"
  },
  "language_info": {
   "codemirror_mode": {
    "name": "ipython",
    "version": 3
   },
   "file_extension": ".py",
   "mimetype": "text/x-python",
   "name": "python",
   "nbconvert_exporter": "python",
   "pygments_lexer": "ipython3",
   "version": "3.6.5"
  }
 },
 "nbformat": 4,
 "nbformat_minor": 2
}
